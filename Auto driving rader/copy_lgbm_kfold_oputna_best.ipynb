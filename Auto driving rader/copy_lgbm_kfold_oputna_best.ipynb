{
  "cells": [
    {
      "cell_type": "code",
      "execution_count": null,
      "metadata": {
        "id": "V9O0r4WQhzlE",
        "colab": {
          "base_uri": "https://localhost:8080/"
        },
        "outputId": "6cc05142-5706-4b93-a5b0-cb6d4090334b"
      },
      "outputs": [
        {
          "output_type": "stream",
          "name": "stdout",
          "text": [
            "Mounted at /content/drive\n"
          ]
        }
      ],
      "source": [
        "from google.colab import drive\n",
        "drive.mount('/content/drive')"
      ],
      "id": "V9O0r4WQhzlE"
    },
    {
      "cell_type": "code",
      "source": [
        "pip install optuna"
      ],
      "metadata": {
        "id": "_PleiuR7IYjG",
        "colab": {
          "base_uri": "https://localhost:8080/"
        },
        "outputId": "8b5691af-3b38-4558-a19e-01c786b3f706"
      },
      "id": "_PleiuR7IYjG",
      "execution_count": null,
      "outputs": [
        {
          "output_type": "stream",
          "name": "stdout",
          "text": [
            "Looking in indexes: https://pypi.org/simple, https://us-python.pkg.dev/colab-wheels/public/simple/\n",
            "Collecting optuna\n",
            "  Downloading optuna-2.10.1-py3-none-any.whl (308 kB)\n",
            "\u001b[K     |████████████████████████████████| 308 kB 27.7 MB/s \n",
            "\u001b[?25hCollecting alembic\n",
            "  Downloading alembic-1.8.1-py3-none-any.whl (209 kB)\n",
            "\u001b[K     |████████████████████████████████| 209 kB 69.9 MB/s \n",
            "\u001b[?25hCollecting colorlog\n",
            "  Downloading colorlog-6.6.0-py2.py3-none-any.whl (11 kB)\n",
            "Collecting cmaes>=0.8.2\n",
            "  Downloading cmaes-0.8.2-py3-none-any.whl (15 kB)\n",
            "Requirement already satisfied: packaging>=20.0 in /usr/local/lib/python3.7/dist-packages (from optuna) (21.3)\n",
            "Requirement already satisfied: numpy in /usr/local/lib/python3.7/dist-packages (from optuna) (1.21.6)\n",
            "Requirement already satisfied: PyYAML in /usr/local/lib/python3.7/dist-packages (from optuna) (6.0)\n",
            "Requirement already satisfied: sqlalchemy>=1.1.0 in /usr/local/lib/python3.7/dist-packages (from optuna) (1.4.40)\n",
            "Requirement already satisfied: scipy!=1.4.0 in /usr/local/lib/python3.7/dist-packages (from optuna) (1.7.3)\n",
            "Requirement already satisfied: tqdm in /usr/local/lib/python3.7/dist-packages (from optuna) (4.64.0)\n",
            "Collecting cliff\n",
            "  Downloading cliff-3.10.1-py3-none-any.whl (81 kB)\n",
            "\u001b[K     |████████████████████████████████| 81 kB 9.5 MB/s \n",
            "\u001b[?25hRequirement already satisfied: pyparsing!=3.0.5,>=2.0.2 in /usr/local/lib/python3.7/dist-packages (from packaging>=20.0->optuna) (3.0.9)\n",
            "Requirement already satisfied: importlib-metadata in /usr/local/lib/python3.7/dist-packages (from sqlalchemy>=1.1.0->optuna) (4.12.0)\n",
            "Requirement already satisfied: greenlet!=0.4.17 in /usr/local/lib/python3.7/dist-packages (from sqlalchemy>=1.1.0->optuna) (1.1.2)\n",
            "Collecting Mako\n",
            "  Downloading Mako-1.2.1-py3-none-any.whl (78 kB)\n",
            "\u001b[K     |████████████████████████████████| 78 kB 8.0 MB/s \n",
            "\u001b[?25hRequirement already satisfied: importlib-resources in /usr/local/lib/python3.7/dist-packages (from alembic->optuna) (5.9.0)\n",
            "Collecting pbr!=2.1.0,>=2.0.0\n",
            "  Downloading pbr-5.10.0-py2.py3-none-any.whl (112 kB)\n",
            "\u001b[K     |████████████████████████████████| 112 kB 76.5 MB/s \n",
            "\u001b[?25hCollecting cmd2>=1.0.0\n",
            "  Downloading cmd2-2.4.2-py3-none-any.whl (147 kB)\n",
            "\u001b[K     |████████████████████████████████| 147 kB 66.7 MB/s \n",
            "\u001b[?25hCollecting stevedore>=2.0.1\n",
            "  Downloading stevedore-3.5.0-py3-none-any.whl (49 kB)\n",
            "\u001b[K     |████████████████████████████████| 49 kB 7.0 MB/s \n",
            "\u001b[?25hRequirement already satisfied: PrettyTable>=0.7.2 in /usr/local/lib/python3.7/dist-packages (from cliff->optuna) (3.3.0)\n",
            "Collecting autopage>=0.4.0\n",
            "  Downloading autopage-0.5.1-py3-none-any.whl (29 kB)\n",
            "Collecting pyperclip>=1.6\n",
            "  Downloading pyperclip-1.8.2.tar.gz (20 kB)\n",
            "Requirement already satisfied: attrs>=16.3.0 in /usr/local/lib/python3.7/dist-packages (from cmd2>=1.0.0->cliff->optuna) (22.1.0)\n",
            "Requirement already satisfied: wcwidth>=0.1.7 in /usr/local/lib/python3.7/dist-packages (from cmd2>=1.0.0->cliff->optuna) (0.2.5)\n",
            "Requirement already satisfied: typing-extensions in /usr/local/lib/python3.7/dist-packages (from cmd2>=1.0.0->cliff->optuna) (4.1.1)\n",
            "Requirement already satisfied: zipp>=0.5 in /usr/local/lib/python3.7/dist-packages (from importlib-metadata->sqlalchemy>=1.1.0->optuna) (3.8.1)\n",
            "Requirement already satisfied: MarkupSafe>=0.9.2 in /usr/local/lib/python3.7/dist-packages (from Mako->alembic->optuna) (2.0.1)\n",
            "Building wheels for collected packages: pyperclip\n",
            "  Building wheel for pyperclip (setup.py) ... \u001b[?25l\u001b[?25hdone\n",
            "  Created wheel for pyperclip: filename=pyperclip-1.8.2-py3-none-any.whl size=11137 sha256=130352d3f38829f21f7f6ae3f5b16a77ba25eb26606ca39b847766ff67063c2f\n",
            "  Stored in directory: /root/.cache/pip/wheels/9f/18/84/8f69f8b08169c7bae2dde6bd7daf0c19fca8c8e500ee620a28\n",
            "Successfully built pyperclip\n",
            "Installing collected packages: pyperclip, pbr, stevedore, Mako, cmd2, autopage, colorlog, cmaes, cliff, alembic, optuna\n",
            "Successfully installed Mako-1.2.1 alembic-1.8.1 autopage-0.5.1 cliff-3.10.1 cmaes-0.8.2 cmd2-2.4.2 colorlog-6.6.0 optuna-2.10.1 pbr-5.10.0 pyperclip-1.8.2 stevedore-3.5.0\n"
          ]
        }
      ]
    },
    {
      "cell_type": "code",
      "execution_count": null,
      "metadata": {
        "id": "lH1HYHee_XDk"
      },
      "outputs": [],
      "source": [
        "import pandas as pd\n",
        "import numpy as np\n",
        "from sklearn import datasets, ensemble\n",
        "import optuna\n",
        "from lightgbm import LGBMRegressor\n",
        "from tqdm import tqdm\n",
        "\n",
        "from sklearn.model_selection import KFold\n",
        "from sklearn.metrics import make_scorer, mean_squared_error\n",
        "from sklearn.model_selection import train_test_split\n",
        "from sklearn.multioutput import MultiOutputRegressor\n",
        "\n",
        "from sklearn.model_selection import KFold\n",
        "from sklearn.preprocessing import StandardScaler\n",
        "from sklearn.metrics import make_scorer, mean_squared_error\n",
        "from sklearn.decomposition import PCA, KernelPCA"
      ],
      "id": "lH1HYHee_XDk"
    },
    {
      "cell_type": "code",
      "execution_count": null,
      "metadata": {
        "id": "wNm9X0wSies0"
      },
      "outputs": [],
      "source": [
        "path ='/content/drive/MyDrive/Datasets/lg_aimers/lg aimers/'\n",
        "train = pd.read_csv(path + 'train.csv')\n",
        "test = pd.read_csv(path + 'test.csv')\n",
        "sample_submission = pd.read_csv(path + 'sample_submission.csv')\n",
        "y_feature_spec_info = pd.read_csv(path + 'meta/y_feature_spec_info.csv')"
      ],
      "id": "wNm9X0wSies0"
    },
    {
      "cell_type": "code",
      "execution_count": null,
      "metadata": {
        "colab": {
          "base_uri": "https://localhost:8080/"
        },
        "id": "GtE5GEF5_-Hn",
        "outputId": "40cd1f82-ba3c-4185-da13-639973a63063"
      },
      "outputs": [
        {
          "output_type": "execute_result",
          "data": {
            "text/plain": [
              "Index(['ID', 'X_01', 'X_02', 'X_03', 'X_04', 'X_05', 'X_06', 'X_07', 'X_08',\n",
              "       'X_09', 'X_10', 'X_11', 'X_12', 'X_13', 'X_14', 'X_15', 'X_16', 'X_17',\n",
              "       'X_18', 'X_19', 'X_20', 'X_21', 'X_22', 'X_23', 'X_24', 'X_25', 'X_26',\n",
              "       'X_27', 'X_28', 'X_29', 'X_30', 'X_31', 'X_32', 'X_33', 'X_34', 'X_35',\n",
              "       'X_36', 'X_37', 'X_38', 'X_39', 'X_40', 'X_41', 'X_42', 'X_43', 'X_44',\n",
              "       'X_45', 'X_46', 'X_47', 'X_48', 'X_49', 'X_50', 'X_51', 'X_52', 'X_53',\n",
              "       'X_54', 'X_55', 'X_56', 'Y_01', 'Y_02', 'Y_03', 'Y_04', 'Y_05', 'Y_06',\n",
              "       'Y_07', 'Y_08', 'Y_09', 'Y_10', 'Y_11', 'Y_12', 'Y_13', 'Y_14'],\n",
              "      dtype='object')"
            ]
          },
          "metadata": {},
          "execution_count": 10
        }
      ],
      "source": [
        "train.columns"
      ],
      "id": "GtE5GEF5_-Hn"
    },
    {
      "cell_type": "code",
      "source": [
        "train.shape"
      ],
      "metadata": {
        "colab": {
          "base_uri": "https://localhost:8080/"
        },
        "id": "21bo4lACJ8we",
        "outputId": "912f9acb-6fb6-4d01-9a40-8137dd4c0772"
      },
      "id": "21bo4lACJ8we",
      "execution_count": null,
      "outputs": [
        {
          "output_type": "execute_result",
          "data": {
            "text/plain": [
              "(39607, 71)"
            ]
          },
          "metadata": {},
          "execution_count": 11
        }
      ]
    },
    {
      "cell_type": "code",
      "execution_count": null,
      "metadata": {
        "id": "zbytjYWaWOkZ"
      },
      "outputs": [],
      "source": [
        "X = train[['X_01', 'X_02', 'X_03', 'X_05', 'X_06', 'X_07', 'X_08',\n",
        "       'X_09', 'X_12', 'X_14', 'X_15', 'X_16','X_17',\n",
        "       'X_18', 'X_19', 'X_20', 'X_21', 'X_22', 'X_24', 'X_25', 'X_26',\n",
        "       'X_27', 'X_28', 'X_29', 'X_30', 'X_31', 'X_32', 'X_33', 'X_35',\n",
        "       'X_37', 'X_38', 'X_39', 'X_40', 'X_41', 'X_42', 'X_43', 'X_44',\n",
        "       'X_46', 'X_47', 'X_49', 'X_50', 'X_51', 'X_52', 'X_53',\n",
        "       'X_54', 'X_55', 'X_56']]\n",
        "y = train[['Y_01', 'Y_02', 'Y_03', 'Y_04', 'Y_05', 'Y_06', 'Y_07',\n",
        "       'Y_08', 'Y_09', 'Y_10', 'Y_11', 'Y_12', 'Y_13', 'Y_14']]"
      ],
      "id": "zbytjYWaWOkZ"
    },
    {
      "cell_type": "code",
      "execution_count": null,
      "metadata": {
        "id": "4d1ab7c6"
      },
      "outputs": [],
      "source": [
        "#test columns\n",
        "target = test[X.columns] "
      ],
      "id": "4d1ab7c6"
    },
    {
      "cell_type": "code",
      "execution_count": null,
      "metadata": {
        "id": "68f34faf"
      },
      "outputs": [],
      "source": [
        "#evaluation metrics\n",
        "def lg_nrmse(gt, preds):\n",
        "    all_nrmse = []\n",
        "    for idx in range(14): \n",
        "        rmse = mean_squared_error(gt.iloc[:,idx], preds[:,idx], squared = False)\n",
        "        nrmse = rmse / np.mean(np.abs(gt.iloc[:,idx]))\n",
        "        all_nrmse.append(nrmse)\n",
        "    score = 1.2 * np.sum(all_nrmse[:8]) + 1.0 * np.sum(all_nrmse[8:15])\n",
        "    return score"
      ],
      "id": "68f34faf"
    },
    {
      "cell_type": "code",
      "execution_count": null,
      "metadata": {
        "id": "wistAfo-hfCm"
      },
      "outputs": [],
      "source": [
        "def objective_cat(trial):\n",
        "    \"\"\"\n",
        "    Objective function to tune a `CatBoostRegressor` model.\n",
        "    \"\"\"\n",
        "    x_train, x_test, y_train, y_test = train_test_split(X, y, test_size=0.2, random_state=42)\n",
        "\n",
        "\n",
        "    params = {\n",
        "        'objective': 'regression',\n",
        "        'verbose': -1,\n",
        "        'metric': 'mse', \n",
        "        'num_leaves': trial.suggest_int('num_leaves', 2, 1024, step=1, log=True), \n",
        "        'colsample_bytree': trial.suggest_uniform('colsample_bytree', 0.7, 1.0),\n",
        "        'reg_alpha': trial.suggest_uniform('reg_alpha', 0.0, 1.0),\n",
        "        'reg_lambda': trial.suggest_uniform('reg_lambda', 0.0, 10.0),\n",
        "        'max_depth': trial.suggest_int('max_depth',3, 15),\n",
        "        'learning_rate': trial.suggest_loguniform(\"learning_rate\", 1e-8, 1e-2),\n",
        "        'n_estimators': trial.suggest_int('n_estimators', 100, 3000),\n",
        "        'min_child_samples': trial.suggest_int('min_child_samples', 5, 100),\n",
        "        'subsample': trial.suggest_loguniform('subsample', 0.4, 1),\n",
        "        'random_state':42\n",
        "    }\n",
        "\n",
        "\n",
        "    model = MultiOutputRegressor(LGBMRegressor(**params))\n",
        "    model.fit(x_train, y_train)\n",
        "\n",
        "    pred = model.predict(x_test)\n",
        "\n",
        "    rmse = lg_nrmse(y_test, pred)\n",
        "\n",
        "    return rmse\n"
      ],
      "id": "wistAfo-hfCm"
    },
    {
      "cell_type": "code",
      "execution_count": null,
      "metadata": {
        "colab": {
          "base_uri": "https://localhost:8080/"
        },
        "id": "UUGWyZczhe_2",
        "outputId": "d8ea6469-3245-4cab-bacd-16e99cee225f"
      },
      "outputs": [
        {
          "output_type": "stream",
          "name": "stderr",
          "text": [
            "\u001b[32m[I 2022-08-17 11:39:28,448]\u001b[0m A new study created in memory with name: no-name-345f150c-7aab-465b-845e-41df97744c5c\u001b[0m\n",
            "\u001b[32m[I 2022-08-17 11:40:02,907]\u001b[0m Trial 0 finished with value: 2.0013529301992703 and parameters: {'num_leaves': 17, 'colsample_bytree': 0.9852142919229748, 'reg_alpha': 0.7319939418114051, 'reg_lambda': 5.986584841970366, 'max_depth': 5, 'learning_rate': 8.62913219007185e-08, 'n_estimators': 268, 'min_child_samples': 88, 'subsample': 0.6938533737439828}. Best is trial 0 with value: 2.0013529301992703.\u001b[0m\n",
            "\u001b[32m[I 2022-08-17 11:41:09,413]\u001b[0m Trial 1 finished with value: 2.001349360852823 and parameters: {'num_leaves': 152, 'colsample_bytree': 0.7061753482887407, 'reg_alpha': 0.9699098521619943, 'reg_lambda': 8.324426408004218, 'max_depth': 5, 'learning_rate': 1.2329623163659816e-07, 'n_estimators': 632, 'min_child_samples': 34, 'subsample': 0.6469661675743767}. Best is trial 1 with value: 2.001349360852823.\u001b[0m\n",
            "\u001b[32m[I 2022-08-17 11:44:06,086]\u001b[0m Trial 2 finished with value: 2.0011961583562776 and parameters: {'num_leaves': 25, 'colsample_bytree': 0.7873687420594125, 'reg_alpha': 0.6118528947223795, 'reg_lambda': 1.3949386065204183, 'max_depth': 6, 'learning_rate': 1.5782327810795563e-06, 'n_estimators': 1423, 'min_child_samples': 80, 'subsample': 0.4803061836271737}. Best is trial 2 with value: 2.0011961583562776.\u001b[0m\n",
            "\u001b[32m[I 2022-08-17 11:49:27,958]\u001b[0m Trial 3 finished with value: 2.001349623706529 and parameters: {'num_leaves': 43, 'colsample_bytree': 0.8777243706586128, 'reg_alpha': 0.046450412719997725, 'reg_lambda': 6.075448519014383, 'max_depth': 5, 'learning_rate': 2.4564592152507462e-08, 'n_estimators': 2852, 'min_child_samples': 97, 'subsample': 0.8389839235645228}. Best is trial 2 with value: 2.0011961583562776.\u001b[0m\n",
            "\u001b[32m[I 2022-08-17 11:49:45,326]\u001b[0m Trial 4 finished with value: 2.001251982709329 and parameters: {'num_leaves': 11, 'colsample_bytree': 0.7293016342019151, 'reg_alpha': 0.6842330265121569, 'reg_lambda': 4.4015249373960135, 'max_depth': 4, 'learning_rate': 9.355380606452177e-06, 'n_estimators': 199, 'min_child_samples': 92, 'subsample': 0.5070361211081488}. Best is trial 2 with value: 2.0011961583562776.\u001b[0m\n",
            "\u001b[32m[I 2022-08-17 11:53:09,691]\u001b[0m Trial 5 finished with value: 1.9381865022057443 and parameters: {'num_leaves': 113, 'colsample_bytree': 0.7935133228268233, 'reg_alpha': 0.5200680211778108, 'reg_lambda': 5.4671027934327965, 'max_depth': 5, 'learning_rate': 0.006569128640939186, 'n_estimators': 2348, 'min_child_samples': 95, 'subsample': 0.9081291052862339}. Best is trial 5 with value: 1.9381865022057443.\u001b[0m\n",
            "\u001b[32m[I 2022-08-17 11:54:35,557]\u001b[0m Trial 6 finished with value: 2.0013016424710823 and parameters: {'num_leaves': 74, 'colsample_bytree': 0.976562270506935, 'reg_alpha': 0.0884925020519195, 'reg_lambda': 1.959828624191452, 'max_depth': 3, 'learning_rate': 8.9532762476427e-07, 'n_estimators': 1227, 'min_child_samples': 31, 'subsample': 0.8547671100276213}. Best is trial 5 with value: 1.9381865022057443.\u001b[0m\n",
            "\u001b[32m[I 2022-08-17 11:59:41,618]\u001b[0m Trial 7 finished with value: 2.0013491169301134 and parameters: {'num_leaves': 15, 'colsample_bytree': 0.7842803529062142, 'reg_alpha': 0.5426960831582485, 'reg_lambda': 1.4092422497476265, 'max_depth': 13, 'learning_rate': 2.8009403633756767e-08, 'n_estimators': 2962, 'min_child_samples': 79, 'subsample': 0.47988470847564674}. Best is trial 5 with value: 1.9381865022057443.\u001b[0m\n",
            "\u001b[32m[I 2022-08-17 12:00:25,428]\u001b[0m Trial 8 finished with value: 2.001353861412839 and parameters: {'num_leaves': 2, 'colsample_bytree': 0.9446384285364502, 'reg_alpha': 0.7068573438476171, 'reg_lambda': 7.2900716804098735, 'max_depth': 13, 'learning_rate': 2.781428564375744e-08, 'n_estimators': 1139, 'min_child_samples': 16, 'subsample': 0.8821112809155105}. Best is trial 5 with value: 1.9381865022057443.\u001b[0m\n",
            "\u001b[32m[I 2022-08-17 12:06:15,651]\u001b[0m Trial 9 finished with value: 1.9743735337617225 and parameters: {'num_leaves': 88, 'colsample_bytree': 0.7992694074557947, 'reg_alpha': 0.06355835028602363, 'reg_lambda': 3.109823217156622, 'max_depth': 7, 'learning_rate': 0.00023858166771428845, 'n_estimators': 1949, 'min_child_samples': 90, 'subsample': 0.6165569572942574}. Best is trial 5 with value: 1.9381865022057443.\u001b[0m\n"
          ]
        }
      ],
      "source": [
        "study = optuna.create_study(direction=\"minimize\",sampler=sampler)\n",
        "study.optimize(objective_cat, n_trials=10)"
      ],
      "id": "UUGWyZczhe_2"
    },
    {
      "cell_type": "code",
      "execution_count": null,
      "metadata": {
        "id": "0jeGXNVIhkPp"
      },
      "outputs": [],
      "source": [
        "params['tree_method'] = 'gpu_hist'\n",
        "params['metric'] = 'mse'\n",
        "params['objective'] = 'regression'"
      ],
      "id": "0jeGXNVIhkPp"
    },
    {
      "cell_type": "code",
      "source": [
        "#best parameters\n",
        "params = {'num_leaves': 667,\n",
        "        'colsample_bytree': 0.709580279206433,'reg_alpha': 0.9043953301281176, 'reg_lambda': 9.401181547510408, \n",
        "          'max_depth': 15, 'learning_rate': 0.006737654559424242, 'n_estimators': 702, 'min_child_samples': 6, 'subsample': 0.6726174877527384, 'random_state': 97}\n",
        "params"
      ],
      "metadata": {
        "id": "R6fC6lKp_PST",
        "colab": {
          "base_uri": "https://localhost:8080/"
        },
        "outputId": "af4bd234-9f12-4898-a87c-07a27bf9a9a9"
      },
      "id": "R6fC6lKp_PST",
      "execution_count": null,
      "outputs": [
        {
          "output_type": "execute_result",
          "data": {
            "text/plain": [
              "{'num_leaves': 667,\n",
              " 'colsample_bytree': 0.709580279206433,\n",
              " 'reg_alpha': 0.9043953301281176,\n",
              " 'reg_lambda': 9.401181547510408,\n",
              " 'max_depth': 15,\n",
              " 'learning_rate': 0.006737654559424242,\n",
              " 'n_estimators': 702,\n",
              " 'min_child_samples': 6,\n",
              " 'subsample': 0.6726174877527384,\n",
              " 'random_state': 97}"
            ]
          },
          "metadata": {},
          "execution_count": 22
        }
      ]
    },
    {
      "cell_type": "code",
      "source": [
        "#drop 10 11 13 34 36 45 and meaningless binary 4 features\n",
        "NRMSES = []\n",
        "xgb_pred = np.zeros((target.shape[0], 14))\n",
        "\n",
        "kf = KFold(n_splits = 5, random_state = 42, shuffle = True)\n",
        "for i, idx in enumerate(kf.split(X, y)) :\n",
        "    tr_x, tr_y = pd.DataFrame(X).loc[idx[0]], y.loc[idx[0]]\n",
        "    val_x, val_y = pd.DataFrame(X).loc[idx[1]], y.loc[idx[1]]\n",
        "    \n",
        "    # cb = CatBoostRegressor(random_state = 42, max_depth = 5, n_estimators = 10000, learning_rate = 0.03, objective = 'MultiRMSE')\n",
        "    xgb_model = MultiOutputRegressor(LGBMRegressor(**params))\n",
        "    xgb_model.fit(tr_x, tr_y)\n",
        "    \n",
        "    val_pred = xgb_model.predict(val_x)\n",
        "    NRMSE = lg_nrmse(val_y, val_pred)\n",
        "    print(f\"{i + 1} Fold NRMSE = {NRMSE}\")\n",
        "    NRMSES.append(NRMSE)\n",
        "    \n",
        "    fold_pred = xgb_model.predict(target) / kf.n_splits\n",
        "    xgb_pred += fold_pred"
      ],
      "metadata": {
        "colab": {
          "base_uri": "https://localhost:8080/"
        },
        "id": "QkZkNIAjgftp",
        "outputId": "3019dec2-2039-44be-c67f-6e36987268d1"
      },
      "id": "QkZkNIAjgftp",
      "execution_count": null,
      "outputs": [
        {
          "output_type": "stream",
          "name": "stdout",
          "text": [
            "1 Fold NRMSE = 1.9265646020938139\n",
            "2 Fold NRMSE = 1.962299715290762\n",
            "3 Fold NRMSE = 1.9378280386925806\n",
            "4 Fold NRMSE = 1.9417332802381673\n",
            "5 Fold NRMSE = 1.947418036278224\n"
          ]
        }
      ]
    },
    {
      "cell_type": "code",
      "execution_count": null,
      "metadata": {
        "id": "kCTFFbja7u9t",
        "colab": {
          "base_uri": "https://localhost:8080/"
        },
        "outputId": "21363a73-e2c4-4293-f39b-3417dd32a6fd"
      },
      "outputs": [
        {
          "output_type": "execute_result",
          "data": {
            "text/plain": [
              "(39608, 14)"
            ]
          },
          "metadata": {},
          "execution_count": 17
        }
      ],
      "source": [
        "fold_pred.shape"
      ],
      "id": "kCTFFbja7u9t"
    },
    {
      "cell_type": "code",
      "source": [
        "np.mean(NRMSES) #drop 10 11 13 34 36 45"
      ],
      "metadata": {
        "colab": {
          "base_uri": "https://localhost:8080/"
        },
        "id": "3p4r7StktdQq",
        "outputId": "212d1eaa-2328-4105-85d6-4e7cb2f00e46"
      },
      "id": "3p4r7StktdQq",
      "execution_count": null,
      "outputs": [
        {
          "output_type": "execute_result",
          "data": {
            "text/plain": [
              "1.9431687345187096"
            ]
          },
          "metadata": {},
          "execution_count": 14
        }
      ]
    },
    {
      "cell_type": "markdown",
      "metadata": {
        "id": "tksDaRzuVei5"
      },
      "source": [
        "KernelPCA - 수행 연산이 커서 램 초과   \n",
        "PCA 46 features 10 trial - 1.97673  \n",
        "PCA 20 features 10 trial - 1.97775  \n",
        "PCA 2 features 10 trial - 1.98553  \n",
        "변수 6개 제거 10 trial - Bad  \n",
        "변수 4개 제거 10 trial - 1.9545235045556772"
      ],
      "id": "tksDaRzuVei5"
    },
    {
      "cell_type": "markdown",
      "source": [
        "1. 다음은 Feature creation & Transformation에 집중\n",
        "\n",
        "2. pearson correlation과 Recursive Feature elimination으로 feature selection 결과  \n",
        " drop된 변수가 다른 타겟에서는 유효한 feature일 수 있어 해당 과정은 skip"
      ],
      "metadata": {
        "id": "NslR7-IIPcF1"
      },
      "id": "NslR7-IIPcF1"
    },
    {
      "cell_type": "code",
      "execution_count": null,
      "metadata": {
        "id": "dcf2116f"
      },
      "outputs": [],
      "source": [
        "submission = pd.read_csv(path + 'sample_submission.csv')"
      ],
      "id": "dcf2116f"
    },
    {
      "cell_type": "code",
      "execution_count": null,
      "metadata": {
        "id": "82ce7c8f"
      },
      "outputs": [],
      "source": [
        "submission.iloc[:, 1:] = xgb_pred"
      ],
      "id": "82ce7c8f"
    },
    {
      "cell_type": "code",
      "execution_count": null,
      "metadata": {
        "id": "XqwtWra7PNsS",
        "colab": {
          "base_uri": "https://localhost:8080/",
          "height": 488
        },
        "outputId": "d15ea9b5-1eae-4e2d-acd5-fc63b34ac4df"
      },
      "outputs": [
        {
          "output_type": "execute_result",
          "data": {
            "text/plain": [
              "               ID      Y_01      Y_02      Y_03       Y_04       Y_05  \\\n",
              "0      TEST_00001  1.459748  1.257368  1.148312  14.369735  31.498536   \n",
              "1      TEST_00002  1.487789  1.242707  1.179512  13.225185  31.117919   \n",
              "2      TEST_00003  1.415935  1.113620  1.078659  14.157764  31.966917   \n",
              "3      TEST_00004  1.438326  1.171882  1.064473  14.815712  32.336348   \n",
              "4      TEST_00005  1.373507  1.031568  0.983528  15.109689  31.728957   \n",
              "...           ...       ...       ...       ...        ...        ...   \n",
              "39603  TEST_39604  1.263564  0.974986  1.010338  12.607240  30.724694   \n",
              "39604  TEST_39605  1.233073  0.846554  0.891262  13.920025  31.326927   \n",
              "39605  TEST_39606  1.225532  0.921590  0.943529  13.171593  31.012374   \n",
              "39606  TEST_39607  1.173703  0.838975  0.891508  13.942257  30.906782   \n",
              "39607  TEST_39608  1.305269  0.969878  0.983313  12.881259  30.852631   \n",
              "\n",
              "            Y_06      Y_07       Y_08       Y_09       Y_10       Y_11  \\\n",
              "0      16.762434  3.118767 -26.025294 -26.085722 -22.183285  24.585884   \n",
              "1      16.584905  3.166754 -26.177322 -26.146346 -22.295515  24.318602   \n",
              "2      16.799821  3.124430 -26.017910 -26.026545 -22.120712  24.537324   \n",
              "3      17.092729  3.061496 -25.685576 -25.698289 -21.805747  24.813111   \n",
              "4      16.965819  3.118538 -25.728455 -25.757977 -21.865977  24.733149   \n",
              "...          ...       ...        ...        ...        ...        ...   \n",
              "39603  16.674187  3.193534 -26.489506 -26.460049 -22.878270  24.404599   \n",
              "39604  16.776048  3.203536 -26.363836 -26.374498 -22.847352  24.447266   \n",
              "39605  16.591049  3.164640 -26.532860 -26.557860 -22.861587  24.264781   \n",
              "39606  16.799764  3.170209 -26.461122 -26.459778 -22.920804  24.479885   \n",
              "39607  16.515154  3.191918 -26.563173 -26.547649 -22.903397  24.109506   \n",
              "\n",
              "            Y_12       Y_13       Y_14  \n",
              "0     -25.979340 -25.952320 -25.985551  \n",
              "1     -26.076413 -26.086933 -26.082135  \n",
              "2     -25.949710 -25.974065 -25.997588  \n",
              "3     -25.639193 -25.604159 -25.667916  \n",
              "4     -25.602172 -25.690905 -25.700489  \n",
              "...          ...        ...        ...  \n",
              "39603 -26.339227 -26.350053 -26.399294  \n",
              "39604 -26.267706 -26.319201 -26.321692  \n",
              "39605 -26.515167 -26.478997 -26.514314  \n",
              "39606 -26.413808 -26.429075 -26.435784  \n",
              "39607 -26.504932 -26.488081 -26.493591  \n",
              "\n",
              "[39608 rows x 15 columns]"
            ],
            "text/html": [
              "\n",
              "  <div id=\"df-8fa90f85-e830-418b-8a26-1e20fead0899\">\n",
              "    <div class=\"colab-df-container\">\n",
              "      <div>\n",
              "<style scoped>\n",
              "    .dataframe tbody tr th:only-of-type {\n",
              "        vertical-align: middle;\n",
              "    }\n",
              "\n",
              "    .dataframe tbody tr th {\n",
              "        vertical-align: top;\n",
              "    }\n",
              "\n",
              "    .dataframe thead th {\n",
              "        text-align: right;\n",
              "    }\n",
              "</style>\n",
              "<table border=\"1\" class=\"dataframe\">\n",
              "  <thead>\n",
              "    <tr style=\"text-align: right;\">\n",
              "      <th></th>\n",
              "      <th>ID</th>\n",
              "      <th>Y_01</th>\n",
              "      <th>Y_02</th>\n",
              "      <th>Y_03</th>\n",
              "      <th>Y_04</th>\n",
              "      <th>Y_05</th>\n",
              "      <th>Y_06</th>\n",
              "      <th>Y_07</th>\n",
              "      <th>Y_08</th>\n",
              "      <th>Y_09</th>\n",
              "      <th>Y_10</th>\n",
              "      <th>Y_11</th>\n",
              "      <th>Y_12</th>\n",
              "      <th>Y_13</th>\n",
              "      <th>Y_14</th>\n",
              "    </tr>\n",
              "  </thead>\n",
              "  <tbody>\n",
              "    <tr>\n",
              "      <th>0</th>\n",
              "      <td>TEST_00001</td>\n",
              "      <td>1.459748</td>\n",
              "      <td>1.257368</td>\n",
              "      <td>1.148312</td>\n",
              "      <td>14.369735</td>\n",
              "      <td>31.498536</td>\n",
              "      <td>16.762434</td>\n",
              "      <td>3.118767</td>\n",
              "      <td>-26.025294</td>\n",
              "      <td>-26.085722</td>\n",
              "      <td>-22.183285</td>\n",
              "      <td>24.585884</td>\n",
              "      <td>-25.979340</td>\n",
              "      <td>-25.952320</td>\n",
              "      <td>-25.985551</td>\n",
              "    </tr>\n",
              "    <tr>\n",
              "      <th>1</th>\n",
              "      <td>TEST_00002</td>\n",
              "      <td>1.487789</td>\n",
              "      <td>1.242707</td>\n",
              "      <td>1.179512</td>\n",
              "      <td>13.225185</td>\n",
              "      <td>31.117919</td>\n",
              "      <td>16.584905</td>\n",
              "      <td>3.166754</td>\n",
              "      <td>-26.177322</td>\n",
              "      <td>-26.146346</td>\n",
              "      <td>-22.295515</td>\n",
              "      <td>24.318602</td>\n",
              "      <td>-26.076413</td>\n",
              "      <td>-26.086933</td>\n",
              "      <td>-26.082135</td>\n",
              "    </tr>\n",
              "    <tr>\n",
              "      <th>2</th>\n",
              "      <td>TEST_00003</td>\n",
              "      <td>1.415935</td>\n",
              "      <td>1.113620</td>\n",
              "      <td>1.078659</td>\n",
              "      <td>14.157764</td>\n",
              "      <td>31.966917</td>\n",
              "      <td>16.799821</td>\n",
              "      <td>3.124430</td>\n",
              "      <td>-26.017910</td>\n",
              "      <td>-26.026545</td>\n",
              "      <td>-22.120712</td>\n",
              "      <td>24.537324</td>\n",
              "      <td>-25.949710</td>\n",
              "      <td>-25.974065</td>\n",
              "      <td>-25.997588</td>\n",
              "    </tr>\n",
              "    <tr>\n",
              "      <th>3</th>\n",
              "      <td>TEST_00004</td>\n",
              "      <td>1.438326</td>\n",
              "      <td>1.171882</td>\n",
              "      <td>1.064473</td>\n",
              "      <td>14.815712</td>\n",
              "      <td>32.336348</td>\n",
              "      <td>17.092729</td>\n",
              "      <td>3.061496</td>\n",
              "      <td>-25.685576</td>\n",
              "      <td>-25.698289</td>\n",
              "      <td>-21.805747</td>\n",
              "      <td>24.813111</td>\n",
              "      <td>-25.639193</td>\n",
              "      <td>-25.604159</td>\n",
              "      <td>-25.667916</td>\n",
              "    </tr>\n",
              "    <tr>\n",
              "      <th>4</th>\n",
              "      <td>TEST_00005</td>\n",
              "      <td>1.373507</td>\n",
              "      <td>1.031568</td>\n",
              "      <td>0.983528</td>\n",
              "      <td>15.109689</td>\n",
              "      <td>31.728957</td>\n",
              "      <td>16.965819</td>\n",
              "      <td>3.118538</td>\n",
              "      <td>-25.728455</td>\n",
              "      <td>-25.757977</td>\n",
              "      <td>-21.865977</td>\n",
              "      <td>24.733149</td>\n",
              "      <td>-25.602172</td>\n",
              "      <td>-25.690905</td>\n",
              "      <td>-25.700489</td>\n",
              "    </tr>\n",
              "    <tr>\n",
              "      <th>...</th>\n",
              "      <td>...</td>\n",
              "      <td>...</td>\n",
              "      <td>...</td>\n",
              "      <td>...</td>\n",
              "      <td>...</td>\n",
              "      <td>...</td>\n",
              "      <td>...</td>\n",
              "      <td>...</td>\n",
              "      <td>...</td>\n",
              "      <td>...</td>\n",
              "      <td>...</td>\n",
              "      <td>...</td>\n",
              "      <td>...</td>\n",
              "      <td>...</td>\n",
              "      <td>...</td>\n",
              "    </tr>\n",
              "    <tr>\n",
              "      <th>39603</th>\n",
              "      <td>TEST_39604</td>\n",
              "      <td>1.263564</td>\n",
              "      <td>0.974986</td>\n",
              "      <td>1.010338</td>\n",
              "      <td>12.607240</td>\n",
              "      <td>30.724694</td>\n",
              "      <td>16.674187</td>\n",
              "      <td>3.193534</td>\n",
              "      <td>-26.489506</td>\n",
              "      <td>-26.460049</td>\n",
              "      <td>-22.878270</td>\n",
              "      <td>24.404599</td>\n",
              "      <td>-26.339227</td>\n",
              "      <td>-26.350053</td>\n",
              "      <td>-26.399294</td>\n",
              "    </tr>\n",
              "    <tr>\n",
              "      <th>39604</th>\n",
              "      <td>TEST_39605</td>\n",
              "      <td>1.233073</td>\n",
              "      <td>0.846554</td>\n",
              "      <td>0.891262</td>\n",
              "      <td>13.920025</td>\n",
              "      <td>31.326927</td>\n",
              "      <td>16.776048</td>\n",
              "      <td>3.203536</td>\n",
              "      <td>-26.363836</td>\n",
              "      <td>-26.374498</td>\n",
              "      <td>-22.847352</td>\n",
              "      <td>24.447266</td>\n",
              "      <td>-26.267706</td>\n",
              "      <td>-26.319201</td>\n",
              "      <td>-26.321692</td>\n",
              "    </tr>\n",
              "    <tr>\n",
              "      <th>39605</th>\n",
              "      <td>TEST_39606</td>\n",
              "      <td>1.225532</td>\n",
              "      <td>0.921590</td>\n",
              "      <td>0.943529</td>\n",
              "      <td>13.171593</td>\n",
              "      <td>31.012374</td>\n",
              "      <td>16.591049</td>\n",
              "      <td>3.164640</td>\n",
              "      <td>-26.532860</td>\n",
              "      <td>-26.557860</td>\n",
              "      <td>-22.861587</td>\n",
              "      <td>24.264781</td>\n",
              "      <td>-26.515167</td>\n",
              "      <td>-26.478997</td>\n",
              "      <td>-26.514314</td>\n",
              "    </tr>\n",
              "    <tr>\n",
              "      <th>39606</th>\n",
              "      <td>TEST_39607</td>\n",
              "      <td>1.173703</td>\n",
              "      <td>0.838975</td>\n",
              "      <td>0.891508</td>\n",
              "      <td>13.942257</td>\n",
              "      <td>30.906782</td>\n",
              "      <td>16.799764</td>\n",
              "      <td>3.170209</td>\n",
              "      <td>-26.461122</td>\n",
              "      <td>-26.459778</td>\n",
              "      <td>-22.920804</td>\n",
              "      <td>24.479885</td>\n",
              "      <td>-26.413808</td>\n",
              "      <td>-26.429075</td>\n",
              "      <td>-26.435784</td>\n",
              "    </tr>\n",
              "    <tr>\n",
              "      <th>39607</th>\n",
              "      <td>TEST_39608</td>\n",
              "      <td>1.305269</td>\n",
              "      <td>0.969878</td>\n",
              "      <td>0.983313</td>\n",
              "      <td>12.881259</td>\n",
              "      <td>30.852631</td>\n",
              "      <td>16.515154</td>\n",
              "      <td>3.191918</td>\n",
              "      <td>-26.563173</td>\n",
              "      <td>-26.547649</td>\n",
              "      <td>-22.903397</td>\n",
              "      <td>24.109506</td>\n",
              "      <td>-26.504932</td>\n",
              "      <td>-26.488081</td>\n",
              "      <td>-26.493591</td>\n",
              "    </tr>\n",
              "  </tbody>\n",
              "</table>\n",
              "<p>39608 rows × 15 columns</p>\n",
              "</div>\n",
              "      <button class=\"colab-df-convert\" onclick=\"convertToInteractive('df-8fa90f85-e830-418b-8a26-1e20fead0899')\"\n",
              "              title=\"Convert this dataframe to an interactive table.\"\n",
              "              style=\"display:none;\">\n",
              "        \n",
              "  <svg xmlns=\"http://www.w3.org/2000/svg\" height=\"24px\"viewBox=\"0 0 24 24\"\n",
              "       width=\"24px\">\n",
              "    <path d=\"M0 0h24v24H0V0z\" fill=\"none\"/>\n",
              "    <path d=\"M18.56 5.44l.94 2.06.94-2.06 2.06-.94-2.06-.94-.94-2.06-.94 2.06-2.06.94zm-11 1L8.5 8.5l.94-2.06 2.06-.94-2.06-.94L8.5 2.5l-.94 2.06-2.06.94zm10 10l.94 2.06.94-2.06 2.06-.94-2.06-.94-.94-2.06-.94 2.06-2.06.94z\"/><path d=\"M17.41 7.96l-1.37-1.37c-.4-.4-.92-.59-1.43-.59-.52 0-1.04.2-1.43.59L10.3 9.45l-7.72 7.72c-.78.78-.78 2.05 0 2.83L4 21.41c.39.39.9.59 1.41.59.51 0 1.02-.2 1.41-.59l7.78-7.78 2.81-2.81c.8-.78.8-2.07 0-2.86zM5.41 20L4 18.59l7.72-7.72 1.47 1.35L5.41 20z\"/>\n",
              "  </svg>\n",
              "      </button>\n",
              "      \n",
              "  <style>\n",
              "    .colab-df-container {\n",
              "      display:flex;\n",
              "      flex-wrap:wrap;\n",
              "      gap: 12px;\n",
              "    }\n",
              "\n",
              "    .colab-df-convert {\n",
              "      background-color: #E8F0FE;\n",
              "      border: none;\n",
              "      border-radius: 50%;\n",
              "      cursor: pointer;\n",
              "      display: none;\n",
              "      fill: #1967D2;\n",
              "      height: 32px;\n",
              "      padding: 0 0 0 0;\n",
              "      width: 32px;\n",
              "    }\n",
              "\n",
              "    .colab-df-convert:hover {\n",
              "      background-color: #E2EBFA;\n",
              "      box-shadow: 0px 1px 2px rgba(60, 64, 67, 0.3), 0px 1px 3px 1px rgba(60, 64, 67, 0.15);\n",
              "      fill: #174EA6;\n",
              "    }\n",
              "\n",
              "    [theme=dark] .colab-df-convert {\n",
              "      background-color: #3B4455;\n",
              "      fill: #D2E3FC;\n",
              "    }\n",
              "\n",
              "    [theme=dark] .colab-df-convert:hover {\n",
              "      background-color: #434B5C;\n",
              "      box-shadow: 0px 1px 3px 1px rgba(0, 0, 0, 0.15);\n",
              "      filter: drop-shadow(0px 1px 2px rgba(0, 0, 0, 0.3));\n",
              "      fill: #FFFFFF;\n",
              "    }\n",
              "  </style>\n",
              "\n",
              "      <script>\n",
              "        const buttonEl =\n",
              "          document.querySelector('#df-8fa90f85-e830-418b-8a26-1e20fead0899 button.colab-df-convert');\n",
              "        buttonEl.style.display =\n",
              "          google.colab.kernel.accessAllowed ? 'block' : 'none';\n",
              "\n",
              "        async function convertToInteractive(key) {\n",
              "          const element = document.querySelector('#df-8fa90f85-e830-418b-8a26-1e20fead0899');\n",
              "          const dataTable =\n",
              "            await google.colab.kernel.invokeFunction('convertToInteractive',\n",
              "                                                     [key], {});\n",
              "          if (!dataTable) return;\n",
              "\n",
              "          const docLinkHtml = 'Like what you see? Visit the ' +\n",
              "            '<a target=\"_blank\" href=https://colab.research.google.com/notebooks/data_table.ipynb>data table notebook</a>'\n",
              "            + ' to learn more about interactive tables.';\n",
              "          element.innerHTML = '';\n",
              "          dataTable['output_type'] = 'display_data';\n",
              "          await google.colab.output.renderOutput(dataTable, element);\n",
              "          const docLink = document.createElement('div');\n",
              "          docLink.innerHTML = docLinkHtml;\n",
              "          element.appendChild(docLink);\n",
              "        }\n",
              "      </script>\n",
              "    </div>\n",
              "  </div>\n",
              "  "
            ]
          },
          "metadata": {},
          "execution_count": 20
        }
      ],
      "source": [
        "submission"
      ],
      "id": "XqwtWra7PNsS"
    },
    {
      "cell_type": "code",
      "execution_count": null,
      "metadata": {
        "id": "6b28defd"
      },
      "outputs": [],
      "source": [
        "submission.to_csv(path + 'lgbm_kfold_optuna_final_best_parameter.csv', index = False)"
      ],
      "id": "6b28defd"
    }
  ],
  "metadata": {
    "accelerator": "GPU",
    "colab": {
      "collapsed_sections": [],
      "machine_shape": "hm",
      "provenance": []
    },
    "gpuClass": "standard",
    "kernelspec": {
      "display_name": "Python 3 (ipykernel)",
      "language": "python",
      "name": "python3"
    },
    "language_info": {
      "codemirror_mode": {
        "name": "ipython",
        "version": 3
      },
      "file_extension": ".py",
      "mimetype": "text/x-python",
      "name": "python",
      "nbconvert_exporter": "python",
      "pygments_lexer": "ipython3",
      "version": "3.9.7"
    }
  },
  "nbformat": 4,
  "nbformat_minor": 5
}