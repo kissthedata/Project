{
 "cells": [
  {
   "cell_type": "markdown",
   "id": "71843c25",
   "metadata": {},
   "source": [
    "핀테크 앱을 통해서 들어온 데이터들을 기반으로 분석해본다."
   ]
  },
  {
   "cell_type": "code",
   "execution_count": 1,
   "id": "a57737d0",
   "metadata": {
    "ExecuteTime": {
     "end_time": "2022-05-09T05:33:28.822051Z",
     "start_time": "2022-05-09T05:33:27.257421Z"
    }
   },
   "outputs": [],
   "source": [
    "import pandas as pd\n",
    "import numpy as np\n",
    "import matplotlib.pyplot as plt\n",
    "import matplotlib\n",
    "import seaborn as sns"
   ]
  },
  {
   "cell_type": "code",
   "execution_count": 2,
   "id": "f48c1a6f",
   "metadata": {
    "ExecuteTime": {
     "end_time": "2022-05-09T05:33:28.952967Z",
     "start_time": "2022-05-09T05:33:28.823256Z"
    }
   },
   "outputs": [],
   "source": [
    "data= pd.read_csv(\"./data/P39-CS3-Data/appdata10.csv\")"
   ]
  },
  {
   "cell_type": "markdown",
   "id": "394bba12",
   "metadata": {},
   "source": [
    "* user : userID\n",
    "* first_open : 앱을 켠 시점\n",
    "* dayofweek : 월~일\n",
    "* hour : 시간\n",
    "* age : 나이\n",
    "* screen_list :24시간 동안의 활동 내역\n",
    "* numscreen : 몇 개의 화면을 보고 있는가\n",
    "* minigame : minigame 사용 유무\n",
    "* liked : 기능에 대한 좋아요 = 1\n",
    "* used_premium_feature : 무료평가판이라도 사용한적이 있다면 1\n",
    "* enrolled : 체험판 종료 후 유료 제품 등록 여부\n",
    "* enrolled_data : 유료 제품 등록 날짜"
   ]
  },
  {
   "cell_type": "markdown",
   "id": "0fa693ef",
   "metadata": {},
   "source": [
    "# EDA"
   ]
  },
  {
   "cell_type": "code",
   "execution_count": 3,
   "id": "f314182b",
   "metadata": {
    "ExecuteTime": {
     "end_time": "2022-05-09T05:33:28.962030Z",
     "start_time": "2022-05-09T05:33:28.953930Z"
    }
   },
   "outputs": [
    {
     "data": {
      "text/html": [
       "<div>\n",
       "<style scoped>\n",
       "    .dataframe tbody tr th:only-of-type {\n",
       "        vertical-align: middle;\n",
       "    }\n",
       "\n",
       "    .dataframe tbody tr th {\n",
       "        vertical-align: top;\n",
       "    }\n",
       "\n",
       "    .dataframe thead th {\n",
       "        text-align: right;\n",
       "    }\n",
       "</style>\n",
       "<table border=\"1\" class=\"dataframe\">\n",
       "  <thead>\n",
       "    <tr style=\"text-align: right;\">\n",
       "      <th></th>\n",
       "      <th>user</th>\n",
       "      <th>first_open</th>\n",
       "      <th>dayofweek</th>\n",
       "      <th>hour</th>\n",
       "      <th>age</th>\n",
       "      <th>screen_list</th>\n",
       "      <th>numscreens</th>\n",
       "      <th>minigame</th>\n",
       "      <th>used_premium_feature</th>\n",
       "      <th>enrolled</th>\n",
       "      <th>enrolled_date</th>\n",
       "      <th>liked</th>\n",
       "    </tr>\n",
       "  </thead>\n",
       "  <tbody>\n",
       "    <tr>\n",
       "      <th>0</th>\n",
       "      <td>235136</td>\n",
       "      <td>2012-12-27 02:14:51.273</td>\n",
       "      <td>3</td>\n",
       "      <td>02:00:00</td>\n",
       "      <td>23</td>\n",
       "      <td>idscreen,joinscreen,Cycle,product_review,ScanP...</td>\n",
       "      <td>15</td>\n",
       "      <td>0</td>\n",
       "      <td>0</td>\n",
       "      <td>0</td>\n",
       "      <td>NaN</td>\n",
       "      <td>0</td>\n",
       "    </tr>\n",
       "    <tr>\n",
       "      <th>1</th>\n",
       "      <td>333588</td>\n",
       "      <td>2012-12-02 01:16:00.905</td>\n",
       "      <td>6</td>\n",
       "      <td>01:00:00</td>\n",
       "      <td>24</td>\n",
       "      <td>joinscreen,product_review,product_review2,Scan...</td>\n",
       "      <td>13</td>\n",
       "      <td>0</td>\n",
       "      <td>0</td>\n",
       "      <td>0</td>\n",
       "      <td>NaN</td>\n",
       "      <td>0</td>\n",
       "    </tr>\n",
       "    <tr>\n",
       "      <th>2</th>\n",
       "      <td>254414</td>\n",
       "      <td>2013-03-19 19:19:09.157</td>\n",
       "      <td>1</td>\n",
       "      <td>19:00:00</td>\n",
       "      <td>23</td>\n",
       "      <td>Splash,Cycle,Loan</td>\n",
       "      <td>3</td>\n",
       "      <td>0</td>\n",
       "      <td>1</td>\n",
       "      <td>0</td>\n",
       "      <td>NaN</td>\n",
       "      <td>1</td>\n",
       "    </tr>\n",
       "    <tr>\n",
       "      <th>3</th>\n",
       "      <td>234192</td>\n",
       "      <td>2013-07-05 16:08:46.354</td>\n",
       "      <td>4</td>\n",
       "      <td>16:00:00</td>\n",
       "      <td>28</td>\n",
       "      <td>product_review,Home,product_review,Loan3,Finan...</td>\n",
       "      <td>40</td>\n",
       "      <td>0</td>\n",
       "      <td>0</td>\n",
       "      <td>1</td>\n",
       "      <td>2013-07-05 16:11:49.513</td>\n",
       "      <td>0</td>\n",
       "    </tr>\n",
       "    <tr>\n",
       "      <th>4</th>\n",
       "      <td>51549</td>\n",
       "      <td>2013-02-26 18:50:48.661</td>\n",
       "      <td>1</td>\n",
       "      <td>18:00:00</td>\n",
       "      <td>31</td>\n",
       "      <td>idscreen,joinscreen,Cycle,Credit3Container,Sca...</td>\n",
       "      <td>32</td>\n",
       "      <td>0</td>\n",
       "      <td>0</td>\n",
       "      <td>1</td>\n",
       "      <td>2013-02-26 18:56:37.841</td>\n",
       "      <td>1</td>\n",
       "    </tr>\n",
       "  </tbody>\n",
       "</table>\n",
       "</div>"
      ],
      "text/plain": [
       "     user               first_open  dayofweek       hour  age  \\\n",
       "0  235136  2012-12-27 02:14:51.273          3   02:00:00   23   \n",
       "1  333588  2012-12-02 01:16:00.905          6   01:00:00   24   \n",
       "2  254414  2013-03-19 19:19:09.157          1   19:00:00   23   \n",
       "3  234192  2013-07-05 16:08:46.354          4   16:00:00   28   \n",
       "4   51549  2013-02-26 18:50:48.661          1   18:00:00   31   \n",
       "\n",
       "                                         screen_list  numscreens  minigame  \\\n",
       "0  idscreen,joinscreen,Cycle,product_review,ScanP...          15         0   \n",
       "1  joinscreen,product_review,product_review2,Scan...          13         0   \n",
       "2                                  Splash,Cycle,Loan           3         0   \n",
       "3  product_review,Home,product_review,Loan3,Finan...          40         0   \n",
       "4  idscreen,joinscreen,Cycle,Credit3Container,Sca...          32         0   \n",
       "\n",
       "   used_premium_feature  enrolled            enrolled_date  liked  \n",
       "0                     0         0                      NaN      0  \n",
       "1                     0         0                      NaN      0  \n",
       "2                     1         0                      NaN      1  \n",
       "3                     0         1  2013-07-05 16:11:49.513      0  \n",
       "4                     0         1  2013-02-26 18:56:37.841      1  "
      ]
     },
     "execution_count": 3,
     "metadata": {},
     "output_type": "execute_result"
    }
   ],
   "source": [
    "data.head()"
   ]
  },
  {
   "cell_type": "code",
   "execution_count": 4,
   "id": "df596f9a",
   "metadata": {
    "ExecuteTime": {
     "end_time": "2022-05-09T05:33:28.981761Z",
     "start_time": "2022-05-09T05:33:28.963573Z"
    }
   },
   "outputs": [
    {
     "data": {
      "text/html": [
       "<div>\n",
       "<style scoped>\n",
       "    .dataframe tbody tr th:only-of-type {\n",
       "        vertical-align: middle;\n",
       "    }\n",
       "\n",
       "    .dataframe tbody tr th {\n",
       "        vertical-align: top;\n",
       "    }\n",
       "\n",
       "    .dataframe thead th {\n",
       "        text-align: right;\n",
       "    }\n",
       "</style>\n",
       "<table border=\"1\" class=\"dataframe\">\n",
       "  <thead>\n",
       "    <tr style=\"text-align: right;\">\n",
       "      <th></th>\n",
       "      <th>user</th>\n",
       "      <th>dayofweek</th>\n",
       "      <th>age</th>\n",
       "      <th>numscreens</th>\n",
       "      <th>minigame</th>\n",
       "      <th>used_premium_feature</th>\n",
       "      <th>enrolled</th>\n",
       "      <th>liked</th>\n",
       "    </tr>\n",
       "  </thead>\n",
       "  <tbody>\n",
       "    <tr>\n",
       "      <th>count</th>\n",
       "      <td>50000.000000</td>\n",
       "      <td>50000.000000</td>\n",
       "      <td>50000.00000</td>\n",
       "      <td>50000.000000</td>\n",
       "      <td>50000.000000</td>\n",
       "      <td>50000.000000</td>\n",
       "      <td>50000.000000</td>\n",
       "      <td>50000.000000</td>\n",
       "    </tr>\n",
       "    <tr>\n",
       "      <th>mean</th>\n",
       "      <td>186889.729900</td>\n",
       "      <td>3.029860</td>\n",
       "      <td>31.72436</td>\n",
       "      <td>21.095900</td>\n",
       "      <td>0.107820</td>\n",
       "      <td>0.172020</td>\n",
       "      <td>0.621480</td>\n",
       "      <td>0.165000</td>\n",
       "    </tr>\n",
       "    <tr>\n",
       "      <th>std</th>\n",
       "      <td>107768.520361</td>\n",
       "      <td>2.031997</td>\n",
       "      <td>10.80331</td>\n",
       "      <td>15.728812</td>\n",
       "      <td>0.310156</td>\n",
       "      <td>0.377402</td>\n",
       "      <td>0.485023</td>\n",
       "      <td>0.371184</td>\n",
       "    </tr>\n",
       "    <tr>\n",
       "      <th>min</th>\n",
       "      <td>13.000000</td>\n",
       "      <td>0.000000</td>\n",
       "      <td>16.00000</td>\n",
       "      <td>1.000000</td>\n",
       "      <td>0.000000</td>\n",
       "      <td>0.000000</td>\n",
       "      <td>0.000000</td>\n",
       "      <td>0.000000</td>\n",
       "    </tr>\n",
       "    <tr>\n",
       "      <th>25%</th>\n",
       "      <td>93526.750000</td>\n",
       "      <td>1.000000</td>\n",
       "      <td>24.00000</td>\n",
       "      <td>10.000000</td>\n",
       "      <td>0.000000</td>\n",
       "      <td>0.000000</td>\n",
       "      <td>0.000000</td>\n",
       "      <td>0.000000</td>\n",
       "    </tr>\n",
       "    <tr>\n",
       "      <th>50%</th>\n",
       "      <td>187193.500000</td>\n",
       "      <td>3.000000</td>\n",
       "      <td>29.00000</td>\n",
       "      <td>18.000000</td>\n",
       "      <td>0.000000</td>\n",
       "      <td>0.000000</td>\n",
       "      <td>1.000000</td>\n",
       "      <td>0.000000</td>\n",
       "    </tr>\n",
       "    <tr>\n",
       "      <th>75%</th>\n",
       "      <td>279984.250000</td>\n",
       "      <td>5.000000</td>\n",
       "      <td>37.00000</td>\n",
       "      <td>28.000000</td>\n",
       "      <td>0.000000</td>\n",
       "      <td>0.000000</td>\n",
       "      <td>1.000000</td>\n",
       "      <td>0.000000</td>\n",
       "    </tr>\n",
       "    <tr>\n",
       "      <th>max</th>\n",
       "      <td>373662.000000</td>\n",
       "      <td>6.000000</td>\n",
       "      <td>101.00000</td>\n",
       "      <td>325.000000</td>\n",
       "      <td>1.000000</td>\n",
       "      <td>1.000000</td>\n",
       "      <td>1.000000</td>\n",
       "      <td>1.000000</td>\n",
       "    </tr>\n",
       "  </tbody>\n",
       "</table>\n",
       "</div>"
      ],
      "text/plain": [
       "                user     dayofweek          age    numscreens      minigame  \\\n",
       "count   50000.000000  50000.000000  50000.00000  50000.000000  50000.000000   \n",
       "mean   186889.729900      3.029860     31.72436     21.095900      0.107820   \n",
       "std    107768.520361      2.031997     10.80331     15.728812      0.310156   \n",
       "min        13.000000      0.000000     16.00000      1.000000      0.000000   \n",
       "25%     93526.750000      1.000000     24.00000     10.000000      0.000000   \n",
       "50%    187193.500000      3.000000     29.00000     18.000000      0.000000   \n",
       "75%    279984.250000      5.000000     37.00000     28.000000      0.000000   \n",
       "max    373662.000000      6.000000    101.00000    325.000000      1.000000   \n",
       "\n",
       "       used_premium_feature      enrolled         liked  \n",
       "count          50000.000000  50000.000000  50000.000000  \n",
       "mean               0.172020      0.621480      0.165000  \n",
       "std                0.377402      0.485023      0.371184  \n",
       "min                0.000000      0.000000      0.000000  \n",
       "25%                0.000000      0.000000      0.000000  \n",
       "50%                0.000000      1.000000      0.000000  \n",
       "75%                0.000000      1.000000      0.000000  \n",
       "max                1.000000      1.000000      1.000000  "
      ]
     },
     "execution_count": 4,
     "metadata": {},
     "output_type": "execute_result"
    }
   ],
   "source": [
    "data.describe()"
   ]
  },
  {
   "cell_type": "code",
   "execution_count": 5,
   "id": "c5934223",
   "metadata": {
    "ExecuteTime": {
     "end_time": "2022-05-09T05:33:29.001190Z",
     "start_time": "2022-05-09T05:33:28.982713Z"
    }
   },
   "outputs": [],
   "source": [
    "data['hour']=data.hour.str.slice(1,3).astype(int)"
   ]
  },
  {
   "cell_type": "code",
   "execution_count": 6,
   "id": "02c9686f",
   "metadata": {
    "ExecuteTime": {
     "end_time": "2022-05-09T05:33:29.011107Z",
     "start_time": "2022-05-09T05:33:29.002191Z"
    }
   },
   "outputs": [
    {
     "data": {
      "text/html": [
       "<div>\n",
       "<style scoped>\n",
       "    .dataframe tbody tr th:only-of-type {\n",
       "        vertical-align: middle;\n",
       "    }\n",
       "\n",
       "    .dataframe tbody tr th {\n",
       "        vertical-align: top;\n",
       "    }\n",
       "\n",
       "    .dataframe thead th {\n",
       "        text-align: right;\n",
       "    }\n",
       "</style>\n",
       "<table border=\"1\" class=\"dataframe\">\n",
       "  <thead>\n",
       "    <tr style=\"text-align: right;\">\n",
       "      <th></th>\n",
       "      <th>dayofweek</th>\n",
       "      <th>hour</th>\n",
       "      <th>age</th>\n",
       "      <th>numscreens</th>\n",
       "      <th>minigame</th>\n",
       "      <th>used_premium_feature</th>\n",
       "      <th>liked</th>\n",
       "    </tr>\n",
       "  </thead>\n",
       "  <tbody>\n",
       "    <tr>\n",
       "      <th>0</th>\n",
       "      <td>3</td>\n",
       "      <td>2</td>\n",
       "      <td>23</td>\n",
       "      <td>15</td>\n",
       "      <td>0</td>\n",
       "      <td>0</td>\n",
       "      <td>0</td>\n",
       "    </tr>\n",
       "    <tr>\n",
       "      <th>1</th>\n",
       "      <td>6</td>\n",
       "      <td>1</td>\n",
       "      <td>24</td>\n",
       "      <td>13</td>\n",
       "      <td>0</td>\n",
       "      <td>0</td>\n",
       "      <td>0</td>\n",
       "    </tr>\n",
       "    <tr>\n",
       "      <th>2</th>\n",
       "      <td>1</td>\n",
       "      <td>19</td>\n",
       "      <td>23</td>\n",
       "      <td>3</td>\n",
       "      <td>0</td>\n",
       "      <td>1</td>\n",
       "      <td>1</td>\n",
       "    </tr>\n",
       "    <tr>\n",
       "      <th>3</th>\n",
       "      <td>4</td>\n",
       "      <td>16</td>\n",
       "      <td>28</td>\n",
       "      <td>40</td>\n",
       "      <td>0</td>\n",
       "      <td>0</td>\n",
       "      <td>0</td>\n",
       "    </tr>\n",
       "    <tr>\n",
       "      <th>4</th>\n",
       "      <td>1</td>\n",
       "      <td>18</td>\n",
       "      <td>31</td>\n",
       "      <td>32</td>\n",
       "      <td>0</td>\n",
       "      <td>0</td>\n",
       "      <td>1</td>\n",
       "    </tr>\n",
       "  </tbody>\n",
       "</table>\n",
       "</div>"
      ],
      "text/plain": [
       "   dayofweek  hour  age  numscreens  minigame  used_premium_feature  liked\n",
       "0          3     2   23          15         0                     0      0\n",
       "1          6     1   24          13         0                     0      0\n",
       "2          1    19   23           3         0                     1      1\n",
       "3          4    16   28          40         0                     0      0\n",
       "4          1    18   31          32         0                     0      1"
      ]
     },
     "execution_count": 6,
     "metadata": {},
     "output_type": "execute_result"
    }
   ],
   "source": [
    "data2 =data.copy().drop(columns=['user','screen_list','enrolled_date','first_open','enrolled'])\n",
    "data2.head()"
   ]
  },
  {
   "cell_type": "code",
   "execution_count": 7,
   "id": "4dd26670",
   "metadata": {
    "ExecuteTime": {
     "end_time": "2022-05-09T05:33:30.645283Z",
     "start_time": "2022-05-09T05:33:29.012155Z"
    }
   },
   "outputs": [
    {
     "data": {
      "text/plain": [
       "<Figure size 432x288 with 0 Axes>"
      ]
     },
     "metadata": {},
     "output_type": "display_data"
    },
    {
     "data": {
      "image/png": "[encoded data removed]",
      "text/plain": [
       "<Figure size 864x360 with 9 Axes>"
      ]
     },
     "metadata": {
      "needs_background": "light"
     },
     "output_type": "display_data"
    }
   ],
   "source": [
    "import warnings\n",
    "warnings.filterwarnings('ignore')\n",
    "plt.suptitle(\"Hist.of Num Columns\",fontsize=20)\n",
    "\n",
    "def show_dist_plot(data, columns):\n",
    "    i =0\n",
    "    plt.subplots(3,3,figsize=(12,5))\n",
    "    for column in columns:\n",
    "        i += 1\n",
    "        plt.subplot(3,3,i)\n",
    "        sns.distplot(data[column])\n",
    "        plt.title(f'{column}')\n",
    "    plt.tight_layout()\n",
    "    \n",
    "show_dist_plot(data2, data2.columns.tolist())"
   ]
  },
  {
   "cell_type": "markdown",
   "id": "9f4bee33",
   "metadata": {},
   "source": [
    "**Observation**\n",
    "\n",
    "* 요일에 관계없이 균등분포되어있음을 확인할 수 있다. (dayofweek)\n",
    "* 새벽에 활동을 잘 하지 않는 것을 볼 수 있다. (hour)\n",
    "* minigame은 잘 하지 않는다.\n",
    "* 기능에 대한 Liked에서 일부 1이 존재한다."
   ]
  },
  {
   "cell_type": "markdown",
   "id": "499ddf5e",
   "metadata": {},
   "source": [
    "# Correlation"
   ]
  },
  {
   "cell_type": "code",
   "execution_count": 8,
   "id": "260fc0cd",
   "metadata": {
    "ExecuteTime": {
     "end_time": "2022-05-09T05:33:30.735547Z",
     "start_time": "2022-05-09T05:33:30.646139Z"
    }
   },
   "outputs": [
    {
     "data": {
      "text/plain": [
       "<AxesSubplot:title={'center':'Corr'}>"
      ]
     },
     "execution_count": 8,
     "metadata": {},
     "output_type": "execute_result"
    },
    {
     "data": {
      "image/png": "[encoded data removed]",
      "text/plain": [
       "<Figure size 1440x720 with 1 Axes>"
      ]
     },
     "metadata": {
      "needs_background": "light"
     },
     "output_type": "display_data"
    }
   ],
   "source": [
    "data2.corrwith(data.enrolled).plot.bar(figsize=(20,10),title='Corr',fontsize=10,\n",
    "                                      rot=45,grid=True)"
   ]
  },
  {
   "cell_type": "markdown",
   "id": "917f214b",
   "metadata": {},
   "source": [
    "# Heatmap"
   ]
  },
  {
   "cell_type": "code",
   "execution_count": 9,
   "id": "dfef64ad",
   "metadata": {
    "ExecuteTime": {
     "end_time": "2022-05-09T05:33:30.931350Z",
     "start_time": "2022-05-09T05:33:30.736438Z"
    }
   },
   "outputs": [
    {
     "data": {
      "text/plain": [
       "<AxesSubplot:>"
      ]
     },
     "execution_count": 9,
     "metadata": {},
     "output_type": "execute_result"
    },
    {
     "data": {
      "image/png": "[encoded data removed]",
      "text/plain": [
       "<Figure size 1296x1080 with 2 Axes>"
      ]
     },
     "metadata": {},
     "output_type": "display_data"
    }
   ],
   "source": [
    "sns.set(style='white', font_scale=2)\n",
    "\n",
    "corr = data2.corr()\n",
    "\n",
    "mask = np.zeros_like(corr,dtype=np.bool)\n",
    "mask[np.triu_indices_from(mask)] = True\n",
    "\n",
    "f,ax=plt.subplots(figsize=(18,15))\n",
    "f.suptitle('correlation matrix', fontsize=40)\n",
    "\n",
    "cmap = sns.diverging_palette(220,10, as_cmap=True)\n",
    "\n",
    "sns.heatmap(corr, mask=mask, vmax=.3,center=0,cmap=cmap,\n",
    "           square=True,linewidth=.3,cbar_kws={'shrink':.5},annot=True)"
   ]
  },
  {
   "cell_type": "markdown",
   "id": "b3d9273f",
   "metadata": {},
   "source": [
    "**Obseravtion**\n",
    "\n",
    "* used_premium_feature & minigame은 혼재변수일 수 있다. numscreen이 많으면 그 중에는 minigame이 펼쳐져 있을 확률이 높을 것이기 때문이다."
   ]
  },
  {
   "cell_type": "markdown",
   "id": "94df8d37",
   "metadata": {},
   "source": [
    "# 변수 가공"
   ]
  },
  {
   "cell_type": "markdown",
   "id": "53027ef5",
   "metadata": {},
   "source": [
    "**처음 앱을 연 날짜와 등록 날짜 사이의 시간 차이 분포 도식화**"
   ]
  },
  {
   "cell_type": "code",
   "execution_count": 10,
   "id": "87a184b3",
   "metadata": {
    "ExecuteTime": {
     "end_time": "2022-05-09T05:33:30.937196Z",
     "start_time": "2022-05-09T05:33:30.933912Z"
    }
   },
   "outputs": [
    {
     "data": {
      "text/plain": [
       "user                     int64\n",
       "first_open              object\n",
       "dayofweek                int64\n",
       "hour                     int64\n",
       "age                      int64\n",
       "screen_list             object\n",
       "numscreens               int64\n",
       "minigame                 int64\n",
       "used_premium_feature     int64\n",
       "enrolled                 int64\n",
       "enrolled_date           object\n",
       "liked                    int64\n",
       "dtype: object"
      ]
     },
     "execution_count": 10,
     "metadata": {},
     "output_type": "execute_result"
    }
   ],
   "source": [
    "data.dtypes"
   ]
  },
  {
   "cell_type": "code",
   "execution_count": 11,
   "id": "138bf036",
   "metadata": {
    "ExecuteTime": {
     "end_time": "2022-05-09T05:33:33.997828Z",
     "start_time": "2022-05-09T05:33:30.938365Z"
    }
   },
   "outputs": [],
   "source": [
    "from dateutil import parser\n",
    "data['first_open']=[parser.parse(row_data) for row_data in data[\"first_open\"]]\n",
    "data['enrolled_date']=[parser.parse(row_data) if isinstance(row_data,str) else row_data for row_data in data[\"enrolled_date\"]]"
   ]
  },
  {
   "cell_type": "code",
   "execution_count": 12,
   "id": "e0c42afb",
   "metadata": {
    "ExecuteTime": {
     "end_time": "2022-05-09T05:33:34.002074Z",
     "start_time": "2022-05-09T05:33:33.998808Z"
    }
   },
   "outputs": [
    {
     "data": {
      "text/plain": [
       "0       2012-12-27 02:14:51.273\n",
       "1       2012-12-02 01:16:00.905\n",
       "2       2013-03-19 19:19:09.157\n",
       "3       2013-07-05 16:08:46.354\n",
       "4       2013-02-26 18:50:48.661\n",
       "                  ...          \n",
       "49995   2013-05-09 13:46:17.871\n",
       "49996   2013-04-09 00:05:17.823\n",
       "49997   2013-02-20 22:41:51.165\n",
       "49998   2013-04-28 12:33:04.288\n",
       "49999   2012-12-14 01:22:44.638\n",
       "Name: first_open, Length: 50000, dtype: datetime64[ns]"
      ]
     },
     "execution_count": 12,
     "metadata": {},
     "output_type": "execute_result"
    }
   ],
   "source": [
    "data['first_open']"
   ]
  },
  {
   "cell_type": "code",
   "execution_count": 13,
   "id": "8273ffd0",
   "metadata": {
    "ExecuteTime": {
     "end_time": "2022-05-09T05:33:34.005658Z",
     "start_time": "2022-05-09T05:33:34.002926Z"
    }
   },
   "outputs": [
    {
     "data": {
      "text/plain": [
       "0                           NaT\n",
       "1                           NaT\n",
       "2                           NaT\n",
       "3       2013-07-05 16:11:49.513\n",
       "4       2013-02-26 18:56:37.841\n",
       "                  ...          \n",
       "49995   2013-05-09 13:47:52.875\n",
       "49996                       NaT\n",
       "49997                       NaT\n",
       "49998   2013-04-28 12:35:38.709\n",
       "49999                       NaT\n",
       "Name: enrolled_date, Length: 50000, dtype: datetime64[ns]"
      ]
     },
     "execution_count": 13,
     "metadata": {},
     "output_type": "execute_result"
    }
   ],
   "source": [
    "data['enrolled_date']"
   ]
  },
  {
   "cell_type": "code",
   "execution_count": 14,
   "id": "de0cca39",
   "metadata": {
    "ExecuteTime": {
     "end_time": "2022-05-09T05:33:34.010051Z",
     "start_time": "2022-05-09T05:33:34.006439Z"
    }
   },
   "outputs": [],
   "source": [
    "data['diff'] = (data.enrolled_date\n",
    "                - data.first_open).astype('timedelta64[h]') #시간단위변환"
   ]
  },
  {
   "cell_type": "code",
   "execution_count": 15,
   "id": "8bba2734",
   "metadata": {
    "ExecuteTime": {
     "end_time": "2022-05-09T05:33:34.076253Z",
     "start_time": "2022-05-09T05:33:34.010937Z"
    }
   },
   "outputs": [
    {
     "data": {
      "text/plain": [
       "Text(0.5, 1.0, 'Dist of Time-since-enrolled')"
      ]
     },
     "execution_count": 15,
     "metadata": {},
     "output_type": "execute_result"
    },
    {
     "data": {
      "image/png": "[encoded data removed]",
      "text/plain": [
       "<Figure size 432x288 with 1 Axes>"
      ]
     },
     "metadata": {},
     "output_type": "display_data"
    }
   ],
   "source": [
    "plt.hist(data['diff'].dropna())\n",
    "plt.title(\"Dist of Time-since-enrolled\")"
   ]
  },
  {
   "cell_type": "markdown",
   "id": "dea60581",
   "metadata": {},
   "source": [
    "**Obsevation**\n",
    "\n",
    "* 500 시간 내에는 대부분 등록을 한다."
   ]
  },
  {
   "cell_type": "code",
   "execution_count": 16,
   "id": "af31f0e5",
   "metadata": {
    "ExecuteTime": {
     "end_time": "2022-05-09T05:33:34.187942Z",
     "start_time": "2022-05-09T05:33:34.077693Z"
    }
   },
   "outputs": [
    {
     "data": {
      "text/plain": [
       "Text(0.5, 1.0, 'Dist of Time-since-enrolled')"
      ]
     },
     "execution_count": 16,
     "metadata": {},
     "output_type": "execute_result"
    },
    {
     "data": {
      "image/png": "[encoded data removed]",
      "text/plain": [
       "<Figure size 432x288 with 1 Axes>"
      ]
     },
     "metadata": {},
     "output_type": "display_data"
    }
   ],
   "source": [
    "plt.hist(data['diff'].dropna(), range=[0,100])\n",
    "plt.title(\"Dist of Time-since-enrolled\")"
   ]
  },
  {
   "cell_type": "markdown",
   "id": "87eeaff9",
   "metadata": {},
   "source": [
    "이틀로 잡아서 보자."
   ]
  },
  {
   "cell_type": "code",
   "execution_count": 17,
   "id": "591fb797",
   "metadata": {
    "ExecuteTime": {
     "end_time": "2022-05-09T05:33:34.191248Z",
     "start_time": "2022-05-09T05:33:34.188891Z"
    }
   },
   "outputs": [],
   "source": [
    "#48시간 이내에 등록한 사람들을 1로 두고 초과는 아직 등록을 하지 않았으니 0으로 두자.\n",
    "data.loc[data['diff'] > 48, 'enrolled'] = 0"
   ]
  },
  {
   "cell_type": "code",
   "execution_count": 18,
   "id": "bd1e3e0a",
   "metadata": {
    "ExecuteTime": {
     "end_time": "2022-05-09T05:33:34.198203Z",
     "start_time": "2022-05-09T05:33:34.192253Z"
    }
   },
   "outputs": [],
   "source": [
    "data = data.drop(['diff','enrolled_date','first_open'],axis=1)"
   ]
  },
  {
   "cell_type": "markdown",
   "id": "5272c709",
   "metadata": {},
   "source": [
    "## 변수가공(2) - screen"
   ]
  },
  {
   "cell_type": "code",
   "execution_count": 91,
   "id": "fd76885d",
   "metadata": {
    "ExecuteTime": {
     "end_time": "2022-05-09T14:29:22.332106Z",
     "start_time": "2022-05-09T14:29:22.280706Z"
    }
   },
   "outputs": [
    {
     "data": {
      "text/html": [
       "<div>\n",
       "<style scoped>\n",
       "    .dataframe tbody tr th:only-of-type {\n",
       "        vertical-align: middle;\n",
       "    }\n",
       "\n",
       "    .dataframe tbody tr th {\n",
       "        vertical-align: top;\n",
       "    }\n",
       "\n",
       "    .dataframe thead th {\n",
       "        text-align: right;\n",
       "    }\n",
       "</style>\n",
       "<table border=\"1\" class=\"dataframe\">\n",
       "  <thead>\n",
       "    <tr style=\"text-align: right;\">\n",
       "      <th></th>\n",
       "      <th>Unnamed: 0</th>\n",
       "      <th>top_screens</th>\n",
       "    </tr>\n",
       "  </thead>\n",
       "  <tbody>\n",
       "    <tr>\n",
       "      <th>0</th>\n",
       "      <td>0</td>\n",
       "      <td>Loan2</td>\n",
       "    </tr>\n",
       "    <tr>\n",
       "      <th>1</th>\n",
       "      <td>1</td>\n",
       "      <td>location</td>\n",
       "    </tr>\n",
       "    <tr>\n",
       "      <th>2</th>\n",
       "      <td>2</td>\n",
       "      <td>Institutions</td>\n",
       "    </tr>\n",
       "    <tr>\n",
       "      <th>3</th>\n",
       "      <td>3</td>\n",
       "      <td>Credit3Container</td>\n",
       "    </tr>\n",
       "    <tr>\n",
       "      <th>4</th>\n",
       "      <td>4</td>\n",
       "      <td>VerifyPhone</td>\n",
       "    </tr>\n",
       "  </tbody>\n",
       "</table>\n",
       "</div>"
      ],
      "text/plain": [
       "   Unnamed: 0       top_screens\n",
       "0           0             Loan2\n",
       "1           1          location\n",
       "2           2      Institutions\n",
       "3           3  Credit3Container\n",
       "4           4       VerifyPhone"
      ]
     },
     "execution_count": 91,
     "metadata": {},
     "output_type": "execute_result"
    }
   ],
   "source": [
    "pd.read_csv(\"./data/P39-CS3-Data/top_screens.csv\").head()"
   ]
  },
  {
   "cell_type": "code",
   "execution_count": 19,
   "id": "1573acf1",
   "metadata": {
    "ExecuteTime": {
     "end_time": "2022-05-09T05:33:34.203418Z",
     "start_time": "2022-05-09T05:33:34.199319Z"
    }
   },
   "outputs": [],
   "source": [
    "top_screens = pd.read_csv(\"./data/P39-CS3-Data/top_screens.csv\").top_screens.values"
   ]
  },
  {
   "cell_type": "code",
   "execution_count": 20,
   "id": "79cff1bf",
   "metadata": {
    "ExecuteTime": {
     "end_time": "2022-05-09T05:33:36.533455Z",
     "start_time": "2022-05-09T05:33:34.204464Z"
    }
   },
   "outputs": [],
   "source": [
    "#몇 개의 스크린이 있는지 알기 위해서 쉼표 하나를 추가해서 보자.\n",
    "data['screen_list'] = data.screen_list.astype(str) + ','\n",
    "for sc in top_screens:\n",
    "    data[sc] = data.screen_list.str.contains(sc).astype(int) #True , Fals\n",
    "    data['screen_list'] = data.screen_list.str.replace(sc+',', '')"
   ]
  },
  {
   "cell_type": "code",
   "execution_count": 21,
   "id": "f4ff6984",
   "metadata": {
    "ExecuteTime": {
     "end_time": "2022-05-09T05:33:36.585209Z",
     "start_time": "2022-05-09T05:33:36.534362Z"
    }
   },
   "outputs": [],
   "source": [
    "#미래의 데이터 내 스크린에 없는 것도 있기 때문에 만들어주자.\n",
    "data['other']= data.screen_list.str.count(',') #top_screen을 제외하고 킨 화면은 몇개인가\n",
    "data=data.drop(columns=['screen_list'])"
   ]
  },
  {
   "cell_type": "code",
   "execution_count": 39,
   "id": "52c2fce4",
   "metadata": {
    "ExecuteTime": {
     "end_time": "2022-05-09T05:46:22.402395Z",
     "start_time": "2022-05-09T05:46:22.340274Z"
    }
   },
   "outputs": [],
   "source": [
    "#저축, 신용, 대출 등의 화면 리스트 별로 몇 개의 창을 띄워놓았을까?\n",
    "saving_screens=['Saving1',\n",
    "               'Saving2',\n",
    "               'Saving2Amount',\n",
    "               'Saving4',\n",
    "               'Saving5',\n",
    "               'Saving6',\n",
    "               'Saving7',\n",
    "               'Saving8',\n",
    "               'Saving9',\n",
    "               'Saving10']\n",
    "\n",
    "data['SavingsCount']=data[saving_screens].sum(axis=1) #saving_screens와 관련한 것들 몇개나 켜놓았는가?\n",
    "data=data.drop(saving_screens,axis=1) \n",
    "\n",
    "cm_screens=['Credit1','Credit2','Credit3','Credit3Container','Credit3Dashboard']\n",
    "data['CMCount']=  data[cm_screens].sum(axis=1)\n",
    "data=data.drop(cm_screens,axis=1) \n",
    "\n",
    "cc_screens=['CC1','CC1Category','CC3']\n",
    "data['CCCount']=  data[cc_screens].sum(axis=1)\n",
    "data=data.drop(cc_screens,axis=1) \n",
    "\n",
    "loan_screens=['Loan','Loan2','Loan3','Loan4']\n",
    "data['LoansCount']=  data[loan_screens].sum(axis=1)\n",
    "data=data.drop(loan_screens,axis=1) "
   ]
  },
  {
   "cell_type": "code",
   "execution_count": 50,
   "id": "c3429088",
   "metadata": {
    "ExecuteTime": {
     "end_time": "2022-05-09T05:52:53.370815Z",
     "start_time": "2022-05-09T05:52:53.044690Z"
    }
   },
   "outputs": [],
   "source": [
    "#모든 과정을 거친 data를 새로 만들자.\n",
    "data.to_csv(\"new_appdate10.csv\",index=False)"
   ]
  },
  {
   "cell_type": "markdown",
   "id": "f0eae21b",
   "metadata": {},
   "source": [
    "# Models"
   ]
  },
  {
   "cell_type": "code",
   "execution_count": 51,
   "id": "00512c6b",
   "metadata": {
    "ExecuteTime": {
     "end_time": "2022-05-09T05:52:57.673428Z",
     "start_time": "2022-05-09T05:52:57.545962Z"
    }
   },
   "outputs": [],
   "source": [
    "dataset = pd.read_csv(\"./new_appdate10.csv\")"
   ]
  },
  {
   "cell_type": "code",
   "execution_count": 52,
   "id": "2b5b4b7c",
   "metadata": {
    "ExecuteTime": {
     "end_time": "2022-05-09T05:52:58.169216Z",
     "start_time": "2022-05-09T05:52:58.160971Z"
    }
   },
   "outputs": [],
   "source": [
    "X = dataset.drop(['enrolled'],axis=1)\n",
    "y = dataset['enrolled'] #target"
   ]
  },
  {
   "cell_type": "code",
   "execution_count": 53,
   "id": "737f1945",
   "metadata": {
    "ExecuteTime": {
     "end_time": "2022-05-09T05:52:58.698382Z",
     "start_time": "2022-05-09T05:52:58.669244Z"
    }
   },
   "outputs": [],
   "source": [
    "from sklearn.model_selection import train_test_split\n",
    "\n",
    "X_train,X_test,y_train,y_test = train_test_split(X,y, test_size=.3, random_state=42)"
   ]
  },
  {
   "cell_type": "code",
   "execution_count": 55,
   "id": "95eaf102",
   "metadata": {
    "ExecuteTime": {
     "end_time": "2022-05-09T05:54:11.750751Z",
     "start_time": "2022-05-09T05:54:11.731013Z"
    }
   },
   "outputs": [],
   "source": [
    "#나중에 user와 merge해야해서 따로 저장해두자.\n",
    "train_identifier = X_train['user']\n",
    "X_train = X_train.drop('user',axis=1)\n",
    "\n",
    "test_identifier=X_test['user']\n",
    "X_test = X_test.drop('user',axis=1)"
   ]
  },
  {
   "cell_type": "code",
   "execution_count": 56,
   "id": "9fd1d3c4",
   "metadata": {
    "ExecuteTime": {
     "end_time": "2022-05-09T05:55:36.897267Z",
     "start_time": "2022-05-09T05:55:36.851709Z"
    }
   },
   "outputs": [],
   "source": [
    "from sklearn.preprocessing import StandardScaler\n",
    "\n",
    "ss = StandardScaler()\n",
    "X_train2 = pd.DataFrame(ss.fit_transform(X_train)) \n",
    "X_test2 = pd.DataFrame(ss.transform(X_test))"
   ]
  },
  {
   "cell_type": "markdown",
   "id": "63bff900",
   "metadata": {},
   "source": [
    "ss.fit_transform을 하면 numpy로 출력이 되는데, merge하기 위해서 DataFrame으로 두었다."
   ]
  },
  {
   "cell_type": "code",
   "execution_count": 60,
   "id": "a869247a",
   "metadata": {
    "ExecuteTime": {
     "end_time": "2022-05-09T05:56:20.179640Z",
     "start_time": "2022-05-09T05:56:20.174415Z"
    }
   },
   "outputs": [],
   "source": [
    "#dataframe의 컬럼과 인덱스를 지정해주자.\n",
    "X_train2.columns = X_train.columns.values\n",
    "X_test2.columns = X_test.columns.values\n",
    "\n",
    "X_train2.index = X_train.index.values\n",
    "X_test2.index = X_test.index.values"
   ]
  },
  {
   "cell_type": "code",
   "execution_count": 64,
   "id": "b832c487",
   "metadata": {
    "ExecuteTime": {
     "end_time": "2022-05-09T05:57:23.173193Z",
     "start_time": "2022-05-09T05:57:23.168726Z"
    }
   },
   "outputs": [],
   "source": [
    "#final\n",
    "X_train= X_train2\n",
    "X_test=X_test2"
   ]
  },
  {
   "cell_type": "markdown",
   "id": "977eb924",
   "metadata": {},
   "source": [
    "# Building"
   ]
  },
  {
   "cell_type": "code",
   "execution_count": 71,
   "id": "3a5539db",
   "metadata": {
    "ExecuteTime": {
     "end_time": "2022-05-09T06:02:53.619102Z",
     "start_time": "2022-05-09T06:02:53.323018Z"
    }
   },
   "outputs": [
    {
     "data": {
      "text/plain": [
       "LogisticRegression(penalty='l1', random_state=42, solver='liblinear')"
      ]
     },
     "execution_count": 71,
     "metadata": {},
     "output_type": "execute_result"
    }
   ],
   "source": [
    "from sklearn.linear_model import LogisticRegression\n",
    "\n",
    "clf = LogisticRegression(random_state=42,penalty='l1',solver='liblinear') # 스크린 간 연관성을 없애기 위해 페널티를 준다.\n",
    "clf.fit(X_train,y_train)"
   ]
  },
  {
   "cell_type": "code",
   "execution_count": 72,
   "id": "f8b95dc3",
   "metadata": {
    "ExecuteTime": {
     "end_time": "2022-05-09T06:03:12.763067Z",
     "start_time": "2022-05-09T06:03:12.753839Z"
    }
   },
   "outputs": [],
   "source": [
    "y_pred= clf.predict(X_test)"
   ]
  },
  {
   "cell_type": "code",
   "execution_count": 81,
   "id": "d067c2ae",
   "metadata": {
    "ExecuteTime": {
     "end_time": "2022-05-09T06:07:43.083618Z",
     "start_time": "2022-05-09T06:07:43.069014Z"
    }
   },
   "outputs": [
    {
     "data": {
      "text/plain": [
       "0.7697333333333334"
      ]
     },
     "execution_count": 81,
     "metadata": {},
     "output_type": "execute_result"
    }
   ],
   "source": [
    "from sklearn.metrics import confusion_matrix, accuracy_score,f1_score,precision_score,recall_score,classification_report\n",
    "\n",
    "\n",
    "cm = confusion_matrix(y_test,y_pred)\n",
    "accuracy_score(y_test,y_pred)"
   ]
  },
  {
   "cell_type": "markdown",
   "id": "0098f145",
   "metadata": {},
   "source": [
    "과적합인가 보기 위해서 정밀도를 보자."
   ]
  },
  {
   "cell_type": "code",
   "execution_count": 75,
   "id": "c0b1c7c9",
   "metadata": {
    "ExecuteTime": {
     "end_time": "2022-05-09T06:05:35.393832Z",
     "start_time": "2022-05-09T06:05:35.377719Z"
    }
   },
   "outputs": [
    {
     "data": {
      "text/plain": [
       "0.7639467670385804"
      ]
     },
     "execution_count": 75,
     "metadata": {},
     "output_type": "execute_result"
    }
   ],
   "source": [
    "precision_score(y_test,y_pred) #정확도 of 정확도"
   ]
  },
  {
   "cell_type": "code",
   "execution_count": 76,
   "id": "2ebcb970",
   "metadata": {
    "ExecuteTime": {
     "end_time": "2022-05-09T06:05:44.530426Z",
     "start_time": "2022-05-09T06:05:44.513000Z"
    }
   },
   "outputs": [
    {
     "data": {
      "text/plain": [
       "0.769949871291153"
      ]
     },
     "execution_count": 76,
     "metadata": {},
     "output_type": "execute_result"
    }
   ],
   "source": [
    "recall_score(y_test,y_pred) #재현율"
   ]
  },
  {
   "cell_type": "code",
   "execution_count": 77,
   "id": "ad0129c8",
   "metadata": {
    "ExecuteTime": {
     "end_time": "2022-05-09T06:06:18.523134Z",
     "start_time": "2022-05-09T06:06:18.506965Z"
    }
   },
   "outputs": [
    {
     "data": {
      "text/plain": [
       "0.7669365721997301"
      ]
     },
     "execution_count": 77,
     "metadata": {},
     "output_type": "execute_result"
    }
   ],
   "source": [
    "f1_score(y_test,y_pred) #f1_score"
   ]
  },
  {
   "cell_type": "code",
   "execution_count": 83,
   "id": "6eb77d9d",
   "metadata": {
    "ExecuteTime": {
     "end_time": "2022-05-09T06:07:56.045681Z",
     "start_time": "2022-05-09T06:07:56.004921Z"
    }
   },
   "outputs": [
    {
     "name": "stdout",
     "output_type": "stream",
     "text": [
      "              precision    recall  f1-score   support\n",
      "\n",
      "           0       0.78      0.77      0.77      7619\n",
      "           1       0.76      0.77      0.77      7381\n",
      "\n",
      "    accuracy                           0.77     15000\n",
      "   macro avg       0.77      0.77      0.77     15000\n",
      "weighted avg       0.77      0.77      0.77     15000\n",
      "\n"
     ]
    }
   ],
   "source": [
    "print(classification_report(y_test,y_pred))"
   ]
  },
  {
   "cell_type": "markdown",
   "id": "d0b36ca5",
   "metadata": {},
   "source": [
    "# K겹 검증"
   ]
  },
  {
   "cell_type": "code",
   "execution_count": 85,
   "id": "632aa6ed",
   "metadata": {
    "ExecuteTime": {
     "end_time": "2022-05-09T06:09:54.654716Z",
     "start_time": "2022-05-09T06:09:52.565356Z"
    }
   },
   "outputs": [],
   "source": [
    "from sklearn.model_selection import cross_val_score\n",
    "accuracies = cross_val_score(estimator=clf, X=X_train,y=y_train,cv=10)"
   ]
  },
  {
   "cell_type": "code",
   "execution_count": 86,
   "id": "b65929ec",
   "metadata": {
    "ExecuteTime": {
     "end_time": "2022-05-09T06:10:30.172132Z",
     "start_time": "2022-05-09T06:10:30.167430Z"
    }
   },
   "outputs": [
    {
     "name": "stdout",
     "output_type": "stream",
     "text": [
      "logistic Acc': 0.766 (+/- 0.008)\n"
     ]
    }
   ],
   "source": [
    "print(\"logistic Acc': %.3f (+/- %.3f)\"% (accuracies.mean(), accuracies.std()))"
   ]
  },
  {
   "cell_type": "markdown",
   "id": "9769ce65",
   "metadata": {},
   "source": [
    "* 정확도도 앞서 본 것과 비슷하고 분산이 낮은걸로 보아 일관성 있는 모델을 만들었다."
   ]
  },
  {
   "cell_type": "markdown",
   "id": "65069afa",
   "metadata": {},
   "source": [
    "# 모델 완성"
   ]
  },
  {
   "cell_type": "markdown",
   "id": "f24271af",
   "metadata": {
    "ExecuteTime": {
     "end_time": "2022-05-09T06:11:26.861142Z",
     "start_time": "2022-05-09T06:11:26.854623Z"
    }
   },
   "source": [
    "Formatting the Final Results"
   ]
  },
  {
   "cell_type": "code",
   "execution_count": 88,
   "id": "19b6af70",
   "metadata": {
    "ExecuteTime": {
     "end_time": "2022-05-09T06:11:55.753523Z",
     "start_time": "2022-05-09T06:11:55.742518Z"
    }
   },
   "outputs": [],
   "source": [
    "final_results = pd.concat([y_test,test_identifier], axis=1).dropna()"
   ]
  },
  {
   "cell_type": "code",
   "execution_count": 90,
   "id": "3c4cd90d",
   "metadata": {
    "ExecuteTime": {
     "end_time": "2022-05-09T06:12:38.996284Z",
     "start_time": "2022-05-09T06:12:38.976709Z"
    }
   },
   "outputs": [
    {
     "data": {
      "text/html": [
       "<div>\n",
       "<style scoped>\n",
       "    .dataframe tbody tr th:only-of-type {\n",
       "        vertical-align: middle;\n",
       "    }\n",
       "\n",
       "    .dataframe tbody tr th {\n",
       "        vertical-align: top;\n",
       "    }\n",
       "\n",
       "    .dataframe thead th {\n",
       "        text-align: right;\n",
       "    }\n",
       "</style>\n",
       "<table border=\"1\" class=\"dataframe\">\n",
       "  <thead>\n",
       "    <tr style=\"text-align: right;\">\n",
       "      <th></th>\n",
       "      <th>user</th>\n",
       "      <th>enrolled</th>\n",
       "      <th>predicted_results</th>\n",
       "    </tr>\n",
       "  </thead>\n",
       "  <tbody>\n",
       "    <tr>\n",
       "      <th>0</th>\n",
       "      <td>48024</td>\n",
       "      <td>1</td>\n",
       "      <td>0</td>\n",
       "    </tr>\n",
       "    <tr>\n",
       "      <th>1</th>\n",
       "      <td>266463</td>\n",
       "      <td>1</td>\n",
       "      <td>0</td>\n",
       "    </tr>\n",
       "    <tr>\n",
       "      <th>2</th>\n",
       "      <td>262169</td>\n",
       "      <td>1</td>\n",
       "      <td>0</td>\n",
       "    </tr>\n",
       "    <tr>\n",
       "      <th>3</th>\n",
       "      <td>213736</td>\n",
       "      <td>1</td>\n",
       "      <td>0</td>\n",
       "    </tr>\n",
       "    <tr>\n",
       "      <th>4</th>\n",
       "      <td>169082</td>\n",
       "      <td>1</td>\n",
       "      <td>1</td>\n",
       "    </tr>\n",
       "    <tr>\n",
       "      <th>...</th>\n",
       "      <td>...</td>\n",
       "      <td>...</td>\n",
       "      <td>...</td>\n",
       "    </tr>\n",
       "    <tr>\n",
       "      <th>14995</th>\n",
       "      <td>194893</td>\n",
       "      <td>1</td>\n",
       "      <td>1</td>\n",
       "    </tr>\n",
       "    <tr>\n",
       "      <th>14996</th>\n",
       "      <td>78355</td>\n",
       "      <td>1</td>\n",
       "      <td>1</td>\n",
       "    </tr>\n",
       "    <tr>\n",
       "      <th>14997</th>\n",
       "      <td>135352</td>\n",
       "      <td>1</td>\n",
       "      <td>1</td>\n",
       "    </tr>\n",
       "    <tr>\n",
       "      <th>14998</th>\n",
       "      <td>85431</td>\n",
       "      <td>0</td>\n",
       "      <td>1</td>\n",
       "    </tr>\n",
       "    <tr>\n",
       "      <th>14999</th>\n",
       "      <td>56657</td>\n",
       "      <td>1</td>\n",
       "      <td>1</td>\n",
       "    </tr>\n",
       "  </tbody>\n",
       "</table>\n",
       "<p>15000 rows × 3 columns</p>\n",
       "</div>"
      ],
      "text/plain": [
       "         user  enrolled  predicted_results\n",
       "0       48024         1                  0\n",
       "1      266463         1                  0\n",
       "2      262169         1                  0\n",
       "3      213736         1                  0\n",
       "4      169082         1                  1\n",
       "...       ...       ...                ...\n",
       "14995  194893         1                  1\n",
       "14996   78355         1                  1\n",
       "14997  135352         1                  1\n",
       "14998   85431         0                  1\n",
       "14999   56657         1                  1\n",
       "\n",
       "[15000 rows x 3 columns]"
      ]
     },
     "execution_count": 90,
     "metadata": {},
     "output_type": "execute_result"
    }
   ],
   "source": [
    "final_results['predicted_results']=y_pred\n",
    "final_results[['user','enrolled','predicted_results']].reset_index(drop=True)"
   ]
  },
  {
   "cell_type": "markdown",
   "id": "adcfbf36",
   "metadata": {},
   "source": [
    "# 마무리"
   ]
  },
  {
   "cell_type": "markdown",
   "id": "ec14e023",
   "metadata": {},
   "source": [
    "* 우리는 0과 1로 구분지어 프리미엄을 등록하는지 안하는지에 대한 라벨링 작업을 시행했다. 구독을 하지 않는 유저들을 대상으로 마케팅 활동을 좁혀 구독률을 높일 수 있었다. 구독할 가능성이 높은 사람들에겐 할인을 해줘도 되는데 그럴 필요까지는 없다."
   ]
  },
  {
   "cell_type": "markdown",
   "id": "f61ef78a",
   "metadata": {},
   "source": [
    "* 반면에 해지할 가능성이 있는 유저는 거절할 수 없는 제안을 제공해 유료 구독자로 전환할 수 있다. 예를 들어 첫 달 무료 또는 연간 구독 시 50% 할인이 있겠다."
   ]
  },
  {
   "cell_type": "markdown",
   "id": "8892f383",
   "metadata": {},
   "source": [
    "* ```이러한 예시는 초기에는 비용이 들지만 장기적으로 보았을 때 수익상승을 기대해 볼 수 있다첫 달 무료는 첫 달에만 사용자를 잡아둬서 충분치 않지만, 1년 구독은 최소 1년은 잡아둘 수 있다고 생각한다.```"
   ]
  }
 ],
 "metadata": {
  "kernelspec": {
   "display_name": "Python 3 (ipykernel)",
   "language": "python",
   "name": "python3"
  },
  "language_info": {
   "codemirror_mode": {
    "name": "ipython",
    "version": 3
   },
   "file_extension": ".py",
   "mimetype": "text/x-python",
   "name": "python",
   "nbconvert_exporter": "python",
   "pygments_lexer": "ipython3",
   "version": "3.9.7"
  },
  "toc": {
   "base_numbering": 1,
   "nav_menu": {},
   "number_sections": true,
   "sideBar": true,
   "skip_h1_title": false,
   "title_cell": "Table of Contents",
   "title_sidebar": "Contents",
   "toc_cell": false,
   "toc_position": {},
   "toc_section_display": true,
   "toc_window_display": false
  },
  "varInspector": {
   "cols": {
    "lenName": 16,
    "lenType": 16,
    "lenVar": 40
   },
   "kernels_config": {
    "python": {
     "delete_cmd_postfix": "",
     "delete_cmd_prefix": "del ",
     "library": "var_list.py",
     "varRefreshCmd": "print(var_dic_list())"
    },
    "r": {
     "delete_cmd_postfix": ") ",
     "delete_cmd_prefix": "rm(",
     "library": "var_list.r",
     "varRefreshCmd": "cat(var_dic_list()) "
    }
   },
   "types_to_exclude": [
    "module",
    "function",
    "builtin_function_or_method",
    "instance",
    "_Feature"
   ],
   "window_display": false
  }
 },
 "nbformat": 4,
 "nbformat_minor": 5
}
