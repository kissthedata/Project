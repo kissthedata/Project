{
 "cells": [
  {
   "cell_type": "markdown",
   "id": "c669de6c",
   "metadata": {},
   "source": [
    "# 크롤링"
   ]
  },
  {
   "cell_type": "code",
   "execution_count": 1,
   "id": "a4f56224",
   "metadata": {
    "ExecuteTime": {
     "end_time": "2022-06-26T06:18:13.359874Z",
     "start_time": "2022-06-26T06:18:13.070455Z"
    }
   },
   "outputs": [],
   "source": [
    "from selenium import webdriver\n",
    "from bs4 import BeautifulSoup\n",
    "from bs4 import BeautifulSoup as bs"
   ]
  },
  {
   "cell_type": "code",
   "execution_count": 74,
   "id": "57979014",
   "metadata": {
    "ExecuteTime": {
     "end_time": "2022-06-26T09:07:38.812936Z",
     "start_time": "2022-06-26T09:07:34.836393Z"
    }
   },
   "outputs": [
    {
     "name": "stdout",
     "output_type": "stream",
     "text": [
      "\n"
     ]
    },
    {
     "name": "stderr",
     "output_type": "stream",
     "text": [
      "[WDM] - ====== WebDriver manager ======\n",
      "[WDM] - Current google-chrome version is 103.0.5060\n",
      "[WDM] - Get LATEST chromedriver version for 103.0.5060 google-chrome\n",
      "[WDM] - Driver [/Users/bnj/.wdm/drivers/chromedriver/mac64/103.0.5060.53/chromedriver] found in cache\n"
     ]
    }
   ],
   "source": [
    "from webdriver_manager.chrome import ChromeDriverManager\n",
    "\n",
    "driver = webdriver.Chrome(ChromeDriverManager().install())"
   ]
  },
  {
   "cell_type": "code",
   "execution_count": 11,
   "id": "a67289ff",
   "metadata": {
    "ExecuteTime": {
     "end_time": "2022-06-26T08:26:07.753000Z",
     "start_time": "2022-06-26T08:25:49.878589Z"
    }
   },
   "outputs": [],
   "source": [
    "#담을 데이터프레임 지정\n",
    "scores= []\n",
    "company= []\n",
    "\n",
    "for i in range(1,18):\n",
    "    url =f'http://www.38.co.kr/html/fund/index.htm?o=r1&page={i}' #homepage\n",
    "    driver.get(url) \n",
    "    html=driver.page_source\n",
    "    soup=BeautifulSoup(html)\n",
    "    \n",
    "    score1 = [] \n",
    "    score2 = []\n",
    "    \n",
    "    #17페이지까지 모든 종목들의 수요예측결과 크롤링\n",
    "    for i in range(70):\n",
    "        score1.append(soup.select('tr[bgcolor=\"#FFFFFF\"] > td[align=\"center\"]')[i].text)\n",
    "        score2.append(soup.select('tr[bgcolor=\"#F8F8F8\"] > td[align=\"center\"]')[i].text)\n",
    "\n",
    "    def list_chunk(lst, n):\n",
    "        return [lst[i:i+n] for i in range(0, len(lst), n)]\n",
    "\n",
    "    list_chunked1 = list_chunk(score1, 7)\n",
    "    list_chunked2 = list_chunk(score2, 7)\n",
    "\n",
    "    import itertools as it\n",
    "    df= pd.DataFrame(list(it.chain(*zip(list_chunked1, list_chunked2))))\n",
    "    scores.append(df)\n",
    "    \n",
    "    #종목명\n",
    "    selection = soup.select('.menu')\n",
    "\n",
    "    for sentence in selection:\n",
    "        company.append([sentence.text.replace(\"\\n\",'').strip()],)"
   ]
  },
  {
   "cell_type": "code",
   "execution_count": 25,
   "id": "25ab48bc",
   "metadata": {
    "ExecuteTime": {
     "end_time": "2022-06-26T08:29:40.765714Z",
     "start_time": "2022-06-26T08:29:40.756197Z"
    }
   },
   "outputs": [],
   "source": [
    "total_score_list=[]\n",
    "\n",
    "data = pd.concat([scores[0],scores[1],scores[2],scores[3],scores[4],scores[5],scores[6],scores[7],scores[8],scores[9],\n",
    "           scores[10],scores[11],scores[12],scores[13],scores[14],scores[15],scores[16]],axis=0).reset_index(drop=True)\n",
    "data[7] = pd.DataFrame(results)"
   ]
  },
  {
   "cell_type": "code",
   "execution_count": 27,
   "id": "28effcd6",
   "metadata": {
    "ExecuteTime": {
     "end_time": "2022-06-26T08:29:52.439930Z",
     "start_time": "2022-06-26T08:29:52.425761Z"
    }
   },
   "outputs": [],
   "source": [
    "data.columns = ['예측일','공모희망가_원','공모가_원','공모금액_백만원','기관경쟁률','의무보유확약_퍼센트','주간사','종목명']\n",
    "data = data[['종목명','예측일','공모희망가_원','공모가_원','공모금액_백만원','기관경쟁률','의무보유확약_퍼센트','주간사']]"
   ]
  },
  {
   "cell_type": "code",
   "execution_count": 6,
   "id": "7ac42603",
   "metadata": {
    "ExecuteTime": {
     "end_time": "2022-06-14T01:03:45.155201Z",
     "start_time": "2022-06-14T01:03:45.149144Z"
    }
   },
   "outputs": [],
   "source": [
    "data.to_csv(\"../project/data/공모주_기본정보.csv\",index=False)"
   ]
  },
  {
   "cell_type": "markdown",
   "id": "cb3859cf",
   "metadata": {},
   "source": [
    "# 시초가"
   ]
  },
  {
   "cell_type": "code",
   "execution_count": 78,
   "id": "59b887b1",
   "metadata": {
    "ExecuteTime": {
     "end_time": "2022-06-26T09:08:15.336691Z",
     "start_time": "2022-06-26T09:08:07.382933Z"
    }
   },
   "outputs": [],
   "source": [
    "price=[]\n",
    "title = []\n",
    "\n",
    "for i in range(1,18):\n",
    "    url =f'http://www.38.co.kr/html/fund/index.htm?o=nw&page={i}' #시초가 데이터 홈페이지\n",
    "    driver.get(url)\n",
    "    html=driver.page_source\n",
    "    soup=BeautifulSoup(html)\n",
    "    \n",
    "    price1 = []\n",
    "    price2 = []\n",
    "    \n",
    "    title1 = []\n",
    "    title2 = []\n",
    "    \n",
    "    for i in range(1,21,2):\n",
    "        price1.append(soup.select('tr[bgcolor=\"#FFFFFF\"] > td[align=\"right\"]')[3*i].text)\n",
    "        price2.append(soup.select('tr[bgcolor=\"#F8F8F8\"] > td[align=\"right\"]')[3*i].text)\n",
    "\n",
    "\n",
    "    for j in range(0,10):\n",
    "        title1.append(soup.select('tr[bgcolor=\"#FFFFFF\"] > td[style=\"border-left:#EFEFEF 1px solid;\"]')[j].text)\n",
    "        title2.append(soup.select('tr[bgcolor=\"#F8F8F8\"] > td[style=\"border-left:#EFEFEF 1px solid;\"]')[j].text)\n",
    "    \n",
    "    #종목명과 시초가 결합\n",
    "    def list_chunk(lst, n):\n",
    "        return [lst[i:i+n] for i in range(0, len(lst), n)]\n",
    "\n",
    "    list_chunked1 = list_chunk(price1, 1)\n",
    "    list_chunked2 = list_chunk(price2, 1)\n",
    "\n",
    "    title_chunked1 = list_chunk(title1, 1)\n",
    "    title_chunked2 = list_chunk(title2, 1)\n",
    "\n",
    "    import itertools as it\n",
    "    df1 = pd.DataFrame(list(it.chain(*zip(list_chunked1, list_chunked2))))\n",
    "    df2 = pd.DataFrame(list(it.chain(*zip(title_chunked1,title_chunked2))))\n",
    "    df2['target'] = df1\n",
    "    title.append(df2)\n"
   ]
  },
  {
   "cell_type": "code",
   "execution_count": 80,
   "id": "9ba44146",
   "metadata": {
    "ExecuteTime": {
     "end_time": "2022-06-26T09:08:26.487501Z",
     "start_time": "2022-06-26T09:08:26.472045Z"
    }
   },
   "outputs": [],
   "source": [
    "title_price_list=[]\n",
    "\n",
    "for i in range(0,17):\n",
    "    title_price_list.append(title[i])\n",
    "prices=pd.concat(title_price_list,ignore_index=True)\n",
    "prices.to_csv(\"../project/data/공모주_시초가.csv\",index=False)"
   ]
  },
  {
   "cell_type": "code",
   "execution_count": 82,
   "id": "e71f213f",
   "metadata": {
    "ExecuteTime": {
     "end_time": "2022-06-26T09:08:49.153219Z",
     "start_time": "2022-06-26T09:08:49.127135Z"
    }
   },
   "outputs": [],
   "source": [
    "df1 = pd.read_csv(\"./data/공모주_기본정보.csv\")\n",
    "df2 = pd.read_csv(\"./data/공모주_시초가.csv\")\n",
    "df2.columns=['종목명','시초가']\n",
    "final_df = df1.merge(df2)\n",
    "final_df.to_csv(\"./data/공모주_데이터.csv\",index=False)"
   ]
  },
  {
   "cell_type": "code",
   "execution_count": 83,
   "id": "424676f8",
   "metadata": {
    "ExecuteTime": {
     "end_time": "2022-06-26T09:08:49.845354Z",
     "start_time": "2022-06-26T09:08:49.822252Z"
    }
   },
   "outputs": [
    {
     "data": {
      "text/html": [
       "<div>\n",
       "<style scoped>\n",
       "    .dataframe tbody tr th:only-of-type {\n",
       "        vertical-align: middle;\n",
       "    }\n",
       "\n",
       "    .dataframe tbody tr th {\n",
       "        vertical-align: top;\n",
       "    }\n",
       "\n",
       "    .dataframe thead th {\n",
       "        text-align: right;\n",
       "    }\n",
       "</style>\n",
       "<table border=\"1\" class=\"dataframe\">\n",
       "  <thead>\n",
       "    <tr style=\"text-align: right;\">\n",
       "      <th></th>\n",
       "      <th>종목명</th>\n",
       "      <th>예측일</th>\n",
       "      <th>공모희망가_원</th>\n",
       "      <th>공모가_원</th>\n",
       "      <th>공모금액_백만원</th>\n",
       "      <th>기관경쟁률</th>\n",
       "      <th>의무보유확약_퍼센트</th>\n",
       "      <th>주간사</th>\n",
       "      <th>시초가</th>\n",
       "    </tr>\n",
       "  </thead>\n",
       "  <tbody>\n",
       "    <tr>\n",
       "      <th>0</th>\n",
       "      <td>위니아에이드</td>\n",
       "      <td>2022.06.09</td>\n",
       "      <td>14,200~16,200</td>\n",
       "      <td>16,200</td>\n",
       "      <td>76,198</td>\n",
       "      <td>955:1</td>\n",
       "      <td>1.39%</td>\n",
       "      <td>신한금융투자</td>\n",
       "      <td>14,600</td>\n",
       "    </tr>\n",
       "    <tr>\n",
       "      <th>1</th>\n",
       "      <td>레이저쎌</td>\n",
       "      <td>2022.06.09</td>\n",
       "      <td>12,000~14,000</td>\n",
       "      <td>16,000</td>\n",
       "      <td>19,200</td>\n",
       "      <td>1442.95:1</td>\n",
       "      <td>12.43%</td>\n",
       "      <td>삼성증권</td>\n",
       "      <td>20,600</td>\n",
       "    </tr>\n",
       "    <tr>\n",
       "      <th>2</th>\n",
       "      <td>KB스팩21호</td>\n",
       "      <td>2022.06.08</td>\n",
       "      <td>2,000~2,000</td>\n",
       "      <td>2,000</td>\n",
       "      <td>15,000</td>\n",
       "      <td>NaN</td>\n",
       "      <td>-</td>\n",
       "      <td>KB증권</td>\n",
       "      <td>2,100</td>\n",
       "    </tr>\n",
       "    <tr>\n",
       "      <th>3</th>\n",
       "      <td>교보스팩12호</td>\n",
       "      <td>2022.06.08</td>\n",
       "      <td>2,000~2,000</td>\n",
       "      <td>2,000</td>\n",
       "      <td>11,500</td>\n",
       "      <td>NaN</td>\n",
       "      <td>-</td>\n",
       "      <td>교보증권</td>\n",
       "      <td>2,075</td>\n",
       "    </tr>\n",
       "    <tr>\n",
       "      <th>4</th>\n",
       "      <td>보로노이</td>\n",
       "      <td>2022.06.08</td>\n",
       "      <td>40,000~46,000</td>\n",
       "      <td>40,000</td>\n",
       "      <td>52,000</td>\n",
       "      <td>28.35 :1</td>\n",
       "      <td>-</td>\n",
       "      <td>한국투자증권,미래에셋증권</td>\n",
       "      <td>36,000</td>\n",
       "    </tr>\n",
       "    <tr>\n",
       "      <th>...</th>\n",
       "      <td>...</td>\n",
       "      <td>...</td>\n",
       "      <td>...</td>\n",
       "      <td>...</td>\n",
       "      <td>...</td>\n",
       "      <td>...</td>\n",
       "      <td>...</td>\n",
       "      <td>...</td>\n",
       "      <td>...</td>\n",
       "    </tr>\n",
       "    <tr>\n",
       "      <th>328</th>\n",
       "      <td>대모(구.대모엔지니어링)</td>\n",
       "      <td>2019.07.09</td>\n",
       "      <td>4,800~5,200</td>\n",
       "      <td>5,200</td>\n",
       "      <td>10,320</td>\n",
       "      <td>1103.1:1</td>\n",
       "      <td>15.60%</td>\n",
       "      <td>신한금융투자</td>\n",
       "      <td>8,710</td>\n",
       "    </tr>\n",
       "    <tr>\n",
       "      <th>329</th>\n",
       "      <td>에이스토리</td>\n",
       "      <td>2019.07.03</td>\n",
       "      <td>11,600~14,300</td>\n",
       "      <td>14,300</td>\n",
       "      <td>21,692</td>\n",
       "      <td>614.25:1</td>\n",
       "      <td>3.56%</td>\n",
       "      <td>NH투자증권</td>\n",
       "      <td>12,900</td>\n",
       "    </tr>\n",
       "    <tr>\n",
       "      <th>330</th>\n",
       "      <td>플리토</td>\n",
       "      <td>2019.07.01</td>\n",
       "      <td>19,000~23,000</td>\n",
       "      <td>26,000</td>\n",
       "      <td>27,996</td>\n",
       "      <td>1133:1</td>\n",
       "      <td>22.00%</td>\n",
       "      <td>한국투자증권</td>\n",
       "      <td>31,600</td>\n",
       "    </tr>\n",
       "    <tr>\n",
       "      <th>331</th>\n",
       "      <td>세틀뱅크</td>\n",
       "      <td>2019.06.27</td>\n",
       "      <td>44,000~49,000</td>\n",
       "      <td>55,000</td>\n",
       "      <td>63,668</td>\n",
       "      <td>1122:1</td>\n",
       "      <td>14.80%</td>\n",
       "      <td>한국투자증권,신한금융투자</td>\n",
       "      <td>49,500</td>\n",
       "    </tr>\n",
       "    <tr>\n",
       "      <th>332</th>\n",
       "      <td>이베스트이안스팩1호</td>\n",
       "      <td>2019.06.26</td>\n",
       "      <td>2,000~2,000</td>\n",
       "      <td>2,000</td>\n",
       "      <td>6,000</td>\n",
       "      <td>NaN</td>\n",
       "      <td>-</td>\n",
       "      <td>이베스트투자증권㈜</td>\n",
       "      <td>3,040</td>\n",
       "    </tr>\n",
       "  </tbody>\n",
       "</table>\n",
       "<p>333 rows × 9 columns</p>\n",
       "</div>"
      ],
      "text/plain": [
       "               종목명         예측일         공모희망가_원   공모가_원  공모금액_백만원      기관경쟁률  \\\n",
       "0           위니아에이드  2022.06.09  14,200~16,200   16,200   76,198       955:1   \n",
       "1             레이저쎌  2022.06.09  12,000~14,000   16,000   19,200   1442.95:1   \n",
       "2          KB스팩21호  2022.06.08    2,000~2,000    2,000   15,000         NaN   \n",
       "3          교보스팩12호  2022.06.08    2,000~2,000    2,000   11,500         NaN   \n",
       "4             보로노이  2022.06.08  40,000~46,000   40,000   52,000    28.35 :1   \n",
       "..             ...         ...             ...     ...       ...        ...   \n",
       "328  대모(구.대모엔지니어링)  2019.07.09    4,800~5,200    5,200   10,320    1103.1:1   \n",
       "329          에이스토리  2019.07.03  11,600~14,300   14,300   21,692    614.25:1   \n",
       "330            플리토  2019.07.01  19,000~23,000   26,000   27,996      1133:1   \n",
       "331           세틀뱅크  2019.06.27  44,000~49,000   55,000   63,668      1122:1   \n",
       "332     이베스트이안스팩1호  2019.06.26    2,000~2,000    2,000    6,000         NaN   \n",
       "\n",
       "    의무보유확약_퍼센트            주간사      시초가  \n",
       "0        1.39%         신한금융투자  14,600   \n",
       "1       12.43%           삼성증권  20,600   \n",
       "2            -           KB증권   2,100   \n",
       "3            -           교보증권   2,075   \n",
       "4            -  한국투자증권,미래에셋증권  36,000   \n",
       "..         ...            ...      ...  \n",
       "328     15.60%         신한금융투자   8,710   \n",
       "329      3.56%         NH투자증권  12,900   \n",
       "330     22.00%         한국투자증권  31,600   \n",
       "331     14.80%  한국투자증권,신한금융투자  49,500   \n",
       "332          -      이베스트투자증권㈜   3,040   \n",
       "\n",
       "[333 rows x 9 columns]"
      ]
     },
     "execution_count": 83,
     "metadata": {},
     "output_type": "execute_result"
    }
   ],
   "source": [
    "final_df"
   ]
  }
 ],
 "metadata": {
  "kernelspec": {
   "display_name": "Python 3 (ipykernel)",
   "language": "python",
   "name": "python3"
  },
  "language_info": {
   "codemirror_mode": {
    "name": "ipython",
    "version": 3
   },
   "file_extension": ".py",
   "mimetype": "text/x-python",
   "name": "python",
   "nbconvert_exporter": "python",
   "pygments_lexer": "ipython3",
   "version": "3.9.7"
  },
  "toc": {
   "base_numbering": 1,
   "nav_menu": {},
   "number_sections": true,
   "sideBar": true,
   "skip_h1_title": false,
   "title_cell": "Table of Contents",
   "title_sidebar": "Contents",
   "toc_cell": false,
   "toc_position": {},
   "toc_section_display": true,
   "toc_window_display": false
  },
  "varInspector": {
   "cols": {
    "lenName": 16,
    "lenType": 16,
    "lenVar": 40
   },
   "kernels_config": {
    "python": {
     "delete_cmd_postfix": "",
     "delete_cmd_prefix": "del ",
     "library": "var_list.py",
     "varRefreshCmd": "print(var_dic_list())"
    },
    "r": {
     "delete_cmd_postfix": ") ",
     "delete_cmd_prefix": "rm(",
     "library": "var_list.r",
     "varRefreshCmd": "cat(var_dic_list()) "
    }
   },
   "types_to_exclude": [
    "module",
    "function",
    "builtin_function_or_method",
    "instance",
    "_Feature"
   ],
   "window_display": false
  }
 },
 "nbformat": 4,
 "nbformat_minor": 5
}
