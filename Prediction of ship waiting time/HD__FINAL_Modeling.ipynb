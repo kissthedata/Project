{
  "cells": [
    {
      "cell_type": "markdown",
      "source": [
        "# Process\n",
        "\n",
        "1. 변수 생성\n",
        "2. Target Encoder\n",
        "3. MinMaxScaler + HistGradeintBoosting Model\n",
        "4. Clipping"
      ],
      "metadata": {
        "id": "aHMScEenFiVm"
      }
    },
    {
      "cell_type": "code",
      "execution_count": null,
      "metadata": {
        "colab": {
          "base_uri": "https://localhost:8080/"
        },
        "id": "c_g5TjqxqPvg",
        "outputId": "ac0a8411-c89e-4e69-c36d-b512d1968bc9"
      },
      "outputs": [
        {
          "output_type": "stream",
          "name": "stdout",
          "text": [
            "Collecting optuna\n",
            "  Downloading optuna-3.4.0-py3-none-any.whl (409 kB)\n",
            "\u001b[2K     \u001b[90m━━━━━━━━━━━━━━━━━━━━━━━━━━━━━━━━━━━━━━━━\u001b[0m \u001b[32m409.6/409.6 kB\u001b[0m \u001b[31m6.2 MB/s\u001b[0m eta \u001b[36m0:00:00\u001b[0m\n",
            "\u001b[?25hCollecting category_encoders\n",
            "  Downloading category_encoders-2.6.2-py2.py3-none-any.whl (81 kB)\n",
            "\u001b[2K     \u001b[90m━━━━━━━━━━━━━━━━━━━━━━━━━━━━━━━━━━━━━━━━\u001b[0m \u001b[32m81.8/81.8 kB\u001b[0m \u001b[31m6.9 MB/s\u001b[0m eta \u001b[36m0:00:00\u001b[0m\n",
            "\u001b[?25hCollecting alembic>=1.5.0 (from optuna)\n",
            "  Downloading alembic-1.12.0-py3-none-any.whl (226 kB)\n",
            "\u001b[2K     \u001b[90m━━━━━━━━━━━━━━━━━━━━━━━━━━━━━━━━━━━━━━━━\u001b[0m \u001b[32m226.0/226.0 kB\u001b[0m \u001b[31m11.2 MB/s\u001b[0m eta \u001b[36m0:00:00\u001b[0m\n",
            "\u001b[?25hCollecting colorlog (from optuna)\n",
            "  Downloading colorlog-6.7.0-py2.py3-none-any.whl (11 kB)\n",
            "Requirement already satisfied: numpy in /usr/local/lib/python3.10/dist-packages (from optuna) (1.23.5)\n",
            "Requirement already satisfied: packaging>=20.0 in /usr/local/lib/python3.10/dist-packages (from optuna) (23.2)\n",
            "Requirement already satisfied: sqlalchemy>=1.3.0 in /usr/local/lib/python3.10/dist-packages (from optuna) (2.0.22)\n",
            "Requirement already satisfied: tqdm in /usr/local/lib/python3.10/dist-packages (from optuna) (4.66.1)\n",
            "Requirement already satisfied: PyYAML in /usr/local/lib/python3.10/dist-packages (from optuna) (6.0.1)\n",
            "Requirement already satisfied: scikit-learn>=0.20.0 in /usr/local/lib/python3.10/dist-packages (from category_encoders) (1.2.2)\n",
            "Requirement already satisfied: scipy>=1.0.0 in /usr/local/lib/python3.10/dist-packages (from category_encoders) (1.11.3)\n",
            "Requirement already satisfied: statsmodels>=0.9.0 in /usr/local/lib/python3.10/dist-packages (from category_encoders) (0.14.0)\n",
            "Requirement already satisfied: pandas>=1.0.5 in /usr/local/lib/python3.10/dist-packages (from category_encoders) (1.5.3)\n",
            "Requirement already satisfied: patsy>=0.5.1 in /usr/local/lib/python3.10/dist-packages (from category_encoders) (0.5.3)\n",
            "Collecting Mako (from alembic>=1.5.0->optuna)\n",
            "  Downloading Mako-1.2.4-py3-none-any.whl (78 kB)\n",
            "\u001b[2K     \u001b[90m━━━━━━━━━━━━━━━━━━━━━━━━━━━━━━━━━━━━━━━━\u001b[0m \u001b[32m78.7/78.7 kB\u001b[0m \u001b[31m7.4 MB/s\u001b[0m eta \u001b[36m0:00:00\u001b[0m\n",
            "\u001b[?25hRequirement already satisfied: typing-extensions>=4 in /usr/local/lib/python3.10/dist-packages (from alembic>=1.5.0->optuna) (4.5.0)\n",
            "Requirement already satisfied: python-dateutil>=2.8.1 in /usr/local/lib/python3.10/dist-packages (from pandas>=1.0.5->category_encoders) (2.8.2)\n",
            "Requirement already satisfied: pytz>=2020.1 in /usr/local/lib/python3.10/dist-packages (from pandas>=1.0.5->category_encoders) (2023.3.post1)\n",
            "Requirement already satisfied: six in /usr/local/lib/python3.10/dist-packages (from patsy>=0.5.1->category_encoders) (1.16.0)\n",
            "Requirement already satisfied: joblib>=1.1.1 in /usr/local/lib/python3.10/dist-packages (from scikit-learn>=0.20.0->category_encoders) (1.3.2)\n",
            "Requirement already satisfied: threadpoolctl>=2.0.0 in /usr/local/lib/python3.10/dist-packages (from scikit-learn>=0.20.0->category_encoders) (3.2.0)\n",
            "Requirement already satisfied: greenlet!=0.4.17 in /usr/local/lib/python3.10/dist-packages (from sqlalchemy>=1.3.0->optuna) (3.0.0)\n",
            "Requirement already satisfied: MarkupSafe>=0.9.2 in /usr/local/lib/python3.10/dist-packages (from Mako->alembic>=1.5.0->optuna) (2.1.3)\n",
            "Installing collected packages: Mako, colorlog, alembic, optuna, category_encoders\n",
            "Successfully installed Mako-1.2.4 alembic-1.12.0 category_encoders-2.6.2 colorlog-6.7.0 optuna-3.4.0\n"
          ]
        }
      ],
      "source": [
        "!pip install optuna category_encoders"
      ]
    },
    {
      "cell_type": "code",
      "execution_count": null,
      "metadata": {
        "colab": {
          "base_uri": "https://localhost:8080/"
        },
        "id": "oeDtDVsNnk_m",
        "outputId": "c1e03a9c-75cf-4721-de3c-f5d1c2334172"
      },
      "outputs": [
        {
          "output_type": "stream",
          "name": "stdout",
          "text": [
            "Mounted at /content/drive\n"
          ]
        }
      ],
      "source": [
        "#Regression\n",
        "import pandas as pd\n",
        "import numpy as np\n",
        "import matplotlib.pyplot as plt\n",
        "import seaborn as sns\n",
        "import matplotlib\n",
        "%matplotlib inline\n",
        "\n",
        "import warnings\n",
        "warnings.filterwarnings('ignore')\n",
        "\n",
        "from sklearn.model_selection import KFold, cross_val_score, train_test_split, TimeSeriesSplit\n",
        "from sklearn.linear_model import Ridge, Lasso, LinearRegression\n",
        "from sklearn.neighbors import KNeighborsRegressor\n",
        "from sklearn.svm import SVR\n",
        "from sklearn.tree import DecisionTreeRegressor, plot_tree\n",
        "from sklearn.ensemble import RandomForestRegressor, ExtraTreesRegressor, VotingRegressor, StackingRegressor, AdaBoostRegressor, HistGradientBoostingRegressor\n",
        "from sklearn.dummy import DummyRegressor\n",
        "from sklearn.impute import SimpleImputer\n",
        "from sklearn.metrics import mean_absolute_error, mean_squared_error, f1_score\n",
        "from sklearn.pipeline import make_pipeline, Pipeline\n",
        "from sklearn.preprocessing import StandardScaler, MinMaxScaler, RobustScaler, LabelEncoder,OrdinalEncoder, OneHotEncoder, PolynomialFeatures, FunctionTransformer\n",
        "from sklearn.compose import ColumnTransformer\n",
        "from sklearn.inspection import PartialDependenceDisplay\n",
        "from lightgbm import LGBMRegressor\n",
        "from xgboost import XGBRegressor\n",
        "import optuna\n",
        "\n",
        "from google.colab import drive\n",
        "drive.mount('/content/drive')"
      ]
    },
    {
      "cell_type": "markdown",
      "metadata": {
        "id": "kqi_qp1ApA6N"
      },
      "source": [
        "DATA"
      ]
    },
    {
      "cell_type": "code",
      "execution_count": null,
      "metadata": {
        "id": "a1M4ifYlplBS"
      },
      "outputs": [],
      "source": [
        "train = pd.read_csv(\"/content/drive/MyDrive/Datasets/데이콘/HD/train.csv\")\n",
        "test = pd.read_csv(\"/content/drive/MyDrive/Datasets/데이콘/HD/test.csv\")\n",
        "sample_submission = pd.read_csv(\"/content/drive/MyDrive/Datasets/데이콘/HD/sample_submission.csv\")\n",
        "\n",
        "train.drop(['SAMPLE_ID'],1,inplace=True)\n",
        "test.drop(['SAMPLE_ID'],1,inplace=True)"
      ]
    },
    {
      "cell_type": "code",
      "execution_count": null,
      "metadata": {
        "id": "F4erIFlhtdub"
      },
      "outputs": [],
      "source": [
        "import datetime\n",
        "#ATA\n",
        "def transform_time(df):\n",
        "  df.drop(['ID','SHIPMANAGER','FLAG'],1, inplace=True)\n",
        "\n",
        "  df['ATA'] = pd.to_datetime(df['ATA'])\n",
        "  df['YEAR'] = df['ATA'].dt.year\n",
        "  df['MONTH'] = df['ATA'].dt.month\n",
        "  df['DAY'] = df['ATA'].dt.day\n",
        "  df['HOUR'] = df['ATA'].dt.hour\n",
        "  df['MINUTES'] = df['ATA'].dt.minute\n",
        "  df['WOY'] = df['ATA'].dt.weekofyear\n",
        "  df['WEEKDAY'] = df['ATA'].dt.weekday\n",
        "  df['WEEKEND'] = df['WEEKDAY'].apply(lambda x: 1 if x >= 5 else 0)\n",
        "  df['HOLIDAY'] = df['ATA'].apply(lambda x: 1 if (x.month == 1 and x.day == 1) or (x.month == 12 and x.day==25) else 0)\n",
        "\n",
        "   #연령\n",
        "  df['AGE'] = df['YEAR'] - df['BUILT']\n",
        "  df['ship_volume'] = df['LENGTH'] * df['BREADTH'] * df['DEPTH']\n",
        "  df['efficiency'] = df['DEADWEIGHT'] / df['GT']\n",
        "  df['wind_magnitude'] = np.sqrt(df['U_WIND']**2 + df['V_WIND']**2)\n",
        "  df['wind_direction'] = np.arctan2(df['V_WIND'], df['U_WIND'])\n",
        "  df['relative_distance'] = df['DIST'] / df['PORT_SIZE']\n",
        "\n",
        "  #\n",
        "  df['wind_magnitude'] = df['wind_magnitude'].isna().astype(int)\n",
        "  df['wind_direction'] = df['wind_direction'].isna().astype(int)\n",
        "\n",
        "  df.drop(['ATA'],1,inplace=True)\n",
        "  return df\n",
        "\n",
        "train = transform_time(train)\n",
        "test = transform_time(test)\n",
        "\n",
        "train.drop(train[train['BREADTH'].isna()].index, 0, inplace=True)"
      ]
    },
    {
      "cell_type": "code",
      "execution_count": null,
      "metadata": {
        "id": "lEzuWMhJr_jg",
        "colab": {
          "base_uri": "https://localhost:8080/"
        },
        "outputId": "0f796b62-7921-4da0-8f51-7d5c5b16aa3f"
      },
      "outputs": [
        {
          "output_type": "execute_result",
          "data": {
            "text/plain": [
              "((391938, 32), (220491, 32))"
            ]
          },
          "metadata": {},
          "execution_count": 12
        }
      ],
      "source": [
        "X = train.drop(['CI_HOUR'],1)\n",
        "y = train['CI_HOUR']\n",
        "\n",
        "cat_cols = X.select_dtypes(include='object').columns.tolist()\n",
        "X.shape, test.shape"
      ]
    },
    {
      "cell_type": "code",
      "source": [
        "##categpry\n",
        "from category_encoders.target_encoder import TargetEncoder\n",
        "enc=TargetEncoder()\n",
        "for col in cat_cols:\n",
        "  X[col] = enc.fit_transform(X[col],y)\n",
        "  test[col] = enc.transform(test[col])"
      ],
      "metadata": {
        "id": "KDK8kDf2yEnA"
      },
      "execution_count": null,
      "outputs": []
    },
    {
      "cell_type": "code",
      "execution_count": null,
      "metadata": {
        "id": "czV6USUZtBcc"
      },
      "outputs": [],
      "source": [
        "# enc = LabelEncoder()\n",
        "# for col in cat_cols:\n",
        "#   X[col] = enc.fit_transform(X[col])\n",
        "#   test[col] = enc.transform(test[col])"
      ]
    },
    {
      "cell_type": "code",
      "source": [
        "# from sklearn.feature_selection import SelectKBest, f_regression\n",
        "\n",
        "# selector = SelectKBest(f_regression, k=20)\n",
        "# X_new = selector.fit_transform(X,y)\n",
        "\n",
        "# # 선택된 피쳐의 인덱스를 얻습니다.\n",
        "# selected_indices = selector.get_support(indices=True)\n",
        "\n",
        "# # 원래 데이터의 피쳐 이름을 사용하여 선택된 피쳐의 이름을 얻습니다.\n",
        "# selected_feature_names = [X.columns[i] for i in selected_indices]\n",
        "\n",
        "# selected_feature_names"
      ],
      "metadata": {
        "id": "9SIYLteBjckW"
      },
      "execution_count": null,
      "outputs": []
    },
    {
      "cell_type": "markdown",
      "metadata": {
        "id": "-D2wgHVlUDKR"
      },
      "source": [
        "# Model"
      ]
    },
    {
      "cell_type": "code",
      "execution_count": null,
      "metadata": {
        "colab": {
          "base_uri": "https://localhost:8080/",
          "height": 229
        },
        "id": "mY91pSFJEWR1",
        "outputId": "2962642b-6cc6-4d15-bb8d-af4cefde197f"
      },
      "outputs": [
        {
          "output_type": "stream",
          "name": "stdout",
          "text": [
            "CPU times: user 55.2 s, sys: 372 ms, total: 55.6 s\n",
            "Wall time: 32.6 s\n"
          ]
        },
        {
          "output_type": "execute_result",
          "data": {
            "text/plain": [
              "Pipeline(steps=[('MIN',\n",
              "                 ColumnTransformer(remainder='passthrough',\n",
              "                                   transformers=[('ss', MinMaxScaler(),\n",
              "                                                  Index(['ARI_CO', 'SHIP_TYPE_CATEGORY', 'DIST', 'BREADTH', 'DEADWEIGHT',\n",
              "       'DEPTH', 'DRAUGHT', 'PORT_SIZE', 'YEAR', 'HOUR', 'WEEKDAY',\n",
              "       'ship_volume', 'efficiency', 'relative_distance'],\n",
              "      dtype='object'))])),\n",
              "                ('HIST',\n",
              "                 HistGradientBoostingRegressor(l2_regularization=0.03503250404129518,\n",
              "                                               loss='absolute_error',\n",
              "                                               max_depth=11, max_iter=1969,\n",
              "                                               max_leaf_nodes=96,\n",
              "                                               min_samples_leaf=43,\n",
              "                                               random_state=42))])"
            ],
            "text/html": [
              "<style>#sk-container-id-2 {color: black;background-color: white;}#sk-container-id-2 pre{padding: 0;}#sk-container-id-2 div.sk-toggleable {background-color: white;}#sk-container-id-2 label.sk-toggleable__label {cursor: pointer;display: block;width: 100%;margin-bottom: 0;padding: 0.3em;box-sizing: border-box;text-align: center;}#sk-container-id-2 label.sk-toggleable__label-arrow:before {content: \"▸\";float: left;margin-right: 0.25em;color: #696969;}#sk-container-id-2 label.sk-toggleable__label-arrow:hover:before {color: black;}#sk-container-id-2 div.sk-estimator:hover label.sk-toggleable__label-arrow:before {color: black;}#sk-container-id-2 div.sk-toggleable__content {max-height: 0;max-width: 0;overflow: hidden;text-align: left;background-color: #f0f8ff;}#sk-container-id-2 div.sk-toggleable__content pre {margin: 0.2em;color: black;border-radius: 0.25em;background-color: #f0f8ff;}#sk-container-id-2 input.sk-toggleable__control:checked~div.sk-toggleable__content {max-height: 200px;max-width: 100%;overflow: auto;}#sk-container-id-2 input.sk-toggleable__control:checked~label.sk-toggleable__label-arrow:before {content: \"▾\";}#sk-container-id-2 div.sk-estimator input.sk-toggleable__control:checked~label.sk-toggleable__label {background-color: #d4ebff;}#sk-container-id-2 div.sk-label input.sk-toggleable__control:checked~label.sk-toggleable__label {background-color: #d4ebff;}#sk-container-id-2 input.sk-hidden--visually {border: 0;clip: rect(1px 1px 1px 1px);clip: rect(1px, 1px, 1px, 1px);height: 1px;margin: -1px;overflow: hidden;padding: 0;position: absolute;width: 1px;}#sk-container-id-2 div.sk-estimator {font-family: monospace;background-color: #f0f8ff;border: 1px dotted black;border-radius: 0.25em;box-sizing: border-box;margin-bottom: 0.5em;}#sk-container-id-2 div.sk-estimator:hover {background-color: #d4ebff;}#sk-container-id-2 div.sk-parallel-item::after {content: \"\";width: 100%;border-bottom: 1px solid gray;flex-grow: 1;}#sk-container-id-2 div.sk-label:hover label.sk-toggleable__label {background-color: #d4ebff;}#sk-container-id-2 div.sk-serial::before {content: \"\";position: absolute;border-left: 1px solid gray;box-sizing: border-box;top: 0;bottom: 0;left: 50%;z-index: 0;}#sk-container-id-2 div.sk-serial {display: flex;flex-direction: column;align-items: center;background-color: white;padding-right: 0.2em;padding-left: 0.2em;position: relative;}#sk-container-id-2 div.sk-item {position: relative;z-index: 1;}#sk-container-id-2 div.sk-parallel {display: flex;align-items: stretch;justify-content: center;background-color: white;position: relative;}#sk-container-id-2 div.sk-item::before, #sk-container-id-2 div.sk-parallel-item::before {content: \"\";position: absolute;border-left: 1px solid gray;box-sizing: border-box;top: 0;bottom: 0;left: 50%;z-index: -1;}#sk-container-id-2 div.sk-parallel-item {display: flex;flex-direction: column;z-index: 1;position: relative;background-color: white;}#sk-container-id-2 div.sk-parallel-item:first-child::after {align-self: flex-end;width: 50%;}#sk-container-id-2 div.sk-parallel-item:last-child::after {align-self: flex-start;width: 50%;}#sk-container-id-2 div.sk-parallel-item:only-child::after {width: 0;}#sk-container-id-2 div.sk-dashed-wrapped {border: 1px dashed gray;margin: 0 0.4em 0.5em 0.4em;box-sizing: border-box;padding-bottom: 0.4em;background-color: white;}#sk-container-id-2 div.sk-label label {font-family: monospace;font-weight: bold;display: inline-block;line-height: 1.2em;}#sk-container-id-2 div.sk-label-container {text-align: center;}#sk-container-id-2 div.sk-container {/* jupyter's `normalize.less` sets `[hidden] { display: none; }` but bootstrap.min.css set `[hidden] { display: none !important; }` so we also need the `!important` here to be able to override the default hidden behavior on the sphinx rendered scikit-learn.org. See: https://github.com/scikit-learn/scikit-learn/issues/21755 */display: inline-block !important;position: relative;}#sk-container-id-2 div.sk-text-repr-fallback {display: none;}</style><div id=\"sk-container-id-2\" class=\"sk-top-container\"><div class=\"sk-text-repr-fallback\"><pre>Pipeline(steps=[(&#x27;MIN&#x27;,\n",
              "                 ColumnTransformer(remainder=&#x27;passthrough&#x27;,\n",
              "                                   transformers=[(&#x27;ss&#x27;, MinMaxScaler(),\n",
              "                                                  Index([&#x27;ARI_CO&#x27;, &#x27;SHIP_TYPE_CATEGORY&#x27;, &#x27;DIST&#x27;, &#x27;BREADTH&#x27;, &#x27;DEADWEIGHT&#x27;,\n",
              "       &#x27;DEPTH&#x27;, &#x27;DRAUGHT&#x27;, &#x27;PORT_SIZE&#x27;, &#x27;YEAR&#x27;, &#x27;HOUR&#x27;, &#x27;WEEKDAY&#x27;,\n",
              "       &#x27;ship_volume&#x27;, &#x27;efficiency&#x27;, &#x27;relative_distance&#x27;],\n",
              "      dtype=&#x27;object&#x27;))])),\n",
              "                (&#x27;HIST&#x27;,\n",
              "                 HistGradientBoostingRegressor(l2_regularization=0.03503250404129518,\n",
              "                                               loss=&#x27;absolute_error&#x27;,\n",
              "                                               max_depth=11, max_iter=1969,\n",
              "                                               max_leaf_nodes=96,\n",
              "                                               min_samples_leaf=43,\n",
              "                                               random_state=42))])</pre><b>In a Jupyter environment, please rerun this cell to show the HTML representation or trust the notebook. <br />On GitHub, the HTML representation is unable to render, please try loading this page with nbviewer.org.</b></div><div class=\"sk-container\" hidden><div class=\"sk-item sk-dashed-wrapped\"><div class=\"sk-label-container\"><div class=\"sk-label sk-toggleable\"><input class=\"sk-toggleable__control sk-hidden--visually\" id=\"sk-estimator-id-8\" type=\"checkbox\" ><label for=\"sk-estimator-id-8\" class=\"sk-toggleable__label sk-toggleable__label-arrow\">Pipeline</label><div class=\"sk-toggleable__content\"><pre>Pipeline(steps=[(&#x27;MIN&#x27;,\n",
              "                 ColumnTransformer(remainder=&#x27;passthrough&#x27;,\n",
              "                                   transformers=[(&#x27;ss&#x27;, MinMaxScaler(),\n",
              "                                                  Index([&#x27;ARI_CO&#x27;, &#x27;SHIP_TYPE_CATEGORY&#x27;, &#x27;DIST&#x27;, &#x27;BREADTH&#x27;, &#x27;DEADWEIGHT&#x27;,\n",
              "       &#x27;DEPTH&#x27;, &#x27;DRAUGHT&#x27;, &#x27;PORT_SIZE&#x27;, &#x27;YEAR&#x27;, &#x27;HOUR&#x27;, &#x27;WEEKDAY&#x27;,\n",
              "       &#x27;ship_volume&#x27;, &#x27;efficiency&#x27;, &#x27;relative_distance&#x27;],\n",
              "      dtype=&#x27;object&#x27;))])),\n",
              "                (&#x27;HIST&#x27;,\n",
              "                 HistGradientBoostingRegressor(l2_regularization=0.03503250404129518,\n",
              "                                               loss=&#x27;absolute_error&#x27;,\n",
              "                                               max_depth=11, max_iter=1969,\n",
              "                                               max_leaf_nodes=96,\n",
              "                                               min_samples_leaf=43,\n",
              "                                               random_state=42))])</pre></div></div></div><div class=\"sk-serial\"><div class=\"sk-item sk-dashed-wrapped\"><div class=\"sk-label-container\"><div class=\"sk-label sk-toggleable\"><input class=\"sk-toggleable__control sk-hidden--visually\" id=\"sk-estimator-id-9\" type=\"checkbox\" ><label for=\"sk-estimator-id-9\" class=\"sk-toggleable__label sk-toggleable__label-arrow\">MIN: ColumnTransformer</label><div class=\"sk-toggleable__content\"><pre>ColumnTransformer(remainder=&#x27;passthrough&#x27;,\n",
              "                  transformers=[(&#x27;ss&#x27;, MinMaxScaler(),\n",
              "                                 Index([&#x27;ARI_CO&#x27;, &#x27;SHIP_TYPE_CATEGORY&#x27;, &#x27;DIST&#x27;, &#x27;BREADTH&#x27;, &#x27;DEADWEIGHT&#x27;,\n",
              "       &#x27;DEPTH&#x27;, &#x27;DRAUGHT&#x27;, &#x27;PORT_SIZE&#x27;, &#x27;YEAR&#x27;, &#x27;HOUR&#x27;, &#x27;WEEKDAY&#x27;,\n",
              "       &#x27;ship_volume&#x27;, &#x27;efficiency&#x27;, &#x27;relative_distance&#x27;],\n",
              "      dtype=&#x27;object&#x27;))])</pre></div></div></div><div class=\"sk-parallel\"><div class=\"sk-parallel-item\"><div class=\"sk-item\"><div class=\"sk-label-container\"><div class=\"sk-label sk-toggleable\"><input class=\"sk-toggleable__control sk-hidden--visually\" id=\"sk-estimator-id-10\" type=\"checkbox\" ><label for=\"sk-estimator-id-10\" class=\"sk-toggleable__label sk-toggleable__label-arrow\">ss</label><div class=\"sk-toggleable__content\"><pre>Index([&#x27;ARI_CO&#x27;, &#x27;SHIP_TYPE_CATEGORY&#x27;, &#x27;DIST&#x27;, &#x27;BREADTH&#x27;, &#x27;DEADWEIGHT&#x27;,\n",
              "       &#x27;DEPTH&#x27;, &#x27;DRAUGHT&#x27;, &#x27;PORT_SIZE&#x27;, &#x27;YEAR&#x27;, &#x27;HOUR&#x27;, &#x27;WEEKDAY&#x27;,\n",
              "       &#x27;ship_volume&#x27;, &#x27;efficiency&#x27;, &#x27;relative_distance&#x27;],\n",
              "      dtype=&#x27;object&#x27;)</pre></div></div></div><div class=\"sk-serial\"><div class=\"sk-item\"><div class=\"sk-estimator sk-toggleable\"><input class=\"sk-toggleable__control sk-hidden--visually\" id=\"sk-estimator-id-11\" type=\"checkbox\" ><label for=\"sk-estimator-id-11\" class=\"sk-toggleable__label sk-toggleable__label-arrow\">MinMaxScaler</label><div class=\"sk-toggleable__content\"><pre>MinMaxScaler()</pre></div></div></div></div></div></div><div class=\"sk-parallel-item\"><div class=\"sk-item\"><div class=\"sk-label-container\"><div class=\"sk-label sk-toggleable\"><input class=\"sk-toggleable__control sk-hidden--visually\" id=\"sk-estimator-id-12\" type=\"checkbox\" ><label for=\"sk-estimator-id-12\" class=\"sk-toggleable__label sk-toggleable__label-arrow\">remainder</label><div class=\"sk-toggleable__content\"><pre>[]</pre></div></div></div><div class=\"sk-serial\"><div class=\"sk-item\"><div class=\"sk-estimator sk-toggleable\"><input class=\"sk-toggleable__control sk-hidden--visually\" id=\"sk-estimator-id-13\" type=\"checkbox\" ><label for=\"sk-estimator-id-13\" class=\"sk-toggleable__label sk-toggleable__label-arrow\">passthrough</label><div class=\"sk-toggleable__content\"><pre>passthrough</pre></div></div></div></div></div></div></div></div><div class=\"sk-item\"><div class=\"sk-estimator sk-toggleable\"><input class=\"sk-toggleable__control sk-hidden--visually\" id=\"sk-estimator-id-14\" type=\"checkbox\" ><label for=\"sk-estimator-id-14\" class=\"sk-toggleable__label sk-toggleable__label-arrow\">HistGradientBoostingRegressor</label><div class=\"sk-toggleable__content\"><pre>HistGradientBoostingRegressor(l2_regularization=0.03503250404129518,\n",
              "                              loss=&#x27;absolute_error&#x27;, max_depth=11,\n",
              "                              max_iter=1969, max_leaf_nodes=96,\n",
              "                              min_samples_leaf=43, random_state=42)</pre></div></div></div></div></div></div></div>"
            ]
          },
          "metadata": {},
          "execution_count": 10
        }
      ],
      "source": [
        "%%time\n",
        "from sklearn.compose import make_column_selector, make_column_transformer\n",
        "\n",
        "preprocessor = ColumnTransformer(\n",
        "    transformers=[\n",
        "        ('ss', MinMaxScaler(), X.columns),\n",
        "    ], remainder='passthrough'\n",
        ")\n",
        "params = {'max_iter': 1969,\n",
        " 'max_leaf_nodes': 96,\n",
        " 'max_depth': 11,\n",
        " 'min_samples_leaf': 43,\n",
        " 'l2_regularization': 0.03503250404129518}\n",
        "\n",
        "pipe = Pipeline(\n",
        "    [\n",
        "        ('MIN',preprocessor),\n",
        "        ('HIST',HistGradientBoostingRegressor(random_state=42, loss='absolute_error', **params))\n",
        "    ]\n",
        ")\n",
        "\n",
        "pipe.fit(X,y)"
      ]
    },
    {
      "cell_type": "code",
      "execution_count": null,
      "metadata": {
        "colab": {
          "base_uri": "https://localhost:8080/"
        },
        "id": "t4WhYfYKv_pY",
        "outputId": "63cf6b9f-c922-4b54-af53-b2a5102c9366"
      },
      "outputs": [
        {
          "output_type": "stream",
          "name": "stdout",
          "text": [
            "[43.71 44.97 44.83 43.72 43.89]\n",
            "\n",
            "5 K-FOLD : 44.22 & std +/-0.56\n",
            "CPU times: user 3min 1s, sys: 1.26 s, total: 3min 2s\n",
            "Wall time: 1min 48s\n"
          ]
        }
      ],
      "source": [
        "%%time\n",
        "fold = KFold(n_splits=5, shuffle=True, random_state=42)\n",
        "score = cross_val_score(estimator=pipe, X=X, y=y, cv=fold, scoring='neg_mean_absolute_error')\n",
        "print(np.round(-score,2))\n",
        "print()\n",
        "print(f\"5 K-FOLD : {np.round(np.mean(-score),2)} & std +/-{np.round(np.std(-score),2)}\")"
      ]
    },
    {
      "cell_type": "markdown",
      "metadata": {
        "id": "80IoxGSgF4O_"
      },
      "source": [
        "#OPTUNA"
      ]
    },
    {
      "cell_type": "code",
      "execution_count": null,
      "metadata": {
        "id": "d4k6jLifF5Nj"
      },
      "outputs": [],
      "source": [
        "def objective(trial, data=X, target=y):\n",
        "  X_train, X_test, y_train, y_test = train_test_split(data, target, test_size=.2, random_state=42)\n",
        "  param = {\n",
        "      'max_iter':trial.suggest_int('max_iter', 1500, 2500),\n",
        "      'max_leaf_nodes':trial.suggest_int('max_leaf_nodes',80, 200),\n",
        "      'max_depth':trial.suggest_int('max_depth', 10, 15),\n",
        "      'min_samples_leaf':trial.suggest_int('min_samples_leaf',35,45),\n",
        "      'l2_regularization':trial.suggest_float('l2_regularization',0.05, 0.1)\n",
        "  }\n",
        "\n",
        "  model = HistGradientBoostingRegressor(random_state=42, loss='absolute_error', **param)\n",
        "\n",
        "  model.fit(X_train, y_train)\n",
        "\n",
        "  preds = model.predict(X_test)\n",
        "\n",
        "  mae = mean_absolute_error(y_test, preds)\n",
        "\n",
        "  return mae"
      ]
    },
    {
      "cell_type": "code",
      "execution_count": null,
      "metadata": {
        "colab": {
          "base_uri": "https://localhost:8080/"
        },
        "id": "QYGJOxlDMQlH",
        "outputId": "5d48f44e-7fd0-40cb-c987-68f7974df2ed"
      },
      "outputs": [
        {
          "output_type": "stream",
          "name": "stderr",
          "text": [
            "[I 2023-10-23 04:30:27,108] Trial 10 finished with value: 44.041397914560875 and parameters: {'max_iter': 996, 'max_leaf_nodes': 86, 'max_depth': 18, 'min_samples_leaf': 34, 'l2_regularization': 0.0011613500790203374}. Best is trial 2 with value: 43.933498504153484.\n",
            "[I 2023-10-23 04:30:47,106] Trial 11 finished with value: 44.10238787608084 and parameters: {'max_iter': 983, 'max_leaf_nodes': 99, 'max_depth': 20, 'min_samples_leaf': 34, 'l2_regularization': 0.0012633671670008785}. Best is trial 2 with value: 43.933498504153484.\n",
            "[I 2023-10-23 04:31:11,473] Trial 12 finished with value: 44.10461335695287 and parameters: {'max_iter': 512, 'max_leaf_nodes': 84, 'max_depth': 16, 'min_samples_leaf': 31, 'l2_regularization': 0.0015694078491966259}. Best is trial 2 with value: 43.933498504153484.\n",
            "[I 2023-10-23 04:31:30,829] Trial 13 finished with value: 44.14274420647564 and parameters: {'max_iter': 1037, 'max_leaf_nodes': 82, 'max_depth': 17, 'min_samples_leaf': 40, 'l2_regularization': 0.027158015080071124}. Best is trial 2 with value: 43.933498504153484.\n",
            "[I 2023-10-23 04:31:51,098] Trial 14 finished with value: 44.36074041933557 and parameters: {'max_iter': 517, 'max_leaf_nodes': 93, 'max_depth': 8, 'min_samples_leaf': 39, 'l2_regularization': 0.091912374176284}. Best is trial 2 with value: 43.933498504153484.\n",
            "[I 2023-10-23 04:32:17,082] Trial 15 finished with value: 44.43430339173311 and parameters: {'max_iter': 1103, 'max_leaf_nodes': 33, 'max_depth': 15, 'min_samples_leaf': 50, 'l2_regularization': 0.02693825847333741}. Best is trial 2 with value: 43.933498504153484.\n",
            "[I 2023-10-23 04:32:43,903] Trial 16 finished with value: 44.1253314257595 and parameters: {'max_iter': 776, 'max_leaf_nodes': 77, 'max_depth': 18, 'min_samples_leaf': 31, 'l2_regularization': 0.008128802487382252}. Best is trial 2 with value: 43.933498504153484.\n",
            "[I 2023-10-23 04:33:10,325] Trial 17 finished with value: 44.03197423132289 and parameters: {'max_iter': 1752, 'max_leaf_nodes': 100, 'max_depth': 9, 'min_samples_leaf': 31, 'l2_regularization': 0.011526224196026879}. Best is trial 2 with value: 43.933498504153484.\n",
            "[I 2023-10-23 04:33:35,996] Trial 18 finished with value: 44.18921743486772 and parameters: {'max_iter': 1845, 'max_leaf_nodes': 99, 'max_depth': 8, 'min_samples_leaf': 29, 'l2_regularization': 0.02956273700835752}. Best is trial 2 with value: 43.933498504153484.\n",
            "[I 2023-10-23 04:34:03,609] Trial 19 finished with value: 43.95890016298577 and parameters: {'max_iter': 1657, 'max_leaf_nodes': 92, 'max_depth': 9, 'min_samples_leaf': 25, 'l2_regularization': 0.016619248846656318}. Best is trial 2 with value: 43.933498504153484.\n",
            "[I 2023-10-23 04:34:34,836] Trial 20 finished with value: 44.65992616097853 and parameters: {'max_iter': 1670, 'max_leaf_nodes': 65, 'max_depth': 6, 'min_samples_leaf': 20, 'l2_regularization': 0.01922737351931455}. Best is trial 2 with value: 43.933498504153484.\n",
            "[I 2023-10-23 04:34:59,017] Trial 21 finished with value: 44.1518146532969 and parameters: {'max_iter': 1698, 'max_leaf_nodes': 94, 'max_depth': 9, 'min_samples_leaf': 25, 'l2_regularization': 0.01289652517231564}. Best is trial 2 with value: 43.933498504153484.\n",
            "[I 2023-10-23 04:35:49,922] Trial 22 finished with value: 43.83466452245704 and parameters: {'max_iter': 1712, 'max_leaf_nodes': 100, 'max_depth': 11, 'min_samples_leaf': 25, 'l2_regularization': 0.009818542395994717}. Best is trial 22 with value: 43.83466452245704.\n",
            "[I 2023-10-23 04:36:09,561] Trial 23 finished with value: 44.10258104644109 and parameters: {'max_iter': 1600, 'max_leaf_nodes': 90, 'max_depth': 12, 'min_samples_leaf': 25, 'l2_regularization': 0.022128412311402175}. Best is trial 22 with value: 43.83466452245704.\n",
            "[I 2023-10-23 04:36:26,555] Trial 24 finished with value: 44.34924059504245 and parameters: {'max_iter': 1948, 'max_leaf_nodes': 80, 'max_depth': 11, 'min_samples_leaf': 24, 'l2_regularization': 0.008170013837062751}. Best is trial 22 with value: 43.83466452245704.\n",
            "[I 2023-10-23 04:36:45,635] Trial 25 finished with value: 44.17300295701598 and parameters: {'max_iter': 1134, 'max_leaf_nodes': 93, 'max_depth': 14, 'min_samples_leaf': 27, 'l2_regularization': 0.03203486534563682}. Best is trial 22 with value: 43.83466452245704.\n",
            "[I 2023-10-23 04:37:22,028] Trial 26 finished with value: 44.53885730763234 and parameters: {'max_iter': 1547, 'max_leaf_nodes': 88, 'max_depth': 6, 'min_samples_leaf': 21, 'l2_regularization': 0.021945060155684617}. Best is trial 22 with value: 43.83466452245704.\n",
            "[I 2023-10-23 04:37:50,818] Trial 27 finished with value: 43.97893251703212 and parameters: {'max_iter': 1741, 'max_leaf_nodes': 100, 'max_depth': 10, 'min_samples_leaf': 30, 'l2_regularization': 0.006661542472458162}. Best is trial 22 with value: 43.83466452245704.\n",
            "[I 2023-10-23 04:38:20,275] Trial 28 finished with value: 44.00997542553894 and parameters: {'max_iter': 1828, 'max_leaf_nodes': 83, 'max_depth': 13, 'min_samples_leaf': 26, 'l2_regularization': 0.017498849884480486}. Best is trial 22 with value: 43.83466452245704.\n",
            "[I 2023-10-23 04:38:49,763] Trial 29 finished with value: 44.35411576359258 and parameters: {'max_iter': 1360, 'max_leaf_nodes': 61, 'max_depth': 7, 'min_samples_leaf': 23, 'l2_regularization': 0.01137096792581765}. Best is trial 22 with value: 43.83466452245704.\n",
            "[I 2023-10-23 04:39:27,650] Trial 30 finished with value: 43.930106001002656 and parameters: {'max_iter': 1998, 'max_leaf_nodes': 95, 'max_depth': 10, 'min_samples_leaf': 36, 'l2_regularization': 0.01579159872270383}. Best is trial 22 with value: 43.83466452245704.\n",
            "[I 2023-10-23 04:40:02,650] Trial 31 finished with value: 44.04892227654092 and parameters: {'max_iter': 1972, 'max_leaf_nodes': 95, 'max_depth': 9, 'min_samples_leaf': 35, 'l2_regularization': 0.013283150332541061}. Best is trial 22 with value: 43.83466452245704.\n",
            "[I 2023-10-23 04:40:30,656] Trial 32 finished with value: 44.04173196718563 and parameters: {'max_iter': 1850, 'max_leaf_nodes': 89, 'max_depth': 10, 'min_samples_leaf': 37, 'l2_regularization': 0.023373396668250546}. Best is trial 22 with value: 43.83466452245704.\n",
            "[I 2023-10-23 04:41:01,822] Trial 33 finished with value: 43.92487563622994 and parameters: {'max_iter': 1998, 'max_leaf_nodes': 95, 'max_depth': 11, 'min_samples_leaf': 28, 'l2_regularization': 0.033409683364672135}. Best is trial 22 with value: 43.83466452245704.\n",
            "[I 2023-10-23 04:41:37,963] Trial 34 finished with value: 43.897987008098916 and parameters: {'max_iter': 1948, 'max_leaf_nodes': 97, 'max_depth': 11, 'min_samples_leaf': 37, 'l2_regularization': 0.03191204900406595}. Best is trial 22 with value: 43.83466452245704.\n",
            "[I 2023-10-23 04:42:18,669] Trial 35 finished with value: 43.815621078059905 and parameters: {'max_iter': 1969, 'max_leaf_nodes': 96, 'max_depth': 11, 'min_samples_leaf': 43, 'l2_regularization': 0.03503250404129518}. Best is trial 35 with value: 43.815621078059905.\n",
            "[I 2023-10-23 04:42:42,106] Trial 36 finished with value: 44.187540567510894 and parameters: {'max_iter': 1868, 'max_leaf_nodes': 69, 'max_depth': 13, 'min_samples_leaf': 45, 'l2_regularization': 0.03436890350502238}. Best is trial 35 with value: 43.815621078059905.\n",
            "[I 2023-10-23 04:43:16,619] Trial 37 finished with value: 44.053863504352016 and parameters: {'max_iter': 1760, 'max_leaf_nodes': 48, 'max_depth': 11, 'min_samples_leaf': 44, 'l2_regularization': 0.05054207529295015}. Best is trial 35 with value: 43.815621078059905.\n",
            "[I 2023-10-23 04:43:53,601] Trial 38 finished with value: 44.12867305856698 and parameters: {'max_iter': 2000, 'max_leaf_nodes': 79, 'max_depth': 12, 'min_samples_leaf': 47, 'l2_regularization': 0.037545657329144375}. Best is trial 35 with value: 43.815621078059905.\n",
            "[I 2023-10-23 04:44:22,364] Trial 39 finished with value: 43.90486591818874 and parameters: {'max_iter': 1912, 'max_leaf_nodes': 97, 'max_depth': 14, 'min_samples_leaf': 39, 'l2_regularization': 0.047663449923295506}. Best is trial 35 with value: 43.815621078059905.\n"
          ]
        }
      ],
      "source": [
        "#preceed\n",
        "study.optimize(objective, n_trials=30)"
      ]
    },
    {
      "cell_type": "code",
      "execution_count": null,
      "metadata": {
        "colab": {
          "base_uri": "https://localhost:8080/"
        },
        "id": "vcMG5XWtRdDg",
        "outputId": "1fef1424-89ff-4a63-82e3-44f4c44c3d84"
      },
      "outputs": [
        {
          "output_type": "execute_result",
          "data": {
            "text/plain": [
              "{'max_iter': 1969,\n",
              " 'max_leaf_nodes': 96,\n",
              " 'max_depth': 11,\n",
              " 'min_samples_leaf': 43,\n",
              " 'l2_regularization': 0.03503250404129518}"
            ]
          },
          "metadata": {},
          "execution_count": 50
        }
      ],
      "source": [
        "study.best_params"
      ]
    },
    {
      "cell_type": "code",
      "source": [
        "import joblib\n",
        "study = joblib.load('/content/drive/MyDrive/Datasets/데이콘/HD/hist.pkl')"
      ],
      "metadata": {
        "id": "pJhy41TNWW6b"
      },
      "execution_count": null,
      "outputs": []
    },
    {
      "cell_type": "code",
      "source": [
        "study.optimize(objective, n_trials=30)"
      ],
      "metadata": {
        "colab": {
          "base_uri": "https://localhost:8080/"
        },
        "id": "-fhjFH_iWfhh",
        "outputId": "901519f8-125f-462e-a4fa-4ba4d9abcd0d"
      },
      "execution_count": null,
      "outputs": [
        {
          "output_type": "stream",
          "name": "stderr",
          "text": [
            "[I 2023-10-23 11:45:34,428] Trial 40 finished with value: 43.9308936388535 and parameters: {'max_iter': 1793, 'max_leaf_nodes': 97, 'max_depth': 15, 'min_samples_leaf': 41, 'l2_regularization': 0.0509768136746344}. Best is trial 35 with value: 43.815621078059905.\n",
            "[I 2023-10-23 11:45:55,278] Trial 41 finished with value: 43.963925935290135 and parameters: {'max_iter': 1908, 'max_leaf_nodes': 97, 'max_depth': 11, 'min_samples_leaf': 38, 'l2_regularization': 0.04311922048385841}. Best is trial 35 with value: 43.815621078059905.\n",
            "[I 2023-10-23 11:46:41,218] Trial 42 finished with value: 43.78832803212892 and parameters: {'max_iter': 1914, 'max_leaf_nodes': 87, 'max_depth': 14, 'min_samples_leaf': 42, 'l2_regularization': 0.037392091444611274}. Best is trial 42 with value: 43.78832803212892.\n",
            "[I 2023-10-23 11:46:59,453] Trial 43 finished with value: 44.114564096477665 and parameters: {'max_iter': 1908, 'max_leaf_nodes': 86, 'max_depth': 14, 'min_samples_leaf': 42, 'l2_regularization': 0.04618351890425285}. Best is trial 42 with value: 43.78832803212892.\n",
            "[I 2023-10-23 11:47:20,541] Trial 44 finished with value: 44.078927128837094 and parameters: {'max_iter': 1457, 'max_leaf_nodes': 90, 'max_depth': 15, 'min_samples_leaf': 43, 'l2_regularization': 0.03806181200554846}. Best is trial 42 with value: 43.78832803212892.\n",
            "[I 2023-10-23 11:47:39,552] Trial 45 finished with value: 44.27339563396432 and parameters: {'max_iter': 1909, 'max_leaf_nodes': 51, 'max_depth': 13, 'min_samples_leaf': 40, 'l2_regularization': 0.05457465369940823}. Best is trial 42 with value: 43.78832803212892.\n",
            "[I 2023-10-23 11:47:54,577] Trial 46 finished with value: 44.13500151349067 and parameters: {'max_iter': 1607, 'max_leaf_nodes': 97, 'max_depth': 16, 'min_samples_leaf': 33, 'l2_regularization': 0.03911013625432875}. Best is trial 42 with value: 43.78832803212892.\n",
            "[I 2023-10-23 11:48:16,058] Trial 47 finished with value: 44.07586719102848 and parameters: {'max_iter': 1787, 'max_leaf_nodes': 85, 'max_depth': 12, 'min_samples_leaf': 37, 'l2_regularization': 0.026597605419453815}. Best is trial 42 with value: 43.78832803212892.\n",
            "[I 2023-10-23 11:48:32,331] Trial 48 finished with value: 44.14421946368895 and parameters: {'max_iter': 1921, 'max_leaf_nodes': 91, 'max_depth': 14, 'min_samples_leaf': 48, 'l2_regularization': 0.0312587665264581}. Best is trial 42 with value: 43.78832803212892.\n",
            "[I 2023-10-23 11:49:05,944] Trial 49 finished with value: 43.85308572977454 and parameters: {'max_iter': 1708, 'max_leaf_nodes': 100, 'max_depth': 13, 'min_samples_leaf': 39, 'l2_regularization': 0.05835908912696702}. Best is trial 42 with value: 43.78832803212892.\n",
            "[I 2023-10-23 11:49:24,003] Trial 50 finished with value: 44.02819645163505 and parameters: {'max_iter': 1700, 'max_leaf_nodes': 100, 'max_depth': 13, 'min_samples_leaf': 43, 'l2_regularization': 0.058838477522481024}. Best is trial 42 with value: 43.78832803212892.\n",
            "[I 2023-10-23 11:49:45,827] Trial 51 finished with value: 44.01134036929103 and parameters: {'max_iter': 1838, 'max_leaf_nodes': 97, 'max_depth': 12, 'min_samples_leaf': 39, 'l2_regularization': 0.04529701490042506}. Best is trial 42 with value: 43.78832803212892.\n",
            "[I 2023-10-23 11:50:07,219] Trial 52 finished with value: 44.00868233876906 and parameters: {'max_iter': 1246, 'max_leaf_nodes': 92, 'max_depth': 16, 'min_samples_leaf': 40, 'l2_regularization': 0.040649405361435596}. Best is trial 42 with value: 43.78832803212892.\n",
            "[I 2023-10-23 11:50:23,711] Trial 53 finished with value: 44.04435283022401 and parameters: {'max_iter': 1471, 'max_leaf_nodes': 97, 'max_depth': 15, 'min_samples_leaf': 33, 'l2_regularization': 0.03418291232030781}. Best is trial 42 with value: 43.78832803212892.\n",
            "[I 2023-10-23 11:50:42,618] Trial 54 finished with value: 44.06750186942728 and parameters: {'max_iter': 1599, 'max_leaf_nodes': 87, 'max_depth': 13, 'min_samples_leaf': 42, 'l2_regularization': 0.04734472819782056}. Best is trial 42 with value: 43.78832803212892.\n",
            "[I 2023-10-23 11:51:07,484] Trial 55 finished with value: 43.9447377645664 and parameters: {'max_iter': 1872, 'max_leaf_nodes': 100, 'max_depth': 17, 'min_samples_leaf': 37, 'l2_regularization': 0.041417135289190984}. Best is trial 42 with value: 43.78832803212892.\n",
            "[I 2023-10-23 11:51:31,308] Trial 56 finished with value: 43.97064564278413 and parameters: {'max_iter': 1796, 'max_leaf_nodes': 94, 'max_depth': 14, 'min_samples_leaf': 39, 'l2_regularization': 0.026113151731807185}. Best is trial 42 with value: 43.78832803212892.\n",
            "[I 2023-10-23 11:52:15,406] Trial 57 finished with value: 46.663608419771236 and parameters: {'max_iter': 1940, 'max_leaf_nodes': 91, 'max_depth': 3, 'min_samples_leaf': 45, 'l2_regularization': 0.05754556354955872}. Best is trial 42 with value: 43.78832803212892.\n",
            "[I 2023-10-23 11:52:34,469] Trial 58 finished with value: 44.385919956919395 and parameters: {'max_iter': 1699, 'max_leaf_nodes': 34, 'max_depth': 12, 'min_samples_leaf': 41, 'l2_regularization': 0.035887490114690494}. Best is trial 42 with value: 43.78832803212892.\n",
            "[I 2023-10-23 11:52:55,348] Trial 59 finished with value: 44.2116211999434 and parameters: {'max_iter': 1648, 'max_leaf_nodes': 98, 'max_depth': 8, 'min_samples_leaf': 38, 'l2_regularization': 0.02920702789142708}. Best is trial 42 with value: 43.78832803212892.\n",
            "[I 2023-10-23 11:53:04,983] Trial 60 finished with value: 44.363283346977674 and parameters: {'max_iter': 1737, 'max_leaf_nodes': 75, 'max_depth': 11, 'min_samples_leaf': 35, 'l2_regularization': 0.01923424395326576}. Best is trial 42 with value: 43.78832803212892.\n",
            "[I 2023-10-23 11:53:23,654] Trial 61 finished with value: 44.066198132895245 and parameters: {'max_iter': 1952, 'max_leaf_nodes': 95, 'max_depth': 11, 'min_samples_leaf': 28, 'l2_regularization': 0.034740376167946396}. Best is trial 42 with value: 43.78832803212892.\n",
            "[I 2023-10-23 11:54:01,611] Trial 62 finished with value: 43.79851475764797 and parameters: {'max_iter': 1994, 'max_leaf_nodes': 95, 'max_depth': 10, 'min_samples_leaf': 41, 'l2_regularization': 0.030422190061271163}. Best is trial 42 with value: 43.78832803212892.\n",
            "[I 2023-10-23 11:54:33,502] Trial 63 finished with value: 43.799653824118344 and parameters: {'max_iter': 1877, 'max_leaf_nodes': 88, 'max_depth': 10, 'min_samples_leaf': 41, 'l2_regularization': 0.029152467429063286}. Best is trial 42 with value: 43.78832803212892.\n",
            "[I 2023-10-23 11:54:59,752] Trial 64 finished with value: 44.02571370809025 and parameters: {'max_iter': 1820, 'max_leaf_nodes': 81, 'max_depth': 10, 'min_samples_leaf': 43, 'l2_regularization': 0.023919876381448907}. Best is trial 42 with value: 43.78832803212892.\n",
            "[I 2023-10-23 11:55:34,879] Trial 65 finished with value: 43.794709845571404 and parameters: {'max_iter': 1877, 'max_leaf_nodes': 88, 'max_depth': 10, 'min_samples_leaf': 41, 'l2_regularization': 0.028257512514536717}. Best is trial 42 with value: 43.78832803212892.\n",
            "[I 2023-10-23 11:56:02,869] Trial 66 finished with value: 43.88408826781118 and parameters: {'max_iter': 1878, 'max_leaf_nodes': 84, 'max_depth': 10, 'min_samples_leaf': 41, 'l2_regularization': 0.02813101574712496}. Best is trial 42 with value: 43.78832803212892.\n",
            "[I 2023-10-23 11:56:26,123] Trial 67 finished with value: 44.03238638417892 and parameters: {'max_iter': 1553, 'max_leaf_nodes': 89, 'max_depth': 9, 'min_samples_leaf': 44, 'l2_regularization': 0.020105779612187534}. Best is trial 42 with value: 43.78832803212892.\n",
            "[I 2023-10-23 11:56:48,094] Trial 68 finished with value: 44.248332090705034 and parameters: {'max_iter': 1752, 'max_leaf_nodes': 87, 'max_depth': 8, 'min_samples_leaf': 46, 'l2_regularization': 0.030062975296210173}. Best is trial 42 with value: 43.78832803212892.\n",
            "[I 2023-10-23 11:57:15,046] Trial 69 finished with value: 44.25301190922345 and parameters: {'max_iter': 1873, 'max_leaf_nodes': 71, 'max_depth': 7, 'min_samples_leaf': 40, 'l2_regularization': 0.024893570186695517}. Best is trial 42 with value: 43.78832803212892.\n"
          ]
        }
      ]
    },
    {
      "cell_type": "code",
      "source": [
        "from optuna.visualization import *\n",
        "\n",
        "plot_slice(study)"
      ],
      "metadata": {
        "colab": {
          "base_uri": "https://localhost:8080/",
          "height": 562
        },
        "id": "ZVHr2fSD3EP9",
        "outputId": "a7503e8e-f2d4-4a36-a3d6-01decbbd5431"
      },
      "execution_count": null,
      "outputs": [
        {
          "output_type": "display_data",
          "data": {
            "text/html": [
              "<html>\n",
              "<head><meta charset=\"utf-8\" /></head>\n",
              "<body>\n",
              "    <div>            <script src=\"https://cdnjs.cloudflare.com/ajax/libs/mathjax/2.7.5/MathJax.js?config=TeX-AMS-MML_SVG\"></script><script type=\"text/javascript\">if (window.MathJax && window.MathJax.Hub && window.MathJax.Hub.Config) {window.MathJax.Hub.Config({SVG: {font: \"STIX-Web\"}});}</script>                <script type=\"text/javascript\">window.PlotlyConfig = {MathJaxConfig: 'local'};</script>\n",
              "        <script charset=\"utf-8\" src=\"https://cdn.plot.ly/plotly-2.24.1.min.js\"></script>                <div id=\"ef3260ef-46b9-4866-bb92-830a90ca5baf\" class=\"plotly-graph-div\" style=\"height:525px; width:1500px;\"></div>            <script type=\"text/javascript\">                                    window.PLOTLYENV=window.PLOTLYENV || {};                                    if (document.getElementById(\"ef3260ef-46b9-4866-bb92-830a90ca5baf\")) {                    Plotly.newPlot(                        \"ef3260ef-46b9-4866-bb92-830a90ca5baf\",                        [{\"marker\":{\"color\":[0,1,2,3,4,5,6,7,8,9,10,11,12,13,14,15,16,17,18,19,20,21,22,23,24,25,26,27,28,29,30,31,32,33,34,35,36,37,38,39,40,41,42,43,44,45,46,47,48,49,50,51,52,53,54,55,56,57,58,59,60,61,62,63,64,65,66,67,68,69],\"colorbar\":{\"title\":{\"text\":\"Trial\"},\"x\":1.0,\"xpad\":40},\"colorscale\":[[0.0,\"rgb(247,251,255)\"],[0.125,\"rgb(222,235,247)\"],[0.25,\"rgb(198,219,239)\"],[0.375,\"rgb(158,202,225)\"],[0.5,\"rgb(107,174,214)\"],[0.625,\"rgb(66,146,198)\"],[0.75,\"rgb(33,113,181)\"],[0.875,\"rgb(8,81,156)\"],[1.0,\"rgb(8,48,107)\"]],\"line\":{\"color\":\"Grey\",\"width\":0.5},\"showscale\":true},\"mode\":\"markers\",\"name\":\"Feasible Trial\",\"showlegend\":false,\"x\":[0.013843945932173179,0.07281552579267112,0.011995183389437475,0.03710785744299809,0.06769381611106304,0.020945293791613258,0.04225675704553002,0.042943471410869766,0.06786923974447272,0.015499276502432154,0.0011613500790203374,0.0012633671670008785,0.0015694078491966259,0.027158015080071124,0.091912374176284,0.02693825847333741,0.008128802487382252,0.011526224196026879,0.02956273700835752,0.016619248846656318,0.01922737351931455,0.01289652517231564,0.009818542395994717,0.022128412311402175,0.008170013837062751,0.03203486534563682,0.021945060155684617,0.006661542472458162,0.017498849884480486,0.01137096792581765,0.01579159872270383,0.013283150332541061,0.023373396668250546,0.033409683364672135,0.03191204900406595,0.03503250404129518,0.03436890350502238,0.05054207529295015,0.037545657329144375,0.047663449923295506,0.0509768136746344,0.04311922048385841,0.037392091444611274,0.04618351890425285,0.03806181200554846,0.05457465369940823,0.03911013625432875,0.026597605419453815,0.0312587665264581,0.05835908912696702,0.058838477522481024,0.04529701490042506,0.040649405361435596,0.03418291232030781,0.04734472819782056,0.041417135289190984,0.026113151731807185,0.05754556354955872,0.035887490114690494,0.02920702789142708,0.01923424395326576,0.034740376167946396,0.030422190061271163,0.029152467429063286,0.023919876381448907,0.028257512514536717,0.02813101574712496,0.020105779612187534,0.030062975296210173,0.024893570186695517],\"y\":[44.44027920787605,44.25897875149526,43.933498504153484,44.49713384674928,44.21104219173789,44.20632437507731,45.553301060699496,44.24646599884641,44.295924258561115,45.44751118676829,44.041397914560875,44.10238787608084,44.10461335695287,44.14274420647564,44.36074041933557,44.43430339173311,44.1253314257595,44.03197423132289,44.18921743486772,43.95890016298577,44.65992616097853,44.1518146532969,43.83466452245704,44.10258104644109,44.34924059504245,44.17300295701598,44.53885730763234,43.97893251703212,44.00997542553894,44.35411576359258,43.930106001002656,44.04892227654092,44.04173196718563,43.92487563622994,43.897987008098916,43.815621078059905,44.187540567510894,44.053863504352016,44.12867305856698,43.90486591818874,43.9308936388535,43.963925935290135,43.78832803212892,44.114564096477665,44.078927128837094,44.27339563396432,44.13500151349067,44.07586719102848,44.14421946368895,43.85308572977454,44.02819645163505,44.01134036929103,44.00868233876906,44.04435283022401,44.06750186942728,43.9447377645664,43.97064564278413,46.663608419771236,44.385919956919395,44.2116211999434,44.363283346977674,44.066198132895245,43.79851475764797,43.799653824118344,44.02571370809025,43.794709845571404,43.88408826781118,44.03238638417892,44.248332090705034,44.25301190922345],\"type\":\"scatter\",\"xaxis\":\"x\",\"yaxis\":\"y\"},{\"marker\":{\"color\":[0,1,2,3,4,5,6,7,8,9,10,11,12,13,14,15,16,17,18,19,20,21,22,23,24,25,26,27,28,29,30,31,32,33,34,35,36,37,38,39,40,41,42,43,44,45,46,47,48,49,50,51,52,53,54,55,56,57,58,59,60,61,62,63,64,65,66,67,68,69],\"colorbar\":{\"title\":{\"text\":\"Trial\"},\"x\":1.0,\"xpad\":40},\"colorscale\":[[0.0,\"rgb(247,251,255)\"],[0.125,\"rgb(222,235,247)\"],[0.25,\"rgb(198,219,239)\"],[0.375,\"rgb(158,202,225)\"],[0.5,\"rgb(107,174,214)\"],[0.625,\"rgb(66,146,198)\"],[0.75,\"rgb(33,113,181)\"],[0.875,\"rgb(8,81,156)\"],[1.0,\"rgb(8,48,107)\"]],\"line\":{\"color\":\"Grey\",\"width\":0.5},\"showscale\":false},\"mode\":\"markers\",\"name\":\"Feasible Trial\",\"showlegend\":false,\"x\":[10,19,12,6,12,11,4,13,14,4,18,20,16,17,8,15,18,9,8,9,6,9,11,12,11,14,6,10,13,7,10,9,10,11,11,11,13,11,12,14,15,11,14,14,15,13,16,12,14,13,13,12,16,15,13,17,14,3,12,8,11,11,10,10,10,10,10,9,8,7],\"y\":[44.44027920787605,44.25897875149526,43.933498504153484,44.49713384674928,44.21104219173789,44.20632437507731,45.553301060699496,44.24646599884641,44.295924258561115,45.44751118676829,44.041397914560875,44.10238787608084,44.10461335695287,44.14274420647564,44.36074041933557,44.43430339173311,44.1253314257595,44.03197423132289,44.18921743486772,43.95890016298577,44.65992616097853,44.1518146532969,43.83466452245704,44.10258104644109,44.34924059504245,44.17300295701598,44.53885730763234,43.97893251703212,44.00997542553894,44.35411576359258,43.930106001002656,44.04892227654092,44.04173196718563,43.92487563622994,43.897987008098916,43.815621078059905,44.187540567510894,44.053863504352016,44.12867305856698,43.90486591818874,43.9308936388535,43.963925935290135,43.78832803212892,44.114564096477665,44.078927128837094,44.27339563396432,44.13500151349067,44.07586719102848,44.14421946368895,43.85308572977454,44.02819645163505,44.01134036929103,44.00868233876906,44.04435283022401,44.06750186942728,43.9447377645664,43.97064564278413,46.663608419771236,44.385919956919395,44.2116211999434,44.363283346977674,44.066198132895245,43.79851475764797,43.799653824118344,44.02571370809025,43.794709845571404,43.88408826781118,44.03238638417892,44.248332090705034,44.25301190922345],\"type\":\"scatter\",\"xaxis\":\"x2\",\"yaxis\":\"y2\"},{\"marker\":{\"color\":[0,1,2,3,4,5,6,7,8,9,10,11,12,13,14,15,16,17,18,19,20,21,22,23,24,25,26,27,28,29,30,31,32,33,34,35,36,37,38,39,40,41,42,43,44,45,46,47,48,49,50,51,52,53,54,55,56,57,58,59,60,61,62,63,64,65,66,67,68,69],\"colorbar\":{\"title\":{\"text\":\"Trial\"},\"x\":1.0,\"xpad\":40},\"colorscale\":[[0.0,\"rgb(247,251,255)\"],[0.125,\"rgb(222,235,247)\"],[0.25,\"rgb(198,219,239)\"],[0.375,\"rgb(158,202,225)\"],[0.5,\"rgb(107,174,214)\"],[0.625,\"rgb(66,146,198)\"],[0.75,\"rgb(33,113,181)\"],[0.875,\"rgb(8,81,156)\"],[1.0,\"rgb(8,48,107)\"]],\"line\":{\"color\":\"Grey\",\"width\":0.5},\"showscale\":false},\"mode\":\"markers\",\"name\":\"Feasible Trial\",\"showlegend\":false,\"x\":[1369,873,676,682,1506,1908,797,1355,1465,1277,996,983,512,1037,517,1103,776,1752,1845,1657,1670,1698,1712,1600,1948,1134,1547,1741,1828,1360,1998,1972,1850,1998,1948,1969,1868,1760,2000,1912,1793,1908,1914,1908,1457,1909,1607,1787,1921,1708,1700,1838,1246,1471,1599,1872,1796,1940,1699,1648,1737,1952,1994,1877,1820,1877,1878,1553,1752,1873],\"y\":[44.44027920787605,44.25897875149526,43.933498504153484,44.49713384674928,44.21104219173789,44.20632437507731,45.553301060699496,44.24646599884641,44.295924258561115,45.44751118676829,44.041397914560875,44.10238787608084,44.10461335695287,44.14274420647564,44.36074041933557,44.43430339173311,44.1253314257595,44.03197423132289,44.18921743486772,43.95890016298577,44.65992616097853,44.1518146532969,43.83466452245704,44.10258104644109,44.34924059504245,44.17300295701598,44.53885730763234,43.97893251703212,44.00997542553894,44.35411576359258,43.930106001002656,44.04892227654092,44.04173196718563,43.92487563622994,43.897987008098916,43.815621078059905,44.187540567510894,44.053863504352016,44.12867305856698,43.90486591818874,43.9308936388535,43.963925935290135,43.78832803212892,44.114564096477665,44.078927128837094,44.27339563396432,44.13500151349067,44.07586719102848,44.14421946368895,43.85308572977454,44.02819645163505,44.01134036929103,44.00868233876906,44.04435283022401,44.06750186942728,43.9447377645664,43.97064564278413,46.663608419771236,44.385919956919395,44.2116211999434,44.363283346977674,44.066198132895245,43.79851475764797,43.799653824118344,44.02571370809025,43.794709845571404,43.88408826781118,44.03238638417892,44.248332090705034,44.25301190922345],\"type\":\"scatter\",\"xaxis\":\"x3\",\"yaxis\":\"y3\"},{\"marker\":{\"color\":[0,1,2,3,4,5,6,7,8,9,10,11,12,13,14,15,16,17,18,19,20,21,22,23,24,25,26,27,28,29,30,31,32,33,34,35,36,37,38,39,40,41,42,43,44,45,46,47,48,49,50,51,52,53,54,55,56,57,58,59,60,61,62,63,64,65,66,67,68,69],\"colorbar\":{\"title\":{\"text\":\"Trial\"},\"x\":1.0,\"xpad\":40},\"colorscale\":[[0.0,\"rgb(247,251,255)\"],[0.125,\"rgb(222,235,247)\"],[0.25,\"rgb(198,219,239)\"],[0.375,\"rgb(158,202,225)\"],[0.5,\"rgb(107,174,214)\"],[0.625,\"rgb(66,146,198)\"],[0.75,\"rgb(33,113,181)\"],[0.875,\"rgb(8,81,156)\"],[1.0,\"rgb(8,48,107)\"]],\"line\":{\"color\":\"Grey\",\"width\":0.5},\"showscale\":false},\"mode\":\"markers\",\"name\":\"Feasible Trial\",\"showlegend\":false,\"x\":[60,69,90,43,59,88,73,94,44,75,86,99,84,82,93,33,77,100,99,92,65,94,100,90,80,93,88,100,83,61,95,95,89,95,97,96,69,48,79,97,97,97,87,86,90,51,97,85,91,100,100,97,92,97,87,100,94,91,34,98,75,95,95,88,81,88,84,89,87,71],\"y\":[44.44027920787605,44.25897875149526,43.933498504153484,44.49713384674928,44.21104219173789,44.20632437507731,45.553301060699496,44.24646599884641,44.295924258561115,45.44751118676829,44.041397914560875,44.10238787608084,44.10461335695287,44.14274420647564,44.36074041933557,44.43430339173311,44.1253314257595,44.03197423132289,44.18921743486772,43.95890016298577,44.65992616097853,44.1518146532969,43.83466452245704,44.10258104644109,44.34924059504245,44.17300295701598,44.53885730763234,43.97893251703212,44.00997542553894,44.35411576359258,43.930106001002656,44.04892227654092,44.04173196718563,43.92487563622994,43.897987008098916,43.815621078059905,44.187540567510894,44.053863504352016,44.12867305856698,43.90486591818874,43.9308936388535,43.963925935290135,43.78832803212892,44.114564096477665,44.078927128837094,44.27339563396432,44.13500151349067,44.07586719102848,44.14421946368895,43.85308572977454,44.02819645163505,44.01134036929103,44.00868233876906,44.04435283022401,44.06750186942728,43.9447377645664,43.97064564278413,46.663608419771236,44.385919956919395,44.2116211999434,44.363283346977674,44.066198132895245,43.79851475764797,43.799653824118344,44.02571370809025,43.794709845571404,43.88408826781118,44.03238638417892,44.248332090705034,44.25301190922345],\"type\":\"scatter\",\"xaxis\":\"x4\",\"yaxis\":\"y4\"},{\"marker\":{\"color\":[0,1,2,3,4,5,6,7,8,9,10,11,12,13,14,15,16,17,18,19,20,21,22,23,24,25,26,27,28,29,30,31,32,33,34,35,36,37,38,39,40,41,42,43,44,45,46,47,48,49,50,51,52,53,54,55,56,57,58,59,60,61,62,63,64,65,66,67,68,69],\"colorbar\":{\"title\":{\"text\":\"Trial\"},\"x\":1.0,\"xpad\":40},\"colorscale\":[[0.0,\"rgb(247,251,255)\"],[0.125,\"rgb(222,235,247)\"],[0.25,\"rgb(198,219,239)\"],[0.375,\"rgb(158,202,225)\"],[0.5,\"rgb(107,174,214)\"],[0.625,\"rgb(66,146,198)\"],[0.75,\"rgb(33,113,181)\"],[0.875,\"rgb(8,81,156)\"],[1.0,\"rgb(8,48,107)\"]],\"line\":{\"color\":\"Grey\",\"width\":0.5},\"showscale\":false},\"mode\":\"markers\",\"name\":\"Feasible Trial\",\"showlegend\":false,\"x\":[22,28,24,25,27,23,35,21,46,42,34,34,31,40,39,50,31,31,29,25,20,25,25,25,24,27,21,30,26,23,36,35,37,28,37,43,45,44,47,39,41,38,42,42,43,40,33,37,48,39,43,39,40,33,42,37,39,45,41,38,35,28,41,41,43,41,41,44,46,40],\"y\":[44.44027920787605,44.25897875149526,43.933498504153484,44.49713384674928,44.21104219173789,44.20632437507731,45.553301060699496,44.24646599884641,44.295924258561115,45.44751118676829,44.041397914560875,44.10238787608084,44.10461335695287,44.14274420647564,44.36074041933557,44.43430339173311,44.1253314257595,44.03197423132289,44.18921743486772,43.95890016298577,44.65992616097853,44.1518146532969,43.83466452245704,44.10258104644109,44.34924059504245,44.17300295701598,44.53885730763234,43.97893251703212,44.00997542553894,44.35411576359258,43.930106001002656,44.04892227654092,44.04173196718563,43.92487563622994,43.897987008098916,43.815621078059905,44.187540567510894,44.053863504352016,44.12867305856698,43.90486591818874,43.9308936388535,43.963925935290135,43.78832803212892,44.114564096477665,44.078927128837094,44.27339563396432,44.13500151349067,44.07586719102848,44.14421946368895,43.85308572977454,44.02819645163505,44.01134036929103,44.00868233876906,44.04435283022401,44.06750186942728,43.9447377645664,43.97064564278413,46.663608419771236,44.385919956919395,44.2116211999434,44.363283346977674,44.066198132895245,43.79851475764797,43.799653824118344,44.02571370809025,43.794709845571404,43.88408826781118,44.03238638417892,44.248332090705034,44.25301190922345],\"type\":\"scatter\",\"xaxis\":\"x5\",\"yaxis\":\"y5\"}],                        {\"template\":{\"data\":{\"histogram2dcontour\":[{\"type\":\"histogram2dcontour\",\"colorbar\":{\"outlinewidth\":0,\"ticks\":\"\"},\"colorscale\":[[0.0,\"#0d0887\"],[0.1111111111111111,\"#46039f\"],[0.2222222222222222,\"#7201a8\"],[0.3333333333333333,\"#9c179e\"],[0.4444444444444444,\"#bd3786\"],[0.5555555555555556,\"#d8576b\"],[0.6666666666666666,\"#ed7953\"],[0.7777777777777778,\"#fb9f3a\"],[0.8888888888888888,\"#fdca26\"],[1.0,\"#f0f921\"]]}],\"choropleth\":[{\"type\":\"choropleth\",\"colorbar\":{\"outlinewidth\":0,\"ticks\":\"\"}}],\"histogram2d\":[{\"type\":\"histogram2d\",\"colorbar\":{\"outlinewidth\":0,\"ticks\":\"\"},\"colorscale\":[[0.0,\"#0d0887\"],[0.1111111111111111,\"#46039f\"],[0.2222222222222222,\"#7201a8\"],[0.3333333333333333,\"#9c179e\"],[0.4444444444444444,\"#bd3786\"],[0.5555555555555556,\"#d8576b\"],[0.6666666666666666,\"#ed7953\"],[0.7777777777777778,\"#fb9f3a\"],[0.8888888888888888,\"#fdca26\"],[1.0,\"#f0f921\"]]}],\"heatmap\":[{\"type\":\"heatmap\",\"colorbar\":{\"outlinewidth\":0,\"ticks\":\"\"},\"colorscale\":[[0.0,\"#0d0887\"],[0.1111111111111111,\"#46039f\"],[0.2222222222222222,\"#7201a8\"],[0.3333333333333333,\"#9c179e\"],[0.4444444444444444,\"#bd3786\"],[0.5555555555555556,\"#d8576b\"],[0.6666666666666666,\"#ed7953\"],[0.7777777777777778,\"#fb9f3a\"],[0.8888888888888888,\"#fdca26\"],[1.0,\"#f0f921\"]]}],\"heatmapgl\":[{\"type\":\"heatmapgl\",\"colorbar\":{\"outlinewidth\":0,\"ticks\":\"\"},\"colorscale\":[[0.0,\"#0d0887\"],[0.1111111111111111,\"#46039f\"],[0.2222222222222222,\"#7201a8\"],[0.3333333333333333,\"#9c179e\"],[0.4444444444444444,\"#bd3786\"],[0.5555555555555556,\"#d8576b\"],[0.6666666666666666,\"#ed7953\"],[0.7777777777777778,\"#fb9f3a\"],[0.8888888888888888,\"#fdca26\"],[1.0,\"#f0f921\"]]}],\"contourcarpet\":[{\"type\":\"contourcarpet\",\"colorbar\":{\"outlinewidth\":0,\"ticks\":\"\"}}],\"contour\":[{\"type\":\"contour\",\"colorbar\":{\"outlinewidth\":0,\"ticks\":\"\"},\"colorscale\":[[0.0,\"#0d0887\"],[0.1111111111111111,\"#46039f\"],[0.2222222222222222,\"#7201a8\"],[0.3333333333333333,\"#9c179e\"],[0.4444444444444444,\"#bd3786\"],[0.5555555555555556,\"#d8576b\"],[0.6666666666666666,\"#ed7953\"],[0.7777777777777778,\"#fb9f3a\"],[0.8888888888888888,\"#fdca26\"],[1.0,\"#f0f921\"]]}],\"surface\":[{\"type\":\"surface\",\"colorbar\":{\"outlinewidth\":0,\"ticks\":\"\"},\"colorscale\":[[0.0,\"#0d0887\"],[0.1111111111111111,\"#46039f\"],[0.2222222222222222,\"#7201a8\"],[0.3333333333333333,\"#9c179e\"],[0.4444444444444444,\"#bd3786\"],[0.5555555555555556,\"#d8576b\"],[0.6666666666666666,\"#ed7953\"],[0.7777777777777778,\"#fb9f3a\"],[0.8888888888888888,\"#fdca26\"],[1.0,\"#f0f921\"]]}],\"mesh3d\":[{\"type\":\"mesh3d\",\"colorbar\":{\"outlinewidth\":0,\"ticks\":\"\"}}],\"scatter\":[{\"fillpattern\":{\"fillmode\":\"overlay\",\"size\":10,\"solidity\":0.2},\"type\":\"scatter\"}],\"parcoords\":[{\"type\":\"parcoords\",\"line\":{\"colorbar\":{\"outlinewidth\":0,\"ticks\":\"\"}}}],\"scatterpolargl\":[{\"type\":\"scatterpolargl\",\"marker\":{\"colorbar\":{\"outlinewidth\":0,\"ticks\":\"\"}}}],\"bar\":[{\"error_x\":{\"color\":\"#2a3f5f\"},\"error_y\":{\"color\":\"#2a3f5f\"},\"marker\":{\"line\":{\"color\":\"#E5ECF6\",\"width\":0.5},\"pattern\":{\"fillmode\":\"overlay\",\"size\":10,\"solidity\":0.2}},\"type\":\"bar\"}],\"scattergeo\":[{\"type\":\"scattergeo\",\"marker\":{\"colorbar\":{\"outlinewidth\":0,\"ticks\":\"\"}}}],\"scatterpolar\":[{\"type\":\"scatterpolar\",\"marker\":{\"colorbar\":{\"outlinewidth\":0,\"ticks\":\"\"}}}],\"histogram\":[{\"marker\":{\"pattern\":{\"fillmode\":\"overlay\",\"size\":10,\"solidity\":0.2}},\"type\":\"histogram\"}],\"scattergl\":[{\"type\":\"scattergl\",\"marker\":{\"colorbar\":{\"outlinewidth\":0,\"ticks\":\"\"}}}],\"scatter3d\":[{\"type\":\"scatter3d\",\"line\":{\"colorbar\":{\"outlinewidth\":0,\"ticks\":\"\"}},\"marker\":{\"colorbar\":{\"outlinewidth\":0,\"ticks\":\"\"}}}],\"scattermapbox\":[{\"type\":\"scattermapbox\",\"marker\":{\"colorbar\":{\"outlinewidth\":0,\"ticks\":\"\"}}}],\"scatterternary\":[{\"type\":\"scatterternary\",\"marker\":{\"colorbar\":{\"outlinewidth\":0,\"ticks\":\"\"}}}],\"scattercarpet\":[{\"type\":\"scattercarpet\",\"marker\":{\"colorbar\":{\"outlinewidth\":0,\"ticks\":\"\"}}}],\"carpet\":[{\"aaxis\":{\"endlinecolor\":\"#2a3f5f\",\"gridcolor\":\"white\",\"linecolor\":\"white\",\"minorgridcolor\":\"white\",\"startlinecolor\":\"#2a3f5f\"},\"baxis\":{\"endlinecolor\":\"#2a3f5f\",\"gridcolor\":\"white\",\"linecolor\":\"white\",\"minorgridcolor\":\"white\",\"startlinecolor\":\"#2a3f5f\"},\"type\":\"carpet\"}],\"table\":[{\"cells\":{\"fill\":{\"color\":\"#EBF0F8\"},\"line\":{\"color\":\"white\"}},\"header\":{\"fill\":{\"color\":\"#C8D4E3\"},\"line\":{\"color\":\"white\"}},\"type\":\"table\"}],\"barpolar\":[{\"marker\":{\"line\":{\"color\":\"#E5ECF6\",\"width\":0.5},\"pattern\":{\"fillmode\":\"overlay\",\"size\":10,\"solidity\":0.2}},\"type\":\"barpolar\"}],\"pie\":[{\"automargin\":true,\"type\":\"pie\"}]},\"layout\":{\"autotypenumbers\":\"strict\",\"colorway\":[\"#636efa\",\"#EF553B\",\"#00cc96\",\"#ab63fa\",\"#FFA15A\",\"#19d3f3\",\"#FF6692\",\"#B6E880\",\"#FF97FF\",\"#FECB52\"],\"font\":{\"color\":\"#2a3f5f\"},\"hovermode\":\"closest\",\"hoverlabel\":{\"align\":\"left\"},\"paper_bgcolor\":\"white\",\"plot_bgcolor\":\"#E5ECF6\",\"polar\":{\"bgcolor\":\"#E5ECF6\",\"angularaxis\":{\"gridcolor\":\"white\",\"linecolor\":\"white\",\"ticks\":\"\"},\"radialaxis\":{\"gridcolor\":\"white\",\"linecolor\":\"white\",\"ticks\":\"\"}},\"ternary\":{\"bgcolor\":\"#E5ECF6\",\"aaxis\":{\"gridcolor\":\"white\",\"linecolor\":\"white\",\"ticks\":\"\"},\"baxis\":{\"gridcolor\":\"white\",\"linecolor\":\"white\",\"ticks\":\"\"},\"caxis\":{\"gridcolor\":\"white\",\"linecolor\":\"white\",\"ticks\":\"\"}},\"coloraxis\":{\"colorbar\":{\"outlinewidth\":0,\"ticks\":\"\"}},\"colorscale\":{\"sequential\":[[0.0,\"#0d0887\"],[0.1111111111111111,\"#46039f\"],[0.2222222222222222,\"#7201a8\"],[0.3333333333333333,\"#9c179e\"],[0.4444444444444444,\"#bd3786\"],[0.5555555555555556,\"#d8576b\"],[0.6666666666666666,\"#ed7953\"],[0.7777777777777778,\"#fb9f3a\"],[0.8888888888888888,\"#fdca26\"],[1.0,\"#f0f921\"]],\"sequentialminus\":[[0.0,\"#0d0887\"],[0.1111111111111111,\"#46039f\"],[0.2222222222222222,\"#7201a8\"],[0.3333333333333333,\"#9c179e\"],[0.4444444444444444,\"#bd3786\"],[0.5555555555555556,\"#d8576b\"],[0.6666666666666666,\"#ed7953\"],[0.7777777777777778,\"#fb9f3a\"],[0.8888888888888888,\"#fdca26\"],[1.0,\"#f0f921\"]],\"diverging\":[[0,\"#8e0152\"],[0.1,\"#c51b7d\"],[0.2,\"#de77ae\"],[0.3,\"#f1b6da\"],[0.4,\"#fde0ef\"],[0.5,\"#f7f7f7\"],[0.6,\"#e6f5d0\"],[0.7,\"#b8e186\"],[0.8,\"#7fbc41\"],[0.9,\"#4d9221\"],[1,\"#276419\"]]},\"xaxis\":{\"gridcolor\":\"white\",\"linecolor\":\"white\",\"ticks\":\"\",\"title\":{\"standoff\":15},\"zerolinecolor\":\"white\",\"automargin\":true,\"zerolinewidth\":2},\"yaxis\":{\"gridcolor\":\"white\",\"linecolor\":\"white\",\"ticks\":\"\",\"title\":{\"standoff\":15},\"zerolinecolor\":\"white\",\"automargin\":true,\"zerolinewidth\":2},\"scene\":{\"xaxis\":{\"backgroundcolor\":\"#E5ECF6\",\"gridcolor\":\"white\",\"linecolor\":\"white\",\"showbackground\":true,\"ticks\":\"\",\"zerolinecolor\":\"white\",\"gridwidth\":2},\"yaxis\":{\"backgroundcolor\":\"#E5ECF6\",\"gridcolor\":\"white\",\"linecolor\":\"white\",\"showbackground\":true,\"ticks\":\"\",\"zerolinecolor\":\"white\",\"gridwidth\":2},\"zaxis\":{\"backgroundcolor\":\"#E5ECF6\",\"gridcolor\":\"white\",\"linecolor\":\"white\",\"showbackground\":true,\"ticks\":\"\",\"zerolinecolor\":\"white\",\"gridwidth\":2}},\"shapedefaults\":{\"line\":{\"color\":\"#2a3f5f\"}},\"annotationdefaults\":{\"arrowcolor\":\"#2a3f5f\",\"arrowhead\":0,\"arrowwidth\":1},\"geo\":{\"bgcolor\":\"white\",\"landcolor\":\"#E5ECF6\",\"subunitcolor\":\"white\",\"showland\":true,\"showlakes\":true,\"lakecolor\":\"white\"},\"title\":{\"x\":0.05},\"mapbox\":{\"style\":\"light\"}}},\"xaxis\":{\"anchor\":\"y\",\"domain\":[0.0,0.16799999999999998],\"title\":{\"text\":\"l2_regularization\"}},\"yaxis\":{\"anchor\":\"x\",\"domain\":[0.0,1.0],\"title\":{\"text\":\"Objective Value\"}},\"xaxis2\":{\"anchor\":\"y2\",\"domain\":[0.208,0.376],\"title\":{\"text\":\"max_depth\"}},\"yaxis2\":{\"anchor\":\"x2\",\"domain\":[0.0,1.0],\"matches\":\"y\",\"showticklabels\":false},\"xaxis3\":{\"anchor\":\"y3\",\"domain\":[0.416,0.584],\"title\":{\"text\":\"max_iter\"}},\"yaxis3\":{\"anchor\":\"x3\",\"domain\":[0.0,1.0],\"matches\":\"y\",\"showticklabels\":false},\"xaxis4\":{\"anchor\":\"y4\",\"domain\":[0.624,0.792],\"title\":{\"text\":\"max_leaf_nodes\"}},\"yaxis4\":{\"anchor\":\"x4\",\"domain\":[0.0,1.0],\"matches\":\"y\",\"showticklabels\":false},\"xaxis5\":{\"anchor\":\"y5\",\"domain\":[0.832,1.0],\"title\":{\"text\":\"min_samples_leaf\"}},\"yaxis5\":{\"anchor\":\"x5\",\"domain\":[0.0,1.0],\"matches\":\"y\",\"showticklabels\":false},\"title\":{\"text\":\"Slice Plot\"},\"width\":1500},                        {\"responsive\": true}                    ).then(function(){\n",
              "                            \n",
              "var gd = document.getElementById('ef3260ef-46b9-4866-bb92-830a90ca5baf');\n",
              "var x = new MutationObserver(function (mutations, observer) {{\n",
              "        var display = window.getComputedStyle(gd).display;\n",
              "        if (!display || display === 'none') {{\n",
              "            console.log([gd, 'removed!']);\n",
              "            Plotly.purge(gd);\n",
              "            observer.disconnect();\n",
              "        }}\n",
              "}});\n",
              "\n",
              "// Listen for the removal of the full notebook cells\n",
              "var notebookContainer = gd.closest('#notebook-container');\n",
              "if (notebookContainer) {{\n",
              "    x.observe(notebookContainer, {childList: true});\n",
              "}}\n",
              "\n",
              "// Listen for the clearing of the current output cell\n",
              "var outputEl = gd.closest('.output');\n",
              "if (outputEl) {{\n",
              "    x.observe(outputEl, {childList: true});\n",
              "}}\n",
              "\n",
              "                        })                };                            </script>        </div>\n",
              "</body>\n",
              "</html>"
            ]
          },
          "metadata": {}
        }
      ]
    },
    {
      "cell_type": "code",
      "source": [
        "plot_param_importances(study)"
      ],
      "metadata": {
        "colab": {
          "base_uri": "https://localhost:8080/",
          "height": 542
        },
        "id": "AWFrVsy830TJ",
        "outputId": "d013e2fd-2307-4d2b-df45-21152f2a43a9"
      },
      "execution_count": null,
      "outputs": [
        {
          "output_type": "display_data",
          "data": {
            "text/html": [
              "<html>\n",
              "<head><meta charset=\"utf-8\" /></head>\n",
              "<body>\n",
              "    <div>            <script src=\"https://cdnjs.cloudflare.com/ajax/libs/mathjax/2.7.5/MathJax.js?config=TeX-AMS-MML_SVG\"></script><script type=\"text/javascript\">if (window.MathJax && window.MathJax.Hub && window.MathJax.Hub.Config) {window.MathJax.Hub.Config({SVG: {font: \"STIX-Web\"}});}</script>                <script type=\"text/javascript\">window.PlotlyConfig = {MathJaxConfig: 'local'};</script>\n",
              "        <script charset=\"utf-8\" src=\"https://cdn.plot.ly/plotly-2.24.1.min.js\"></script>                <div id=\"0da3ac5e-71a9-4d69-a014-3ea7872993d2\" class=\"plotly-graph-div\" style=\"height:525px; width:100%;\"></div>            <script type=\"text/javascript\">                                    window.PLOTLYENV=window.PLOTLYENV || {};                                    if (document.getElementById(\"0da3ac5e-71a9-4d69-a014-3ea7872993d2\")) {                    Plotly.newPlot(                        \"0da3ac5e-71a9-4d69-a014-3ea7872993d2\",                        [{\"cliponaxis\":false,\"hovertemplate\":[\"max_iter (IntDistribution): 0.0037506458546835175\\u003cextra\\u003e\\u003c\\u002fextra\\u003e\",\"min_samples_leaf (IntDistribution): 0.006945631524337459\\u003cextra\\u003e\\u003c\\u002fextra\\u003e\",\"l2_regularization (FloatDistribution): 0.008993525038069612\\u003cextra\\u003e\\u003c\\u002fextra\\u003e\",\"max_leaf_nodes (IntDistribution): 0.02304397000744293\\u003cextra\\u003e\\u003c\\u002fextra\\u003e\",\"max_depth (IntDistribution): 0.9572662275754665\\u003cextra\\u003e\\u003c\\u002fextra\\u003e\"],\"name\":\"Objective Value\",\"orientation\":\"h\",\"text\":[\"\\u003c0.01\",\"\\u003c0.01\",\"\\u003c0.01\",\"0.02\",\"0.96\"],\"textposition\":\"outside\",\"x\":[0.0037506458546835175,0.006945631524337459,0.008993525038069612,0.02304397000744293,0.9572662275754665],\"y\":[\"max_iter\",\"min_samples_leaf\",\"l2_regularization\",\"max_leaf_nodes\",\"max_depth\"],\"type\":\"bar\"}],                        {\"title\":{\"text\":\"Hyperparameter Importances\"},\"xaxis\":{\"title\":{\"text\":\"Hyperparameter Importance\"}},\"yaxis\":{\"title\":{\"text\":\"Hyperparameter\"}},\"template\":{\"data\":{\"histogram2dcontour\":[{\"type\":\"histogram2dcontour\",\"colorbar\":{\"outlinewidth\":0,\"ticks\":\"\"},\"colorscale\":[[0.0,\"#0d0887\"],[0.1111111111111111,\"#46039f\"],[0.2222222222222222,\"#7201a8\"],[0.3333333333333333,\"#9c179e\"],[0.4444444444444444,\"#bd3786\"],[0.5555555555555556,\"#d8576b\"],[0.6666666666666666,\"#ed7953\"],[0.7777777777777778,\"#fb9f3a\"],[0.8888888888888888,\"#fdca26\"],[1.0,\"#f0f921\"]]}],\"choropleth\":[{\"type\":\"choropleth\",\"colorbar\":{\"outlinewidth\":0,\"ticks\":\"\"}}],\"histogram2d\":[{\"type\":\"histogram2d\",\"colorbar\":{\"outlinewidth\":0,\"ticks\":\"\"},\"colorscale\":[[0.0,\"#0d0887\"],[0.1111111111111111,\"#46039f\"],[0.2222222222222222,\"#7201a8\"],[0.3333333333333333,\"#9c179e\"],[0.4444444444444444,\"#bd3786\"],[0.5555555555555556,\"#d8576b\"],[0.6666666666666666,\"#ed7953\"],[0.7777777777777778,\"#fb9f3a\"],[0.8888888888888888,\"#fdca26\"],[1.0,\"#f0f921\"]]}],\"heatmap\":[{\"type\":\"heatmap\",\"colorbar\":{\"outlinewidth\":0,\"ticks\":\"\"},\"colorscale\":[[0.0,\"#0d0887\"],[0.1111111111111111,\"#46039f\"],[0.2222222222222222,\"#7201a8\"],[0.3333333333333333,\"#9c179e\"],[0.4444444444444444,\"#bd3786\"],[0.5555555555555556,\"#d8576b\"],[0.6666666666666666,\"#ed7953\"],[0.7777777777777778,\"#fb9f3a\"],[0.8888888888888888,\"#fdca26\"],[1.0,\"#f0f921\"]]}],\"heatmapgl\":[{\"type\":\"heatmapgl\",\"colorbar\":{\"outlinewidth\":0,\"ticks\":\"\"},\"colorscale\":[[0.0,\"#0d0887\"],[0.1111111111111111,\"#46039f\"],[0.2222222222222222,\"#7201a8\"],[0.3333333333333333,\"#9c179e\"],[0.4444444444444444,\"#bd3786\"],[0.5555555555555556,\"#d8576b\"],[0.6666666666666666,\"#ed7953\"],[0.7777777777777778,\"#fb9f3a\"],[0.8888888888888888,\"#fdca26\"],[1.0,\"#f0f921\"]]}],\"contourcarpet\":[{\"type\":\"contourcarpet\",\"colorbar\":{\"outlinewidth\":0,\"ticks\":\"\"}}],\"contour\":[{\"type\":\"contour\",\"colorbar\":{\"outlinewidth\":0,\"ticks\":\"\"},\"colorscale\":[[0.0,\"#0d0887\"],[0.1111111111111111,\"#46039f\"],[0.2222222222222222,\"#7201a8\"],[0.3333333333333333,\"#9c179e\"],[0.4444444444444444,\"#bd3786\"],[0.5555555555555556,\"#d8576b\"],[0.6666666666666666,\"#ed7953\"],[0.7777777777777778,\"#fb9f3a\"],[0.8888888888888888,\"#fdca26\"],[1.0,\"#f0f921\"]]}],\"surface\":[{\"type\":\"surface\",\"colorbar\":{\"outlinewidth\":0,\"ticks\":\"\"},\"colorscale\":[[0.0,\"#0d0887\"],[0.1111111111111111,\"#46039f\"],[0.2222222222222222,\"#7201a8\"],[0.3333333333333333,\"#9c179e\"],[0.4444444444444444,\"#bd3786\"],[0.5555555555555556,\"#d8576b\"],[0.6666666666666666,\"#ed7953\"],[0.7777777777777778,\"#fb9f3a\"],[0.8888888888888888,\"#fdca26\"],[1.0,\"#f0f921\"]]}],\"mesh3d\":[{\"type\":\"mesh3d\",\"colorbar\":{\"outlinewidth\":0,\"ticks\":\"\"}}],\"scatter\":[{\"fillpattern\":{\"fillmode\":\"overlay\",\"size\":10,\"solidity\":0.2},\"type\":\"scatter\"}],\"parcoords\":[{\"type\":\"parcoords\",\"line\":{\"colorbar\":{\"outlinewidth\":0,\"ticks\":\"\"}}}],\"scatterpolargl\":[{\"type\":\"scatterpolargl\",\"marker\":{\"colorbar\":{\"outlinewidth\":0,\"ticks\":\"\"}}}],\"bar\":[{\"error_x\":{\"color\":\"#2a3f5f\"},\"error_y\":{\"color\":\"#2a3f5f\"},\"marker\":{\"line\":{\"color\":\"#E5ECF6\",\"width\":0.5},\"pattern\":{\"fillmode\":\"overlay\",\"size\":10,\"solidity\":0.2}},\"type\":\"bar\"}],\"scattergeo\":[{\"type\":\"scattergeo\",\"marker\":{\"colorbar\":{\"outlinewidth\":0,\"ticks\":\"\"}}}],\"scatterpolar\":[{\"type\":\"scatterpolar\",\"marker\":{\"colorbar\":{\"outlinewidth\":0,\"ticks\":\"\"}}}],\"histogram\":[{\"marker\":{\"pattern\":{\"fillmode\":\"overlay\",\"size\":10,\"solidity\":0.2}},\"type\":\"histogram\"}],\"scattergl\":[{\"type\":\"scattergl\",\"marker\":{\"colorbar\":{\"outlinewidth\":0,\"ticks\":\"\"}}}],\"scatter3d\":[{\"type\":\"scatter3d\",\"line\":{\"colorbar\":{\"outlinewidth\":0,\"ticks\":\"\"}},\"marker\":{\"colorbar\":{\"outlinewidth\":0,\"ticks\":\"\"}}}],\"scattermapbox\":[{\"type\":\"scattermapbox\",\"marker\":{\"colorbar\":{\"outlinewidth\":0,\"ticks\":\"\"}}}],\"scatterternary\":[{\"type\":\"scatterternary\",\"marker\":{\"colorbar\":{\"outlinewidth\":0,\"ticks\":\"\"}}}],\"scattercarpet\":[{\"type\":\"scattercarpet\",\"marker\":{\"colorbar\":{\"outlinewidth\":0,\"ticks\":\"\"}}}],\"carpet\":[{\"aaxis\":{\"endlinecolor\":\"#2a3f5f\",\"gridcolor\":\"white\",\"linecolor\":\"white\",\"minorgridcolor\":\"white\",\"startlinecolor\":\"#2a3f5f\"},\"baxis\":{\"endlinecolor\":\"#2a3f5f\",\"gridcolor\":\"white\",\"linecolor\":\"white\",\"minorgridcolor\":\"white\",\"startlinecolor\":\"#2a3f5f\"},\"type\":\"carpet\"}],\"table\":[{\"cells\":{\"fill\":{\"color\":\"#EBF0F8\"},\"line\":{\"color\":\"white\"}},\"header\":{\"fill\":{\"color\":\"#C8D4E3\"},\"line\":{\"color\":\"white\"}},\"type\":\"table\"}],\"barpolar\":[{\"marker\":{\"line\":{\"color\":\"#E5ECF6\",\"width\":0.5},\"pattern\":{\"fillmode\":\"overlay\",\"size\":10,\"solidity\":0.2}},\"type\":\"barpolar\"}],\"pie\":[{\"automargin\":true,\"type\":\"pie\"}]},\"layout\":{\"autotypenumbers\":\"strict\",\"colorway\":[\"#636efa\",\"#EF553B\",\"#00cc96\",\"#ab63fa\",\"#FFA15A\",\"#19d3f3\",\"#FF6692\",\"#B6E880\",\"#FF97FF\",\"#FECB52\"],\"font\":{\"color\":\"#2a3f5f\"},\"hovermode\":\"closest\",\"hoverlabel\":{\"align\":\"left\"},\"paper_bgcolor\":\"white\",\"plot_bgcolor\":\"#E5ECF6\",\"polar\":{\"bgcolor\":\"#E5ECF6\",\"angularaxis\":{\"gridcolor\":\"white\",\"linecolor\":\"white\",\"ticks\":\"\"},\"radialaxis\":{\"gridcolor\":\"white\",\"linecolor\":\"white\",\"ticks\":\"\"}},\"ternary\":{\"bgcolor\":\"#E5ECF6\",\"aaxis\":{\"gridcolor\":\"white\",\"linecolor\":\"white\",\"ticks\":\"\"},\"baxis\":{\"gridcolor\":\"white\",\"linecolor\":\"white\",\"ticks\":\"\"},\"caxis\":{\"gridcolor\":\"white\",\"linecolor\":\"white\",\"ticks\":\"\"}},\"coloraxis\":{\"colorbar\":{\"outlinewidth\":0,\"ticks\":\"\"}},\"colorscale\":{\"sequential\":[[0.0,\"#0d0887\"],[0.1111111111111111,\"#46039f\"],[0.2222222222222222,\"#7201a8\"],[0.3333333333333333,\"#9c179e\"],[0.4444444444444444,\"#bd3786\"],[0.5555555555555556,\"#d8576b\"],[0.6666666666666666,\"#ed7953\"],[0.7777777777777778,\"#fb9f3a\"],[0.8888888888888888,\"#fdca26\"],[1.0,\"#f0f921\"]],\"sequentialminus\":[[0.0,\"#0d0887\"],[0.1111111111111111,\"#46039f\"],[0.2222222222222222,\"#7201a8\"],[0.3333333333333333,\"#9c179e\"],[0.4444444444444444,\"#bd3786\"],[0.5555555555555556,\"#d8576b\"],[0.6666666666666666,\"#ed7953\"],[0.7777777777777778,\"#fb9f3a\"],[0.8888888888888888,\"#fdca26\"],[1.0,\"#f0f921\"]],\"diverging\":[[0,\"#8e0152\"],[0.1,\"#c51b7d\"],[0.2,\"#de77ae\"],[0.3,\"#f1b6da\"],[0.4,\"#fde0ef\"],[0.5,\"#f7f7f7\"],[0.6,\"#e6f5d0\"],[0.7,\"#b8e186\"],[0.8,\"#7fbc41\"],[0.9,\"#4d9221\"],[1,\"#276419\"]]},\"xaxis\":{\"gridcolor\":\"white\",\"linecolor\":\"white\",\"ticks\":\"\",\"title\":{\"standoff\":15},\"zerolinecolor\":\"white\",\"automargin\":true,\"zerolinewidth\":2},\"yaxis\":{\"gridcolor\":\"white\",\"linecolor\":\"white\",\"ticks\":\"\",\"title\":{\"standoff\":15},\"zerolinecolor\":\"white\",\"automargin\":true,\"zerolinewidth\":2},\"scene\":{\"xaxis\":{\"backgroundcolor\":\"#E5ECF6\",\"gridcolor\":\"white\",\"linecolor\":\"white\",\"showbackground\":true,\"ticks\":\"\",\"zerolinecolor\":\"white\",\"gridwidth\":2},\"yaxis\":{\"backgroundcolor\":\"#E5ECF6\",\"gridcolor\":\"white\",\"linecolor\":\"white\",\"showbackground\":true,\"ticks\":\"\",\"zerolinecolor\":\"white\",\"gridwidth\":2},\"zaxis\":{\"backgroundcolor\":\"#E5ECF6\",\"gridcolor\":\"white\",\"linecolor\":\"white\",\"showbackground\":true,\"ticks\":\"\",\"zerolinecolor\":\"white\",\"gridwidth\":2}},\"shapedefaults\":{\"line\":{\"color\":\"#2a3f5f\"}},\"annotationdefaults\":{\"arrowcolor\":\"#2a3f5f\",\"arrowhead\":0,\"arrowwidth\":1},\"geo\":{\"bgcolor\":\"white\",\"landcolor\":\"#E5ECF6\",\"subunitcolor\":\"white\",\"showland\":true,\"showlakes\":true,\"lakecolor\":\"white\"},\"title\":{\"x\":0.05},\"mapbox\":{\"style\":\"light\"}}}},                        {\"responsive\": true}                    ).then(function(){\n",
              "                            \n",
              "var gd = document.getElementById('0da3ac5e-71a9-4d69-a014-3ea7872993d2');\n",
              "var x = new MutationObserver(function (mutations, observer) {{\n",
              "        var display = window.getComputedStyle(gd).display;\n",
              "        if (!display || display === 'none') {{\n",
              "            console.log([gd, 'removed!']);\n",
              "            Plotly.purge(gd);\n",
              "            observer.disconnect();\n",
              "        }}\n",
              "}});\n",
              "\n",
              "// Listen for the removal of the full notebook cells\n",
              "var notebookContainer = gd.closest('#notebook-container');\n",
              "if (notebookContainer) {{\n",
              "    x.observe(notebookContainer, {childList: true});\n",
              "}}\n",
              "\n",
              "// Listen for the clearing of the current output cell\n",
              "var outputEl = gd.closest('.output');\n",
              "if (outputEl) {{\n",
              "    x.observe(outputEl, {childList: true});\n",
              "}}\n",
              "\n",
              "                        })                };                            </script>        </div>\n",
              "</body>\n",
              "</html>"
            ]
          },
          "metadata": {}
        }
      ]
    },
    {
      "cell_type": "markdown",
      "metadata": {
        "id": "0E5WSYiAGgbg"
      },
      "source": [
        "# Predictions"
      ]
    },
    {
      "cell_type": "code",
      "execution_count": null,
      "metadata": {
        "colab": {
          "base_uri": "https://localhost:8080/"
        },
        "id": "iDZfllCLx5Qp",
        "outputId": "615195b6-03f7-4ce6-e485-20b818ea7bb1"
      },
      "outputs": [
        {
          "output_type": "execute_result",
          "data": {
            "text/plain": [
              "((391939, 27), (220491, 27))"
            ]
          },
          "metadata": {},
          "execution_count": 91
        }
      ],
      "source": [
        "X.shape, test[X.columns].shape"
      ]
    },
    {
      "cell_type": "code",
      "execution_count": null,
      "metadata": {
        "id": "v2Qs318Lxa1d"
      },
      "outputs": [],
      "source": [
        "prediction = pipe.predict(test[X.columns]).clip(0,)\n",
        "\n",
        "sample_submission['CI_HOUR'] = prediction"
      ]
    },
    {
      "cell_type": "code",
      "execution_count": null,
      "metadata": {
        "colab": {
          "base_uri": "https://localhost:8080/",
          "height": 430
        },
        "id": "y3PbZMWyye6R",
        "outputId": "3e920d6d-d063-4beb-fed4-d4897d5028e9"
      },
      "outputs": [
        {
          "output_type": "display_data",
          "data": {
            "text/plain": [
              "<Figure size 640x480 with 1 Axes>"
            ],
            "image/png": "[encoded data removed]"
          },
          "metadata": {}
        }
      ],
      "source": [
        "plt.hist(prediction)\n",
        "plt.show()"
      ]
    },
    {
      "cell_type": "code",
      "execution_count": null,
      "metadata": {
        "id": "ApBm3lEDyre-"
      },
      "outputs": [],
      "source": [
        "sample_submission.to_csv(\"./change_to_zero_dist_targetencoding.csv\", index=False)"
      ]
    },
    {
      "cell_type": "code",
      "source": [
        "sample_submission"
      ],
      "metadata": {
        "colab": {
          "base_uri": "https://localhost:8080/",
          "height": 424
        },
        "id": "Sp_kDz4QJ-Tc",
        "outputId": "5e2b57f2-677a-426c-b017-df46033a26ce"
      },
      "execution_count": null,
      "outputs": [
        {
          "output_type": "execute_result",
          "data": {
            "text/plain": [
              "          SAMPLE_ID       CI_HOUR\n",
              "0       TEST_000000  7.431300e-01\n",
              "1       TEST_000001  2.243379e+01\n",
              "2       TEST_000002  2.641960e+01\n",
              "3       TEST_000003  7.823996e+01\n",
              "4       TEST_000004  4.889251e-18\n",
              "...             ...           ...\n",
              "220486  TEST_220486  9.991526e+01\n",
              "220487  TEST_220487  6.269333e+01\n",
              "220488  TEST_220488  2.695241e+01\n",
              "220489  TEST_220489  4.889251e-18\n",
              "220490  TEST_220490  5.938768e+01\n",
              "\n",
              "[220491 rows x 2 columns]"
            ],
            "text/html": [
              "\n",
              "  <div id=\"df-eb1f08be-6f91-413a-8f68-b7735fae4901\" class=\"colab-df-container\">\n",
              "    <div>\n",
              "<style scoped>\n",
              "    .dataframe tbody tr th:only-of-type {\n",
              "        vertical-align: middle;\n",
              "    }\n",
              "\n",
              "    .dataframe tbody tr th {\n",
              "        vertical-align: top;\n",
              "    }\n",
              "\n",
              "    .dataframe thead th {\n",
              "        text-align: right;\n",
              "    }\n",
              "</style>\n",
              "<table border=\"1\" class=\"dataframe\">\n",
              "  <thead>\n",
              "    <tr style=\"text-align: right;\">\n",
              "      <th></th>\n",
              "      <th>SAMPLE_ID</th>\n",
              "      <th>CI_HOUR</th>\n",
              "    </tr>\n",
              "  </thead>\n",
              "  <tbody>\n",
              "    <tr>\n",
              "      <th>0</th>\n",
              "      <td>TEST_000000</td>\n",
              "      <td>7.431300e-01</td>\n",
              "    </tr>\n",
              "    <tr>\n",
              "      <th>1</th>\n",
              "      <td>TEST_000001</td>\n",
              "      <td>2.243379e+01</td>\n",
              "    </tr>\n",
              "    <tr>\n",
              "      <th>2</th>\n",
              "      <td>TEST_000002</td>\n",
              "      <td>2.641960e+01</td>\n",
              "    </tr>\n",
              "    <tr>\n",
              "      <th>3</th>\n",
              "      <td>TEST_000003</td>\n",
              "      <td>7.823996e+01</td>\n",
              "    </tr>\n",
              "    <tr>\n",
              "      <th>4</th>\n",
              "      <td>TEST_000004</td>\n",
              "      <td>4.889251e-18</td>\n",
              "    </tr>\n",
              "    <tr>\n",
              "      <th>...</th>\n",
              "      <td>...</td>\n",
              "      <td>...</td>\n",
              "    </tr>\n",
              "    <tr>\n",
              "      <th>220486</th>\n",
              "      <td>TEST_220486</td>\n",
              "      <td>9.991526e+01</td>\n",
              "    </tr>\n",
              "    <tr>\n",
              "      <th>220487</th>\n",
              "      <td>TEST_220487</td>\n",
              "      <td>6.269333e+01</td>\n",
              "    </tr>\n",
              "    <tr>\n",
              "      <th>220488</th>\n",
              "      <td>TEST_220488</td>\n",
              "      <td>2.695241e+01</td>\n",
              "    </tr>\n",
              "    <tr>\n",
              "      <th>220489</th>\n",
              "      <td>TEST_220489</td>\n",
              "      <td>4.889251e-18</td>\n",
              "    </tr>\n",
              "    <tr>\n",
              "      <th>220490</th>\n",
              "      <td>TEST_220490</td>\n",
              "      <td>5.938768e+01</td>\n",
              "    </tr>\n",
              "  </tbody>\n",
              "</table>\n",
              "<p>220491 rows × 2 columns</p>\n",
              "</div>\n",
              "    <div class=\"colab-df-buttons\">\n",
              "\n",
              "  <div class=\"colab-df-container\">\n",
              "    <button class=\"colab-df-convert\" onclick=\"convertToInteractive('df-eb1f08be-6f91-413a-8f68-b7735fae4901')\"\n",
              "            title=\"Convert this dataframe to an interactive table.\"\n",
              "            style=\"display:none;\">\n",
              "\n",
              "  <svg xmlns=\"http://www.w3.org/2000/svg\" height=\"24px\" viewBox=\"0 -960 960 960\">\n",
              "    <path d=\"M120-120v-720h720v720H120Zm60-500h600v-160H180v160Zm220 220h160v-160H400v160Zm0 220h160v-160H400v160ZM180-400h160v-160H180v160Zm440 0h160v-160H620v160ZM180-180h160v-160H180v160Zm440 0h160v-160H620v160Z\"/>\n",
              "  </svg>\n",
              "    </button>\n",
              "\n",
              "  <style>\n",
              "    .colab-df-container {\n",
              "      display:flex;\n",
              "      gap: 12px;\n",
              "    }\n",
              "\n",
              "    .colab-df-convert {\n",
              "      background-color: #E8F0FE;\n",
              "      border: none;\n",
              "      border-radius: 50%;\n",
              "      cursor: pointer;\n",
              "      display: none;\n",
              "      fill: #1967D2;\n",
              "      height: 32px;\n",
              "      padding: 0 0 0 0;\n",
              "      width: 32px;\n",
              "    }\n",
              "\n",
              "    .colab-df-convert:hover {\n",
              "      background-color: #E2EBFA;\n",
              "      box-shadow: 0px 1px 2px rgba(60, 64, 67, 0.3), 0px 1px 3px 1px rgba(60, 64, 67, 0.15);\n",
              "      fill: #174EA6;\n",
              "    }\n",
              "\n",
              "    .colab-df-buttons div {\n",
              "      margin-bottom: 4px;\n",
              "    }\n",
              "\n",
              "    [theme=dark] .colab-df-convert {\n",
              "      background-color: #3B4455;\n",
              "      fill: #D2E3FC;\n",
              "    }\n",
              "\n",
              "    [theme=dark] .colab-df-convert:hover {\n",
              "      background-color: #434B5C;\n",
              "      box-shadow: 0px 1px 3px 1px rgba(0, 0, 0, 0.15);\n",
              "      filter: drop-shadow(0px 1px 2px rgba(0, 0, 0, 0.3));\n",
              "      fill: #FFFFFF;\n",
              "    }\n",
              "  </style>\n",
              "\n",
              "    <script>\n",
              "      const buttonEl =\n",
              "        document.querySelector('#df-eb1f08be-6f91-413a-8f68-b7735fae4901 button.colab-df-convert');\n",
              "      buttonEl.style.display =\n",
              "        google.colab.kernel.accessAllowed ? 'block' : 'none';\n",
              "\n",
              "      async function convertToInteractive(key) {\n",
              "        const element = document.querySelector('#df-eb1f08be-6f91-413a-8f68-b7735fae4901');\n",
              "        const dataTable =\n",
              "          await google.colab.kernel.invokeFunction('convertToInteractive',\n",
              "                                                    [key], {});\n",
              "        if (!dataTable) return;\n",
              "\n",
              "        const docLinkHtml = 'Like what you see? Visit the ' +\n",
              "          '<a target=\"_blank\" href=https://colab.research.google.com/notebooks/data_table.ipynb>data table notebook</a>'\n",
              "          + ' to learn more about interactive tables.';\n",
              "        element.innerHTML = '';\n",
              "        dataTable['output_type'] = 'display_data';\n",
              "        await google.colab.output.renderOutput(dataTable, element);\n",
              "        const docLink = document.createElement('div');\n",
              "        docLink.innerHTML = docLinkHtml;\n",
              "        element.appendChild(docLink);\n",
              "      }\n",
              "    </script>\n",
              "  </div>\n",
              "\n",
              "\n",
              "<div id=\"df-9993a1f1-483e-4cb3-8e76-e40c11665489\">\n",
              "  <button class=\"colab-df-quickchart\" onclick=\"quickchart('df-9993a1f1-483e-4cb3-8e76-e40c11665489')\"\n",
              "            title=\"Suggest charts.\"\n",
              "            style=\"display:none;\">\n",
              "\n",
              "<svg xmlns=\"http://www.w3.org/2000/svg\" height=\"24px\"viewBox=\"0 0 24 24\"\n",
              "     width=\"24px\">\n",
              "    <g>\n",
              "        <path d=\"M19 3H5c-1.1 0-2 .9-2 2v14c0 1.1.9 2 2 2h14c1.1 0 2-.9 2-2V5c0-1.1-.9-2-2-2zM9 17H7v-7h2v7zm4 0h-2V7h2v10zm4 0h-2v-4h2v4z\"/>\n",
              "    </g>\n",
              "</svg>\n",
              "  </button>\n",
              "\n",
              "<style>\n",
              "  .colab-df-quickchart {\n",
              "      --bg-color: #E8F0FE;\n",
              "      --fill-color: #1967D2;\n",
              "      --hover-bg-color: #E2EBFA;\n",
              "      --hover-fill-color: #174EA6;\n",
              "      --disabled-fill-color: #AAA;\n",
              "      --disabled-bg-color: #DDD;\n",
              "  }\n",
              "\n",
              "  [theme=dark] .colab-df-quickchart {\n",
              "      --bg-color: #3B4455;\n",
              "      --fill-color: #D2E3FC;\n",
              "      --hover-bg-color: #434B5C;\n",
              "      --hover-fill-color: #FFFFFF;\n",
              "      --disabled-bg-color: #3B4455;\n",
              "      --disabled-fill-color: #666;\n",
              "  }\n",
              "\n",
              "  .colab-df-quickchart {\n",
              "    background-color: var(--bg-color);\n",
              "    border: none;\n",
              "    border-radius: 50%;\n",
              "    cursor: pointer;\n",
              "    display: none;\n",
              "    fill: var(--fill-color);\n",
              "    height: 32px;\n",
              "    padding: 0;\n",
              "    width: 32px;\n",
              "  }\n",
              "\n",
              "  .colab-df-quickchart:hover {\n",
              "    background-color: var(--hover-bg-color);\n",
              "    box-shadow: 0 1px 2px rgba(60, 64, 67, 0.3), 0 1px 3px 1px rgba(60, 64, 67, 0.15);\n",
              "    fill: var(--button-hover-fill-color);\n",
              "  }\n",
              "\n",
              "  .colab-df-quickchart-complete:disabled,\n",
              "  .colab-df-quickchart-complete:disabled:hover {\n",
              "    background-color: var(--disabled-bg-color);\n",
              "    fill: var(--disabled-fill-color);\n",
              "    box-shadow: none;\n",
              "  }\n",
              "\n",
              "  .colab-df-spinner {\n",
              "    border: 2px solid var(--fill-color);\n",
              "    border-color: transparent;\n",
              "    border-bottom-color: var(--fill-color);\n",
              "    animation:\n",
              "      spin 1s steps(1) infinite;\n",
              "  }\n",
              "\n",
              "  @keyframes spin {\n",
              "    0% {\n",
              "      border-color: transparent;\n",
              "      border-bottom-color: var(--fill-color);\n",
              "      border-left-color: var(--fill-color);\n",
              "    }\n",
              "    20% {\n",
              "      border-color: transparent;\n",
              "      border-left-color: var(--fill-color);\n",
              "      border-top-color: var(--fill-color);\n",
              "    }\n",
              "    30% {\n",
              "      border-color: transparent;\n",
              "      border-left-color: var(--fill-color);\n",
              "      border-top-color: var(--fill-color);\n",
              "      border-right-color: var(--fill-color);\n",
              "    }\n",
              "    40% {\n",
              "      border-color: transparent;\n",
              "      border-right-color: var(--fill-color);\n",
              "      border-top-color: var(--fill-color);\n",
              "    }\n",
              "    60% {\n",
              "      border-color: transparent;\n",
              "      border-right-color: var(--fill-color);\n",
              "    }\n",
              "    80% {\n",
              "      border-color: transparent;\n",
              "      border-right-color: var(--fill-color);\n",
              "      border-bottom-color: var(--fill-color);\n",
              "    }\n",
              "    90% {\n",
              "      border-color: transparent;\n",
              "      border-bottom-color: var(--fill-color);\n",
              "    }\n",
              "  }\n",
              "</style>\n",
              "\n",
              "  <script>\n",
              "    async function quickchart(key) {\n",
              "      const quickchartButtonEl =\n",
              "        document.querySelector('#' + key + ' button');\n",
              "      quickchartButtonEl.disabled = true;  // To prevent multiple clicks.\n",
              "      quickchartButtonEl.classList.add('colab-df-spinner');\n",
              "      try {\n",
              "        const charts = await google.colab.kernel.invokeFunction(\n",
              "            'suggestCharts', [key], {});\n",
              "      } catch (error) {\n",
              "        console.error('Error during call to suggestCharts:', error);\n",
              "      }\n",
              "      quickchartButtonEl.classList.remove('colab-df-spinner');\n",
              "      quickchartButtonEl.classList.add('colab-df-quickchart-complete');\n",
              "    }\n",
              "    (() => {\n",
              "      let quickchartButtonEl =\n",
              "        document.querySelector('#df-9993a1f1-483e-4cb3-8e76-e40c11665489 button');\n",
              "      quickchartButtonEl.style.display =\n",
              "        google.colab.kernel.accessAllowed ? 'block' : 'none';\n",
              "    })();\n",
              "  </script>\n",
              "</div>\n",
              "    </div>\n",
              "  </div>\n"
            ]
          },
          "metadata": {},
          "execution_count": 15
        }
      ]
    }
  ],
  "metadata": {
    "colab": {
      "provenance": [],
      "gpuType": "T4"
    },
    "kernelspec": {
      "display_name": "Python 3",
      "name": "python3"
    },
    "language_info": {
      "name": "python"
    },
    "accelerator": "GPU"
  },
  "nbformat": 4,
  "nbformat_minor": 0
}