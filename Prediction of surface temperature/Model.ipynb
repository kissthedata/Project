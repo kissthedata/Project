{
  "cells": [
    {
      "cell_type": "markdown",
      "source": [
        "# Problem & Solution\n",
        "*With the development of technology, it is possible to predict the temperature of the ground surface, reducing damage to crops. However, there is a blind spot, and the temperature in this blind spot is predicted to further reduce crop damage. A model to predict the surface temperature by season was developed, and the **CatBoostRegressor** model was used. An ensemble with other boosting-type models was performed, but it was used as a single model due to overfitting.*"
      ],
      "metadata": {
        "id": "UNSAwK3faJq4"
      }
    },
    {
      "cell_type": "markdown",
      "metadata": {
        "id": "BowuWDQBUXNr"
      },
      "source": [
        "# Data set"
      ]
    },
    {
      "cell_type": "code",
      "source": [
        "from google.colab import drive\n",
        "import pandas as pd\n",
        "drive.mount('/content/drive')"
      ],
      "metadata": {
        "colab": {
          "base_uri": "https://localhost:8080/"
        },
        "id": "ko_jHUz0Ah8u",
        "outputId": "bbb13755-840d-4902-ef1b-4c7db89f6292"
      },
      "execution_count": null,
      "outputs": [
        {
          "output_type": "stream",
          "name": "stdout",
          "text": [
            "Mounted at /content/drive\n"
          ]
        }
      ]
    },
    {
      "cell_type": "code",
      "execution_count": null,
      "metadata": {
        "id": "XGfZI2kJUZWg",
        "colab": {
          "base_uri": "https://localhost:8080/"
        },
        "outputId": "972fb4f6-ea7f-46fc-aa31-1d3b6dab6ba4"
      },
      "outputs": [
        {
          "output_type": "stream",
          "name": "stderr",
          "text": [
            "<ipython-input-2-f91854753b00>:5: FutureWarning: In a future version of pandas all arguments of DataFrame.drop except for the argument 'labels' will be keyword-only.\n",
            "  train.drop(['Unnamed: 0'],1,inplace=True)\n",
            "<ipython-input-2-f91854753b00>:6: FutureWarning: In a future version of pandas all arguments of DataFrame.drop except for the argument 'labels' will be keyword-only.\n",
            "  test.drop(['Unnamed: 0'],1,inplace=True)\n"
          ]
        }
      ],
      "source": [
        "#데이터셋\n",
        "train = pd.read_csv(\"/content/drive/MyDrive/Weather/data/surface_tp_train.csv\")\n",
        "test = pd.read_csv(\"/content/drive/MyDrive/Weather/data/surface_tp_test.csv\")\n",
        "\n",
        "train.drop(['Unnamed: 0'],1,inplace=True)\n",
        "test.drop(['Unnamed: 0'],1,inplace=True)"
      ]
    },
    {
      "cell_type": "code",
      "source": [
        "#검증데이터셋\n",
        "ss_spring = pd.read_excel(\"/content/drive/MyDrive/Weather/data/subminssionUser.xlsx\",sheet_name=\"SPRING\")\n",
        "ss_summer = pd.read_excel(\"/content/drive/MyDrive/Weather/data/subminssionUser.xlsx\",sheet_name=\"SUMMER\")\n",
        "ss_autumn = pd.read_excel(\"/content/drive/MyDrive/Weather/data/subminssionUser.xlsx\",sheet_name=\"AUTUMN\")\n",
        "ss_winter = pd.read_excel(\"/content/drive/MyDrive/Weather/data/subminssionUser.xlsx\",sheet_name=\"WINTER\")"
      ],
      "metadata": {
        "id": "W2Vs2avdAeRu"
      },
      "execution_count": null,
      "outputs": []
    },
    {
      "cell_type": "markdown",
      "metadata": {
        "id": "wMyN9UlwTqgk"
      },
      "source": [
        "# Run"
      ]
    },
    {
      "cell_type": "code",
      "execution_count": null,
      "metadata": {
        "colab": {
          "base_uri": "https://localhost:8080/"
        },
        "id": "9fFB3_YRUfLK",
        "outputId": "683bf71f-8c5d-4569-9553-72b4481874dc"
      },
      "outputs": [
        {
          "output_type": "stream",
          "name": "stdout",
          "text": [
            "Collecting optuna\n",
            "  Downloading optuna-3.2.0-py3-none-any.whl (390 kB)\n",
            "\u001b[2K     \u001b[90m━━━━━━━━━━━━━━━━━━━━━━━━━━━━━━━━━━━━━━━\u001b[0m \u001b[32m390.6/390.6 kB\u001b[0m \u001b[31m9.9 MB/s\u001b[0m eta \u001b[36m0:00:00\u001b[0m\n",
            "\u001b[?25hCollecting catboost\n",
            "  Downloading catboost-1.2-cp310-cp310-manylinux2014_x86_64.whl (98.6 MB)\n",
            "\u001b[2K     \u001b[90m━━━━━━━━━━━━━━━━━━━━━━━━━━━━━━━━━━━━━━━━\u001b[0m \u001b[32m98.6/98.6 MB\u001b[0m \u001b[31m8.0 MB/s\u001b[0m eta \u001b[36m0:00:00\u001b[0m\n",
            "\u001b[?25hCollecting alembic>=1.5.0 (from optuna)\n",
            "  Downloading alembic-1.11.1-py3-none-any.whl (224 kB)\n",
            "\u001b[2K     \u001b[90m━━━━━━━━━━━━━━━━━━━━━━━━━━━━━━━━━━━━━━\u001b[0m \u001b[32m224.5/224.5 kB\u001b[0m \u001b[31m27.3 MB/s\u001b[0m eta \u001b[36m0:00:00\u001b[0m\n",
            "\u001b[?25hCollecting cmaes>=0.9.1 (from optuna)\n",
            "  Downloading cmaes-0.9.1-py3-none-any.whl (21 kB)\n",
            "Collecting colorlog (from optuna)\n",
            "  Downloading colorlog-6.7.0-py2.py3-none-any.whl (11 kB)\n",
            "Requirement already satisfied: numpy in /usr/local/lib/python3.10/dist-packages (from optuna) (1.22.4)\n",
            "Requirement already satisfied: packaging>=20.0 in /usr/local/lib/python3.10/dist-packages (from optuna) (23.1)\n",
            "Requirement already satisfied: sqlalchemy>=1.3.0 in /usr/local/lib/python3.10/dist-packages (from optuna) (2.0.16)\n",
            "Requirement already satisfied: tqdm in /usr/local/lib/python3.10/dist-packages (from optuna) (4.65.0)\n",
            "Requirement already satisfied: PyYAML in /usr/local/lib/python3.10/dist-packages (from optuna) (6.0)\n",
            "Requirement already satisfied: graphviz in /usr/local/lib/python3.10/dist-packages (from catboost) (0.20.1)\n",
            "Requirement already satisfied: matplotlib in /usr/local/lib/python3.10/dist-packages (from catboost) (3.7.1)\n",
            "Requirement already satisfied: pandas>=0.24 in /usr/local/lib/python3.10/dist-packages (from catboost) (1.5.3)\n",
            "Requirement already satisfied: scipy in /usr/local/lib/python3.10/dist-packages (from catboost) (1.10.1)\n",
            "Requirement already satisfied: plotly in /usr/local/lib/python3.10/dist-packages (from catboost) (5.13.1)\n",
            "Requirement already satisfied: six in /usr/local/lib/python3.10/dist-packages (from catboost) (1.16.0)\n",
            "Collecting Mako (from alembic>=1.5.0->optuna)\n",
            "  Downloading Mako-1.2.4-py3-none-any.whl (78 kB)\n",
            "\u001b[2K     \u001b[90m━━━━━━━━━━━━━━━━━━━━━━━━━━━━━━━━━━━━━━━━\u001b[0m \u001b[32m78.7/78.7 kB\u001b[0m \u001b[31m11.2 MB/s\u001b[0m eta \u001b[36m0:00:00\u001b[0m\n",
            "\u001b[?25hRequirement already satisfied: typing-extensions>=4 in /usr/local/lib/python3.10/dist-packages (from alembic>=1.5.0->optuna) (4.6.3)\n",
            "Requirement already satisfied: python-dateutil>=2.8.1 in /usr/local/lib/python3.10/dist-packages (from pandas>=0.24->catboost) (2.8.2)\n",
            "Requirement already satisfied: pytz>=2020.1 in /usr/local/lib/python3.10/dist-packages (from pandas>=0.24->catboost) (2022.7.1)\n",
            "Requirement already satisfied: greenlet!=0.4.17 in /usr/local/lib/python3.10/dist-packages (from sqlalchemy>=1.3.0->optuna) (2.0.2)\n",
            "Requirement already satisfied: contourpy>=1.0.1 in /usr/local/lib/python3.10/dist-packages (from matplotlib->catboost) (1.1.0)\n",
            "Requirement already satisfied: cycler>=0.10 in /usr/local/lib/python3.10/dist-packages (from matplotlib->catboost) (0.11.0)\n",
            "Requirement already satisfied: fonttools>=4.22.0 in /usr/local/lib/python3.10/dist-packages (from matplotlib->catboost) (4.40.0)\n",
            "Requirement already satisfied: kiwisolver>=1.0.1 in /usr/local/lib/python3.10/dist-packages (from matplotlib->catboost) (1.4.4)\n",
            "Requirement already satisfied: pillow>=6.2.0 in /usr/local/lib/python3.10/dist-packages (from matplotlib->catboost) (8.4.0)\n",
            "Requirement already satisfied: pyparsing>=2.3.1 in /usr/local/lib/python3.10/dist-packages (from matplotlib->catboost) (3.1.0)\n",
            "Requirement already satisfied: tenacity>=6.2.0 in /usr/local/lib/python3.10/dist-packages (from plotly->catboost) (8.2.2)\n",
            "Requirement already satisfied: MarkupSafe>=0.9.2 in /usr/local/lib/python3.10/dist-packages (from Mako->alembic>=1.5.0->optuna) (2.1.3)\n",
            "Installing collected packages: Mako, colorlog, cmaes, alembic, optuna, catboost\n",
            "Successfully installed Mako-1.2.4 alembic-1.11.1 catboost-1.2 cmaes-0.9.1 colorlog-6.7.0 optuna-3.2.0\n"
          ]
        }
      ],
      "source": [
        "!pip install optuna catboost"
      ]
    },
    {
      "cell_type": "code",
      "source": [
        "# %% [code]\n",
        "import pandas as pd\n",
        "import numpy as np\n",
        "import matplotlib.pyplot as plt\n",
        "import matplotlib\n",
        "import seaborn as sns\n",
        "%matplotlib inline\n",
        "import warnings\n",
        "warnings.filterwarnings('ignore')\n",
        "import re\n",
        "\n",
        "#machine learning\n",
        "from sklearn.linear_model import Lasso, Ridge\n",
        "from sklearn.neighbors import KNeighborsRegressor\n",
        "from sklearn.tree import DecisionTreeRegressor\n",
        "from sklearn.model_selection import KFold, train_test_split\n",
        "from sklearn.ensemble import RandomForestRegressor, ExtraTreesRegressor, AdaBoostRegressor\n",
        "from sklearn.inspection import PartialDependenceDisplay\n",
        "from sklearn.metrics import mean_absolute_error\n",
        "from sklearn.pipeline import make_pipeline, Pipeline\n",
        "from sklearn.dummy import DummyRegressor\n",
        "from sklearn.preprocessing import LabelEncoder, StandardScaler, MinMaxScaler\n",
        "from sklearn.gaussian_process import GaussianProcessRegressor\n",
        "from lightgbm import LGBMRegressor\n",
        "from xgboost import XGBRegressor\n",
        "import optuna\n",
        "from catboost import CatBoostRegressor\n",
        "\n",
        "#변수명 변경\n",
        "train.columns = ['stn','year','mmddhh','ta','td','hm','ws','rn','re','ww','ts','si','ss','sn']\n",
        "test.columns  = ['stn','year','mmddhh','ta','td','hm','ws','rn','re','ww','si','ss','sn']\n",
        "\n",
        "#값 변경 (업데이트)\n",
        "train['rn'].replace([1.8, 3,3, 5.3,1.95,30.3,623.5], -99.9, inplace=True)\n",
        "test['rn'].replace([1.8, 3,3, 5.3,1.95,30.3,623.5], -99.9, inplace=True)\n",
        "\n",
        "#타입 변경\n",
        "train['stn'] = train['stn'].astype(\"object\")\n",
        "test['stn'] = test['stn'].astype(\"object\")\n",
        "\n",
        "#날짜\n",
        "train['mmddhh'] = train['mmddhh'].astype(str)\n",
        "train['mmddhh'] = train['mmddhh'].apply(lambda x : '0' + x if len(x) == 5 else x)\n",
        "\n",
        "train['month'] = train['mmddhh'].str.slice(0, 2)\n",
        "train['day'] = train['mmddhh'].str.slice(2,4)\n",
        "train['hour'] = train['mmddhh'].str.slice(4,6)\n",
        "\n",
        "test['mmddhh'] = test['mmddhh'].astype(str)\n",
        "test['mmddhh'] = test['mmddhh'].apply(lambda x : '0' + x if len(x) == 5 else x)\n",
        "\n",
        "test['month'] = test['mmddhh'].str.slice(0, 2)\n",
        "test['day'] = test['mmddhh'].str.slice(2,4)\n",
        "test['hour'] = test['mmddhh'].str.slice(4,6)\n",
        "\n",
        "train['month'] = train['month'].str.lstrip('0')\n",
        "train['day'] = train['day'].str.lstrip('0')\n",
        "train['hour'] = train['hour'].apply(lambda x: str(int(x)))\n",
        "\n",
        "test['month'] = test['month'].str.lstrip('0')\n",
        "test['day'] = test['day'].str.lstrip('0')\n",
        "test['hour'] = test['hour'].apply(lambda x: str(int(x)))\n",
        "\n",
        "# #수치형 변수로 변환\n",
        "def astyp(data,column):\n",
        "  for _ in column:\n",
        "    data[_] = data[_].astype('int32')\n",
        "\n",
        "astyp(train, ['mmddhh'])\n",
        "astyp(test, ['mmddhh'])\n",
        "\n",
        "#희소 레이블 묶기\n",
        "train['ww']=train['ww'].apply(lambda x: 'Else' if x in ['F','S','X'] else x)\n",
        "test['ww']=test['ww'].apply(lambda x: 'Else' if x in ['F','S','X'] else x)\n",
        "\n",
        "#이상치 제거\n",
        "train = train.drop(train[(train['ta'] < -80) | (train['ts'] < -80)].index)\n",
        "\n",
        "#NaN으로 처리\n",
        "train[(train == -99.9) | (train == -99)] = np.nan\n",
        "test[(test == -99.9) | (test == -99)] = np.nan\n",
        "\n",
        "#검증 데이터셋 변수명 변경\n",
        "seasons = [ss_spring, ss_summer, ss_autumn, ss_winter]\n",
        "column_names = ['stn', 'year', 'mmddhh', 'ts']\n",
        "\n",
        "\n",
        "for season in seasons:\n",
        "    season.columns = column_names"
      ],
      "metadata": {
        "id": "Y3A-hG-dEVv3"
      },
      "execution_count": null,
      "outputs": []
    },
    {
      "cell_type": "markdown",
      "source": [
        "# 봄"
      ],
      "metadata": {
        "id": "2RlPVRbXEQcp"
      }
    },
    {
      "cell_type": "code",
      "execution_count": null,
      "metadata": {
        "id": "n-V3wk_ZTmm0"
      },
      "outputs": [],
      "source": [
        "#계절별 훈련 데이터셋, 테스트 데이터셋 생성\n",
        "train_spring = train[train['mmddhh'].isin(ss_spring['mmddhh'])]\n",
        "test_spring = test[test['mmddhh'].isin(ss_spring['mmddhh'])]\n",
        "\n",
        "#차분\n",
        "for col in ['ss']:\n",
        "    train_spring[col + '_diff_1'] = train_spring[col].diff()\n",
        "    test_spring[col + '_diff_1'] = test_spring[col].diff()\n",
        "\n",
        "#시차이동\n",
        "for col in ['si','ta','ss']:\n",
        "    train_spring[col + '_shift_1'] = train_spring[col].shift(1)\n",
        "    test_spring[col + '_shift_1'] = test_spring[col].shift(1)\n",
        "\n",
        "#\n",
        "for col in ['ta','re']:\n",
        "    train_spring[col + '_rolling'] = train_spring[col].rolling(window=24).mean()\n",
        "    test_spring[col + '_rolling'] = test_spring[col].rolling(window=24).mean()\n",
        "\n",
        "# #확장\n",
        "for col in ['si','re','ws','rn','sn']:\n",
        "    train_spring[col + '_expanding'] = train_spring[col].expanding(min_periods=24).mean()\n",
        "    test_spring[col + '_expanding'] = test_spring[col].expanding(min_periods=24).mean()\n",
        "\n",
        "# train_summer = train[train['mmddhh'].isin(ss_summer['mmddhh'])]\n",
        "# # train_summer.fillna(train_summer[num_cols].median(axis=0), inplace=True)\n",
        "\n",
        "# train_autumn = train[train['mmddhh'].isin(ss_autumn['mmddhh'])]\n",
        "# # train_autumn.fillna(train_autumn[num_cols].median(axis=0), inplace=True)\n",
        "\n",
        "# train_winter = train[train['mmddhh'].isin(ss_winter['mmddhh'])]\n",
        "# # train_winter.fillna(train_winter[num_cols].median(axis=0), inplace=True)\n",
        "\n",
        "# test_summer = test[test['mmddhh'].isin(ss_summer['mmddhh'])]\n",
        "# test_summer = pd.merge(ss_summer, test_summer, on=['stn','year','mmddhh'])\n",
        "# test_summer = test_summer.drop(['ts'],1)\n",
        "# # test_summer.fillna(train_summer[num_cols].median(axis=0), inplace=True)\n",
        "\n",
        "# test_autumn = test[test['mmddhh'].isin(ss_autumn['mmddhh'])]\n",
        "# # test_autumn.fillna(train_autumn[num_cols].median(axis=0), inplace=True)\n",
        "\n",
        "# test_winter = test[test['mmddhh'].isin(ss_winter['mmddhh'])]\n",
        "# # test_winter.fillna(train_winter[num_cols].median(axis=0), inplace=True) #winter의 경우 vot model 을 사용한다."
      ]
    },
    {
      "cell_type": "code",
      "execution_count": null,
      "metadata": {
        "id": "J6EY23o6TjiH"
      },
      "outputs": [],
      "source": [
        "from sklearn.preprocessing import OneHotEncoder\n",
        "target = 'ts'\n",
        "original_features = ['ta', 'si_shift_1', 'si', 'ta_shift_1', 'mmddhh', 'stn', 'month', 'year', 'hour', 'si_expanding', 're_expanding', 'ws_expanding', 'ss_diff_1', 'ss_shift_1', 'ta_rolling', 'rn_expanding', 'ss', 'td', 'sn_expanding', 're_rolling']\n",
        "result_list = []\n",
        "def spring_score_model(model, features_used, label=None):\n",
        "    score_list = []\n",
        "    oof = np.zeros_like(train_spring[target])\n",
        "    kf = KFold(n_splits=10, random_state=42, shuffle=True)\n",
        "    for fold, (idx_tr, idx_val) in enumerate(kf.split(train_spring[original_features], train_spring[target])):\n",
        "        X_train_spring = train_spring.iloc[idx_tr][features_used]\n",
        "        X_valid = train_spring.iloc[idx_val][features_used]\n",
        "        y_train_spring = train_spring.iloc[idx_tr][target]\n",
        "        y_valid = train_spring.iloc[idx_val][target]\n",
        "\n",
        "        num_cols = X_train_spring.select_dtypes(exclude='object').columns.tolist()\n",
        "        cat_cols = X_train_spring.select_dtypes(include='object').columns.tolist()\n",
        "\n",
        "        encoding = LabelEncoder()\n",
        "\n",
        "        for col in cat_cols:\n",
        "            X_train_spring[col] = encoding.fit_transform(X_train_spring[col])\n",
        "            X_valid[col] = encoding.transform(X_valid[col])\n",
        "\n",
        "        model.fit(X_train_spring, y_train_spring)\n",
        "        tscore = mean_absolute_error(y_train_spring, model.predict(X_train_spring))\n",
        "        y_valid_pred = model.predict(X_valid)\n",
        "        score = mean_absolute_error(y_valid, y_valid_pred)\n",
        "        print(f\" Fold {fold} : tscore = {tscore:.3f} score = {score:.3f}\")\n",
        "        oof[idx_val] = y_valid_pred\n",
        "        score_list.append(score)\n",
        "\n",
        "    score = sum(score_list) / len(score_list)\n",
        "    print(f\" Avg. MAE score : {score:.3f}\")\n",
        "    if label is not None:\n",
        "        global result_list\n",
        "        result_list.append((label, score, oof))"
      ]
    },
    {
      "cell_type": "markdown",
      "metadata": {
        "id": "uHU5EGL2IPVM"
      },
      "source": [
        "XGB 과적합"
      ]
    },
    {
      "cell_type": "code",
      "source": [
        "%%time\n",
        "spring_score_model(CatBoostRegressor(random_state=42, silent=True, task_type='GPU'), features_used=original_features, label=\"CAT\")"
      ],
      "metadata": {
        "colab": {
          "base_uri": "https://localhost:8080/"
        },
        "id": "NmO_1wyvjqba",
        "outputId": "2ce17575-f10d-44b0-a287-cd397df54fdb"
      },
      "execution_count": null,
      "outputs": [
        {
          "output_type": "stream",
          "name": "stdout",
          "text": [
            " Fold 0 : tscore = 0.853 score = 0.903\n",
            " Fold 1 : tscore = 0.855 score = 0.896\n",
            " Fold 2 : tscore = 0.855 score = 0.911\n",
            " Fold 3 : tscore = 0.851 score = 0.896\n",
            " Fold 4 : tscore = 0.852 score = 0.904\n",
            " Fold 5 : tscore = 0.855 score = 0.900\n",
            " Fold 6 : tscore = 0.854 score = 0.893\n",
            " Fold 7 : tscore = 0.853 score = 0.902\n",
            " Fold 8 : tscore = 0.858 score = 0.891\n",
            " Fold 9 : tscore = 0.853 score = 0.900\n",
            " Avg. MAE score : 0.900\n",
            "CPU times: user 59.3 s, sys: 23.1 s, total: 1min 22s\n",
            "Wall time: 58.6 s\n"
          ]
        }
      ]
    },
    {
      "cell_type": "code",
      "source": [
        "%%time\n",
        "#xgboost의 경우, 결측값 채우기전이 후보다 좋다\n",
        "spring_score_model(XGBRegressor(random_state=42, tree_method='gpu_hist'), features_used=original_features, label=\"CAT\")"
      ],
      "metadata": {
        "colab": {
          "base_uri": "https://localhost:8080/"
        },
        "id": "KotktvXBAIpO",
        "outputId": "6369ef98-277d-4171-a977-cfcd5e3dbd2b"
      },
      "execution_count": null,
      "outputs": [
        {
          "output_type": "stream",
          "name": "stdout",
          "text": [
            " Fold 0 : tscore = 0.816 score = 0.919\n",
            " Fold 1 : tscore = 0.835 score = 0.923\n",
            " Fold 2 : tscore = 0.830 score = 0.934\n",
            " Fold 3 : tscore = 0.824 score = 0.924\n",
            " Fold 4 : tscore = 0.830 score = 0.932\n",
            " Fold 5 : tscore = 0.830 score = 0.938\n",
            " Fold 6 : tscore = 0.825 score = 0.914\n",
            " Fold 7 : tscore = 0.825 score = 0.930\n",
            " Fold 8 : tscore = 0.831 score = 0.927\n",
            " Fold 9 : tscore = 0.830 score = 0.938\n",
            " Avg. MAE score : 0.928\n",
            "CPU times: user 16.4 s, sys: 264 ms, total: 16.7 s\n",
            "Wall time: 16.8 s\n"
          ]
        }
      ]
    },
    {
      "cell_type": "code",
      "source": [
        "from sklearn.ensemble import VotingRegressor\n",
        "\n",
        "vot_model = VotingRegressor(estimators=[('XGBoost',XGBRegressor(random_state=42, tree_method='gpu_hist')),('CatBoost',CatBoostRegressor(random_state=42, silent=True,task_type='GPU'))])"
      ],
      "metadata": {
        "id": "VwIl_3ijlDJ6"
      },
      "execution_count": null,
      "outputs": []
    },
    {
      "cell_type": "code",
      "source": [
        "%%time\n",
        "spring_score_model(vot_model, features_used=original_features, label=\"CAT\")"
      ],
      "metadata": {
        "colab": {
          "base_uri": "https://localhost:8080/"
        },
        "id": "bqJ8lBpglFgL",
        "outputId": "10ce5a77-aa91-4d39-85b2-92c47fd1c918"
      },
      "execution_count": null,
      "outputs": [
        {
          "output_type": "stream",
          "name": "stdout",
          "text": [
            " Fold 0 : tscore = 0.795 score = 0.866\n",
            " Fold 1 : tscore = 0.810 score = 0.871\n",
            " Fold 2 : tscore = 0.804 score = 0.882\n",
            " Fold 3 : tscore = 0.799 score = 0.868\n",
            " Fold 4 : tscore = 0.802 score = 0.876\n",
            " Fold 5 : tscore = 0.804 score = 0.880\n",
            " Fold 6 : tscore = 0.801 score = 0.863\n",
            " Fold 7 : tscore = 0.800 score = 0.875\n",
            " Fold 8 : tscore = 0.805 score = 0.867\n",
            " Fold 9 : tscore = 0.801 score = 0.876\n",
            " Avg. MAE score : 0.873\n",
            "CPU times: user 1min 19s, sys: 25.8 s, total: 1min 44s\n",
            "Wall time: 1min 20s\n"
          ]
        }
      ]
    },
    {
      "cell_type": "code",
      "execution_count": null,
      "metadata": {
        "id": "6GAlaV06VBrK"
      },
      "outputs": [],
      "source": [
        "# test set 예측\n",
        "encoding = LabelEncoder()\n",
        "\n",
        "num_cols = train_spring[original_features].select_dtypes(exclude='object').columns.tolist()\n",
        "cat_cols = train_spring[original_features].select_dtypes(include='object').columns.tolist()\n",
        "\n",
        "for col in cat_cols:\n",
        "    train_spring[col] = encoding.fit_transform(train_spring[col])\n",
        "    test_spring[col] = encoding.fit_transform(test_spring[col])\n",
        "\n",
        "X = train_spring.drop(['ts'],1)\n",
        "y = train_spring.ts\n",
        "X_train, X_test, y_train, y_test = train_test_split(X, y, test_size=.3, random_state=0)"
      ]
    },
    {
      "cell_type": "code",
      "execution_count": null,
      "metadata": {
        "id": "XS-kaKJB8rBz"
      },
      "outputs": [],
      "source": [
        "# model = CatBoostRegressor(random_state=42, silent=True, task_type='GPU')\n",
        "# model.fit(X_train, y_train)\n",
        "\n",
        "# def plot_feature_importance(importance, names, model_type, figsize=(10,8)):\n",
        "#     feature_importance = np.array(importance)\n",
        "#     feature_names = np.array(names)\n",
        "\n",
        "#     data = {'feature_names':feature_names, 'feature_importance':feature_importance}\n",
        "#     fi_df = pd.DataFrame(data)\n",
        "\n",
        "#     fi_df.sort_values(by=['feature_importance'], ascending=False,inplace=True)\n",
        "\n",
        "#     plt.figure(figsize=figsize)\n",
        "\n",
        "#     sns.barplot(x=fi_df['feature_importance'],y=fi_df['feature_names'])\n",
        "\n",
        "#     plt.title(model_type + 'FEATURE IM..')\n",
        "#     plt.xlabel(\"FEATURE IM..\")\n",
        "#     plt.ylabel('FEATURE NAME')\n",
        "\n",
        "# plot_feature_importance(model.feature_importances_, X_train.columns, 'CAT',figsize=(8,16))\n",
        "\n",
        "# importances = model.feature_importances_\n",
        "# feature_names = X_train.columns\n",
        "\n",
        "\n",
        "# feature_importances = pd.DataFrame({'Feature_names': feature_names, 'Importance': importances})\n",
        "\n",
        "\n",
        "# sorted_df = feature_importances.sort_values(by='Importance', ascending=False)\n",
        "\n",
        "\n",
        "# top_10_features = sorted_df.head(20)\n",
        "# top_10_features_list = top_10_features['Feature_names'].tolist()\n",
        "\n",
        "# print(top_10_features_list)"
      ]
    },
    {
      "cell_type": "code",
      "execution_count": null,
      "metadata": {
        "colab": {
          "base_uri": "https://localhost:8080/",
          "height": 430
        },
        "id": "DSpZnMvsVSZc",
        "outputId": "234d0cf2-1787-414b-c825-0f6d1b0347ee"
      },
      "outputs": [
        {
          "output_type": "display_data",
          "data": {
            "text/plain": [
              "<Figure size 640x480 with 1 Axes>"
            ],
            "image/png": "[encoded data removed]"
          },
          "metadata": {}
        }
      ],
      "source": [
        "X_train = X_train[original_features]\n",
        "X_test = X_test[original_features]\n",
        "\n",
        "model = CatBoostRegressor(random_state=42,silent=True, task_type='GPU')\n",
        "model.fit(X_train, y_train)\n",
        "pred = model.predict(X_test)\n",
        "sns.scatterplot(x=pred, y=y_test)\n",
        "final_spring_pred = model.predict(test_spring[original_features])"
      ]
    },
    {
      "cell_type": "markdown",
      "source": [
        "# 여름"
      ],
      "metadata": {
        "id": "YT4NbXogCpQF"
      }
    },
    {
      "cell_type": "code",
      "source": [
        "#데이터셋\n",
        "train = pd.read_csv(\"/content/drive/MyDrive/Weather/data/surface_tp_train.csv\")\n",
        "test = pd.read_csv(\"/content/drive/MyDrive/Weather/data/surface_tp_test.csv\")\n",
        "\n",
        "train.drop(['Unnamed: 0'],1,inplace=True)\n",
        "test.drop(['Unnamed: 0'],1,inplace=True)"
      ],
      "metadata": {
        "id": "v0AiR-LCDO5G"
      },
      "execution_count": null,
      "outputs": []
    },
    {
      "cell_type": "code",
      "source": [
        "# %% [code]\n",
        "import pandas as pd\n",
        "import numpy as np\n",
        "import matplotlib.pyplot as plt\n",
        "import matplotlib\n",
        "import seaborn as sns\n",
        "%matplotlib inline\n",
        "import warnings\n",
        "warnings.filterwarnings('ignore')\n",
        "import re\n",
        "\n",
        "#machine learning\n",
        "from sklearn.linear_model import Lasso, Ridge\n",
        "from sklearn.neighbors import KNeighborsRegressor\n",
        "from sklearn.tree import DecisionTreeRegressor\n",
        "from sklearn.model_selection import KFold, train_test_split\n",
        "from sklearn.ensemble import RandomForestRegressor, ExtraTreesRegressor, AdaBoostRegressor\n",
        "from sklearn.inspection import PartialDependenceDisplay\n",
        "from sklearn.metrics import mean_absolute_error\n",
        "from sklearn.pipeline import make_pipeline, Pipeline\n",
        "from sklearn.dummy import DummyRegressor\n",
        "from sklearn.preprocessing import LabelEncoder, StandardScaler, MinMaxScaler\n",
        "from sklearn.gaussian_process import GaussianProcessRegressor\n",
        "from lightgbm import LGBMRegressor\n",
        "from xgboost import XGBRegressor\n",
        "import optuna\n",
        "from catboost import CatBoostRegressor\n",
        "\n",
        "#변수명 변경\n",
        "train.columns = ['stn','year','mmddhh','ta','td','hm','ws','rn','re','ww','ts','si','ss','sn']\n",
        "test.columns  = ['stn','year','mmddhh','ta','td','hm','ws','rn','re','ww','si','ss','sn']\n",
        "\n",
        "#값 변경 (업데이트)\n",
        "train['rn'].replace([1.8, 3,3, 5.3,1.95,30.3,623.5], -99.9, inplace=True)\n",
        "test['rn'].replace([1.8, 3,3, 5.3,1.95,30.3,623.5], -99.9, inplace=True)\n",
        "\n",
        "#타입 변경\n",
        "train['stn'] = train['stn'].astype(\"object\")\n",
        "test['stn'] = test['stn'].astype(\"object\")\n",
        "\n",
        "#날짜\n",
        "train['mmddhh'] = train['mmddhh'].astype(str)\n",
        "train['mmddhh'] = train['mmddhh'].apply(lambda x : '0' + x if len(x) == 5 else x)\n",
        "\n",
        "train['month'] = train['mmddhh'].str.slice(0, 2)\n",
        "train['day'] = train['mmddhh'].str.slice(2,4)\n",
        "train['hour'] = train['mmddhh'].str.slice(4,6)\n",
        "\n",
        "test['mmddhh'] = test['mmddhh'].astype(str)\n",
        "test['mmddhh'] = test['mmddhh'].apply(lambda x : '0' + x if len(x) == 5 else x)\n",
        "\n",
        "test['month'] = test['mmddhh'].str.slice(0, 2)\n",
        "test['day'] = test['mmddhh'].str.slice(2,4)\n",
        "test['hour'] = test['mmddhh'].str.slice(4,6)\n",
        "\n",
        "train['month'] = train['month'].str.lstrip('0')\n",
        "train['day'] = train['day'].str.lstrip('0')\n",
        "train['hour'] = train['hour'].apply(lambda x: str(int(x)))\n",
        "\n",
        "test['month'] = test['month'].str.lstrip('0')\n",
        "test['day'] = test['day'].str.lstrip('0')\n",
        "test['hour'] = test['hour'].apply(lambda x: str(int(x)))\n",
        "\n",
        "# #수치형 변수로 변환\n",
        "def astyp(data,column):\n",
        "  for _ in column:\n",
        "    data[_] = data[_].astype('int32')\n",
        "\n",
        "astyp(train, ['mmddhh'])\n",
        "astyp(test, ['mmddhh'])\n",
        "\n",
        "#희소 레이블 묶기\n",
        "train['ww']=train['ww'].apply(lambda x: 'Else' if x in ['F','S','X'] else x)\n",
        "test['ww']=test['ww'].apply(lambda x: 'Else' if x in ['F','S','X'] else x)\n",
        "\n",
        "#이상치 제거\n",
        "train = train.drop(train[(train['ta'] < -80) | (train['ts'] < -80)].index)\n",
        "\n",
        "#NaN으로 처리\n",
        "train[(train == -99.9) | (train == -99)] = np.nan\n",
        "test[(test == -99.9) | (test == -99)] = np.nan\n",
        "\n",
        "#검증 데이터셋 변수명 변경\n",
        "seasons = [ss_spring, ss_summer, ss_autumn, ss_winter]\n",
        "column_names = ['stn', 'year', 'mmddhh', 'ts']\n",
        "\n",
        "\n",
        "for season in seasons:\n",
        "    season.columns = column_names"
      ],
      "metadata": {
        "id": "VV26feEvDYOx"
      },
      "execution_count": null,
      "outputs": []
    },
    {
      "cell_type": "code",
      "source": [
        "train_summer"
      ],
      "metadata": {
        "colab": {
          "base_uri": "https://localhost:8080/",
          "height": 423
        },
        "id": "LTMj6og-klWO",
        "outputId": "80c34e11-338f-497a-9eb1-886fd11d0f47"
      },
      "execution_count": null,
      "outputs": [
        {
          "output_type": "execute_result",
          "data": {
            "text/plain": [
              "       stn year  mmddhh    ta    td    hm   ws   rn   re ww  ...  sn  month  \\\n",
              "2136     1    A   50100  17.6  12.0  69.8  0.7  0.0  0.0  H  ... NaN      5   \n",
              "2137     1    A   50101  15.9  12.3  79.2  0.7  0.0  0.0  H  ... NaN      5   \n",
              "2138     1    A   50102  15.0  12.3  84.0  0.8  0.0  0.0  H  ... NaN      5   \n",
              "2139     1    A   50103  15.1   8.2  65.4  1.7  0.0  0.0  H  ... NaN      5   \n",
              "2140     1    A   50104  16.1   1.6  37.5  2.7  0.0  0.0  C  ... NaN      5   \n",
              "...     ..  ...     ...   ...   ...   ...  ...  ...  ... ..  ...  ..    ...   \n",
              "433819  10    E   73119  29.4  25.9  81.6  4.6  0.0  0.0  C  ... NaN      7   \n",
              "433820  10    E   73120  28.6  26.2  87.3  3.9  0.0  0.0  C  ... NaN      7   \n",
              "433821  10    E   73121  28.2  26.1  88.6  3.5  0.0  0.0  C  ... NaN      7   \n",
              "433822  10    E   73122  28.0  26.2  90.1  4.5  0.0  0.0  C  ... NaN      7   \n",
              "433823  10    E   73123  27.8  26.4  92.0  3.8  0.0  0.0  C  ... NaN      7   \n",
              "\n",
              "        day  hour ta_diff_1 td_diff_1 hm_diff_1  ws_diff_1  rn_diff_1  \\\n",
              "2136      1     0       NaN       NaN       NaN        NaN        NaN   \n",
              "2137      1     1      -1.7       0.3       9.4        0.0        0.0   \n",
              "2138      1     2      -0.9       0.0       4.8        0.1        0.0   \n",
              "2139      1     3       0.1      -4.1     -18.6        0.9        0.0   \n",
              "2140      1     4       1.0      -6.6     -27.9        1.0        0.0   \n",
              "...     ...   ...       ...       ...       ...        ...        ...   \n",
              "433819   31    19      -0.9       0.2       4.9        0.3        0.0   \n",
              "433820   31    20      -0.8       0.3       5.7       -0.7        0.0   \n",
              "433821   31    21      -0.4      -0.1       1.3       -0.4        0.0   \n",
              "433822   31    22      -0.2       0.1       1.5        1.0        0.0   \n",
              "433823   31    23      -0.2       0.2       1.9       -0.7        0.0   \n",
              "\n",
              "        re_diff_1  \n",
              "2136          NaN  \n",
              "2137          0.0  \n",
              "2138          0.0  \n",
              "2139          0.0  \n",
              "2140          0.0  \n",
              "...           ...  \n",
              "433819        0.0  \n",
              "433820        0.0  \n",
              "433821        0.0  \n",
              "433822        0.0  \n",
              "433823        0.0  \n",
              "\n",
              "[110217 rows x 23 columns]"
            ],
            "text/html": [
              "\n",
              "  <div id=\"df-cbbd6fed-e951-4fac-9e7f-1a237f345b52\">\n",
              "    <div class=\"colab-df-container\">\n",
              "      <div>\n",
              "<style scoped>\n",
              "    .dataframe tbody tr th:only-of-type {\n",
              "        vertical-align: middle;\n",
              "    }\n",
              "\n",
              "    .dataframe tbody tr th {\n",
              "        vertical-align: top;\n",
              "    }\n",
              "\n",
              "    .dataframe thead th {\n",
              "        text-align: right;\n",
              "    }\n",
              "</style>\n",
              "<table border=\"1\" class=\"dataframe\">\n",
              "  <thead>\n",
              "    <tr style=\"text-align: right;\">\n",
              "      <th></th>\n",
              "      <th>stn</th>\n",
              "      <th>year</th>\n",
              "      <th>mmddhh</th>\n",
              "      <th>ta</th>\n",
              "      <th>td</th>\n",
              "      <th>hm</th>\n",
              "      <th>ws</th>\n",
              "      <th>rn</th>\n",
              "      <th>re</th>\n",
              "      <th>ww</th>\n",
              "      <th>...</th>\n",
              "      <th>sn</th>\n",
              "      <th>month</th>\n",
              "      <th>day</th>\n",
              "      <th>hour</th>\n",
              "      <th>ta_diff_1</th>\n",
              "      <th>td_diff_1</th>\n",
              "      <th>hm_diff_1</th>\n",
              "      <th>ws_diff_1</th>\n",
              "      <th>rn_diff_1</th>\n",
              "      <th>re_diff_1</th>\n",
              "    </tr>\n",
              "  </thead>\n",
              "  <tbody>\n",
              "    <tr>\n",
              "      <th>2136</th>\n",
              "      <td>1</td>\n",
              "      <td>A</td>\n",
              "      <td>50100</td>\n",
              "      <td>17.6</td>\n",
              "      <td>12.0</td>\n",
              "      <td>69.8</td>\n",
              "      <td>0.7</td>\n",
              "      <td>0.0</td>\n",
              "      <td>0.0</td>\n",
              "      <td>H</td>\n",
              "      <td>...</td>\n",
              "      <td>NaN</td>\n",
              "      <td>5</td>\n",
              "      <td>1</td>\n",
              "      <td>0</td>\n",
              "      <td>NaN</td>\n",
              "      <td>NaN</td>\n",
              "      <td>NaN</td>\n",
              "      <td>NaN</td>\n",
              "      <td>NaN</td>\n",
              "      <td>NaN</td>\n",
              "    </tr>\n",
              "    <tr>\n",
              "      <th>2137</th>\n",
              "      <td>1</td>\n",
              "      <td>A</td>\n",
              "      <td>50101</td>\n",
              "      <td>15.9</td>\n",
              "      <td>12.3</td>\n",
              "      <td>79.2</td>\n",
              "      <td>0.7</td>\n",
              "      <td>0.0</td>\n",
              "      <td>0.0</td>\n",
              "      <td>H</td>\n",
              "      <td>...</td>\n",
              "      <td>NaN</td>\n",
              "      <td>5</td>\n",
              "      <td>1</td>\n",
              "      <td>1</td>\n",
              "      <td>-1.7</td>\n",
              "      <td>0.3</td>\n",
              "      <td>9.4</td>\n",
              "      <td>0.0</td>\n",
              "      <td>0.0</td>\n",
              "      <td>0.0</td>\n",
              "    </tr>\n",
              "    <tr>\n",
              "      <th>2138</th>\n",
              "      <td>1</td>\n",
              "      <td>A</td>\n",
              "      <td>50102</td>\n",
              "      <td>15.0</td>\n",
              "      <td>12.3</td>\n",
              "      <td>84.0</td>\n",
              "      <td>0.8</td>\n",
              "      <td>0.0</td>\n",
              "      <td>0.0</td>\n",
              "      <td>H</td>\n",
              "      <td>...</td>\n",
              "      <td>NaN</td>\n",
              "      <td>5</td>\n",
              "      <td>1</td>\n",
              "      <td>2</td>\n",
              "      <td>-0.9</td>\n",
              "      <td>0.0</td>\n",
              "      <td>4.8</td>\n",
              "      <td>0.1</td>\n",
              "      <td>0.0</td>\n",
              "      <td>0.0</td>\n",
              "    </tr>\n",
              "    <tr>\n",
              "      <th>2139</th>\n",
              "      <td>1</td>\n",
              "      <td>A</td>\n",
              "      <td>50103</td>\n",
              "      <td>15.1</td>\n",
              "      <td>8.2</td>\n",
              "      <td>65.4</td>\n",
              "      <td>1.7</td>\n",
              "      <td>0.0</td>\n",
              "      <td>0.0</td>\n",
              "      <td>H</td>\n",
              "      <td>...</td>\n",
              "      <td>NaN</td>\n",
              "      <td>5</td>\n",
              "      <td>1</td>\n",
              "      <td>3</td>\n",
              "      <td>0.1</td>\n",
              "      <td>-4.1</td>\n",
              "      <td>-18.6</td>\n",
              "      <td>0.9</td>\n",
              "      <td>0.0</td>\n",
              "      <td>0.0</td>\n",
              "    </tr>\n",
              "    <tr>\n",
              "      <th>2140</th>\n",
              "      <td>1</td>\n",
              "      <td>A</td>\n",
              "      <td>50104</td>\n",
              "      <td>16.1</td>\n",
              "      <td>1.6</td>\n",
              "      <td>37.5</td>\n",
              "      <td>2.7</td>\n",
              "      <td>0.0</td>\n",
              "      <td>0.0</td>\n",
              "      <td>C</td>\n",
              "      <td>...</td>\n",
              "      <td>NaN</td>\n",
              "      <td>5</td>\n",
              "      <td>1</td>\n",
              "      <td>4</td>\n",
              "      <td>1.0</td>\n",
              "      <td>-6.6</td>\n",
              "      <td>-27.9</td>\n",
              "      <td>1.0</td>\n",
              "      <td>0.0</td>\n",
              "      <td>0.0</td>\n",
              "    </tr>\n",
              "    <tr>\n",
              "      <th>...</th>\n",
              "      <td>...</td>\n",
              "      <td>...</td>\n",
              "      <td>...</td>\n",
              "      <td>...</td>\n",
              "      <td>...</td>\n",
              "      <td>...</td>\n",
              "      <td>...</td>\n",
              "      <td>...</td>\n",
              "      <td>...</td>\n",
              "      <td>...</td>\n",
              "      <td>...</td>\n",
              "      <td>...</td>\n",
              "      <td>...</td>\n",
              "      <td>...</td>\n",
              "      <td>...</td>\n",
              "      <td>...</td>\n",
              "      <td>...</td>\n",
              "      <td>...</td>\n",
              "      <td>...</td>\n",
              "      <td>...</td>\n",
              "      <td>...</td>\n",
              "    </tr>\n",
              "    <tr>\n",
              "      <th>433819</th>\n",
              "      <td>10</td>\n",
              "      <td>E</td>\n",
              "      <td>73119</td>\n",
              "      <td>29.4</td>\n",
              "      <td>25.9</td>\n",
              "      <td>81.6</td>\n",
              "      <td>4.6</td>\n",
              "      <td>0.0</td>\n",
              "      <td>0.0</td>\n",
              "      <td>C</td>\n",
              "      <td>...</td>\n",
              "      <td>NaN</td>\n",
              "      <td>7</td>\n",
              "      <td>31</td>\n",
              "      <td>19</td>\n",
              "      <td>-0.9</td>\n",
              "      <td>0.2</td>\n",
              "      <td>4.9</td>\n",
              "      <td>0.3</td>\n",
              "      <td>0.0</td>\n",
              "      <td>0.0</td>\n",
              "    </tr>\n",
              "    <tr>\n",
              "      <th>433820</th>\n",
              "      <td>10</td>\n",
              "      <td>E</td>\n",
              "      <td>73120</td>\n",
              "      <td>28.6</td>\n",
              "      <td>26.2</td>\n",
              "      <td>87.3</td>\n",
              "      <td>3.9</td>\n",
              "      <td>0.0</td>\n",
              "      <td>0.0</td>\n",
              "      <td>C</td>\n",
              "      <td>...</td>\n",
              "      <td>NaN</td>\n",
              "      <td>7</td>\n",
              "      <td>31</td>\n",
              "      <td>20</td>\n",
              "      <td>-0.8</td>\n",
              "      <td>0.3</td>\n",
              "      <td>5.7</td>\n",
              "      <td>-0.7</td>\n",
              "      <td>0.0</td>\n",
              "      <td>0.0</td>\n",
              "    </tr>\n",
              "    <tr>\n",
              "      <th>433821</th>\n",
              "      <td>10</td>\n",
              "      <td>E</td>\n",
              "      <td>73121</td>\n",
              "      <td>28.2</td>\n",
              "      <td>26.1</td>\n",
              "      <td>88.6</td>\n",
              "      <td>3.5</td>\n",
              "      <td>0.0</td>\n",
              "      <td>0.0</td>\n",
              "      <td>C</td>\n",
              "      <td>...</td>\n",
              "      <td>NaN</td>\n",
              "      <td>7</td>\n",
              "      <td>31</td>\n",
              "      <td>21</td>\n",
              "      <td>-0.4</td>\n",
              "      <td>-0.1</td>\n",
              "      <td>1.3</td>\n",
              "      <td>-0.4</td>\n",
              "      <td>0.0</td>\n",
              "      <td>0.0</td>\n",
              "    </tr>\n",
              "    <tr>\n",
              "      <th>433822</th>\n",
              "      <td>10</td>\n",
              "      <td>E</td>\n",
              "      <td>73122</td>\n",
              "      <td>28.0</td>\n",
              "      <td>26.2</td>\n",
              "      <td>90.1</td>\n",
              "      <td>4.5</td>\n",
              "      <td>0.0</td>\n",
              "      <td>0.0</td>\n",
              "      <td>C</td>\n",
              "      <td>...</td>\n",
              "      <td>NaN</td>\n",
              "      <td>7</td>\n",
              "      <td>31</td>\n",
              "      <td>22</td>\n",
              "      <td>-0.2</td>\n",
              "      <td>0.1</td>\n",
              "      <td>1.5</td>\n",
              "      <td>1.0</td>\n",
              "      <td>0.0</td>\n",
              "      <td>0.0</td>\n",
              "    </tr>\n",
              "    <tr>\n",
              "      <th>433823</th>\n",
              "      <td>10</td>\n",
              "      <td>E</td>\n",
              "      <td>73123</td>\n",
              "      <td>27.8</td>\n",
              "      <td>26.4</td>\n",
              "      <td>92.0</td>\n",
              "      <td>3.8</td>\n",
              "      <td>0.0</td>\n",
              "      <td>0.0</td>\n",
              "      <td>C</td>\n",
              "      <td>...</td>\n",
              "      <td>NaN</td>\n",
              "      <td>7</td>\n",
              "      <td>31</td>\n",
              "      <td>23</td>\n",
              "      <td>-0.2</td>\n",
              "      <td>0.2</td>\n",
              "      <td>1.9</td>\n",
              "      <td>-0.7</td>\n",
              "      <td>0.0</td>\n",
              "      <td>0.0</td>\n",
              "    </tr>\n",
              "  </tbody>\n",
              "</table>\n",
              "<p>110217 rows × 23 columns</p>\n",
              "</div>\n",
              "      <button class=\"colab-df-convert\" onclick=\"convertToInteractive('df-cbbd6fed-e951-4fac-9e7f-1a237f345b52')\"\n",
              "              title=\"Convert this dataframe to an interactive table.\"\n",
              "              style=\"display:none;\">\n",
              "        \n",
              "  <svg xmlns=\"http://www.w3.org/2000/svg\" height=\"24px\"viewBox=\"0 0 24 24\"\n",
              "       width=\"24px\">\n",
              "    <path d=\"M0 0h24v24H0V0z\" fill=\"none\"/>\n",
              "    <path d=\"M18.56 5.44l.94 2.06.94-2.06 2.06-.94-2.06-.94-.94-2.06-.94 2.06-2.06.94zm-11 1L8.5 8.5l.94-2.06 2.06-.94-2.06-.94L8.5 2.5l-.94 2.06-2.06.94zm10 10l.94 2.06.94-2.06 2.06-.94-2.06-.94-.94-2.06-.94 2.06-2.06.94z\"/><path d=\"M17.41 7.96l-1.37-1.37c-.4-.4-.92-.59-1.43-.59-.52 0-1.04.2-1.43.59L10.3 9.45l-7.72 7.72c-.78.78-.78 2.05 0 2.83L4 21.41c.39.39.9.59 1.41.59.51 0 1.02-.2 1.41-.59l7.78-7.78 2.81-2.81c.8-.78.8-2.07 0-2.86zM5.41 20L4 18.59l7.72-7.72 1.47 1.35L5.41 20z\"/>\n",
              "  </svg>\n",
              "      </button>\n",
              "      \n",
              "  <style>\n",
              "    .colab-df-container {\n",
              "      display:flex;\n",
              "      flex-wrap:wrap;\n",
              "      gap: 12px;\n",
              "    }\n",
              "\n",
              "    .colab-df-convert {\n",
              "      background-color: #E8F0FE;\n",
              "      border: none;\n",
              "      border-radius: 50%;\n",
              "      cursor: pointer;\n",
              "      display: none;\n",
              "      fill: #1967D2;\n",
              "      height: 32px;\n",
              "      padding: 0 0 0 0;\n",
              "      width: 32px;\n",
              "    }\n",
              "\n",
              "    .colab-df-convert:hover {\n",
              "      background-color: #E2EBFA;\n",
              "      box-shadow: 0px 1px 2px rgba(60, 64, 67, 0.3), 0px 1px 3px 1px rgba(60, 64, 67, 0.15);\n",
              "      fill: #174EA6;\n",
              "    }\n",
              "\n",
              "    [theme=dark] .colab-df-convert {\n",
              "      background-color: #3B4455;\n",
              "      fill: #D2E3FC;\n",
              "    }\n",
              "\n",
              "    [theme=dark] .colab-df-convert:hover {\n",
              "      background-color: #434B5C;\n",
              "      box-shadow: 0px 1px 3px 1px rgba(0, 0, 0, 0.15);\n",
              "      filter: drop-shadow(0px 1px 2px rgba(0, 0, 0, 0.3));\n",
              "      fill: #FFFFFF;\n",
              "    }\n",
              "  </style>\n",
              "\n",
              "      <script>\n",
              "        const buttonEl =\n",
              "          document.querySelector('#df-cbbd6fed-e951-4fac-9e7f-1a237f345b52 button.colab-df-convert');\n",
              "        buttonEl.style.display =\n",
              "          google.colab.kernel.accessAllowed ? 'block' : 'none';\n",
              "\n",
              "        async function convertToInteractive(key) {\n",
              "          const element = document.querySelector('#df-cbbd6fed-e951-4fac-9e7f-1a237f345b52');\n",
              "          const dataTable =\n",
              "            await google.colab.kernel.invokeFunction('convertToInteractive',\n",
              "                                                     [key], {});\n",
              "          if (!dataTable) return;\n",
              "\n",
              "          const docLinkHtml = 'Like what you see? Visit the ' +\n",
              "            '<a target=\"_blank\" href=https://colab.research.google.com/notebooks/data_table.ipynb>data table notebook</a>'\n",
              "            + ' to learn more about interactive tables.';\n",
              "          element.innerHTML = '';\n",
              "          dataTable['output_type'] = 'display_data';\n",
              "          await google.colab.output.renderOutput(dataTable, element);\n",
              "          const docLink = document.createElement('div');\n",
              "          docLink.innerHTML = docLinkHtml;\n",
              "          element.appendChild(docLink);\n",
              "        }\n",
              "      </script>\n",
              "    </div>\n",
              "  </div>\n",
              "  "
            ]
          },
          "metadata": {},
          "execution_count": 13
        }
      ]
    },
    {
      "cell_type": "code",
      "execution_count": null,
      "metadata": {
        "id": "O1SCSU6eCpQF"
      },
      "outputs": [],
      "source": [
        "#계절별 훈련 데이터셋, 테스트 데이터셋 생성\n",
        "train_summer = train[train['mmddhh'].isin(ss_summer['mmddhh'])]\n",
        "test_summer = test[test['mmddhh'].isin(ss_summer['mmddhh'])]\n",
        "test_summer = pd.merge(ss_summer, test_summer, on=['stn','year','mmddhh'])\n",
        "test_summer = test_summer.drop(['ts'],1)\n",
        "\n",
        "#차분\n",
        "for col in ['ta', 'td', 'hm', 'ws', 'rn', 're',  'si', 'ss', 'sn']:\n",
        "    train_summer[col + '_diff_1'] = train_summer[col].diff()\n",
        "    test_summer[col + '_diff_1'] = test_summer[col].diff()\n",
        "\n",
        "#시차이동\n",
        "for col in ['ta', 'td', 'hm', 'ws', 'rn', 're', 'ww', 'si', 'ss', 'sn']:\n",
        "    train_summer[col + '_shift_1'] = train_summer[col].shift(1)\n",
        "    test_summer[col + '_shift_1'] = test_summer[col].shift(1)\n",
        "\n",
        "#\n",
        "for col in ['ta', 'td', 'hm', 'ws', 'rn', 're', 'si', 'ss', 'sn']:\n",
        "    train_summer[col + '_rolling'] = train_summer[col].rolling(window=24).mean()\n",
        "    test_summer[col + '_rolling'] = test_summer[col].rolling(window=24).mean()\n",
        "\n",
        "# #확장\n",
        "for col in ['ta', 'td', 'hm', 'ws', 'rn', 're', 'si', 'ss', 'sn']:\n",
        "    train_summer[col + '_expanding'] = train_summer[col].expanding(min_periods=24).mean()\n",
        "    test_summer[col + '_expanding'] = test_summer[col].expanding(min_periods=24).mean()\n",
        "\n",
        "# train_autumn = train[train['mmddhh'].isin(ss_autumn['mmddhh'])]\n",
        "# # train_autumn.fillna(train_autumn[num_cols].median(axis=0), inplace=True)\n",
        "\n",
        "# train_winter = train[train['mmddhh'].isin(ss_winter['mmddhh'])]\n",
        "# # train_winter.fillna(train_winter[num_cols].median(axis=0), inplace=True)\n",
        "\n",
        "# test_autumn = test[test['mmddhh'].isin(ss_autumn['mmddhh'])]\n",
        "# # test_autumn.fillna(train_autumn[num_cols].median(axis=0), inplace=True)\n",
        "\n",
        "# test_winter = test[test['mmddhh'].isin(ss_winter['mmddhh'])]\n",
        "# # test_winter.fillna(train_winter[num_cols].median(axis=0), inplace=True) #winter의 경우 vot model 을 사용한다."
      ]
    },
    {
      "cell_type": "code",
      "source": [
        "test_summer.columns"
      ],
      "metadata": {
        "colab": {
          "base_uri": "https://localhost:8080/"
        },
        "id": "aUvgkhUcn8pQ",
        "outputId": "410e3c49-4d3b-4504-c46e-d36296142e73"
      },
      "execution_count": null,
      "outputs": [
        {
          "output_type": "execute_result",
          "data": {
            "text/plain": [
              "Index(['stn', 'year', 'mmddhh', 'ta', 'td', 'hm', 'ws', 'rn', 're', 'ww', 'si',\n",
              "       'ss', 'sn', 'month', 'day', 'hour', 'ta_diff_1', 'td_diff_1',\n",
              "       'hm_diff_1', 'ws_diff_1', 'rn_diff_1', 're_diff_1', 'si_diff_1',\n",
              "       'ss_diff_1', 'sn_diff_1', 'ta_shift_1', 'td_shift_1', 'hm_shift_1',\n",
              "       'ws_shift_1', 'rn_shift_1', 're_shift_1', 'ww_shift_1', 'si_shift_1',\n",
              "       'ss_shift_1', 'sn_shift_1', 'ta_rolling', 'td_rolling', 'hm_rolling',\n",
              "       'ws_rolling', 'rn_rolling', 're_rolling', 'si_rolling', 'ss_rolling',\n",
              "       'sn_rolling', 'ta_expanding', 'td_expanding', 'hm_expanding',\n",
              "       'ws_expanding', 'rn_expanding', 're_expanding', 'si_expanding',\n",
              "       'ss_expanding', 'sn_expanding'],\n",
              "      dtype='object')"
            ]
          },
          "metadata": {},
          "execution_count": 19
        }
      ]
    },
    {
      "cell_type": "code",
      "execution_count": null,
      "metadata": {
        "id": "g_Lw9cCYCpQF"
      },
      "outputs": [],
      "source": [
        "from sklearn.preprocessing import OneHotEncoder\n",
        "target = 'ts'\n",
        "original_features = ['stn', 'year', 'mmddhh', 'ta', 'td', 'hm', 'ws', 'rn', 're', 'ww', 'si',\n",
        "       'ss', 'sn', 'month', 'day', 'hour', 'ta_diff_1', 'td_diff_1',\n",
        "       'hm_diff_1', 'ws_diff_1', 'rn_diff_1', 're_diff_1', 'si_diff_1',\n",
        "       'ss_diff_1', 'sn_diff_1', 'ta_shift_1', 'td_shift_1', 'hm_shift_1',\n",
        "       'ws_shift_1', 'rn_shift_1', 're_shift_1', 'si_shift_1',\n",
        "       'ss_shift_1', 'sn_shift_1', 'ta_rolling', 'td_rolling', 'hm_rolling',\n",
        "       'ws_rolling', 'rn_rolling', 're_rolling', 'si_rolling', 'ss_rolling',\n",
        "       'sn_rolling', 'ta_expanding', 'td_expanding', 'hm_expanding',\n",
        "       'ws_expanding', 'rn_expanding', 're_expanding', 'si_expanding',\n",
        "       'ss_expanding', 'sn_expanding']\n",
        "\n",
        "result_list = []\n",
        "def summer_score_model(model, features_used, label=None):\n",
        "    score_list = []\n",
        "    oof = np.zeros_like(train_summer[target])\n",
        "    kf = KFold(n_splits=10, random_state=42, shuffle=True)\n",
        "    for fold, (idx_tr, idx_val) in enumerate(kf.split(train_summer[original_features], train_summer[target])):\n",
        "        X_train_summer = train_summer.iloc[idx_tr][features_used]\n",
        "        X_valid = train_summer.iloc[idx_val][features_used]\n",
        "        y_train_summer = train_summer.iloc[idx_tr][target]\n",
        "        y_valid = train_summer.iloc[idx_val][target]\n",
        "\n",
        "        num_cols = X_train_summer.select_dtypes(exclude='object').columns.tolist()\n",
        "        cat_cols = X_train_summer.select_dtypes(include='object').columns.tolist()\n",
        "\n",
        "        encoding = LabelEncoder()\n",
        "\n",
        "        for col in cat_cols:\n",
        "            X_train_summer[col] = encoding.fit_transform(X_train_summer[col])\n",
        "            X_valid[col] = encoding.transform(X_valid[col])\n",
        "\n",
        "        model.fit(X_train_summer, y_train_summer)\n",
        "        tscore = mean_absolute_error(y_train_summer, model.predict(X_train_summer))\n",
        "        y_valid_pred = model.predict(X_valid)\n",
        "        score = mean_absolute_error(y_valid, y_valid_pred)\n",
        "        print(f\" Fold {fold} : tscore = {tscore:.3f} score = {score:.3f}\")\n",
        "        oof[idx_val] = y_valid_pred\n",
        "        score_list.append(score)\n",
        "\n",
        "    score = sum(score_list) / len(score_list)\n",
        "    print(f\" Avg. MAE score : {score:.3f}\")\n",
        "    if label is not None:\n",
        "        global result_list\n",
        "        result_list.append((label, score, oof))"
      ]
    },
    {
      "cell_type": "markdown",
      "metadata": {
        "id": "a-OU1xSuCpQG"
      },
      "source": [
        "XGB 과적합"
      ]
    },
    {
      "cell_type": "code",
      "source": [
        "%%time\n",
        "summer_score_model(CatBoostRegressor(random_state=42, silent=True, task_type='GPU'), features_used=original_features, label=\"CAT\")"
      ],
      "metadata": {
        "colab": {
          "base_uri": "https://localhost:8080/"
        },
        "outputId": "11c73d31-2348-4741-cdf7-e895686070fb",
        "id": "-fcYBj6ZCpQG"
      },
      "execution_count": null,
      "outputs": [
        {
          "output_type": "stream",
          "name": "stdout",
          "text": [
            " Fold 0 : tscore = 0.858 score = 0.922\n",
            " Fold 1 : tscore = 0.861 score = 0.914\n",
            " Fold 2 : tscore = 0.861 score = 0.937\n",
            " Fold 3 : tscore = 0.858 score = 0.918\n",
            " Fold 4 : tscore = 0.864 score = 0.911\n",
            " Fold 5 : tscore = 0.861 score = 0.922\n",
            " Fold 6 : tscore = 0.855 score = 0.913\n",
            " Fold 7 : tscore = 0.862 score = 0.921\n",
            " Fold 8 : tscore = 0.865 score = 0.913\n",
            " Fold 9 : tscore = 0.857 score = 0.910\n",
            " Avg. MAE score : 0.918\n",
            "CPU times: user 1min 10s, sys: 27 s, total: 1min 37s\n",
            "Wall time: 1min 6s\n"
          ]
        }
      ]
    },
    {
      "cell_type": "code",
      "source": [
        "%%time\n",
        "summer_score_model(XGBRegressor(random_state=42,tree_method='gpu_hist'), features_used=original_features, label=\"CAT\")"
      ],
      "metadata": {
        "colab": {
          "base_uri": "https://localhost:8080/",
          "height": 581
        },
        "id": "oBciS-EIomNd",
        "outputId": "178940fe-1cbf-4c66-bb18-50a08fbd1006"
      },
      "execution_count": null,
      "outputs": [
        {
          "output_type": "stream",
          "name": "stdout",
          "text": [
            " Fold 0 : tscore = 0.826 score = 0.959\n",
            " Fold 1 : tscore = 0.830 score = 0.948\n",
            " Fold 2 : tscore = 0.821 score = 0.961\n",
            " Fold 3 : tscore = 0.831 score = 0.967\n",
            " Fold 4 : tscore = 0.829 score = 0.954\n"
          ]
        },
        {
          "output_type": "error",
          "ename": "ValueError",
          "evalue": "ignored",
          "traceback": [
            "\u001b[0;31m---------------------------------------------------------------------------\u001b[0m",
            "\u001b[0;31mKeyError\u001b[0m                                  Traceback (most recent call last)",
            "\u001b[0;32m/usr/local/lib/python3.10/dist-packages/sklearn/utils/_encode.py\u001b[0m in \u001b[0;36m_encode\u001b[0;34m(values, uniques, check_unknown)\u001b[0m\n\u001b[1;32m    223\u001b[0m         \u001b[0;32mtry\u001b[0m\u001b[0;34m:\u001b[0m\u001b[0;34m\u001b[0m\u001b[0;34m\u001b[0m\u001b[0m\n\u001b[0;32m--> 224\u001b[0;31m             \u001b[0;32mreturn\u001b[0m \u001b[0m_map_to_integer\u001b[0m\u001b[0;34m(\u001b[0m\u001b[0mvalues\u001b[0m\u001b[0;34m,\u001b[0m \u001b[0muniques\u001b[0m\u001b[0;34m)\u001b[0m\u001b[0;34m\u001b[0m\u001b[0;34m\u001b[0m\u001b[0m\n\u001b[0m\u001b[1;32m    225\u001b[0m         \u001b[0;32mexcept\u001b[0m \u001b[0mKeyError\u001b[0m \u001b[0;32mas\u001b[0m \u001b[0me\u001b[0m\u001b[0;34m:\u001b[0m\u001b[0;34m\u001b[0m\u001b[0;34m\u001b[0m\u001b[0m\n",
            "\u001b[0;32m/usr/local/lib/python3.10/dist-packages/sklearn/utils/_encode.py\u001b[0m in \u001b[0;36m_map_to_integer\u001b[0;34m(values, uniques)\u001b[0m\n\u001b[1;32m    163\u001b[0m     \u001b[0mtable\u001b[0m \u001b[0;34m=\u001b[0m \u001b[0m_nandict\u001b[0m\u001b[0;34m(\u001b[0m\u001b[0;34m{\u001b[0m\u001b[0mval\u001b[0m\u001b[0;34m:\u001b[0m \u001b[0mi\u001b[0m \u001b[0;32mfor\u001b[0m \u001b[0mi\u001b[0m\u001b[0;34m,\u001b[0m \u001b[0mval\u001b[0m \u001b[0;32min\u001b[0m \u001b[0menumerate\u001b[0m\u001b[0;34m(\u001b[0m\u001b[0muniques\u001b[0m\u001b[0;34m)\u001b[0m\u001b[0;34m}\u001b[0m\u001b[0;34m)\u001b[0m\u001b[0;34m\u001b[0m\u001b[0;34m\u001b[0m\u001b[0m\n\u001b[0;32m--> 164\u001b[0;31m     \u001b[0;32mreturn\u001b[0m \u001b[0mnp\u001b[0m\u001b[0;34m.\u001b[0m\u001b[0marray\u001b[0m\u001b[0;34m(\u001b[0m\u001b[0;34m[\u001b[0m\u001b[0mtable\u001b[0m\u001b[0;34m[\u001b[0m\u001b[0mv\u001b[0m\u001b[0;34m]\u001b[0m \u001b[0;32mfor\u001b[0m \u001b[0mv\u001b[0m \u001b[0;32min\u001b[0m \u001b[0mvalues\u001b[0m\u001b[0;34m]\u001b[0m\u001b[0;34m)\u001b[0m\u001b[0;34m\u001b[0m\u001b[0;34m\u001b[0m\u001b[0m\n\u001b[0m\u001b[1;32m    165\u001b[0m \u001b[0;34m\u001b[0m\u001b[0m\n",
            "\u001b[0;32m/usr/local/lib/python3.10/dist-packages/sklearn/utils/_encode.py\u001b[0m in \u001b[0;36m<listcomp>\u001b[0;34m(.0)\u001b[0m\n\u001b[1;32m    163\u001b[0m     \u001b[0mtable\u001b[0m \u001b[0;34m=\u001b[0m \u001b[0m_nandict\u001b[0m\u001b[0;34m(\u001b[0m\u001b[0;34m{\u001b[0m\u001b[0mval\u001b[0m\u001b[0;34m:\u001b[0m \u001b[0mi\u001b[0m \u001b[0;32mfor\u001b[0m \u001b[0mi\u001b[0m\u001b[0;34m,\u001b[0m \u001b[0mval\u001b[0m \u001b[0;32min\u001b[0m \u001b[0menumerate\u001b[0m\u001b[0;34m(\u001b[0m\u001b[0muniques\u001b[0m\u001b[0;34m)\u001b[0m\u001b[0;34m}\u001b[0m\u001b[0;34m)\u001b[0m\u001b[0;34m\u001b[0m\u001b[0;34m\u001b[0m\u001b[0m\n\u001b[0;32m--> 164\u001b[0;31m     \u001b[0;32mreturn\u001b[0m \u001b[0mnp\u001b[0m\u001b[0;34m.\u001b[0m\u001b[0marray\u001b[0m\u001b[0;34m(\u001b[0m\u001b[0;34m[\u001b[0m\u001b[0mtable\u001b[0m\u001b[0;34m[\u001b[0m\u001b[0mv\u001b[0m\u001b[0;34m]\u001b[0m \u001b[0;32mfor\u001b[0m \u001b[0mv\u001b[0m \u001b[0;32min\u001b[0m \u001b[0mvalues\u001b[0m\u001b[0;34m]\u001b[0m\u001b[0;34m)\u001b[0m\u001b[0;34m\u001b[0m\u001b[0;34m\u001b[0m\u001b[0m\n\u001b[0m\u001b[1;32m    165\u001b[0m \u001b[0;34m\u001b[0m\u001b[0m\n",
            "\u001b[0;32m/usr/local/lib/python3.10/dist-packages/sklearn/utils/_encode.py\u001b[0m in \u001b[0;36m__missing__\u001b[0;34m(self, key)\u001b[0m\n\u001b[1;32m    157\u001b[0m             \u001b[0;32mreturn\u001b[0m \u001b[0mself\u001b[0m\u001b[0;34m.\u001b[0m\u001b[0mnan_value\u001b[0m\u001b[0;34m\u001b[0m\u001b[0;34m\u001b[0m\u001b[0m\n\u001b[0;32m--> 158\u001b[0;31m         \u001b[0;32mraise\u001b[0m \u001b[0mKeyError\u001b[0m\u001b[0;34m(\u001b[0m\u001b[0mkey\u001b[0m\u001b[0;34m)\u001b[0m\u001b[0;34m\u001b[0m\u001b[0;34m\u001b[0m\u001b[0m\n\u001b[0m\u001b[1;32m    159\u001b[0m \u001b[0;34m\u001b[0m\u001b[0m\n",
            "\u001b[0;31mKeyError\u001b[0m: None",
            "\nDuring handling of the above exception, another exception occurred:\n",
            "\u001b[0;31mValueError\u001b[0m                                Traceback (most recent call last)",
            "\u001b[0;32m<timed eval>\u001b[0m in \u001b[0;36m<module>\u001b[0;34m\u001b[0m\n",
            "\u001b[0;32m<ipython-input-50-5516b3f55173>\u001b[0m in \u001b[0;36msummer_score_model\u001b[0;34m(model, features_used, label)\u001b[0m\n\u001b[1;32m     30\u001b[0m         \u001b[0;32mfor\u001b[0m \u001b[0mcol\u001b[0m \u001b[0;32min\u001b[0m \u001b[0mcat_cols\u001b[0m\u001b[0;34m:\u001b[0m\u001b[0;34m\u001b[0m\u001b[0;34m\u001b[0m\u001b[0m\n\u001b[1;32m     31\u001b[0m             \u001b[0mX_train_summer\u001b[0m\u001b[0;34m[\u001b[0m\u001b[0mcol\u001b[0m\u001b[0;34m]\u001b[0m \u001b[0;34m=\u001b[0m \u001b[0mencoding\u001b[0m\u001b[0;34m.\u001b[0m\u001b[0mfit_transform\u001b[0m\u001b[0;34m(\u001b[0m\u001b[0mX_train_summer\u001b[0m\u001b[0;34m[\u001b[0m\u001b[0mcol\u001b[0m\u001b[0;34m]\u001b[0m\u001b[0;34m)\u001b[0m\u001b[0;34m\u001b[0m\u001b[0;34m\u001b[0m\u001b[0m\n\u001b[0;32m---> 32\u001b[0;31m             \u001b[0mX_valid\u001b[0m\u001b[0;34m[\u001b[0m\u001b[0mcol\u001b[0m\u001b[0;34m]\u001b[0m \u001b[0;34m=\u001b[0m \u001b[0mencoding\u001b[0m\u001b[0;34m.\u001b[0m\u001b[0mtransform\u001b[0m\u001b[0;34m(\u001b[0m\u001b[0mX_valid\u001b[0m\u001b[0;34m[\u001b[0m\u001b[0mcol\u001b[0m\u001b[0;34m]\u001b[0m\u001b[0;34m)\u001b[0m\u001b[0;34m\u001b[0m\u001b[0;34m\u001b[0m\u001b[0m\n\u001b[0m\u001b[1;32m     33\u001b[0m \u001b[0;34m\u001b[0m\u001b[0m\n\u001b[1;32m     34\u001b[0m         \u001b[0mmodel\u001b[0m\u001b[0;34m.\u001b[0m\u001b[0mfit\u001b[0m\u001b[0;34m(\u001b[0m\u001b[0mX_train_summer\u001b[0m\u001b[0;34m,\u001b[0m \u001b[0my_train_summer\u001b[0m\u001b[0;34m)\u001b[0m\u001b[0;34m\u001b[0m\u001b[0;34m\u001b[0m\u001b[0m\n",
            "\u001b[0;32m/usr/local/lib/python3.10/dist-packages/sklearn/utils/_set_output.py\u001b[0m in \u001b[0;36mwrapped\u001b[0;34m(self, X, *args, **kwargs)\u001b[0m\n\u001b[1;32m    138\u001b[0m     \u001b[0;34m@\u001b[0m\u001b[0mwraps\u001b[0m\u001b[0;34m(\u001b[0m\u001b[0mf\u001b[0m\u001b[0;34m)\u001b[0m\u001b[0;34m\u001b[0m\u001b[0;34m\u001b[0m\u001b[0m\n\u001b[1;32m    139\u001b[0m     \u001b[0;32mdef\u001b[0m \u001b[0mwrapped\u001b[0m\u001b[0;34m(\u001b[0m\u001b[0mself\u001b[0m\u001b[0;34m,\u001b[0m \u001b[0mX\u001b[0m\u001b[0;34m,\u001b[0m \u001b[0;34m*\u001b[0m\u001b[0margs\u001b[0m\u001b[0;34m,\u001b[0m \u001b[0;34m**\u001b[0m\u001b[0mkwargs\u001b[0m\u001b[0;34m)\u001b[0m\u001b[0;34m:\u001b[0m\u001b[0;34m\u001b[0m\u001b[0;34m\u001b[0m\u001b[0m\n\u001b[0;32m--> 140\u001b[0;31m         \u001b[0mdata_to_wrap\u001b[0m \u001b[0;34m=\u001b[0m \u001b[0mf\u001b[0m\u001b[0;34m(\u001b[0m\u001b[0mself\u001b[0m\u001b[0;34m,\u001b[0m \u001b[0mX\u001b[0m\u001b[0;34m,\u001b[0m \u001b[0;34m*\u001b[0m\u001b[0margs\u001b[0m\u001b[0;34m,\u001b[0m \u001b[0;34m**\u001b[0m\u001b[0mkwargs\u001b[0m\u001b[0;34m)\u001b[0m\u001b[0;34m\u001b[0m\u001b[0;34m\u001b[0m\u001b[0m\n\u001b[0m\u001b[1;32m    141\u001b[0m         \u001b[0;32mif\u001b[0m \u001b[0misinstance\u001b[0m\u001b[0;34m(\u001b[0m\u001b[0mdata_to_wrap\u001b[0m\u001b[0;34m,\u001b[0m \u001b[0mtuple\u001b[0m\u001b[0;34m)\u001b[0m\u001b[0;34m:\u001b[0m\u001b[0;34m\u001b[0m\u001b[0;34m\u001b[0m\u001b[0m\n\u001b[1;32m    142\u001b[0m             \u001b[0;31m# only wrap the first output for cross decomposition\u001b[0m\u001b[0;34m\u001b[0m\u001b[0;34m\u001b[0m\u001b[0m\n",
            "\u001b[0;32m/usr/local/lib/python3.10/dist-packages/sklearn/preprocessing/_label.py\u001b[0m in \u001b[0;36mtransform\u001b[0;34m(self, y)\u001b[0m\n\u001b[1;32m    137\u001b[0m             \u001b[0;32mreturn\u001b[0m \u001b[0mnp\u001b[0m\u001b[0;34m.\u001b[0m\u001b[0marray\u001b[0m\u001b[0;34m(\u001b[0m\u001b[0;34m[\u001b[0m\u001b[0;34m]\u001b[0m\u001b[0;34m)\u001b[0m\u001b[0;34m\u001b[0m\u001b[0;34m\u001b[0m\u001b[0m\n\u001b[1;32m    138\u001b[0m \u001b[0;34m\u001b[0m\u001b[0m\n\u001b[0;32m--> 139\u001b[0;31m         \u001b[0;32mreturn\u001b[0m \u001b[0m_encode\u001b[0m\u001b[0;34m(\u001b[0m\u001b[0my\u001b[0m\u001b[0;34m,\u001b[0m \u001b[0muniques\u001b[0m\u001b[0;34m=\u001b[0m\u001b[0mself\u001b[0m\u001b[0;34m.\u001b[0m\u001b[0mclasses_\u001b[0m\u001b[0;34m)\u001b[0m\u001b[0;34m\u001b[0m\u001b[0;34m\u001b[0m\u001b[0m\n\u001b[0m\u001b[1;32m    140\u001b[0m \u001b[0;34m\u001b[0m\u001b[0m\n\u001b[1;32m    141\u001b[0m     \u001b[0;32mdef\u001b[0m \u001b[0minverse_transform\u001b[0m\u001b[0;34m(\u001b[0m\u001b[0mself\u001b[0m\u001b[0;34m,\u001b[0m \u001b[0my\u001b[0m\u001b[0;34m)\u001b[0m\u001b[0;34m:\u001b[0m\u001b[0;34m\u001b[0m\u001b[0;34m\u001b[0m\u001b[0m\n",
            "\u001b[0;32m/usr/local/lib/python3.10/dist-packages/sklearn/utils/_encode.py\u001b[0m in \u001b[0;36m_encode\u001b[0;34m(values, uniques, check_unknown)\u001b[0m\n\u001b[1;32m    224\u001b[0m             \u001b[0;32mreturn\u001b[0m \u001b[0m_map_to_integer\u001b[0m\u001b[0;34m(\u001b[0m\u001b[0mvalues\u001b[0m\u001b[0;34m,\u001b[0m \u001b[0muniques\u001b[0m\u001b[0;34m)\u001b[0m\u001b[0;34m\u001b[0m\u001b[0;34m\u001b[0m\u001b[0m\n\u001b[1;32m    225\u001b[0m         \u001b[0;32mexcept\u001b[0m \u001b[0mKeyError\u001b[0m \u001b[0;32mas\u001b[0m \u001b[0me\u001b[0m\u001b[0;34m:\u001b[0m\u001b[0;34m\u001b[0m\u001b[0;34m\u001b[0m\u001b[0m\n\u001b[0;32m--> 226\u001b[0;31m             \u001b[0;32mraise\u001b[0m \u001b[0mValueError\u001b[0m\u001b[0;34m(\u001b[0m\u001b[0;34mf\"y contains previously unseen labels: {str(e)}\"\u001b[0m\u001b[0;34m)\u001b[0m\u001b[0;34m\u001b[0m\u001b[0;34m\u001b[0m\u001b[0m\n\u001b[0m\u001b[1;32m    227\u001b[0m     \u001b[0;32melse\u001b[0m\u001b[0;34m:\u001b[0m\u001b[0;34m\u001b[0m\u001b[0;34m\u001b[0m\u001b[0m\n\u001b[1;32m    228\u001b[0m         \u001b[0;32mif\u001b[0m \u001b[0mcheck_unknown\u001b[0m\u001b[0;34m:\u001b[0m\u001b[0;34m\u001b[0m\u001b[0;34m\u001b[0m\u001b[0m\n",
            "\u001b[0;31mValueError\u001b[0m: y contains previously unseen labels: None"
          ]
        }
      ]
    },
    {
      "cell_type": "code",
      "source": [
        "from sklearn.ensemble import VotingRegressor\n",
        "\n",
        "vot_model = VotingRegressor(estimators=[('XGBoost',XGBRegressor(random_state=42, tree_method='gpu_hist')),('CatBoost',CatBoostRegressor(random_state=42, silent=True,task_type='GPU'))])"
      ],
      "metadata": {
        "id": "do2d8Ns2CpQG"
      },
      "execution_count": null,
      "outputs": []
    },
    {
      "cell_type": "code",
      "source": [
        "%%time\n",
        "spring_score_model(vot_model, features_used=original_features, label=\"CAT\")"
      ],
      "metadata": {
        "colab": {
          "base_uri": "https://localhost:8080/"
        },
        "outputId": "10ce5a77-aa91-4d39-85b2-92c47fd1c918",
        "id": "yvJyBVvdCpQG"
      },
      "execution_count": null,
      "outputs": [
        {
          "output_type": "stream",
          "name": "stdout",
          "text": [
            " Fold 0 : tscore = 0.795 score = 0.866\n",
            " Fold 1 : tscore = 0.810 score = 0.871\n",
            " Fold 2 : tscore = 0.804 score = 0.882\n",
            " Fold 3 : tscore = 0.799 score = 0.868\n",
            " Fold 4 : tscore = 0.802 score = 0.876\n",
            " Fold 5 : tscore = 0.804 score = 0.880\n",
            " Fold 6 : tscore = 0.801 score = 0.863\n",
            " Fold 7 : tscore = 0.800 score = 0.875\n",
            " Fold 8 : tscore = 0.805 score = 0.867\n",
            " Fold 9 : tscore = 0.801 score = 0.876\n",
            " Avg. MAE score : 0.873\n",
            "CPU times: user 1min 19s, sys: 25.8 s, total: 1min 44s\n",
            "Wall time: 1min 20s\n"
          ]
        }
      ]
    },
    {
      "cell_type": "code",
      "execution_count": null,
      "metadata": {
        "id": "ur-fze12CpQH"
      },
      "outputs": [],
      "source": [
        "# test set 예측\n",
        "encoding = LabelEncoder()\n",
        "\n",
        "num_cols = train_summer[original_features].select_dtypes(exclude='object').columns.tolist()\n",
        "cat_cols = train_summer[original_features].select_dtypes(include='object').columns.tolist()\n",
        "\n",
        "for col in cat_cols:\n",
        "    train_summer[col] = encoding.fit_transform(train_summer[col])\n",
        "    test_summer[col] = encoding.fit_transform(test_summer[col])\n",
        "\n",
        "X = train_summer.drop(['ts'],1)\n",
        "y = train_summer.ts\n",
        "X_train, X_test, y_train, y_test = train_test_split(X, y, test_size=.3, random_state=0)"
      ]
    },
    {
      "cell_type": "code",
      "execution_count": null,
      "metadata": {
        "id": "pN3k8IunCpQH",
        "colab": {
          "base_uri": "https://localhost:8080/",
          "height": 836
        },
        "outputId": "9e5f9864-df5c-4f8b-acdb-a4cae06c7121"
      },
      "outputs": [
        {
          "output_type": "error",
          "ename": "CatBoostError",
          "evalue": "ignored",
          "traceback": [
            "\u001b[0;31m---------------------------------------------------------------------------\u001b[0m",
            "\u001b[0;31mTypeError\u001b[0m                                 Traceback (most recent call last)",
            "\u001b[0;32m_catboost.pyx\u001b[0m in \u001b[0;36m_catboost.get_float_feature\u001b[0;34m()\u001b[0m\n",
            "\u001b[0;32m_catboost.pyx\u001b[0m in \u001b[0;36m_catboost._FloatOrNan\u001b[0;34m()\u001b[0m\n",
            "\u001b[0;32m_catboost.pyx\u001b[0m in \u001b[0;36m_catboost._FloatOrNanFromString\u001b[0;34m()\u001b[0m\n",
            "\u001b[0;31mTypeError\u001b[0m: Cannot convert 'b'C'' to float",
            "\nDuring handling of the above exception, another exception occurred:\n",
            "\u001b[0;31mCatBoostError\u001b[0m                             Traceback (most recent call last)",
            "\u001b[0;32m<ipython-input-39-d26684ca14e6>\u001b[0m in \u001b[0;36m<cell line: 2>\u001b[0;34m()\u001b[0m\n\u001b[1;32m      1\u001b[0m \u001b[0mmodel\u001b[0m \u001b[0;34m=\u001b[0m \u001b[0mCatBoostRegressor\u001b[0m\u001b[0;34m(\u001b[0m\u001b[0mrandom_state\u001b[0m\u001b[0;34m=\u001b[0m\u001b[0;36m42\u001b[0m\u001b[0;34m,\u001b[0m \u001b[0msilent\u001b[0m\u001b[0;34m=\u001b[0m\u001b[0;32mTrue\u001b[0m\u001b[0;34m,\u001b[0m \u001b[0mtask_type\u001b[0m\u001b[0;34m=\u001b[0m\u001b[0;34m'GPU'\u001b[0m\u001b[0;34m)\u001b[0m\u001b[0;34m\u001b[0m\u001b[0;34m\u001b[0m\u001b[0m\n\u001b[0;32m----> 2\u001b[0;31m \u001b[0mmodel\u001b[0m\u001b[0;34m.\u001b[0m\u001b[0mfit\u001b[0m\u001b[0;34m(\u001b[0m\u001b[0mX_train\u001b[0m\u001b[0;34m,\u001b[0m \u001b[0my_train\u001b[0m\u001b[0;34m)\u001b[0m\u001b[0;34m\u001b[0m\u001b[0;34m\u001b[0m\u001b[0m\n\u001b[0m\u001b[1;32m      3\u001b[0m \u001b[0;34m\u001b[0m\u001b[0m\n\u001b[1;32m      4\u001b[0m \u001b[0;32mdef\u001b[0m \u001b[0mplot_feature_importance\u001b[0m\u001b[0;34m(\u001b[0m\u001b[0mimportance\u001b[0m\u001b[0;34m,\u001b[0m \u001b[0mnames\u001b[0m\u001b[0;34m,\u001b[0m \u001b[0mmodel_type\u001b[0m\u001b[0;34m,\u001b[0m \u001b[0mfigsize\u001b[0m\u001b[0;34m=\u001b[0m\u001b[0;34m(\u001b[0m\u001b[0;36m10\u001b[0m\u001b[0;34m,\u001b[0m\u001b[0;36m8\u001b[0m\u001b[0;34m)\u001b[0m\u001b[0;34m)\u001b[0m\u001b[0;34m:\u001b[0m\u001b[0;34m\u001b[0m\u001b[0;34m\u001b[0m\u001b[0m\n\u001b[1;32m      5\u001b[0m     \u001b[0mfeature_importance\u001b[0m \u001b[0;34m=\u001b[0m \u001b[0mnp\u001b[0m\u001b[0;34m.\u001b[0m\u001b[0marray\u001b[0m\u001b[0;34m(\u001b[0m\u001b[0mimportance\u001b[0m\u001b[0;34m)\u001b[0m\u001b[0;34m\u001b[0m\u001b[0;34m\u001b[0m\u001b[0m\n",
            "\u001b[0;32m/usr/local/lib/python3.10/dist-packages/catboost/core.py\u001b[0m in \u001b[0;36mfit\u001b[0;34m(self, X, y, cat_features, text_features, embedding_features, sample_weight, baseline, use_best_model, eval_set, verbose, logging_level, plot, plot_file, column_description, verbose_eval, metric_period, silent, early_stopping_rounds, save_snapshot, snapshot_file, snapshot_interval, init_model, callbacks, log_cout, log_cerr)\u001b[0m\n\u001b[1;32m   5732\u001b[0m             \u001b[0mCatBoostRegressor\u001b[0m\u001b[0;34m.\u001b[0m\u001b[0m_check_is_compatible_loss\u001b[0m\u001b[0;34m(\u001b[0m\u001b[0mparams\u001b[0m\u001b[0;34m[\u001b[0m\u001b[0;34m'loss_function'\u001b[0m\u001b[0;34m]\u001b[0m\u001b[0;34m)\u001b[0m\u001b[0;34m\u001b[0m\u001b[0;34m\u001b[0m\u001b[0m\n\u001b[1;32m   5733\u001b[0m \u001b[0;34m\u001b[0m\u001b[0m\n\u001b[0;32m-> 5734\u001b[0;31m         return self._fit(X, y, cat_features, text_features, embedding_features, None, sample_weight, None, None, None, None, baseline,\n\u001b[0m\u001b[1;32m   5735\u001b[0m                          \u001b[0muse_best_model\u001b[0m\u001b[0;34m,\u001b[0m \u001b[0meval_set\u001b[0m\u001b[0;34m,\u001b[0m \u001b[0mverbose\u001b[0m\u001b[0;34m,\u001b[0m \u001b[0mlogging_level\u001b[0m\u001b[0;34m,\u001b[0m \u001b[0mplot\u001b[0m\u001b[0;34m,\u001b[0m \u001b[0mplot_file\u001b[0m\u001b[0;34m,\u001b[0m \u001b[0mcolumn_description\u001b[0m\u001b[0;34m,\u001b[0m\u001b[0;34m\u001b[0m\u001b[0;34m\u001b[0m\u001b[0m\n\u001b[1;32m   5736\u001b[0m                          \u001b[0mverbose_eval\u001b[0m\u001b[0;34m,\u001b[0m \u001b[0mmetric_period\u001b[0m\u001b[0;34m,\u001b[0m \u001b[0msilent\u001b[0m\u001b[0;34m,\u001b[0m \u001b[0mearly_stopping_rounds\u001b[0m\u001b[0;34m,\u001b[0m\u001b[0;34m\u001b[0m\u001b[0;34m\u001b[0m\u001b[0m\n",
            "\u001b[0;32m/usr/local/lib/python3.10/dist-packages/catboost/core.py\u001b[0m in \u001b[0;36m_fit\u001b[0;34m(self, X, y, cat_features, text_features, embedding_features, pairs, sample_weight, group_id, group_weight, subgroup_id, pairs_weight, baseline, use_best_model, eval_set, verbose, logging_level, plot, plot_file, column_description, verbose_eval, metric_period, silent, early_stopping_rounds, save_snapshot, snapshot_file, snapshot_interval, init_model, callbacks, log_cout, log_cerr)\u001b[0m\n\u001b[1;32m   2339\u001b[0m             \u001b[0;32mraise\u001b[0m \u001b[0mCatBoostError\u001b[0m\u001b[0;34m(\u001b[0m\u001b[0;34m\"y may be None only when X is an instance of catboost.Pool or string\"\u001b[0m\u001b[0;34m)\u001b[0m\u001b[0;34m\u001b[0m\u001b[0;34m\u001b[0m\u001b[0m\n\u001b[1;32m   2340\u001b[0m \u001b[0;34m\u001b[0m\u001b[0m\n\u001b[0;32m-> 2341\u001b[0;31m         train_params = self._prepare_train_params(\n\u001b[0m\u001b[1;32m   2342\u001b[0m             \u001b[0mX\u001b[0m\u001b[0;34m=\u001b[0m\u001b[0mX\u001b[0m\u001b[0;34m,\u001b[0m \u001b[0my\u001b[0m\u001b[0;34m=\u001b[0m\u001b[0my\u001b[0m\u001b[0;34m,\u001b[0m \u001b[0mcat_features\u001b[0m\u001b[0;34m=\u001b[0m\u001b[0mcat_features\u001b[0m\u001b[0;34m,\u001b[0m \u001b[0mtext_features\u001b[0m\u001b[0;34m=\u001b[0m\u001b[0mtext_features\u001b[0m\u001b[0;34m,\u001b[0m \u001b[0membedding_features\u001b[0m\u001b[0;34m=\u001b[0m\u001b[0membedding_features\u001b[0m\u001b[0;34m,\u001b[0m\u001b[0;34m\u001b[0m\u001b[0;34m\u001b[0m\u001b[0m\n\u001b[1;32m   2343\u001b[0m             \u001b[0mpairs\u001b[0m\u001b[0;34m=\u001b[0m\u001b[0mpairs\u001b[0m\u001b[0;34m,\u001b[0m \u001b[0msample_weight\u001b[0m\u001b[0;34m=\u001b[0m\u001b[0msample_weight\u001b[0m\u001b[0;34m,\u001b[0m \u001b[0mgroup_id\u001b[0m\u001b[0;34m=\u001b[0m\u001b[0mgroup_id\u001b[0m\u001b[0;34m,\u001b[0m \u001b[0mgroup_weight\u001b[0m\u001b[0;34m=\u001b[0m\u001b[0mgroup_weight\u001b[0m\u001b[0;34m,\u001b[0m\u001b[0;34m\u001b[0m\u001b[0;34m\u001b[0m\u001b[0m\n",
            "\u001b[0;32m/usr/local/lib/python3.10/dist-packages/catboost/core.py\u001b[0m in \u001b[0;36m_prepare_train_params\u001b[0;34m(self, X, y, cat_features, text_features, embedding_features, pairs, sample_weight, group_id, group_weight, subgroup_id, pairs_weight, baseline, use_best_model, eval_set, verbose, logging_level, plot, plot_file, column_description, verbose_eval, metric_period, silent, early_stopping_rounds, save_snapshot, snapshot_file, snapshot_interval, init_model, callbacks)\u001b[0m\n\u001b[1;32m   2220\u001b[0m         \u001b[0membedding_features\u001b[0m \u001b[0;34m=\u001b[0m \u001b[0m_process_feature_indices\u001b[0m\u001b[0;34m(\u001b[0m\u001b[0membedding_features\u001b[0m\u001b[0;34m,\u001b[0m \u001b[0mX\u001b[0m\u001b[0;34m,\u001b[0m \u001b[0mparams\u001b[0m\u001b[0;34m,\u001b[0m \u001b[0;34m'embedding_features'\u001b[0m\u001b[0;34m)\u001b[0m\u001b[0;34m\u001b[0m\u001b[0;34m\u001b[0m\u001b[0m\n\u001b[1;32m   2221\u001b[0m \u001b[0;34m\u001b[0m\u001b[0m\n\u001b[0;32m-> 2222\u001b[0;31m         train_pool = _build_train_pool(X, y, cat_features, text_features, embedding_features, pairs,\n\u001b[0m\u001b[1;32m   2223\u001b[0m                                        \u001b[0msample_weight\u001b[0m\u001b[0;34m,\u001b[0m \u001b[0mgroup_id\u001b[0m\u001b[0;34m,\u001b[0m \u001b[0mgroup_weight\u001b[0m\u001b[0;34m,\u001b[0m \u001b[0msubgroup_id\u001b[0m\u001b[0;34m,\u001b[0m \u001b[0mpairs_weight\u001b[0m\u001b[0;34m,\u001b[0m\u001b[0;34m\u001b[0m\u001b[0;34m\u001b[0m\u001b[0m\n\u001b[1;32m   2224\u001b[0m                                        baseline, column_description)\n",
            "\u001b[0;32m/usr/local/lib/python3.10/dist-packages/catboost/core.py\u001b[0m in \u001b[0;36m_build_train_pool\u001b[0;34m(X, y, cat_features, text_features, embedding_features, pairs, sample_weight, group_id, group_weight, subgroup_id, pairs_weight, baseline, column_description)\u001b[0m\n\u001b[1;32m   1436\u001b[0m         \u001b[0;32mif\u001b[0m \u001b[0my\u001b[0m \u001b[0;32mis\u001b[0m \u001b[0;32mNone\u001b[0m\u001b[0;34m:\u001b[0m\u001b[0;34m\u001b[0m\u001b[0;34m\u001b[0m\u001b[0m\n\u001b[1;32m   1437\u001b[0m             \u001b[0;32mraise\u001b[0m \u001b[0mCatBoostError\u001b[0m\u001b[0;34m(\u001b[0m\u001b[0;34m\"y has not initialized in fit(): X is not catboost.Pool object, y must be not None in fit().\"\u001b[0m\u001b[0;34m)\u001b[0m\u001b[0;34m\u001b[0m\u001b[0;34m\u001b[0m\u001b[0m\n\u001b[0;32m-> 1438\u001b[0;31m         train_pool = Pool(X, y, cat_features=cat_features, text_features=text_features, embedding_features=embedding_features, pairs=pairs, weight=sample_weight, group_id=group_id,\n\u001b[0m\u001b[1;32m   1439\u001b[0m                           group_weight=group_weight, subgroup_id=subgroup_id, pairs_weight=pairs_weight, baseline=baseline)\n\u001b[1;32m   1440\u001b[0m     \u001b[0;32mreturn\u001b[0m \u001b[0mtrain_pool\u001b[0m\u001b[0;34m\u001b[0m\u001b[0;34m\u001b[0m\u001b[0m\n",
            "\u001b[0;32m/usr/local/lib/python3.10/dist-packages/catboost/core.py\u001b[0m in \u001b[0;36m__init__\u001b[0;34m(self, data, label, cat_features, text_features, embedding_features, embedding_features_data, column_description, pairs, delimiter, has_header, ignore_csv_quoting, weight, group_id, group_weight, subgroup_id, pairs_weight, baseline, timestamp, feature_names, feature_tags, thread_count, log_cout, log_cerr)\u001b[0m\n\u001b[1;32m    790\u001b[0m                     )\n\u001b[1;32m    791\u001b[0m \u001b[0;34m\u001b[0m\u001b[0m\n\u001b[0;32m--> 792\u001b[0;31m                 self._init(data, label, cat_features, text_features, embedding_features, embedding_features_data, pairs, weight,\n\u001b[0m\u001b[1;32m    793\u001b[0m                            group_id, group_weight, subgroup_id, pairs_weight, baseline, timestamp, feature_names, feature_tags, thread_count)\n\u001b[1;32m    794\u001b[0m         \u001b[0msuper\u001b[0m\u001b[0;34m(\u001b[0m\u001b[0mPool\u001b[0m\u001b[0;34m,\u001b[0m \u001b[0mself\u001b[0m\u001b[0;34m)\u001b[0m\u001b[0;34m.\u001b[0m\u001b[0m__init__\u001b[0m\u001b[0;34m(\u001b[0m\u001b[0;34m)\u001b[0m\u001b[0;34m\u001b[0m\u001b[0;34m\u001b[0m\u001b[0m\n",
            "\u001b[0;32m/usr/local/lib/python3.10/dist-packages/catboost/core.py\u001b[0m in \u001b[0;36m_init\u001b[0;34m(self, data, label, cat_features, text_features, embedding_features, embedding_features_data, pairs, weight, group_id, group_weight, subgroup_id, pairs_weight, baseline, timestamp, feature_names, feature_tags, thread_count)\u001b[0m\n\u001b[1;32m   1417\u001b[0m         \u001b[0;32mif\u001b[0m \u001b[0mfeature_tags\u001b[0m \u001b[0;32mis\u001b[0m \u001b[0;32mnot\u001b[0m \u001b[0;32mNone\u001b[0m\u001b[0;34m:\u001b[0m\u001b[0;34m\u001b[0m\u001b[0;34m\u001b[0m\u001b[0m\n\u001b[1;32m   1418\u001b[0m             \u001b[0mfeature_tags\u001b[0m \u001b[0;34m=\u001b[0m \u001b[0mself\u001b[0m\u001b[0;34m.\u001b[0m\u001b[0m_check_transform_tags\u001b[0m\u001b[0;34m(\u001b[0m\u001b[0mfeature_tags\u001b[0m\u001b[0;34m,\u001b[0m \u001b[0mfeature_names\u001b[0m\u001b[0;34m)\u001b[0m\u001b[0;34m\u001b[0m\u001b[0;34m\u001b[0m\u001b[0m\n\u001b[0;32m-> 1419\u001b[0;31m         self._init_pool(data, label, cat_features, text_features, embedding_features, embedding_features_data, pairs, weight,\n\u001b[0m\u001b[1;32m   1420\u001b[0m                         group_id, group_weight, subgroup_id, pairs_weight, baseline, timestamp, feature_names, feature_tags, thread_count)\n\u001b[1;32m   1421\u001b[0m \u001b[0;34m\u001b[0m\u001b[0m\n",
            "\u001b[0;32m_catboost.pyx\u001b[0m in \u001b[0;36m_catboost._PoolBase._init_pool\u001b[0;34m()\u001b[0m\n",
            "\u001b[0;32m_catboost.pyx\u001b[0m in \u001b[0;36m_catboost._PoolBase._init_pool\u001b[0;34m()\u001b[0m\n",
            "\u001b[0;32m_catboost.pyx\u001b[0m in \u001b[0;36m_catboost._PoolBase._init_features_order_layout_pool\u001b[0;34m()\u001b[0m\n",
            "\u001b[0;32m_catboost.pyx\u001b[0m in \u001b[0;36m_catboost._set_features_order_data_pd_data_frame\u001b[0;34m()\u001b[0m\n",
            "\u001b[0;32m_catboost.pyx\u001b[0m in \u001b[0;36m_catboost.create_num_factor_data\u001b[0;34m()\u001b[0m\n",
            "\u001b[0;32m_catboost.pyx\u001b[0m in \u001b[0;36m_catboost.get_float_feature\u001b[0;34m()\u001b[0m\n",
            "\u001b[0;31mCatBoostError\u001b[0m: Bad value for num_feature[non_default_doc_idx=0,feature_idx=31]=\"C\": Cannot convert 'b'C'' to float"
          ]
        }
      ],
      "source": [
        "model = CatBoostRegressor(random_state=42, silent=True, task_type='GPU')\n",
        "model.fit(X_train, y_train)\n",
        "\n",
        "def plot_feature_importance(importance, names, model_type, figsize=(10,8)):\n",
        "    feature_importance = np.array(importance)\n",
        "    feature_names = np.array(names)\n",
        "\n",
        "    data = {'feature_names':feature_names, 'feature_importance':feature_importance}\n",
        "    fi_df = pd.DataFrame(data)\n",
        "\n",
        "    fi_df.sort_values(by=['feature_importance'], ascending=False,inplace=True)\n",
        "\n",
        "    plt.figure(figsize=figsize)\n",
        "\n",
        "    sns.barplot(x=fi_df['feature_importance'],y=fi_df['feature_names'])\n",
        "\n",
        "    plt.title(model_type + 'FEATURE IM..')\n",
        "    plt.xlabel(\"FEATURE IM..\")\n",
        "    plt.ylabel('FEATURE NAME')\n",
        "\n",
        "# plot_feature_importance(model.feature_importances_, X_train.columns, 'CAT',figsize=(8,16))\n",
        "\n",
        "importances = model.feature_importances_\n",
        "feature_names = X_train.columns\n",
        "\n",
        "\n",
        "feature_importances = pd.DataFrame({'Feature_names': feature_names, 'Importance': importances})\n",
        "\n",
        "\n",
        "sorted_df = feature_importances.sort_values(by='Importance', ascending=False)\n",
        "\n",
        "\n",
        "top_10_features = sorted_df.head(40)\n",
        "top_10_features_list = top_10_features['Feature_names'].tolist()\n",
        "\n",
        "print(top_10_features_list)"
      ]
    },
    {
      "cell_type": "code",
      "source": [
        "original_features = ['ta', 'si_shift_1', 'si', 'mmddhh', 'ta_shift_1', 'si_expanding', 'td', 'year', 'hour', 'ta_rolling', 'ws_expanding', 're_expanding', 'stn', 'ss_diff_1', 'sn_expanding', 'rn_expanding', 're_rolling', 'month', 'ss_shift_1', 'ss']\n",
        "summer_score_model(CatBoostRegressor(random_state=42, silent=True, task_type='GPU'), features_used=original_features, label=\"CAT\")"
      ],
      "metadata": {
        "colab": {
          "base_uri": "https://localhost:8080/",
          "height": 453
        },
        "id": "1HXi39I9peRq",
        "outputId": "07ddee88-1911-4712-f48b-a0dc2e9c240e"
      },
      "execution_count": null,
      "outputs": [
        {
          "output_type": "stream",
          "name": "stdout",
          "text": [
            " Fold 0 : tscore = 0.931 score = 0.991\n"
          ]
        },
        {
          "output_type": "error",
          "ename": "KeyboardInterrupt",
          "evalue": "ignored",
          "traceback": [
            "\u001b[0;31m---------------------------------------------------------------------------\u001b[0m",
            "\u001b[0;31mKeyboardInterrupt\u001b[0m                         Traceback (most recent call last)",
            "\u001b[0;32m<ipython-input-32-aee6c7725cfe>\u001b[0m in \u001b[0;36m<cell line: 2>\u001b[0;34m()\u001b[0m\n\u001b[1;32m      1\u001b[0m \u001b[0moriginal_features\u001b[0m \u001b[0;34m=\u001b[0m \u001b[0;34m[\u001b[0m\u001b[0;34m'ta'\u001b[0m\u001b[0;34m,\u001b[0m \u001b[0;34m'si_shift_1'\u001b[0m\u001b[0;34m,\u001b[0m \u001b[0;34m'si'\u001b[0m\u001b[0;34m,\u001b[0m \u001b[0;34m'mmddhh'\u001b[0m\u001b[0;34m,\u001b[0m \u001b[0;34m'ta_shift_1'\u001b[0m\u001b[0;34m,\u001b[0m \u001b[0;34m'si_expanding'\u001b[0m\u001b[0;34m,\u001b[0m \u001b[0;34m'td'\u001b[0m\u001b[0;34m,\u001b[0m \u001b[0;34m'year'\u001b[0m\u001b[0;34m,\u001b[0m \u001b[0;34m'hour'\u001b[0m\u001b[0;34m,\u001b[0m \u001b[0;34m'ta_rolling'\u001b[0m\u001b[0;34m,\u001b[0m \u001b[0;34m'ws_expanding'\u001b[0m\u001b[0;34m,\u001b[0m \u001b[0;34m're_expanding'\u001b[0m\u001b[0;34m,\u001b[0m \u001b[0;34m'stn'\u001b[0m\u001b[0;34m,\u001b[0m \u001b[0;34m'ss_diff_1'\u001b[0m\u001b[0;34m,\u001b[0m \u001b[0;34m'sn_expanding'\u001b[0m\u001b[0;34m,\u001b[0m \u001b[0;34m'rn_expanding'\u001b[0m\u001b[0;34m,\u001b[0m \u001b[0;34m're_rolling'\u001b[0m\u001b[0;34m,\u001b[0m \u001b[0;34m'month'\u001b[0m\u001b[0;34m,\u001b[0m \u001b[0;34m'ss_shift_1'\u001b[0m\u001b[0;34m,\u001b[0m \u001b[0;34m'ss'\u001b[0m\u001b[0;34m]\u001b[0m\u001b[0;34m\u001b[0m\u001b[0;34m\u001b[0m\u001b[0m\n\u001b[0;32m----> 2\u001b[0;31m \u001b[0msummer_score_model\u001b[0m\u001b[0;34m(\u001b[0m\u001b[0mCatBoostRegressor\u001b[0m\u001b[0;34m(\u001b[0m\u001b[0mrandom_state\u001b[0m\u001b[0;34m=\u001b[0m\u001b[0;36m42\u001b[0m\u001b[0;34m,\u001b[0m \u001b[0msilent\u001b[0m\u001b[0;34m=\u001b[0m\u001b[0;32mTrue\u001b[0m\u001b[0;34m,\u001b[0m \u001b[0mtask_type\u001b[0m\u001b[0;34m=\u001b[0m\u001b[0;34m'GPU'\u001b[0m\u001b[0;34m)\u001b[0m\u001b[0;34m,\u001b[0m \u001b[0mfeatures_used\u001b[0m\u001b[0;34m=\u001b[0m\u001b[0moriginal_features\u001b[0m\u001b[0;34m,\u001b[0m \u001b[0mlabel\u001b[0m\u001b[0;34m=\u001b[0m\u001b[0;34m\"CAT\"\u001b[0m\u001b[0;34m)\u001b[0m\u001b[0;34m\u001b[0m\u001b[0;34m\u001b[0m\u001b[0m\n\u001b[0m",
            "\u001b[0;32m<ipython-input-24-db3f413dad0a>\u001b[0m in \u001b[0;36msummer_score_model\u001b[0;34m(model, features_used, label)\u001b[0m\n\u001b[1;32m     32\u001b[0m             \u001b[0mX_valid\u001b[0m\u001b[0;34m[\u001b[0m\u001b[0mcol\u001b[0m\u001b[0;34m]\u001b[0m \u001b[0;34m=\u001b[0m \u001b[0mencoding\u001b[0m\u001b[0;34m.\u001b[0m\u001b[0mtransform\u001b[0m\u001b[0;34m(\u001b[0m\u001b[0mX_valid\u001b[0m\u001b[0;34m[\u001b[0m\u001b[0mcol\u001b[0m\u001b[0;34m]\u001b[0m\u001b[0;34m)\u001b[0m\u001b[0;34m\u001b[0m\u001b[0;34m\u001b[0m\u001b[0m\n\u001b[1;32m     33\u001b[0m \u001b[0;34m\u001b[0m\u001b[0m\n\u001b[0;32m---> 34\u001b[0;31m         \u001b[0mmodel\u001b[0m\u001b[0;34m.\u001b[0m\u001b[0mfit\u001b[0m\u001b[0;34m(\u001b[0m\u001b[0mX_train_summer\u001b[0m\u001b[0;34m,\u001b[0m \u001b[0my_train_summer\u001b[0m\u001b[0;34m)\u001b[0m\u001b[0;34m\u001b[0m\u001b[0;34m\u001b[0m\u001b[0m\n\u001b[0m\u001b[1;32m     35\u001b[0m         \u001b[0mtscore\u001b[0m \u001b[0;34m=\u001b[0m \u001b[0mmean_absolute_error\u001b[0m\u001b[0;34m(\u001b[0m\u001b[0my_train_summer\u001b[0m\u001b[0;34m,\u001b[0m \u001b[0mmodel\u001b[0m\u001b[0;34m.\u001b[0m\u001b[0mpredict\u001b[0m\u001b[0;34m(\u001b[0m\u001b[0mX_train_summer\u001b[0m\u001b[0;34m)\u001b[0m\u001b[0;34m)\u001b[0m\u001b[0;34m\u001b[0m\u001b[0;34m\u001b[0m\u001b[0m\n\u001b[1;32m     36\u001b[0m         \u001b[0my_valid_pred\u001b[0m \u001b[0;34m=\u001b[0m \u001b[0mmodel\u001b[0m\u001b[0;34m.\u001b[0m\u001b[0mpredict\u001b[0m\u001b[0;34m(\u001b[0m\u001b[0mX_valid\u001b[0m\u001b[0;34m)\u001b[0m\u001b[0;34m\u001b[0m\u001b[0;34m\u001b[0m\u001b[0m\n",
            "\u001b[0;32m/usr/local/lib/python3.10/dist-packages/catboost/core.py\u001b[0m in \u001b[0;36mfit\u001b[0;34m(self, X, y, cat_features, text_features, embedding_features, sample_weight, baseline, use_best_model, eval_set, verbose, logging_level, plot, plot_file, column_description, verbose_eval, metric_period, silent, early_stopping_rounds, save_snapshot, snapshot_file, snapshot_interval, init_model, callbacks, log_cout, log_cerr)\u001b[0m\n\u001b[1;32m   5732\u001b[0m             \u001b[0mCatBoostRegressor\u001b[0m\u001b[0;34m.\u001b[0m\u001b[0m_check_is_compatible_loss\u001b[0m\u001b[0;34m(\u001b[0m\u001b[0mparams\u001b[0m\u001b[0;34m[\u001b[0m\u001b[0;34m'loss_function'\u001b[0m\u001b[0;34m]\u001b[0m\u001b[0;34m)\u001b[0m\u001b[0;34m\u001b[0m\u001b[0;34m\u001b[0m\u001b[0m\n\u001b[1;32m   5733\u001b[0m \u001b[0;34m\u001b[0m\u001b[0m\n\u001b[0;32m-> 5734\u001b[0;31m         return self._fit(X, y, cat_features, text_features, embedding_features, None, sample_weight, None, None, None, None, baseline,\n\u001b[0m\u001b[1;32m   5735\u001b[0m                          \u001b[0muse_best_model\u001b[0m\u001b[0;34m,\u001b[0m \u001b[0meval_set\u001b[0m\u001b[0;34m,\u001b[0m \u001b[0mverbose\u001b[0m\u001b[0;34m,\u001b[0m \u001b[0mlogging_level\u001b[0m\u001b[0;34m,\u001b[0m \u001b[0mplot\u001b[0m\u001b[0;34m,\u001b[0m \u001b[0mplot_file\u001b[0m\u001b[0;34m,\u001b[0m \u001b[0mcolumn_description\u001b[0m\u001b[0;34m,\u001b[0m\u001b[0;34m\u001b[0m\u001b[0;34m\u001b[0m\u001b[0m\n\u001b[1;32m   5736\u001b[0m                          \u001b[0mverbose_eval\u001b[0m\u001b[0;34m,\u001b[0m \u001b[0mmetric_period\u001b[0m\u001b[0;34m,\u001b[0m \u001b[0msilent\u001b[0m\u001b[0;34m,\u001b[0m \u001b[0mearly_stopping_rounds\u001b[0m\u001b[0;34m,\u001b[0m\u001b[0;34m\u001b[0m\u001b[0;34m\u001b[0m\u001b[0m\n",
            "\u001b[0;32m/usr/local/lib/python3.10/dist-packages/catboost/core.py\u001b[0m in \u001b[0;36m_fit\u001b[0;34m(self, X, y, cat_features, text_features, embedding_features, pairs, sample_weight, group_id, group_weight, subgroup_id, pairs_weight, baseline, use_best_model, eval_set, verbose, logging_level, plot, plot_file, column_description, verbose_eval, metric_period, silent, early_stopping_rounds, save_snapshot, snapshot_file, snapshot_interval, init_model, callbacks, log_cout, log_cerr)\u001b[0m\n\u001b[1;32m   2355\u001b[0m         \u001b[0;32mwith\u001b[0m \u001b[0mlog_fixup\u001b[0m\u001b[0;34m(\u001b[0m\u001b[0mlog_cout\u001b[0m\u001b[0;34m,\u001b[0m \u001b[0mlog_cerr\u001b[0m\u001b[0;34m)\u001b[0m\u001b[0;34m,\u001b[0m\u001b[0;31m \u001b[0m\u001b[0;31m\\\u001b[0m\u001b[0;34m\u001b[0m\u001b[0;34m\u001b[0m\u001b[0m\n\u001b[1;32m   2356\u001b[0m             \u001b[0mplot_wrapper\u001b[0m\u001b[0;34m(\u001b[0m\u001b[0mplot\u001b[0m\u001b[0;34m,\u001b[0m \u001b[0mplot_file\u001b[0m\u001b[0;34m,\u001b[0m \u001b[0;34m'Training plots'\u001b[0m\u001b[0;34m,\u001b[0m \u001b[0;34m[\u001b[0m\u001b[0m_get_train_dir\u001b[0m\u001b[0;34m(\u001b[0m\u001b[0mself\u001b[0m\u001b[0;34m.\u001b[0m\u001b[0mget_params\u001b[0m\u001b[0;34m(\u001b[0m\u001b[0;34m)\u001b[0m\u001b[0;34m)\u001b[0m\u001b[0;34m]\u001b[0m\u001b[0;34m)\u001b[0m\u001b[0;34m:\u001b[0m\u001b[0;34m\u001b[0m\u001b[0;34m\u001b[0m\u001b[0m\n\u001b[0;32m-> 2357\u001b[0;31m             self._train(\n\u001b[0m\u001b[1;32m   2358\u001b[0m                 \u001b[0mtrain_pool\u001b[0m\u001b[0;34m,\u001b[0m\u001b[0;34m\u001b[0m\u001b[0;34m\u001b[0m\u001b[0m\n\u001b[1;32m   2359\u001b[0m                 \u001b[0mtrain_params\u001b[0m\u001b[0;34m[\u001b[0m\u001b[0;34m\"eval_sets\"\u001b[0m\u001b[0;34m]\u001b[0m\u001b[0;34m,\u001b[0m\u001b[0;34m\u001b[0m\u001b[0;34m\u001b[0m\u001b[0m\n",
            "\u001b[0;32m/usr/local/lib/python3.10/dist-packages/catboost/core.py\u001b[0m in \u001b[0;36m_train\u001b[0;34m(self, train_pool, test_pool, params, allow_clear_pool, init_model)\u001b[0m\n\u001b[1;32m   1759\u001b[0m \u001b[0;34m\u001b[0m\u001b[0m\n\u001b[1;32m   1760\u001b[0m     \u001b[0;32mdef\u001b[0m \u001b[0m_train\u001b[0m\u001b[0;34m(\u001b[0m\u001b[0mself\u001b[0m\u001b[0;34m,\u001b[0m \u001b[0mtrain_pool\u001b[0m\u001b[0;34m,\u001b[0m \u001b[0mtest_pool\u001b[0m\u001b[0;34m,\u001b[0m \u001b[0mparams\u001b[0m\u001b[0;34m,\u001b[0m \u001b[0mallow_clear_pool\u001b[0m\u001b[0;34m,\u001b[0m \u001b[0minit_model\u001b[0m\u001b[0;34m)\u001b[0m\u001b[0;34m:\u001b[0m\u001b[0;34m\u001b[0m\u001b[0;34m\u001b[0m\u001b[0m\n\u001b[0;32m-> 1761\u001b[0;31m         \u001b[0mself\u001b[0m\u001b[0;34m.\u001b[0m\u001b[0m_object\u001b[0m\u001b[0;34m.\u001b[0m\u001b[0m_train\u001b[0m\u001b[0;34m(\u001b[0m\u001b[0mtrain_pool\u001b[0m\u001b[0;34m,\u001b[0m \u001b[0mtest_pool\u001b[0m\u001b[0;34m,\u001b[0m \u001b[0mparams\u001b[0m\u001b[0;34m,\u001b[0m \u001b[0mallow_clear_pool\u001b[0m\u001b[0;34m,\u001b[0m \u001b[0minit_model\u001b[0m\u001b[0;34m.\u001b[0m\u001b[0m_object\u001b[0m \u001b[0;32mif\u001b[0m \u001b[0minit_model\u001b[0m \u001b[0;32melse\u001b[0m \u001b[0;32mNone\u001b[0m\u001b[0;34m)\u001b[0m\u001b[0;34m\u001b[0m\u001b[0;34m\u001b[0m\u001b[0m\n\u001b[0m\u001b[1;32m   1762\u001b[0m         \u001b[0mself\u001b[0m\u001b[0;34m.\u001b[0m\u001b[0m_set_trained_model_attributes\u001b[0m\u001b[0;34m(\u001b[0m\u001b[0;34m)\u001b[0m\u001b[0;34m\u001b[0m\u001b[0;34m\u001b[0m\u001b[0m\n\u001b[1;32m   1763\u001b[0m \u001b[0;34m\u001b[0m\u001b[0m\n",
            "\u001b[0;32m_catboost.pyx\u001b[0m in \u001b[0;36m_catboost._CatBoost._train\u001b[0;34m()\u001b[0m\n",
            "\u001b[0;32m_catboost.pyx\u001b[0m in \u001b[0;36m_catboost._CatBoost._train\u001b[0;34m()\u001b[0m\n",
            "\u001b[0;31mKeyboardInterrupt\u001b[0m: "
          ]
        }
      ]
    },
    {
      "cell_type": "code",
      "execution_count": null,
      "metadata": {
        "colab": {
          "base_uri": "https://localhost:8080/",
          "height": 430
        },
        "outputId": "e5b03c75-f357-489d-80e4-6d37c602a1d5",
        "id": "0Wqw8oL0CpQH"
      },
      "outputs": [
        {
          "output_type": "display_data",
          "data": {
            "text/plain": [
              "<Figure size 640x480 with 1 Axes>"
            ],
            "image/png": "[encoded data removed]"
          },
          "metadata": {}
        }
      ],
      "source": [
        "X_train = X_train[original_features]\n",
        "X_test = X_test[original_features]\n",
        "\n",
        "model = CatBoostRegressor(random_state=42,silent=True, task_type='GPU')\n",
        "model.fit(X_train, y_train)\n",
        "pred = model.predict(X_test)\n",
        "sns.scatterplot(x=pred, y=y_test)\n",
        "final_spring_pred = model.predict(test_spring[original_features])"
      ]
    },
    {
      "cell_type": "code",
      "source": [],
      "metadata": {
        "id": "oJwNk4ATCp6Y"
      },
      "execution_count": null,
      "outputs": []
    },
    {
      "cell_type": "markdown",
      "source": [
        "# 가을"
      ],
      "metadata": {
        "id": "SzuwgO8tCqAr"
      }
    },
    {
      "cell_type": "code",
      "execution_count": null,
      "metadata": {
        "id": "jjkjBIRiCqAs"
      },
      "outputs": [],
      "source": [
        "#계절별 훈련 데이터셋, 테스트 데이터셋 생성\n",
        "train_spring = train[train['mmddhh'].isin(ss_spring['mmddhh'])]\n",
        "test_spring = test[test['mmddhh'].isin(ss_spring['mmddhh'])]\n",
        "\n",
        "#차분\n",
        "for col in ['ss']:\n",
        "    train_spring[col + '_diff_1'] = train_spring[col].diff()\n",
        "    test_spring[col + '_diff_1'] = test_spring[col].diff()\n",
        "\n",
        "#시차이동\n",
        "for col in ['si','ta','ss']:\n",
        "    train_spring[col + '_shift_1'] = train_spring[col].shift(1)\n",
        "    test_spring[col + '_shift_1'] = test_spring[col].shift(1)\n",
        "\n",
        "#\n",
        "for col in ['ta','re']:\n",
        "    train_spring[col + '_rolling'] = train_spring[col].rolling(window=24).mean()\n",
        "    test_spring[col + '_rolling'] = test_spring[col].rolling(window=24).mean()\n",
        "\n",
        "# #확장\n",
        "for col in ['si','re','ws','rn','sn']:\n",
        "    train_spring[col + '_expanding'] = train_spring[col].expanding(min_periods=24).mean()\n",
        "    test_spring[col + '_expanding'] = test_spring[col].expanding(min_periods=24).mean()\n",
        "\n",
        "# train_summer = train[train['mmddhh'].isin(ss_summer['mmddhh'])]\n",
        "# # train_summer.fillna(train_summer[num_cols].median(axis=0), inplace=True)\n",
        "\n",
        "# train_autumn = train[train['mmddhh'].isin(ss_autumn['mmddhh'])]\n",
        "# # train_autumn.fillna(train_autumn[num_cols].median(axis=0), inplace=True)\n",
        "\n",
        "# train_winter = train[train['mmddhh'].isin(ss_winter['mmddhh'])]\n",
        "# # train_winter.fillna(train_winter[num_cols].median(axis=0), inplace=True)\n",
        "\n",
        "# test_summer = test[test['mmddhh'].isin(ss_summer['mmddhh'])]\n",
        "# test_summer = pd.merge(ss_summer, test_summer, on=['stn','year','mmddhh'])\n",
        "# test_summer = test_summer.drop(['ts'],1)\n",
        "# # test_summer.fillna(train_summer[num_cols].median(axis=0), inplace=True)\n",
        "\n",
        "# test_autumn = test[test['mmddhh'].isin(ss_autumn['mmddhh'])]\n",
        "# # test_autumn.fillna(train_autumn[num_cols].median(axis=0), inplace=True)\n",
        "\n",
        "# test_winter = test[test['mmddhh'].isin(ss_winter['mmddhh'])]\n",
        "# # test_winter.fillna(train_winter[num_cols].median(axis=0), inplace=True) #winter의 경우 vot model 을 사용한다."
      ]
    },
    {
      "cell_type": "code",
      "execution_count": null,
      "metadata": {
        "id": "JGZyfbZqCqAs"
      },
      "outputs": [],
      "source": [
        "from sklearn.preprocessing import OneHotEncoder\n",
        "target = 'ts'\n",
        "original_features = ['ta', 'si_shift_1', 'si', 'ta_shift_1', 'mmddhh', 'stn', 'month', 'year', 'hour', 'si_expanding', 're_expanding', 'ws_expanding', 'ss_diff_1', 'ss_shift_1', 'ta_rolling', 'rn_expanding', 'ss', 'td', 'sn_expanding', 're_rolling']\n",
        "result_list = []\n",
        "def spring_score_model(model, features_used, label=None):\n",
        "    score_list = []\n",
        "    oof = np.zeros_like(train_spring[target])\n",
        "    kf = KFold(n_splits=10, random_state=42, shuffle=True)\n",
        "    for fold, (idx_tr, idx_val) in enumerate(kf.split(train_spring[original_features], train_spring[target])):\n",
        "        X_train_spring = train_spring.iloc[idx_tr][features_used]\n",
        "        X_valid = train_spring.iloc[idx_val][features_used]\n",
        "        y_train_spring = train_spring.iloc[idx_tr][target]\n",
        "        y_valid = train_spring.iloc[idx_val][target]\n",
        "\n",
        "        num_cols = X_train_spring.select_dtypes(exclude='object').columns.tolist()\n",
        "        cat_cols = X_train_spring.select_dtypes(include='object').columns.tolist()\n",
        "\n",
        "        encoding = LabelEncoder()\n",
        "\n",
        "        for col in cat_cols:\n",
        "            X_train_spring[col] = encoding.fit_transform(X_train_spring[col])\n",
        "            X_valid[col] = encoding.transform(X_valid[col])\n",
        "\n",
        "        model.fit(X_train_spring, y_train_spring)\n",
        "        tscore = mean_absolute_error(y_train_spring, model.predict(X_train_spring))\n",
        "        y_valid_pred = model.predict(X_valid)\n",
        "        score = mean_absolute_error(y_valid, y_valid_pred)\n",
        "        print(f\" Fold {fold} : tscore = {tscore:.3f} score = {score:.3f}\")\n",
        "        oof[idx_val] = y_valid_pred\n",
        "        score_list.append(score)\n",
        "\n",
        "    score = sum(score_list) / len(score_list)\n",
        "    print(f\" Avg. MAE score : {score:.3f}\")\n",
        "    if label is not None:\n",
        "        global result_list\n",
        "        result_list.append((label, score, oof))"
      ]
    },
    {
      "cell_type": "markdown",
      "metadata": {
        "id": "A3POUBWSCqAt"
      },
      "source": [
        "XGB 과적합"
      ]
    },
    {
      "cell_type": "code",
      "source": [
        "%%time\n",
        "spring_score_model(CatBoostRegressor(random_state=42, silent=True, task_type='GPU'), features_used=original_features, label=\"CAT\")"
      ],
      "metadata": {
        "colab": {
          "base_uri": "https://localhost:8080/"
        },
        "outputId": "2ce17575-f10d-44b0-a287-cd397df54fdb",
        "id": "lZjX8FVSCqAt"
      },
      "execution_count": null,
      "outputs": [
        {
          "output_type": "stream",
          "name": "stdout",
          "text": [
            " Fold 0 : tscore = 0.853 score = 0.903\n",
            " Fold 1 : tscore = 0.855 score = 0.896\n",
            " Fold 2 : tscore = 0.855 score = 0.911\n",
            " Fold 3 : tscore = 0.851 score = 0.896\n",
            " Fold 4 : tscore = 0.852 score = 0.904\n",
            " Fold 5 : tscore = 0.855 score = 0.900\n",
            " Fold 6 : tscore = 0.854 score = 0.893\n",
            " Fold 7 : tscore = 0.853 score = 0.902\n",
            " Fold 8 : tscore = 0.858 score = 0.891\n",
            " Fold 9 : tscore = 0.853 score = 0.900\n",
            " Avg. MAE score : 0.900\n",
            "CPU times: user 59.3 s, sys: 23.1 s, total: 1min 22s\n",
            "Wall time: 58.6 s\n"
          ]
        }
      ]
    },
    {
      "cell_type": "code",
      "source": [
        "%%time\n",
        "#xgboost의 경우, 결측값 채우기전이 후보다 좋다\n",
        "spring_score_model(XGBRegressor(random_state=42, tree_method='gpu_hist'), features_used=original_features, label=\"CAT\")"
      ],
      "metadata": {
        "colab": {
          "base_uri": "https://localhost:8080/"
        },
        "outputId": "6369ef98-277d-4171-a977-cfcd5e3dbd2b",
        "id": "R5M11OSiCqAt"
      },
      "execution_count": null,
      "outputs": [
        {
          "output_type": "stream",
          "name": "stdout",
          "text": [
            " Fold 0 : tscore = 0.816 score = 0.919\n",
            " Fold 1 : tscore = 0.835 score = 0.923\n",
            " Fold 2 : tscore = 0.830 score = 0.934\n",
            " Fold 3 : tscore = 0.824 score = 0.924\n",
            " Fold 4 : tscore = 0.830 score = 0.932\n",
            " Fold 5 : tscore = 0.830 score = 0.938\n",
            " Fold 6 : tscore = 0.825 score = 0.914\n",
            " Fold 7 : tscore = 0.825 score = 0.930\n",
            " Fold 8 : tscore = 0.831 score = 0.927\n",
            " Fold 9 : tscore = 0.830 score = 0.938\n",
            " Avg. MAE score : 0.928\n",
            "CPU times: user 16.4 s, sys: 264 ms, total: 16.7 s\n",
            "Wall time: 16.8 s\n"
          ]
        }
      ]
    },
    {
      "cell_type": "code",
      "source": [
        "from sklearn.ensemble import VotingRegressor\n",
        "\n",
        "vot_model = VotingRegressor(estimators=[('XGBoost',XGBRegressor(random_state=42, tree_method='gpu_hist')),('CatBoost',CatBoostRegressor(random_state=42, silent=True,task_type='GPU'))])"
      ],
      "metadata": {
        "id": "qp1UWj4JCqAt"
      },
      "execution_count": null,
      "outputs": []
    },
    {
      "cell_type": "code",
      "source": [
        "%%time\n",
        "spring_score_model(vot_model, features_used=original_features, label=\"CAT\")"
      ],
      "metadata": {
        "colab": {
          "base_uri": "https://localhost:8080/"
        },
        "outputId": "10ce5a77-aa91-4d39-85b2-92c47fd1c918",
        "id": "toUJLEwUCqAu"
      },
      "execution_count": null,
      "outputs": [
        {
          "output_type": "stream",
          "name": "stdout",
          "text": [
            " Fold 0 : tscore = 0.795 score = 0.866\n",
            " Fold 1 : tscore = 0.810 score = 0.871\n",
            " Fold 2 : tscore = 0.804 score = 0.882\n",
            " Fold 3 : tscore = 0.799 score = 0.868\n",
            " Fold 4 : tscore = 0.802 score = 0.876\n",
            " Fold 5 : tscore = 0.804 score = 0.880\n",
            " Fold 6 : tscore = 0.801 score = 0.863\n",
            " Fold 7 : tscore = 0.800 score = 0.875\n",
            " Fold 8 : tscore = 0.805 score = 0.867\n",
            " Fold 9 : tscore = 0.801 score = 0.876\n",
            " Avg. MAE score : 0.873\n",
            "CPU times: user 1min 19s, sys: 25.8 s, total: 1min 44s\n",
            "Wall time: 1min 20s\n"
          ]
        }
      ]
    },
    {
      "cell_type": "code",
      "execution_count": null,
      "metadata": {
        "id": "lwlzZsBCCqAu"
      },
      "outputs": [],
      "source": [
        "# test set 예측\n",
        "encoding = LabelEncoder()\n",
        "\n",
        "num_cols = train_spring[original_features].select_dtypes(exclude='object').columns.tolist()\n",
        "cat_cols = train_spring[original_features].select_dtypes(include='object').columns.tolist()\n",
        "\n",
        "for col in cat_cols:\n",
        "    train_spring[col] = encoding.fit_transform(train_spring[col])\n",
        "    test_spring[col] = encoding.fit_transform(test_spring[col])\n",
        "\n",
        "X = train_spring.drop(['ts'],1)\n",
        "y = train_spring.ts\n",
        "X_train, X_test, y_train, y_test = train_test_split(X, y, test_size=.3, random_state=0)"
      ]
    },
    {
      "cell_type": "code",
      "execution_count": null,
      "metadata": {
        "id": "OjAxobfqCqAu"
      },
      "outputs": [],
      "source": [
        "# model = CatBoostRegressor(random_state=42, silent=True, task_type='GPU')\n",
        "# model.fit(X_train, y_train)\n",
        "\n",
        "# def plot_feature_importance(importance, names, model_type, figsize=(10,8)):\n",
        "#     feature_importance = np.array(importance)\n",
        "#     feature_names = np.array(names)\n",
        "\n",
        "#     data = {'feature_names':feature_names, 'feature_importance':feature_importance}\n",
        "#     fi_df = pd.DataFrame(data)\n",
        "\n",
        "#     fi_df.sort_values(by=['feature_importance'], ascending=False,inplace=True)\n",
        "\n",
        "#     plt.figure(figsize=figsize)\n",
        "\n",
        "#     sns.barplot(x=fi_df['feature_importance'],y=fi_df['feature_names'])\n",
        "\n",
        "#     plt.title(model_type + 'FEATURE IM..')\n",
        "#     plt.xlabel(\"FEATURE IM..\")\n",
        "#     plt.ylabel('FEATURE NAME')\n",
        "\n",
        "# plot_feature_importance(model.feature_importances_, X_train.columns, 'CAT',figsize=(8,16))\n",
        "\n",
        "# importances = model.feature_importances_\n",
        "# feature_names = X_train.columns\n",
        "\n",
        "\n",
        "# feature_importances = pd.DataFrame({'Feature_names': feature_names, 'Importance': importances})\n",
        "\n",
        "\n",
        "# sorted_df = feature_importances.sort_values(by='Importance', ascending=False)\n",
        "\n",
        "\n",
        "# top_10_features = sorted_df.head(20)\n",
        "# top_10_features_list = top_10_features['Feature_names'].tolist()\n",
        "\n",
        "# print(top_10_features_list)"
      ]
    },
    {
      "cell_type": "code",
      "execution_count": null,
      "metadata": {
        "colab": {
          "base_uri": "https://localhost:8080/",
          "height": 430
        },
        "outputId": "e5b03c75-f357-489d-80e4-6d37c602a1d5",
        "id": "eLWSR4_yCqAv"
      },
      "outputs": [
        {
          "output_type": "display_data",
          "data": {
            "text/plain": [
              "<Figure size 640x480 with 1 Axes>"
            ],
            "image/png": "[encoded data removed]"
          },
          "metadata": {}
        }
      ],
      "source": [
        "X_train = X_train[original_features]\n",
        "X_test = X_test[original_features]\n",
        "\n",
        "model = CatBoostRegressor(random_state=42,silent=True, task_type='GPU')\n",
        "model.fit(X_train, y_train)\n",
        "pred = model.predict(X_test)\n",
        "sns.scatterplot(x=pred, y=y_test)\n",
        "final_spring_pred = model.predict(test_spring[original_features])"
      ]
    },
    {
      "cell_type": "code",
      "source": [],
      "metadata": {
        "id": "w0HfwEXZCqcS"
      },
      "execution_count": null,
      "outputs": []
    },
    {
      "cell_type": "markdown",
      "source": [
        "# 겨울"
      ],
      "metadata": {
        "id": "5E8Asf59CqjU"
      }
    },
    {
      "cell_type": "code",
      "execution_count": null,
      "metadata": {
        "id": "9d9sAknYCqjU"
      },
      "outputs": [],
      "source": [
        "#계절별 훈련 데이터셋, 테스트 데이터셋 생성\n",
        "train_spring = train[train['mmddhh'].isin(ss_spring['mmddhh'])]\n",
        "test_spring = test[test['mmddhh'].isin(ss_spring['mmddhh'])]\n",
        "\n",
        "#차분\n",
        "for col in ['ss']:\n",
        "    train_spring[col + '_diff_1'] = train_spring[col].diff()\n",
        "    test_spring[col + '_diff_1'] = test_spring[col].diff()\n",
        "\n",
        "#시차이동\n",
        "for col in ['si','ta','ss']:\n",
        "    train_spring[col + '_shift_1'] = train_spring[col].shift(1)\n",
        "    test_spring[col + '_shift_1'] = test_spring[col].shift(1)\n",
        "\n",
        "#\n",
        "for col in ['ta','re']:\n",
        "    train_spring[col + '_rolling'] = train_spring[col].rolling(window=24).mean()\n",
        "    test_spring[col + '_rolling'] = test_spring[col].rolling(window=24).mean()\n",
        "\n",
        "# #확장\n",
        "for col in ['si','re','ws','rn','sn']:\n",
        "    train_spring[col + '_expanding'] = train_spring[col].expanding(min_periods=24).mean()\n",
        "    test_spring[col + '_expanding'] = test_spring[col].expanding(min_periods=24).mean()\n",
        "\n",
        "# train_summer = train[train['mmddhh'].isin(ss_summer['mmddhh'])]\n",
        "# # train_summer.fillna(train_summer[num_cols].median(axis=0), inplace=True)\n",
        "\n",
        "# train_autumn = train[train['mmddhh'].isin(ss_autumn['mmddhh'])]\n",
        "# # train_autumn.fillna(train_autumn[num_cols].median(axis=0), inplace=True)\n",
        "\n",
        "# train_winter = train[train['mmddhh'].isin(ss_winter['mmddhh'])]\n",
        "# # train_winter.fillna(train_winter[num_cols].median(axis=0), inplace=True)\n",
        "\n",
        "# test_summer = test[test['mmddhh'].isin(ss_summer['mmddhh'])]\n",
        "# test_summer = pd.merge(ss_summer, test_summer, on=['stn','year','mmddhh'])\n",
        "# test_summer = test_summer.drop(['ts'],1)\n",
        "# # test_summer.fillna(train_summer[num_cols].median(axis=0), inplace=True)\n",
        "\n",
        "# test_autumn = test[test['mmddhh'].isin(ss_autumn['mmddhh'])]\n",
        "# # test_autumn.fillna(train_autumn[num_cols].median(axis=0), inplace=True)\n",
        "\n",
        "# test_winter = test[test['mmddhh'].isin(ss_winter['mmddhh'])]\n",
        "# # test_winter.fillna(train_winter[num_cols].median(axis=0), inplace=True) #winter의 경우 vot model 을 사용한다."
      ]
    },
    {
      "cell_type": "code",
      "execution_count": null,
      "metadata": {
        "id": "0DBhT2aOCqjV"
      },
      "outputs": [],
      "source": [
        "from sklearn.preprocessing import OneHotEncoder\n",
        "target = 'ts'\n",
        "original_features = ['ta', 'si_shift_1', 'si', 'ta_shift_1', 'mmddhh', 'stn', 'month', 'year', 'hour', 'si_expanding', 're_expanding', 'ws_expanding', 'ss_diff_1', 'ss_shift_1', 'ta_rolling', 'rn_expanding', 'ss', 'td', 'sn_expanding', 're_rolling']\n",
        "result_list = []\n",
        "def spring_score_model(model, features_used, label=None):\n",
        "    score_list = []\n",
        "    oof = np.zeros_like(train_spring[target])\n",
        "    kf = KFold(n_splits=10, random_state=42, shuffle=True)\n",
        "    for fold, (idx_tr, idx_val) in enumerate(kf.split(train_spring[original_features], train_spring[target])):\n",
        "        X_train_spring = train_spring.iloc[idx_tr][features_used]\n",
        "        X_valid = train_spring.iloc[idx_val][features_used]\n",
        "        y_train_spring = train_spring.iloc[idx_tr][target]\n",
        "        y_valid = train_spring.iloc[idx_val][target]\n",
        "\n",
        "        num_cols = X_train_spring.select_dtypes(exclude='object').columns.tolist()\n",
        "        cat_cols = X_train_spring.select_dtypes(include='object').columns.tolist()\n",
        "\n",
        "        encoding = LabelEncoder()\n",
        "\n",
        "        for col in cat_cols:\n",
        "            X_train_spring[col] = encoding.fit_transform(X_train_spring[col])\n",
        "            X_valid[col] = encoding.transform(X_valid[col])\n",
        "\n",
        "        model.fit(X_train_spring, y_train_spring)\n",
        "        tscore = mean_absolute_error(y_train_spring, model.predict(X_train_spring))\n",
        "        y_valid_pred = model.predict(X_valid)\n",
        "        score = mean_absolute_error(y_valid, y_valid_pred)\n",
        "        print(f\" Fold {fold} : tscore = {tscore:.3f} score = {score:.3f}\")\n",
        "        oof[idx_val] = y_valid_pred\n",
        "        score_list.append(score)\n",
        "\n",
        "    score = sum(score_list) / len(score_list)\n",
        "    print(f\" Avg. MAE score : {score:.3f}\")\n",
        "    if label is not None:\n",
        "        global result_list\n",
        "        result_list.append((label, score, oof))"
      ]
    },
    {
      "cell_type": "markdown",
      "metadata": {
        "id": "2HxTfmzpCqjV"
      },
      "source": [
        "XGB 과적합"
      ]
    },
    {
      "cell_type": "code",
      "source": [
        "%%time\n",
        "spring_score_model(CatBoostRegressor(random_state=42, silent=True, task_type='GPU'), features_used=original_features, label=\"CAT\")"
      ],
      "metadata": {
        "colab": {
          "base_uri": "https://localhost:8080/"
        },
        "outputId": "2ce17575-f10d-44b0-a287-cd397df54fdb",
        "id": "Xw4yWTnDCqjV"
      },
      "execution_count": null,
      "outputs": [
        {
          "output_type": "stream",
          "name": "stdout",
          "text": [
            " Fold 0 : tscore = 0.853 score = 0.903\n",
            " Fold 1 : tscore = 0.855 score = 0.896\n",
            " Fold 2 : tscore = 0.855 score = 0.911\n",
            " Fold 3 : tscore = 0.851 score = 0.896\n",
            " Fold 4 : tscore = 0.852 score = 0.904\n",
            " Fold 5 : tscore = 0.855 score = 0.900\n",
            " Fold 6 : tscore = 0.854 score = 0.893\n",
            " Fold 7 : tscore = 0.853 score = 0.902\n",
            " Fold 8 : tscore = 0.858 score = 0.891\n",
            " Fold 9 : tscore = 0.853 score = 0.900\n",
            " Avg. MAE score : 0.900\n",
            "CPU times: user 59.3 s, sys: 23.1 s, total: 1min 22s\n",
            "Wall time: 58.6 s\n"
          ]
        }
      ]
    },
    {
      "cell_type": "code",
      "source": [
        "%%time\n",
        "#xgboost의 경우, 결측값 채우기전이 후보다 좋다\n",
        "spring_score_model(XGBRegressor(random_state=42, tree_method='gpu_hist'), features_used=original_features, label=\"CAT\")"
      ],
      "metadata": {
        "colab": {
          "base_uri": "https://localhost:8080/"
        },
        "outputId": "6369ef98-277d-4171-a977-cfcd5e3dbd2b",
        "id": "zFT1Ko78CqjV"
      },
      "execution_count": null,
      "outputs": [
        {
          "output_type": "stream",
          "name": "stdout",
          "text": [
            " Fold 0 : tscore = 0.816 score = 0.919\n",
            " Fold 1 : tscore = 0.835 score = 0.923\n",
            " Fold 2 : tscore = 0.830 score = 0.934\n",
            " Fold 3 : tscore = 0.824 score = 0.924\n",
            " Fold 4 : tscore = 0.830 score = 0.932\n",
            " Fold 5 : tscore = 0.830 score = 0.938\n",
            " Fold 6 : tscore = 0.825 score = 0.914\n",
            " Fold 7 : tscore = 0.825 score = 0.930\n",
            " Fold 8 : tscore = 0.831 score = 0.927\n",
            " Fold 9 : tscore = 0.830 score = 0.938\n",
            " Avg. MAE score : 0.928\n",
            "CPU times: user 16.4 s, sys: 264 ms, total: 16.7 s\n",
            "Wall time: 16.8 s\n"
          ]
        }
      ]
    },
    {
      "cell_type": "code",
      "source": [
        "from sklearn.ensemble import VotingRegressor\n",
        "\n",
        "vot_model = VotingRegressor(estimators=[('XGBoost',XGBRegressor(random_state=42, tree_method='gpu_hist')),('CatBoost',CatBoostRegressor(random_state=42, silent=True,task_type='GPU'))])"
      ],
      "metadata": {
        "id": "XEAmKOXaCqjV"
      },
      "execution_count": null,
      "outputs": []
    },
    {
      "cell_type": "code",
      "source": [
        "%%time\n",
        "spring_score_model(vot_model, features_used=original_features, label=\"CAT\")"
      ],
      "metadata": {
        "colab": {
          "base_uri": "https://localhost:8080/"
        },
        "outputId": "10ce5a77-aa91-4d39-85b2-92c47fd1c918",
        "id": "CxxhDu0UCqjW"
      },
      "execution_count": null,
      "outputs": [
        {
          "output_type": "stream",
          "name": "stdout",
          "text": [
            " Fold 0 : tscore = 0.795 score = 0.866\n",
            " Fold 1 : tscore = 0.810 score = 0.871\n",
            " Fold 2 : tscore = 0.804 score = 0.882\n",
            " Fold 3 : tscore = 0.799 score = 0.868\n",
            " Fold 4 : tscore = 0.802 score = 0.876\n",
            " Fold 5 : tscore = 0.804 score = 0.880\n",
            " Fold 6 : tscore = 0.801 score = 0.863\n",
            " Fold 7 : tscore = 0.800 score = 0.875\n",
            " Fold 8 : tscore = 0.805 score = 0.867\n",
            " Fold 9 : tscore = 0.801 score = 0.876\n",
            " Avg. MAE score : 0.873\n",
            "CPU times: user 1min 19s, sys: 25.8 s, total: 1min 44s\n",
            "Wall time: 1min 20s\n"
          ]
        }
      ]
    },
    {
      "cell_type": "code",
      "execution_count": null,
      "metadata": {
        "id": "zubKX2FgCqjW"
      },
      "outputs": [],
      "source": [
        "# test set 예측\n",
        "encoding = LabelEncoder()\n",
        "\n",
        "num_cols = train_spring[original_features].select_dtypes(exclude='object').columns.tolist()\n",
        "cat_cols = train_spring[original_features].select_dtypes(include='object').columns.tolist()\n",
        "\n",
        "for col in cat_cols:\n",
        "    train_spring[col] = encoding.fit_transform(train_spring[col])\n",
        "    test_spring[col] = encoding.fit_transform(test_spring[col])\n",
        "\n",
        "X = train_spring.drop(['ts'],1)\n",
        "y = train_spring.ts\n",
        "X_train, X_test, y_train, y_test = train_test_split(X, y, test_size=.3, random_state=0)"
      ]
    },
    {
      "cell_type": "code",
      "execution_count": null,
      "metadata": {
        "id": "MZwuQr6YCqjW"
      },
      "outputs": [],
      "source": [
        "# model = CatBoostRegressor(random_state=42, silent=True, task_type='GPU')\n",
        "# model.fit(X_train, y_train)\n",
        "\n",
        "# def plot_feature_importance(importance, names, model_type, figsize=(10,8)):\n",
        "#     feature_importance = np.array(importance)\n",
        "#     feature_names = np.array(names)\n",
        "\n",
        "#     data = {'feature_names':feature_names, 'feature_importance':feature_importance}\n",
        "#     fi_df = pd.DataFrame(data)\n",
        "\n",
        "#     fi_df.sort_values(by=['feature_importance'], ascending=False,inplace=True)\n",
        "\n",
        "#     plt.figure(figsize=figsize)\n",
        "\n",
        "#     sns.barplot(x=fi_df['feature_importance'],y=fi_df['feature_names'])\n",
        "\n",
        "#     plt.title(model_type + 'FEATURE IM..')\n",
        "#     plt.xlabel(\"FEATURE IM..\")\n",
        "#     plt.ylabel('FEATURE NAME')\n",
        "\n",
        "# plot_feature_importance(model.feature_importances_, X_train.columns, 'CAT',figsize=(8,16))\n",
        "\n",
        "# importances = model.feature_importances_\n",
        "# feature_names = X_train.columns\n",
        "\n",
        "\n",
        "# feature_importances = pd.DataFrame({'Feature_names': feature_names, 'Importance': importances})\n",
        "\n",
        "\n",
        "# sorted_df = feature_importances.sort_values(by='Importance', ascending=False)\n",
        "\n",
        "\n",
        "# top_10_features = sorted_df.head(20)\n",
        "# top_10_features_list = top_10_features['Feature_names'].tolist()\n",
        "\n",
        "# print(top_10_features_list)"
      ]
    },
    {
      "cell_type": "code",
      "execution_count": null,
      "metadata": {
        "colab": {
          "base_uri": "https://localhost:8080/",
          "height": 430
        },
        "outputId": "e5b03c75-f357-489d-80e4-6d37c602a1d5",
        "id": "NrpTSTesCqjW"
      },
      "outputs": [
        {
          "output_type": "display_data",
          "data": {
            "text/plain": [
              "<Figure size 640x480 with 1 Axes>"
            ],
            "image/png": "[encoded data removed]"
          },
          "metadata": {}
        }
      ],
      "source": [
        "X_train = X_train[original_features]\n",
        "X_test = X_test[original_features]\n",
        "\n",
        "model = CatBoostRegressor(random_state=42,silent=True, task_type='GPU')\n",
        "model.fit(X_train, y_train)\n",
        "pred = model.predict(X_test)\n",
        "sns.scatterplot(x=pred, y=y_test)\n",
        "final_spring_pred = model.predict(test_spring[original_features])"
      ]
    },
    {
      "cell_type": "markdown",
      "metadata": {
        "id": "IGG8-PM7TeU7"
      },
      "source": [
        "# 제출"
      ]
    },
    {
      "cell_type": "code",
      "execution_count": null,
      "metadata": {
        "colab": {
          "base_uri": "https://localhost:8080/"
        },
        "id": "bhRYjTK4y1pu",
        "outputId": "a6a48fdc-bfe4-4d6d-cc65-d90207d2f31b"
      },
      "outputs": [
        {
          "output_type": "stream",
          "name": "stdout",
          "text": [
            "예측값이 저장된 파일: /content/drive/MyDrive/Weather/data/겨울결측치제거_봄여름extra_가을cat_겨울vot_median값_여름가을_sn_drop.xlsx\n"
          ]
        }
      ],
      "source": [
        "import pandas as pd\n",
        "\n",
        "file_path = '/content/drive/MyDrive/Weather/data/subminssionUser.xlsx'\n",
        "output_file_path = '/content/drive/MyDrive/Weather/data/겨울결측치제거_봄여름extra_가을cat_겨울vot_median값_여름가을_sn_drop.xlsx'\n",
        "\n",
        "seasons = ['SPRING', 'SUMMER', 'AUTUMN', 'WINTER']\n",
        "preds = [final_spring_pred, final_summer_pred, final_autumn_pred, final_winter_pred]\n",
        "\n",
        "with pd.ExcelWriter(output_file_path) as writer:\n",
        "    for season, pred in zip(seasons, preds):\n",
        "        df = pd.read_excel(file_path, sheet_name=season)\n",
        "        df['TS'] = pred\n",
        "        df.to_excel(writer, sheet_name=season, index=False)\n",
        "\n",
        "print(\"예측값이 저장된 파일:\", output_file_path)"
      ]
    }
  ],
  "metadata": {
    "accelerator": "GPU",
    "colab": {
      "provenance": []
    },
    "kernelspec": {
      "display_name": "Python 3",
      "name": "python3"
    },
    "language_info": {
      "name": "python"
    }
  },
  "nbformat": 4,
  "nbformat_minor": 0
}