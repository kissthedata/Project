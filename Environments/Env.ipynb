{
 "cells": [
  {
   "cell_type": "code",
   "execution_count": 1,
   "id": "6267b61b",
   "metadata": {
    "ExecuteTime": {
     "end_time": "2023-05-07T15:57:22.516237Z",
     "start_time": "2023-05-07T15:57:22.510222Z"
    }
   },
   "outputs": [],
   "source": [
    "import pandas as pd\n",
    "import numpy as np\n",
    "import matplotlib.pyplot as plt\n",
    "import seaborn as sns"
   ]
  },
  {
   "cell_type": "code",
   "execution_count": 120,
   "id": "c21270c0",
   "metadata": {
    "ExecuteTime": {
     "end_time": "2023-05-07T16:38:38.484677Z",
     "start_time": "2023-05-07T16:38:38.430926Z"
    }
   },
   "outputs": [
    {
     "data": {
      "text/html": [
       "<div>\n",
       "<style scoped>\n",
       "    .dataframe tbody tr th:only-of-type {\n",
       "        vertical-align: middle;\n",
       "    }\n",
       "\n",
       "    .dataframe tbody tr th {\n",
       "        vertical-align: top;\n",
       "    }\n",
       "\n",
       "    .dataframe thead th {\n",
       "        text-align: right;\n",
       "    }\n",
       "</style>\n",
       "<table border=\"1\" class=\"dataframe\">\n",
       "  <thead>\n",
       "    <tr style=\"text-align: right;\">\n",
       "      <th></th>\n",
       "      <th>측정소명</th>\n",
       "      <th>이산화질소농도(ppm)</th>\n",
       "      <th>오존농도(ppm)</th>\n",
       "      <th>일산화탄소농도(ppm)</th>\n",
       "      <th>아황산가스(ppm)</th>\n",
       "      <th>미세먼지(㎍/㎥)</th>\n",
       "      <th>초미세먼지(㎍/㎥)</th>\n",
       "    </tr>\n",
       "    <tr>\n",
       "      <th>측정월</th>\n",
       "      <th></th>\n",
       "      <th></th>\n",
       "      <th></th>\n",
       "      <th></th>\n",
       "      <th></th>\n",
       "      <th></th>\n",
       "      <th></th>\n",
       "    </tr>\n",
       "  </thead>\n",
       "  <tbody>\n",
       "    <tr>\n",
       "      <th>202305</th>\n",
       "      <td>강남구</td>\n",
       "      <td>0.0180</td>\n",
       "      <td>0.0390</td>\n",
       "      <td>0.3000</td>\n",
       "      <td>0.0030</td>\n",
       "      <td>29.0000</td>\n",
       "      <td>15.0000</td>\n",
       "    </tr>\n",
       "    <tr>\n",
       "      <th>202305</th>\n",
       "      <td>강남대로</td>\n",
       "      <td>0.0270</td>\n",
       "      <td>0.0270</td>\n",
       "      <td>0.5000</td>\n",
       "      <td>0.0020</td>\n",
       "      <td>34.0000</td>\n",
       "      <td>16.0000</td>\n",
       "    </tr>\n",
       "    <tr>\n",
       "      <th>202305</th>\n",
       "      <td>강동구</td>\n",
       "      <td>0.0140</td>\n",
       "      <td>0.0330</td>\n",
       "      <td>0.3000</td>\n",
       "      <td>0.0020</td>\n",
       "      <td>30.0000</td>\n",
       "      <td>16.0000</td>\n",
       "    </tr>\n",
       "    <tr>\n",
       "      <th>202305</th>\n",
       "      <td>강변북로</td>\n",
       "      <td>0.0250</td>\n",
       "      <td>0.0300</td>\n",
       "      <td>0.4000</td>\n",
       "      <td>0.0030</td>\n",
       "      <td>31.0000</td>\n",
       "      <td>14.0000</td>\n",
       "    </tr>\n",
       "    <tr>\n",
       "      <th>202305</th>\n",
       "      <td>강북구</td>\n",
       "      <td>0.0100</td>\n",
       "      <td>0.0410</td>\n",
       "      <td>0.4000</td>\n",
       "      <td>0.0020</td>\n",
       "      <td>30.0000</td>\n",
       "      <td>14.0000</td>\n",
       "    </tr>\n",
       "    <tr>\n",
       "      <th>...</th>\n",
       "      <td>...</td>\n",
       "      <td>...</td>\n",
       "      <td>...</td>\n",
       "      <td>...</td>\n",
       "      <td>...</td>\n",
       "      <td>...</td>\n",
       "      <td>...</td>\n",
       "    </tr>\n",
       "    <tr>\n",
       "      <th>198701</th>\n",
       "      <td>서초구</td>\n",
       "      <td>0.0430</td>\n",
       "      <td>0.0270</td>\n",
       "      <td>2.3000</td>\n",
       "      <td>0.1240</td>\n",
       "      <td>NaN</td>\n",
       "      <td>NaN</td>\n",
       "    </tr>\n",
       "    <tr>\n",
       "      <th>198701</th>\n",
       "      <td>성동구</td>\n",
       "      <td>0.0390</td>\n",
       "      <td>0.0170</td>\n",
       "      <td>5.8000</td>\n",
       "      <td>0.2000</td>\n",
       "      <td>NaN</td>\n",
       "      <td>NaN</td>\n",
       "    </tr>\n",
       "    <tr>\n",
       "      <th>198701</th>\n",
       "      <td>송파구</td>\n",
       "      <td>0.0300</td>\n",
       "      <td>0.0090</td>\n",
       "      <td>3.1000</td>\n",
       "      <td>NaN</td>\n",
       "      <td>NaN</td>\n",
       "      <td>NaN</td>\n",
       "    </tr>\n",
       "    <tr>\n",
       "      <th>198701</th>\n",
       "      <td>송파구2</td>\n",
       "      <td>0.0390</td>\n",
       "      <td>0.0030</td>\n",
       "      <td>3.1000</td>\n",
       "      <td>0.0830</td>\n",
       "      <td>NaN</td>\n",
       "      <td>NaN</td>\n",
       "    </tr>\n",
       "    <tr>\n",
       "      <th>198701</th>\n",
       "      <td>용산구</td>\n",
       "      <td>0.0230</td>\n",
       "      <td>0.0090</td>\n",
       "      <td>4.8000</td>\n",
       "      <td>0.1050</td>\n",
       "      <td>NaN</td>\n",
       "      <td>NaN</td>\n",
       "    </tr>\n",
       "  </tbody>\n",
       "</table>\n",
       "<p>14040 rows × 7 columns</p>\n",
       "</div>"
      ],
      "text/plain": [
       "        측정소명  이산화질소농도(ppm)  오존농도(ppm)  일산화탄소농도(ppm)  아황산가스(ppm)  미세먼지(㎍/㎥)  \\\n",
       "측정월                                                                          \n",
       "202305   강남구        0.0180     0.0390        0.3000      0.0030    29.0000   \n",
       "202305  강남대로        0.0270     0.0270        0.5000      0.0020    34.0000   \n",
       "202305   강동구        0.0140     0.0330        0.3000      0.0020    30.0000   \n",
       "202305  강변북로        0.0250     0.0300        0.4000      0.0030    31.0000   \n",
       "202305   강북구        0.0100     0.0410        0.4000      0.0020    30.0000   \n",
       "...      ...           ...        ...           ...         ...        ...   \n",
       "198701   서초구        0.0430     0.0270        2.3000      0.1240        NaN   \n",
       "198701   성동구        0.0390     0.0170        5.8000      0.2000        NaN   \n",
       "198701   송파구        0.0300     0.0090        3.1000         NaN        NaN   \n",
       "198701  송파구2        0.0390     0.0030        3.1000      0.0830        NaN   \n",
       "198701   용산구        0.0230     0.0090        4.8000      0.1050        NaN   \n",
       "\n",
       "        초미세먼지(㎍/㎥)  \n",
       "측정월                 \n",
       "202305     15.0000  \n",
       "202305     16.0000  \n",
       "202305     16.0000  \n",
       "202305     14.0000  \n",
       "202305     14.0000  \n",
       "...            ...  \n",
       "198701         NaN  \n",
       "198701         NaN  \n",
       "198701         NaN  \n",
       "198701         NaN  \n",
       "198701         NaN  \n",
       "\n",
       "[14040 rows x 7 columns]"
      ]
     },
     "execution_count": 120,
     "metadata": {},
     "output_type": "execute_result"
    }
   ],
   "source": [
    "pollution = pd.read_csv(\"./air_pollution.csv\", encoding='CP949', index_col='측정월', parse_dates=True)\n",
    "pollution"
   ]
  },
  {
   "cell_type": "code",
   "execution_count": 6,
   "id": "e7313d5e",
   "metadata": {
    "ExecuteTime": {
     "end_time": "2023-05-07T15:59:39.476424Z",
     "start_time": "2023-05-07T15:59:39.441472Z"
    }
   },
   "outputs": [
    {
     "data": {
      "text/plain": [
       "측정월                0\n",
       "측정소명               0\n",
       "이산화질소농도(ppm)     474\n",
       "오존농도(ppm)        736\n",
       "일산화탄소농도(ppm)     499\n",
       "아황산가스(ppm)       758\n",
       "미세먼지(㎍/㎥)       2422\n",
       "초미세먼지(㎍/㎥)      8620\n",
       "dtype: int64"
      ]
     },
     "execution_count": 6,
     "metadata": {},
     "output_type": "execute_result"
    }
   ],
   "source": [
    "#결측값 확인\n",
    "pollution.isna().sum()"
   ]
  },
  {
   "cell_type": "code",
   "execution_count": 147,
   "id": "54707008",
   "metadata": {
    "ExecuteTime": {
     "end_time": "2023-05-07T16:46:47.723374Z",
     "start_time": "2023-05-07T16:46:47.690304Z"
    }
   },
   "outputs": [],
   "source": [
    "#datetime으로 변환\n",
    "pollution.index = pd.to_datetime(pollution.index, format='%Y%m')\n",
    "\n",
    "#2022년 데이터만 사용\n",
    "pollution_2022 = pollution[pollution.index.year == 2022]"
   ]
  },
  {
   "cell_type": "code",
   "execution_count": 148,
   "id": "d63842c0",
   "metadata": {
    "ExecuteTime": {
     "end_time": "2023-05-07T16:46:48.154355Z",
     "start_time": "2023-05-07T16:46:48.132101Z"
    }
   },
   "outputs": [],
   "source": [
    "#연도와 측정소명으로 groupby하여 월별 데이터를 연 평균값으로 표현\n",
    "pollution_2022 = pollution_2022.groupby([pollution_2022.index.year,'측정소명']).mean().reset_index()\n",
    "pollution_2022.rename(columns={\"측정월\":\"측정연도\"}, inplace=True)\n",
    "pollution_2022 = pollution_2022.round(3)"
   ]
  },
  {
   "cell_type": "code",
   "execution_count": 160,
   "id": "f0c45f05",
   "metadata": {
    "ExecuteTime": {
     "end_time": "2023-05-07T16:49:51.766057Z",
     "start_time": "2023-05-07T16:49:51.749703Z"
    }
   },
   "outputs": [
    {
     "data": {
      "text/plain": [
       "측정연도              2022\n",
       "측정소명              한강대로\n",
       "이산화질소농도(ppm)    0.0290\n",
       "오존농도(ppm)       0.0200\n",
       "일산화탄소농도(ppm)    0.5500\n",
       "아황산가스(ppm)      0.0030\n",
       "미세먼지(㎍/㎥)      42.1670\n",
       "초미세먼지(㎍/㎥)     19.0830\n",
       "Name: 45, dtype: object"
      ]
     },
     "execution_count": 160,
     "metadata": {},
     "output_type": "execute_result"
    }
   ],
   "source": [
    "#미세먼지 가장 큰 값\n",
    "pollution_2022.loc[pollution_2022['미세먼지(㎍/㎥)'].idxmax()]"
   ]
  },
  {
   "cell_type": "code",
   "execution_count": 161,
   "id": "23ddf841",
   "metadata": {
    "ExecuteTime": {
     "end_time": "2023-05-07T16:50:14.211600Z",
     "start_time": "2023-05-07T16:50:14.200812Z"
    }
   },
   "outputs": [],
   "source": [
    "pollution_2022.to_csv(\"./pollution_2022_mean.csv\",index=False,encoding='CP949')"
   ]
  }
 ],
 "metadata": {
  "kernelspec": {
   "display_name": "Python 3 (ipykernel)",
   "language": "python",
   "name": "python3"
  },
  "language_info": {
   "codemirror_mode": {
    "name": "ipython",
    "version": 3
   },
   "file_extension": ".py",
   "mimetype": "text/x-python",
   "name": "python",
   "nbconvert_exporter": "python",
   "pygments_lexer": "ipython3",
   "version": "3.9.7"
  },
  "toc": {
   "base_numbering": 1,
   "nav_menu": {},
   "number_sections": true,
   "sideBar": true,
   "skip_h1_title": false,
   "title_cell": "Table of Contents",
   "title_sidebar": "Contents",
   "toc_cell": false,
   "toc_position": {},
   "toc_section_display": true,
   "toc_window_display": false
  },
  "varInspector": {
   "cols": {
    "lenName": 16,
    "lenType": 16,
    "lenVar": 40
   },
   "kernels_config": {
    "python": {
     "delete_cmd_postfix": "",
     "delete_cmd_prefix": "del ",
     "library": "var_list.py",
     "varRefreshCmd": "print(var_dic_list())"
    },
    "r": {
     "delete_cmd_postfix": ") ",
     "delete_cmd_prefix": "rm(",
     "library": "var_list.r",
     "varRefreshCmd": "cat(var_dic_list()) "
    }
   },
   "types_to_exclude": [
    "module",
    "function",
    "builtin_function_or_method",
    "instance",
    "_Feature"
   ],
   "window_display": false
  }
 },
 "nbformat": 4,
 "nbformat_minor": 5
}
