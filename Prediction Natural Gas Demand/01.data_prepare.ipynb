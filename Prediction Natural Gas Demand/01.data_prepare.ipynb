{
 "cells": [
  {
   "cell_type": "code",
   "execution_count": 1,
   "metadata": {},
   "outputs": [],
   "source": [
    "#데이터 로드\n",
    "import pandas as pd \n",
    "import numpy as np"
   ]
  },
  {
   "cell_type": "markdown",
   "metadata": {},
   "source": [
    "# Data"
   ]
  },
  {
   "cell_type": "code",
   "execution_count": 2,
   "metadata": {},
   "outputs": [],
   "source": [
    "#기본데이터\n",
    "manu_val = pd.read_csv(\"Z:/team/dataset/제조업 부가가치(분기별).csv\")\n",
    "month_supply= pd.read_csv(\"Z:/team/dataset/월별공급량및비중.csv\")\n",
    "ratio_price = pd.read_csv(\"Z:/team/dataset/상업용 상대가격(기준=2015).csv\")\n",
    "sample_submission = pd.read_csv(\"Z:/team/dataset/submission_sample.csv\")\n",
    "\n",
    "#기온데이터 추가\n",
    "#월별로 가져온 외부데이터\n",
    "temperature= pd.read_csv('Z:/team/extra_data/전처리 전 원본/월별)기온_1995-2022.csv',header=6, encoding='cp949')\n",
    "rain= pd.read_csv('Z:/team/extra_data/전처리 전 원본/월별)강수량_1995-2022.csv',header=6,encoding='cp949')\n",
    "cpi= pd.read_csv('Z:/team/extra_data/월별/월별)소비자물가지수1995-2022.csv', encoding='cp949')\n",
    "gdp = pd.read_csv(\"Z:/team/extra_data/분기별)경제활동별_GDP_및_GNI_계절조정_1995-2022.csv\", encoding='cp949')\n",
    "gas_income= pd.read_csv('Z:/team/extra_data/월별/월별)한국의 대륙별 천연가스 수입 현황_1988-2022.csv', encoding='cp949')\n",
    "\n",
    "month_supply_ratio_price = month_supply.merge(ratio_price)\n",
    "\n",
    "#분기 표현\n",
    "def quarter(month):\n",
    "    q = ''\n",
    "    if month <= 3: q = 'Q1'\n",
    "    elif month <=6: q = 'Q2'\n",
    "    elif month <=9: q= 'Q3'\n",
    "    else: q='Q4'\n",
    "    return q\n",
    "\n",
    "month_supply_ratio_price['QUARTER']=month_supply_ratio_price['MONTH'].apply(lambda x:quarter(x))\n",
    "\n",
    "#최종 병합 데이터\n",
    "df = month_supply_ratio_price.merge(manu_val)"
   ]
  },
  {
   "cell_type": "code",
   "execution_count": 7,
   "metadata": {},
   "outputs": [
    {
     "data": {
      "text/plain": [
       "YEAR                   0\n",
       "MONTH                  0\n",
       "도시가스(톤)_민수용            0\n",
       "도시가스(톤)_산업용            0\n",
       "도시가스(톤)_총합(민수용+산업용)    0\n",
       "민수용비중                  0\n",
       "산업용비중                  0\n",
       "RP(상대가격)               0\n",
       "GAS_PRICE(산업용도시가스)     0\n",
       "OIL_PRICE(원유정제처리제품)    0\n",
       "QUARTER                0\n",
       "QVA(제조업부가가치/단위:십억원)    0\n",
       "dtype: int64"
      ]
     },
     "execution_count": 7,
     "metadata": {},
     "output_type": "execute_result"
    }
   ],
   "source": [
    "df.isnull().sum()"
   ]
  },
  {
   "cell_type": "code",
   "execution_count": 8,
   "metadata": {},
   "outputs": [
    {
     "data": {
      "text/plain": [
       "(300, 12)"
      ]
     },
     "execution_count": 8,
     "metadata": {},
     "output_type": "execute_result"
    }
   ],
   "source": [
    "df.shape"
   ]
  },
  {
   "cell_type": "code",
   "execution_count": 10,
   "metadata": {},
   "outputs": [],
   "source": [
    "#행 열 Transpose\n",
    "cpi_t = cpi.transpose()\n",
    "cpi_t = cpi_t.rename(columns=cpi_t.iloc[0])\n",
    "cpi_t = cpi_t.drop(cpi_t.index[0])\n",
    "#cpi_t.head(2)"
   ]
  },
  {
   "cell_type": "code",
   "execution_count": 11,
   "metadata": {},
   "outputs": [
    {
     "name": "stdout",
     "output_type": "stream",
     "text": [
      "300\n",
      "300\n",
      "300\n",
      "300\n"
     ]
    }
   ],
   "source": [
    "#외부데이터 병합\n",
    "#원하는 범위를 잘라서 준비(1996-2020 데이터만 이용)\n",
    "temperature_1996 = temperature.iloc[12:len(temperature)-21]\n",
    "rain_1996 = rain.iloc[12:len(rain)-21]\n",
    "cpi_t_1996 = cpi_t.iloc[12:len(cpi_t)-20]\n",
    "gas_income_1996 = gas_income.iloc[96:len(gas_income)-18]\n",
    "\n",
    "print(len(temperature_1996))\n",
    "print(len(rain_1996))\n",
    "print(len(cpi_t_1996))\n",
    "print(len(gas_income_1996))"
   ]
  },
  {
   "cell_type": "code",
   "execution_count": 12,
   "metadata": {},
   "outputs": [
    {
     "name": "stderr",
     "output_type": "stream",
     "text": [
      "C:\\Users\\kogas\\AppData\\Local\\Temp\\3\\ipykernel_8648\\4260283601.py:14: SettingWithCopyWarning: \n",
      "A value is trying to be set on a copy of a slice from a DataFrame.\n",
      "Try using .loc[row_indexer,col_indexer] = value instead\n",
      "\n",
      "See the caveats in the documentation: https://pandas.pydata.org/pandas-docs/stable/user_guide/indexing.html#returning-a-view-versus-a-copy\n",
      "  gas_1996_weight['천연가스 수입 중량 합계'] = gas_1996_weight.sum(axis =1)\n"
     ]
    }
   ],
   "source": [
    "#제공 데이터와 합치기 위해 인덱스 재설정\n",
    "temperature_1996.reset_index(inplace=True)\n",
    "temperature_1996 = temperature_1996.iloc[:,1:]\n",
    "\n",
    "rain_1996.reset_index(inplace=True)\n",
    "rain_1996 = rain_1996.iloc[:,1:]\n",
    "\n",
    "cpi_t_1996.reset_index(inplace=True)\n",
    "#cpi_t_1996 = cpi_t_1996.iloc[:,1:]\n",
    "\n",
    "#중량총합\n",
    "gas_income_1996.reset_index(inplace=True)\n",
    "gas_1996_weight = gas_income_1996.iloc[:,[5,8,11,14, 17, 20,23, 26,29]]\n",
    "gas_1996_weight['천연가스 수입 중량 합계'] = gas_1996_weight.sum(axis =1)\n"
   ]
  },
  {
   "cell_type": "code",
   "execution_count": 13,
   "metadata": {},
   "outputs": [],
   "source": [
    "#컬럼명에 단위 없애고 재설정\n",
    "temperature_1996.set_axis([\"년월\",\"지점\",\"평균기온\",\"최저기온\",\"최고기온\"], axis=1, inplace=True)\n",
    "rain_1996.set_axis([\"년월\",\"지점\",\"강수량\"], axis=1, inplace=True)\n",
    "cpi_t_1996.set_axis([\"년월\", \"소비자 물가지수(cpi)\"], axis=1, inplace=True)"
   ]
  },
  {
   "cell_type": "code",
   "execution_count": 14,
   "metadata": {},
   "outputs": [],
   "source": [
    "#원하는 컬럼만 추출\n",
    "temperature_1996_df = pd.DataFrame(temperature_1996.iloc[:,2:6])\n",
    "rain_1996_df = pd.DataFrame(rain_1996.iloc[:,2])\n",
    "cpi_t_1996_df = pd.DataFrame(cpi_t_1996.iloc[:,1])\n",
    "gas_1996_weight_df = pd.DataFrame(gas_1996_weight.iloc[:,9])"
   ]
  },
  {
   "cell_type": "code",
   "execution_count": 15,
   "metadata": {},
   "outputs": [],
   "source": [
    "#gdp\n",
    "gdp = pd.DataFrame(gdp.loc[47])\n",
    "gdp = gdp.rename(columns=gdp.iloc[0])\n",
    "gdp = gdp.drop(gdp.index[0])"
   ]
  },
  {
   "cell_type": "code",
   "execution_count": 16,
   "metadata": {},
   "outputs": [],
   "source": [
    "#원하는 범위를 잘라서 준비(1996-2020 데이터만 이용)\n",
    "gdp_1996_2020 = gdp.iloc[4:len(gdp)-6]\n",
    "\n",
    "#1개를 3개로 복사해줌(분기->월)\n",
    "df_list=[]\n",
    "for i in range(len(gdp_1996_2020)):\n",
    "    if i != len(gdp_1996_2020):\n",
    "        df_temp = gdp_1996_2020[i:i+1]\n",
    "        d = df_temp.iloc[0,0]\n",
    "        df_list.append(df_temp)\n",
    "        \n",
    "        to_month = pd.DataFrame(index = range(0,2), columns=gdp_1996_2020.columns, data=[d,d])\n",
    "        df_list.append(to_month)\n",
    "gdp_in_month = pd.concat(df_list).reset_index(drop=True)"
   ]
  },
  {
   "cell_type": "code",
   "execution_count": 17,
   "metadata": {},
   "outputs": [
    {
     "name": "stdout",
     "output_type": "stream",
     "text": [
      "300\n"
     ]
    }
   ],
   "source": [
    "#인덱스 재설정\n",
    "year_month=[]\n",
    "for i in range(25):\n",
    "    year=1996+i\n",
    "    for m in range(1,13):\n",
    "        month=m\n",
    "        year_month.append(str(year) + \".\" + str(month))\n",
    "print(len(year_month))\n",
    "gdp_in_month.set_axis(year_month, axis=0, inplace=True)"
   ]
  },
  {
   "cell_type": "code",
   "execution_count": 18,
   "metadata": {},
   "outputs": [],
   "source": [
    "gdp_in_month.reset_index(inplace=True)\n",
    "gdp_in_month.set_axis([\"년월\", \"국내총생산(시장가격, GDP)\"], axis=1, inplace=True)"
   ]
  },
  {
   "cell_type": "code",
   "execution_count": 19,
   "metadata": {},
   "outputs": [],
   "source": [
    "gdp_in_month_df = pd.DataFrame(gdp_in_month.iloc[:,1])"
   ]
  },
  {
   "cell_type": "code",
   "execution_count": 20,
   "metadata": {},
   "outputs": [
    {
     "data": {
      "text/html": [
       "<div>\n",
       "<style scoped>\n",
       "    .dataframe tbody tr th:only-of-type {\n",
       "        vertical-align: middle;\n",
       "    }\n",
       "\n",
       "    .dataframe tbody tr th {\n",
       "        vertical-align: top;\n",
       "    }\n",
       "\n",
       "    .dataframe thead th {\n",
       "        text-align: right;\n",
       "    }\n",
       "</style>\n",
       "<table border=\"1\" class=\"dataframe\">\n",
       "  <thead>\n",
       "    <tr style=\"text-align: right;\">\n",
       "      <th></th>\n",
       "      <th>YEAR</th>\n",
       "      <th>MONTH</th>\n",
       "      <th>도시가스(톤)_민수용</th>\n",
       "      <th>도시가스(톤)_산업용</th>\n",
       "      <th>도시가스(톤)_총합(민수용+산업용)</th>\n",
       "      <th>민수용비중</th>\n",
       "      <th>산업용비중</th>\n",
       "      <th>RP(상대가격)</th>\n",
       "      <th>GAS_PRICE(산업용도시가스)</th>\n",
       "      <th>OIL_PRICE(원유정제처리제품)</th>\n",
       "      <th>QUARTER</th>\n",
       "      <th>QVA(제조업부가가치/단위:십억원)</th>\n",
       "      <th>평균기온</th>\n",
       "      <th>최저기온</th>\n",
       "      <th>최고기온</th>\n",
       "      <th>강수량</th>\n",
       "      <th>소비자 물가지수(cpi)</th>\n",
       "      <th>국내총생산(시장가격, GDP)</th>\n",
       "      <th>천연가스 수입 중량 합계</th>\n",
       "    </tr>\n",
       "  </thead>\n",
       "  <tbody>\n",
       "    <tr>\n",
       "      <th>0</th>\n",
       "      <td>1996</td>\n",
       "      <td>1</td>\n",
       "      <td>605519.0</td>\n",
       "      <td>83809.0</td>\n",
       "      <td>689328.0</td>\n",
       "      <td>0.87842</td>\n",
       "      <td>0.12158</td>\n",
       "      <td>0.97</td>\n",
       "      <td>26.94</td>\n",
       "      <td>27.86</td>\n",
       "      <td>Q1</td>\n",
       "      <td>36550.3</td>\n",
       "      <td>-1.3</td>\n",
       "      <td>-6.3</td>\n",
       "      <td>4.5</td>\n",
       "      <td>29.5</td>\n",
       "      <td>53.289</td>\n",
       "      <td>118011.1</td>\n",
       "      <td>969744</td>\n",
       "    </tr>\n",
       "    <tr>\n",
       "      <th>1</th>\n",
       "      <td>1996</td>\n",
       "      <td>2</td>\n",
       "      <td>566323.0</td>\n",
       "      <td>70427.0</td>\n",
       "      <td>636750.0</td>\n",
       "      <td>0.88940</td>\n",
       "      <td>0.11060</td>\n",
       "      <td>0.93</td>\n",
       "      <td>26.94</td>\n",
       "      <td>29.04</td>\n",
       "      <td>Q1</td>\n",
       "      <td>36550.3</td>\n",
       "      <td>-1.1</td>\n",
       "      <td>-6.4</td>\n",
       "      <td>5.2</td>\n",
       "      <td>11.4</td>\n",
       "      <td>53.499</td>\n",
       "      <td>118011.1</td>\n",
       "      <td>859127</td>\n",
       "    </tr>\n",
       "    <tr>\n",
       "      <th>2</th>\n",
       "      <td>1996</td>\n",
       "      <td>3</td>\n",
       "      <td>477514.0</td>\n",
       "      <td>62652.0</td>\n",
       "      <td>540166.0</td>\n",
       "      <td>0.88401</td>\n",
       "      <td>0.11599</td>\n",
       "      <td>0.96</td>\n",
       "      <td>26.94</td>\n",
       "      <td>27.99</td>\n",
       "      <td>Q1</td>\n",
       "      <td>36550.3</td>\n",
       "      <td>4.4</td>\n",
       "      <td>-0.7</td>\n",
       "      <td>10.0</td>\n",
       "      <td>121.2</td>\n",
       "      <td>53.862</td>\n",
       "      <td>118011.1</td>\n",
       "      <td>967455</td>\n",
       "    </tr>\n",
       "  </tbody>\n",
       "</table>\n",
       "</div>"
      ],
      "text/plain": [
       "   YEAR  MONTH  도시가스(톤)_민수용  도시가스(톤)_산업용  도시가스(톤)_총합(민수용+산업용)    민수용비중  \\\n",
       "0  1996      1     605519.0      83809.0             689328.0  0.87842   \n",
       "1  1996      2     566323.0      70427.0             636750.0  0.88940   \n",
       "2  1996      3     477514.0      62652.0             540166.0  0.88401   \n",
       "\n",
       "     산업용비중  RP(상대가격)  GAS_PRICE(산업용도시가스)  OIL_PRICE(원유정제처리제품) QUARTER  \\\n",
       "0  0.12158      0.97               26.94                27.86      Q1   \n",
       "1  0.11060      0.93               26.94                29.04      Q1   \n",
       "2  0.11599      0.96               26.94                27.99      Q1   \n",
       "\n",
       "   QVA(제조업부가가치/단위:십억원)  평균기온  최저기온  최고기온    강수량 소비자 물가지수(cpi)  \\\n",
       "0              36550.3  -1.3  -6.3   4.5   29.5        53.289   \n",
       "1              36550.3  -1.1  -6.4   5.2   11.4        53.499   \n",
       "2              36550.3   4.4  -0.7  10.0  121.2        53.862   \n",
       "\n",
       "  국내총생산(시장가격, GDP)  천연가스 수입 중량 합계  \n",
       "0         118011.1         969744  \n",
       "1         118011.1         859127  \n",
       "2         118011.1         967455  "
      ]
     },
     "execution_count": 20,
     "metadata": {},
     "output_type": "execute_result"
    }
   ],
   "source": [
    "#기존 데이터와 병합\n",
    "data_total = pd.concat([df,temperature_1996_df,rain_1996_df,cpi_t_1996_df,gdp_in_month_df,gas_1996_weight_df], axis=1)\n",
    "#data_total.head(12)\n",
    "data_total.head(3)"
   ]
  },
  {
   "cell_type": "code",
   "execution_count": 21,
   "metadata": {},
   "outputs": [],
   "source": [
    "#기온데이터 추출\n",
    "#일단 현재까지 붙인 데이터 다시 추출\n",
    "data_total.insert(0,'Unnamed: 0',pd.date_range(start='1996-01-01', freq='MS',end='2020-12-01'))\n",
    "data_total.to_csv(\"Z:/team/dataset/제공데이터_merge+기온,강수량,cpi,gdp,천연가스수입.csv\",index=False)"
   ]
  }
 ],
 "metadata": {
  "kernelspec": {
   "display_name": "Python 3",
   "language": "python",
   "name": "python3"
  },
  "language_info": {
   "codemirror_mode": {
    "name": "ipython",
    "version": 3
   },
   "file_extension": ".py",
   "mimetype": "text/x-python",
   "name": "python",
   "nbconvert_exporter": "python",
   "pygments_lexer": "ipython3",
   "version": "3.8.5"
  }
 },
 "nbformat": 4,
 "nbformat_minor": 5
}
